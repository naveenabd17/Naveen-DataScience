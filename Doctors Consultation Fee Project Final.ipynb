{
 "cells": [
  {
   "cell_type": "markdown",
   "metadata": {},
   "source": [
    "# Doctors Consultation Fee Project"
   ]
  },
  {
   "cell_type": "markdown",
   "metadata": {},
   "source": [
    "We have all been in situation where we go to a doctor in emergency and find that the consultation fees are too high. As a data scientist we all should do better. What if you have data that records important details about a doctor and you get to build a model to predict the doctor’s consulting fee.? This is the use case that let's you do that. \n",
    "\n",
    "Size of training set: 5961 records\n",
    "\n",
    "Size of test set: 1987 records\n",
    "\n",
    "\n",
    "\n",
    "FEATURES:\n",
    "\n",
    "Qualification: Qualification and degrees held by the doctor\n",
    "\n",
    "Experience: Experience of the doctor in number of years\n",
    "\n",
    "Rating: Rating given by patients\n",
    "\n",
    "Profile: Type of the doctor\n",
    "\n",
    "Miscellaneous_Info: Extra information about the doctor\n",
    "\n",
    "Fees: Fees charged by the doctor (Target Variable)\n",
    "\n",
    "Place: Area and the city where the doctor is located."
   ]
  },
  {
   "cell_type": "markdown",
   "metadata": {},
   "source": [
    "# Importing the datasets"
   ]
  },
  {
   "cell_type": "code",
   "execution_count": 1,
   "metadata": {},
   "outputs": [],
   "source": [
    "import pandas as pd\n",
    "df=pd.read_csv('Train_Doctor.csv')\n",
    "df_1=pd.read_csv('Test_Doctor.csv')"
   ]
  },
  {
   "cell_type": "markdown",
   "metadata": {},
   "source": [
    "# Importing the required libraries"
   ]
  },
  {
   "cell_type": "code",
   "execution_count": 2,
   "metadata": {},
   "outputs": [],
   "source": [
    "import pandas as pd\n",
    "import seaborn as sns\n",
    "import numpy as np\n",
    "import matplotlib.pyplot as plt\n",
    "from heatmap import heatmap,corrplot\n",
    "from sklearn.linear_model import LinearRegression\n",
    "from sklearn.model_selection import train_test_split\n",
    "from sklearn.metrics import r2_score,mean_squared_error,mean_absolute_error\n",
    "from sklearn.linear_model import RANSACRegressor\n",
    "from sklearn.linear_model import Ridge,Lasso,ElasticNet\n",
    "from sklearn.preprocessing import PolynomialFeatures\n",
    "from sklearn.linear_model import SGDRegressor\n",
    "from sklearn.ensemble import RandomForestRegressor\n",
    "from sklearn.model_selection import cross_val_score\n",
    "from sklearn.model_selection import GridSearchCV\n",
    "from sklearn.svm import SVR\n",
    "import warnings\n",
    "warnings.filterwarnings('ignore')"
   ]
  },
  {
   "cell_type": "markdown",
   "metadata": {},
   "source": [
    "# Getting a basic outlook over the projet"
   ]
  },
  {
   "cell_type": "code",
   "execution_count": 3,
   "metadata": {},
   "outputs": [
    {
     "data": {
      "text/plain": [
       "(5961, 7)"
      ]
     },
     "execution_count": 3,
     "metadata": {},
     "output_type": "execute_result"
    }
   ],
   "source": [
    "df.shape"
   ]
  },
  {
   "cell_type": "code",
   "execution_count": 4,
   "metadata": {},
   "outputs": [
    {
     "data": {
      "text/plain": [
       "(1987, 6)"
      ]
     },
     "execution_count": 4,
     "metadata": {},
     "output_type": "execute_result"
    }
   ],
   "source": [
    "df_1.shape"
   ]
  },
  {
   "cell_type": "code",
   "execution_count": 5,
   "metadata": {},
   "outputs": [
    {
     "data": {
      "text/plain": [
       "Index(['Qualification', 'Experience', 'Rating', 'Place', 'Profile',\n",
       "       'Miscellaneous_Info', 'Fees'],\n",
       "      dtype='object')"
      ]
     },
     "execution_count": 5,
     "metadata": {},
     "output_type": "execute_result"
    }
   ],
   "source": [
    "df.columns"
   ]
  },
  {
   "cell_type": "code",
   "execution_count": 6,
   "metadata": {},
   "outputs": [
    {
     "data": {
      "text/plain": [
       "Index(['Qualification', 'Experience', 'Rating', 'Place', 'Profile',\n",
       "       'Miscellaneous_Info'],\n",
       "      dtype='object')"
      ]
     },
     "execution_count": 6,
     "metadata": {},
     "output_type": "execute_result"
    }
   ],
   "source": [
    "df_1.columns"
   ]
  },
  {
   "cell_type": "code",
   "execution_count": 7,
   "metadata": {},
   "outputs": [],
   "source": [
    "pd.set_option('display.max_rows',None)"
   ]
  },
  {
   "cell_type": "code",
   "execution_count": 8,
   "metadata": {},
   "outputs": [],
   "source": [
    "pd.set_option('display.max_columns',None)"
   ]
  },
  {
   "cell_type": "code",
   "execution_count": 9,
   "metadata": {},
   "outputs": [
    {
     "data": {
      "text/html": [
       "<div>\n",
       "<style scoped>\n",
       "    .dataframe tbody tr th:only-of-type {\n",
       "        vertical-align: middle;\n",
       "    }\n",
       "\n",
       "    .dataframe tbody tr th {\n",
       "        vertical-align: top;\n",
       "    }\n",
       "\n",
       "    .dataframe thead th {\n",
       "        text-align: right;\n",
       "    }\n",
       "</style>\n",
       "<table border=\"1\" class=\"dataframe\">\n",
       "  <thead>\n",
       "    <tr style=\"text-align: right;\">\n",
       "      <th></th>\n",
       "      <th>Qualification</th>\n",
       "      <th>Experience</th>\n",
       "      <th>Rating</th>\n",
       "      <th>Place</th>\n",
       "      <th>Profile</th>\n",
       "      <th>Miscellaneous_Info</th>\n",
       "      <th>Fees</th>\n",
       "    </tr>\n",
       "  </thead>\n",
       "  <tbody>\n",
       "    <tr>\n",
       "      <th>0</th>\n",
       "      <td>BHMS, MD - Homeopathy</td>\n",
       "      <td>24 years experience</td>\n",
       "      <td>100%</td>\n",
       "      <td>Kakkanad, Ernakulam</td>\n",
       "      <td>Homeopath</td>\n",
       "      <td>100% 16 Feedback Kakkanad, Ernakulam</td>\n",
       "      <td>100</td>\n",
       "    </tr>\n",
       "    <tr>\n",
       "      <th>1</th>\n",
       "      <td>BAMS, MD - Ayurveda Medicine</td>\n",
       "      <td>12 years experience</td>\n",
       "      <td>98%</td>\n",
       "      <td>Whitefield, Bangalore</td>\n",
       "      <td>Ayurveda</td>\n",
       "      <td>98% 76 Feedback Whitefield, Bangalore</td>\n",
       "      <td>350</td>\n",
       "    </tr>\n",
       "    <tr>\n",
       "      <th>2</th>\n",
       "      <td>MBBS, MS - Otorhinolaryngology</td>\n",
       "      <td>9 years experience</td>\n",
       "      <td>NaN</td>\n",
       "      <td>Mathikere - BEL, Bangalore</td>\n",
       "      <td>ENT Specialist</td>\n",
       "      <td>NaN</td>\n",
       "      <td>300</td>\n",
       "    </tr>\n",
       "    <tr>\n",
       "      <th>3</th>\n",
       "      <td>BSc - Zoology, BAMS</td>\n",
       "      <td>12 years experience</td>\n",
       "      <td>NaN</td>\n",
       "      <td>Bannerghatta Road, Bangalore</td>\n",
       "      <td>Ayurveda</td>\n",
       "      <td>Bannerghatta Road, Bangalore ?250 Available on...</td>\n",
       "      <td>250</td>\n",
       "    </tr>\n",
       "    <tr>\n",
       "      <th>4</th>\n",
       "      <td>BAMS</td>\n",
       "      <td>20 years experience</td>\n",
       "      <td>100%</td>\n",
       "      <td>Keelkattalai, Chennai</td>\n",
       "      <td>Ayurveda</td>\n",
       "      <td>100% 4 Feedback Keelkattalai, Chennai</td>\n",
       "      <td>250</td>\n",
       "    </tr>\n",
       "  </tbody>\n",
       "</table>\n",
       "</div>"
      ],
      "text/plain": [
       "                    Qualification           Experience Rating  \\\n",
       "0           BHMS, MD - Homeopathy  24 years experience   100%   \n",
       "1    BAMS, MD - Ayurveda Medicine  12 years experience    98%   \n",
       "2  MBBS, MS - Otorhinolaryngology   9 years experience    NaN   \n",
       "3             BSc - Zoology, BAMS  12 years experience    NaN   \n",
       "4                            BAMS  20 years experience   100%   \n",
       "\n",
       "                          Place         Profile  \\\n",
       "0           Kakkanad, Ernakulam       Homeopath   \n",
       "1         Whitefield, Bangalore        Ayurveda   \n",
       "2    Mathikere - BEL, Bangalore  ENT Specialist   \n",
       "3  Bannerghatta Road, Bangalore        Ayurveda   \n",
       "4         Keelkattalai, Chennai        Ayurveda   \n",
       "\n",
       "                                  Miscellaneous_Info  Fees  \n",
       "0               100% 16 Feedback Kakkanad, Ernakulam   100  \n",
       "1              98% 76 Feedback Whitefield, Bangalore   350  \n",
       "2                                                NaN   300  \n",
       "3  Bannerghatta Road, Bangalore ?250 Available on...   250  \n",
       "4              100% 4 Feedback Keelkattalai, Chennai   250  "
      ]
     },
     "execution_count": 9,
     "metadata": {},
     "output_type": "execute_result"
    }
   ],
   "source": [
    "df.head()"
   ]
  },
  {
   "cell_type": "code",
   "execution_count": 10,
   "metadata": {},
   "outputs": [
    {
     "data": {
      "text/plain": [
       "Qualification         1420\n",
       "Experience              64\n",
       "Rating                  51\n",
       "Place                  877\n",
       "Profile                  6\n",
       "Miscellaneous_Info    2998\n",
       "Fees                    40\n",
       "dtype: int64"
      ]
     },
     "execution_count": 10,
     "metadata": {},
     "output_type": "execute_result"
    }
   ],
   "source": [
    "df.nunique()"
   ]
  },
  {
   "cell_type": "markdown",
   "metadata": {},
   "source": [
    "# Making a precise dataset"
   ]
  },
  {
   "cell_type": "code",
   "execution_count": 53,
   "metadata": {
    "collapsed": true
   },
   "outputs": [
    {
     "data": {
      "text/plain": [
       "['24',\n",
       " '12',\n",
       " '9',\n",
       " '12',\n",
       " '20',\n",
       " '8',\n",
       " '42',\n",
       " '10',\n",
       " '14',\n",
       " '23',\n",
       " '5',\n",
       " '7',\n",
       " '9',\n",
       " '21',\n",
       " '12',\n",
       " '10',\n",
       " '24',\n",
       " '5',\n",
       " '19',\n",
       " '19',\n",
       " '21',\n",
       " '14',\n",
       " '41',\n",
       " '31',\n",
       " '23',\n",
       " '5',\n",
       " '25',\n",
       " '12',\n",
       " '16',\n",
       " '15',\n",
       " '7',\n",
       " '11',\n",
       " '14',\n",
       " '23',\n",
       " '9',\n",
       " '15',\n",
       " '10',\n",
       " '12',\n",
       " '31',\n",
       " '16',\n",
       " '8',\n",
       " '12',\n",
       " '31',\n",
       " '8',\n",
       " '22',\n",
       " '7',\n",
       " '16',\n",
       " '31',\n",
       " '8',\n",
       " '10',\n",
       " '42',\n",
       " '9',\n",
       " '22',\n",
       " '10',\n",
       " '9',\n",
       " '25',\n",
       " '14',\n",
       " '11',\n",
       " '24',\n",
       " '38',\n",
       " '8',\n",
       " '12',\n",
       " '14',\n",
       " '5',\n",
       " '22',\n",
       " '14',\n",
       " '6',\n",
       " '36',\n",
       " '6',\n",
       " '13',\n",
       " '13',\n",
       " '11',\n",
       " '18',\n",
       " '46',\n",
       " '41',\n",
       " '40',\n",
       " '7',\n",
       " '13',\n",
       " '12',\n",
       " '10',\n",
       " '49',\n",
       " '9',\n",
       " '20',\n",
       " '11',\n",
       " '10',\n",
       " '16',\n",
       " '24',\n",
       " '33',\n",
       " '10',\n",
       " '36',\n",
       " '8',\n",
       " '0',\n",
       " '15',\n",
       " '7',\n",
       " '12',\n",
       " '12',\n",
       " '13',\n",
       " '24',\n",
       " '27',\n",
       " '12',\n",
       " '9',\n",
       " '16',\n",
       " '22',\n",
       " '20',\n",
       " '30',\n",
       " '52',\n",
       " '13',\n",
       " '19',\n",
       " '16',\n",
       " '10',\n",
       " '60',\n",
       " '12',\n",
       " '11',\n",
       " '15',\n",
       " '6',\n",
       " '5',\n",
       " '9',\n",
       " '21',\n",
       " '7',\n",
       " '20',\n",
       " '10',\n",
       " '12',\n",
       " '12',\n",
       " '26',\n",
       " '31',\n",
       " '15',\n",
       " '11',\n",
       " '11',\n",
       " '5',\n",
       " '24',\n",
       " '13',\n",
       " '12',\n",
       " '5',\n",
       " '8',\n",
       " '8',\n",
       " '35',\n",
       " '24',\n",
       " '14',\n",
       " '19',\n",
       " '34',\n",
       " '21',\n",
       " '13',\n",
       " '39',\n",
       " '35',\n",
       " '36',\n",
       " '19',\n",
       " '10',\n",
       " '7',\n",
       " '32',\n",
       " '18',\n",
       " '17',\n",
       " '9',\n",
       " '5',\n",
       " '20',\n",
       " '9',\n",
       " '35',\n",
       " '17',\n",
       " '6',\n",
       " '10',\n",
       " '5',\n",
       " '36',\n",
       " '19',\n",
       " '11',\n",
       " '12',\n",
       " '17',\n",
       " '18',\n",
       " '7',\n",
       " '14',\n",
       " '0',\n",
       " '12',\n",
       " '28',\n",
       " '9',\n",
       " '18',\n",
       " '28',\n",
       " '16',\n",
       " '7',\n",
       " '11',\n",
       " '27',\n",
       " '18',\n",
       " '32',\n",
       " '32',\n",
       " '12',\n",
       " '15',\n",
       " '58',\n",
       " '17',\n",
       " '13',\n",
       " '5',\n",
       " '20',\n",
       " '31',\n",
       " '10',\n",
       " '42',\n",
       " '13',\n",
       " '27',\n",
       " '4',\n",
       " '16',\n",
       " '18',\n",
       " '15',\n",
       " '5',\n",
       " '11',\n",
       " '26',\n",
       " '14',\n",
       " '6',\n",
       " '27',\n",
       " '8',\n",
       " '9',\n",
       " '15',\n",
       " '7',\n",
       " '14',\n",
       " '45',\n",
       " '21',\n",
       " '14',\n",
       " '6',\n",
       " '8',\n",
       " '27',\n",
       " '44',\n",
       " '11',\n",
       " '11',\n",
       " '28',\n",
       " '30',\n",
       " '16',\n",
       " '11',\n",
       " '17',\n",
       " '15',\n",
       " '8',\n",
       " '33',\n",
       " '30',\n",
       " '3',\n",
       " '4',\n",
       " '27',\n",
       " '16',\n",
       " '21',\n",
       " '37',\n",
       " '19',\n",
       " '15',\n",
       " '6',\n",
       " '25',\n",
       " '40',\n",
       " '25',\n",
       " '9',\n",
       " '16',\n",
       " '46',\n",
       " '35',\n",
       " '9',\n",
       " '30',\n",
       " '41',\n",
       " '15',\n",
       " '11',\n",
       " '9',\n",
       " '10',\n",
       " '18',\n",
       " '8',\n",
       " '38',\n",
       " '33',\n",
       " '9',\n",
       " '27',\n",
       " '9',\n",
       " '7',\n",
       " '32',\n",
       " '21',\n",
       " '28',\n",
       " '50',\n",
       " '44',\n",
       " '5',\n",
       " '4',\n",
       " '5',\n",
       " '21',\n",
       " '9',\n",
       " '29',\n",
       " '10',\n",
       " '14',\n",
       " '6',\n",
       " '18',\n",
       " '17',\n",
       " '18',\n",
       " '15',\n",
       " '6',\n",
       " '22',\n",
       " '12',\n",
       " '7',\n",
       " '27',\n",
       " '19',\n",
       " '24',\n",
       " '10',\n",
       " '46',\n",
       " '17',\n",
       " '45',\n",
       " '3',\n",
       " '30',\n",
       " '28',\n",
       " '35',\n",
       " '8',\n",
       " '19',\n",
       " '18',\n",
       " '29',\n",
       " '5',\n",
       " '19',\n",
       " '15',\n",
       " '9',\n",
       " '9',\n",
       " '8',\n",
       " '24',\n",
       " '17',\n",
       " '6',\n",
       " '11',\n",
       " '35',\n",
       " '28',\n",
       " '31',\n",
       " '9',\n",
       " '23',\n",
       " '22',\n",
       " '11',\n",
       " '22',\n",
       " '25',\n",
       " '16',\n",
       " '8',\n",
       " '4',\n",
       " '5',\n",
       " '10',\n",
       " '23',\n",
       " '43',\n",
       " '8',\n",
       " '37',\n",
       " '14',\n",
       " '9',\n",
       " '14',\n",
       " '54',\n",
       " '14',\n",
       " '45',\n",
       " '18',\n",
       " '6',\n",
       " '25',\n",
       " '28',\n",
       " '17',\n",
       " '12',\n",
       " '7',\n",
       " '12',\n",
       " '21',\n",
       " '17',\n",
       " '9',\n",
       " '6',\n",
       " '5',\n",
       " '5',\n",
       " '36',\n",
       " '22',\n",
       " '6',\n",
       " '21',\n",
       " '12',\n",
       " '37',\n",
       " '35',\n",
       " '13',\n",
       " '35',\n",
       " '11',\n",
       " '15',\n",
       " '23',\n",
       " '17',\n",
       " '19',\n",
       " '13',\n",
       " '28',\n",
       " '14',\n",
       " '10',\n",
       " '5',\n",
       " '5',\n",
       " '6',\n",
       " '6',\n",
       " '8',\n",
       " '44',\n",
       " '28',\n",
       " '12',\n",
       " '23',\n",
       " '27',\n",
       " '8',\n",
       " '25',\n",
       " '66',\n",
       " '8',\n",
       " '12',\n",
       " '37',\n",
       " '37',\n",
       " '45',\n",
       " '22',\n",
       " '26',\n",
       " '0',\n",
       " '11',\n",
       " '14',\n",
       " '0',\n",
       " '23',\n",
       " '9',\n",
       " '10',\n",
       " '6',\n",
       " '19',\n",
       " '34',\n",
       " '9',\n",
       " '34',\n",
       " '37',\n",
       " '17',\n",
       " '4',\n",
       " '12',\n",
       " '15',\n",
       " '14',\n",
       " '20',\n",
       " '35',\n",
       " '8',\n",
       " '20',\n",
       " '8',\n",
       " '44',\n",
       " '28',\n",
       " '39',\n",
       " '12',\n",
       " '3',\n",
       " '19',\n",
       " '0',\n",
       " '20',\n",
       " '44',\n",
       " '12',\n",
       " '19',\n",
       " '9',\n",
       " '40',\n",
       " '5',\n",
       " '5',\n",
       " '19',\n",
       " '14',\n",
       " '25',\n",
       " '24',\n",
       " '9',\n",
       " '9',\n",
       " '30',\n",
       " '21',\n",
       " '14',\n",
       " '7',\n",
       " '13',\n",
       " '26',\n",
       " '9',\n",
       " '13',\n",
       " '17',\n",
       " '10',\n",
       " '18',\n",
       " '10',\n",
       " '7',\n",
       " '21',\n",
       " '10',\n",
       " '22',\n",
       " '19',\n",
       " '45',\n",
       " '13',\n",
       " '19',\n",
       " '5',\n",
       " '15',\n",
       " '7',\n",
       " '12',\n",
       " '17',\n",
       " '6',\n",
       " '13',\n",
       " '14',\n",
       " '5',\n",
       " '21',\n",
       " '8',\n",
       " '26',\n",
       " '37',\n",
       " '19',\n",
       " '23',\n",
       " '33',\n",
       " '24',\n",
       " '19',\n",
       " '37',\n",
       " '13',\n",
       " '17',\n",
       " '15',\n",
       " '19',\n",
       " '12',\n",
       " '8',\n",
       " '24',\n",
       " '43',\n",
       " '19',\n",
       " '9',\n",
       " '7',\n",
       " '3',\n",
       " '21',\n",
       " '6',\n",
       " '13',\n",
       " '36',\n",
       " '14',\n",
       " '34',\n",
       " '15',\n",
       " '32',\n",
       " '10',\n",
       " '7',\n",
       " '30',\n",
       " '6',\n",
       " '14',\n",
       " '5',\n",
       " '8',\n",
       " '22',\n",
       " '23',\n",
       " '40',\n",
       " '21',\n",
       " '8',\n",
       " '3',\n",
       " '4',\n",
       " '33',\n",
       " '8',\n",
       " '4',\n",
       " '15',\n",
       " '25',\n",
       " '0',\n",
       " '28',\n",
       " '26',\n",
       " '7',\n",
       " '4',\n",
       " '4',\n",
       " '36',\n",
       " '8',\n",
       " '36',\n",
       " '33',\n",
       " '26',\n",
       " '6',\n",
       " '18',\n",
       " '12',\n",
       " '6',\n",
       " '16',\n",
       " '27',\n",
       " '9',\n",
       " '6',\n",
       " '13',\n",
       " '23',\n",
       " '13',\n",
       " '12',\n",
       " '18',\n",
       " '6',\n",
       " '9',\n",
       " '27',\n",
       " '15',\n",
       " '7',\n",
       " '8',\n",
       " '38',\n",
       " '43',\n",
       " '16',\n",
       " '24',\n",
       " '5',\n",
       " '37',\n",
       " '11',\n",
       " '7',\n",
       " '6',\n",
       " '7',\n",
       " '38',\n",
       " '22',\n",
       " '10',\n",
       " '14',\n",
       " '32',\n",
       " '5',\n",
       " '25',\n",
       " '11',\n",
       " '19',\n",
       " '21',\n",
       " '10',\n",
       " '8',\n",
       " '15',\n",
       " '21',\n",
       " '39',\n",
       " '9',\n",
       " '33',\n",
       " '12',\n",
       " '13',\n",
       " '39',\n",
       " '29',\n",
       " '43',\n",
       " '8',\n",
       " '8',\n",
       " '10',\n",
       " '11',\n",
       " '9',\n",
       " '20',\n",
       " '11',\n",
       " '8',\n",
       " '13',\n",
       " '26',\n",
       " '10',\n",
       " '11',\n",
       " '16',\n",
       " '43',\n",
       " '19',\n",
       " '30',\n",
       " '10',\n",
       " '14',\n",
       " '21',\n",
       " '14',\n",
       " '23',\n",
       " '22',\n",
       " '17',\n",
       " '10',\n",
       " '37',\n",
       " '12',\n",
       " '30',\n",
       " '26',\n",
       " '12',\n",
       " '9',\n",
       " '16',\n",
       " '7',\n",
       " '7',\n",
       " '15',\n",
       " '39',\n",
       " '0',\n",
       " '7',\n",
       " '7',\n",
       " '0',\n",
       " '4',\n",
       " '8',\n",
       " '0',\n",
       " '30',\n",
       " '5',\n",
       " '17',\n",
       " '23',\n",
       " '3',\n",
       " '34',\n",
       " '24',\n",
       " '4',\n",
       " '45',\n",
       " '24',\n",
       " '0',\n",
       " '19',\n",
       " '15',\n",
       " '34',\n",
       " '30',\n",
       " '20',\n",
       " '12',\n",
       " '6',\n",
       " '12',\n",
       " '22',\n",
       " '5',\n",
       " '10',\n",
       " '19',\n",
       " '11',\n",
       " '11',\n",
       " '7',\n",
       " '29',\n",
       " '22',\n",
       " '6',\n",
       " '25',\n",
       " '9',\n",
       " '40',\n",
       " '5',\n",
       " '12',\n",
       " '0',\n",
       " '5',\n",
       " '21',\n",
       " '19',\n",
       " '14',\n",
       " '35',\n",
       " '16',\n",
       " '13',\n",
       " '27',\n",
       " '11',\n",
       " '9',\n",
       " '9',\n",
       " '13',\n",
       " '3',\n",
       " '12',\n",
       " '14',\n",
       " '17',\n",
       " '36',\n",
       " '20',\n",
       " '2',\n",
       " '15',\n",
       " '6',\n",
       " '5',\n",
       " '46',\n",
       " '15',\n",
       " '12',\n",
       " '4',\n",
       " '11',\n",
       " '9',\n",
       " '31',\n",
       " '27',\n",
       " '23',\n",
       " '39',\n",
       " '9',\n",
       " '19',\n",
       " '35',\n",
       " '18',\n",
       " '18',\n",
       " '27',\n",
       " '18',\n",
       " '32',\n",
       " '10',\n",
       " '33',\n",
       " '9',\n",
       " '32',\n",
       " '14',\n",
       " '13',\n",
       " '12',\n",
       " '24',\n",
       " '17',\n",
       " '19',\n",
       " '3',\n",
       " '29',\n",
       " '5',\n",
       " '10',\n",
       " '7',\n",
       " '15',\n",
       " '23',\n",
       " '26',\n",
       " '7',\n",
       " '12',\n",
       " '22',\n",
       " '2',\n",
       " '42',\n",
       " '4',\n",
       " '11',\n",
       " '39',\n",
       " '18',\n",
       " '20',\n",
       " '37',\n",
       " '25',\n",
       " '24',\n",
       " '15',\n",
       " '29',\n",
       " '16',\n",
       " '13',\n",
       " '25',\n",
       " '14',\n",
       " '15',\n",
       " '21',\n",
       " '7',\n",
       " '10',\n",
       " '14',\n",
       " '8',\n",
       " '0',\n",
       " '17',\n",
       " '30',\n",
       " '29',\n",
       " '21',\n",
       " '29',\n",
       " '9',\n",
       " '23',\n",
       " '6',\n",
       " '37',\n",
       " '33',\n",
       " '16',\n",
       " '36',\n",
       " '14',\n",
       " '5',\n",
       " '14',\n",
       " '13',\n",
       " '11',\n",
       " '11',\n",
       " '5',\n",
       " '14',\n",
       " '25',\n",
       " '19',\n",
       " '20',\n",
       " '9',\n",
       " '16',\n",
       " '23',\n",
       " '15',\n",
       " '6',\n",
       " '39',\n",
       " '13',\n",
       " '10',\n",
       " '24',\n",
       " '17',\n",
       " '11',\n",
       " '5',\n",
       " '10',\n",
       " '6',\n",
       " '42',\n",
       " '12',\n",
       " '24',\n",
       " '19',\n",
       " '17',\n",
       " '24',\n",
       " '10',\n",
       " '4',\n",
       " '34',\n",
       " '9',\n",
       " '20',\n",
       " '7',\n",
       " '22',\n",
       " '20',\n",
       " '43',\n",
       " '10',\n",
       " '8',\n",
       " '43',\n",
       " '42',\n",
       " '12',\n",
       " '24',\n",
       " '19',\n",
       " '4',\n",
       " '20',\n",
       " '21',\n",
       " '31',\n",
       " '40',\n",
       " '39',\n",
       " '7',\n",
       " '12',\n",
       " '11',\n",
       " '33',\n",
       " '29',\n",
       " '6',\n",
       " '19',\n",
       " '7',\n",
       " '12',\n",
       " '21',\n",
       " '19',\n",
       " '22',\n",
       " '18',\n",
       " '17',\n",
       " '18',\n",
       " '18',\n",
       " '13',\n",
       " '9',\n",
       " '15',\n",
       " '6',\n",
       " '31',\n",
       " '18',\n",
       " '9',\n",
       " '7',\n",
       " '28',\n",
       " '41',\n",
       " '27',\n",
       " '42',\n",
       " '3',\n",
       " '12',\n",
       " '10',\n",
       " '45',\n",
       " '16',\n",
       " '11',\n",
       " '5',\n",
       " '4',\n",
       " '15',\n",
       " '20',\n",
       " '20',\n",
       " '11',\n",
       " '27',\n",
       " '18',\n",
       " '34',\n",
       " '7',\n",
       " '28',\n",
       " '19',\n",
       " '23',\n",
       " '23',\n",
       " '25',\n",
       " '8',\n",
       " '14',\n",
       " '40',\n",
       " '7',\n",
       " '35',\n",
       " '8',\n",
       " '10',\n",
       " '8',\n",
       " '19',\n",
       " '38',\n",
       " '14',\n",
       " '15',\n",
       " '7',\n",
       " '15',\n",
       " '37',\n",
       " '23',\n",
       " '17',\n",
       " '32',\n",
       " '11',\n",
       " '12',\n",
       " '9',\n",
       " '20',\n",
       " '10',\n",
       " '16',\n",
       " '4',\n",
       " '22',\n",
       " '22',\n",
       " '3',\n",
       " '28',\n",
       " '5',\n",
       " '34',\n",
       " '0',\n",
       " '22',\n",
       " '21',\n",
       " '8',\n",
       " '38',\n",
       " '9',\n",
       " '11',\n",
       " '12',\n",
       " '17',\n",
       " '12',\n",
       " '23',\n",
       " '8',\n",
       " '15',\n",
       " '16',\n",
       " '13',\n",
       " '3',\n",
       " '14',\n",
       " '14',\n",
       " '7',\n",
       " '15',\n",
       " '21',\n",
       " '19',\n",
       " '7',\n",
       " '10',\n",
       " '20',\n",
       " '11',\n",
       " '19',\n",
       " '5',\n",
       " '43',\n",
       " '3',\n",
       " '7',\n",
       " '51',\n",
       " '13',\n",
       " '28',\n",
       " '19',\n",
       " '10',\n",
       " '12',\n",
       " '29',\n",
       " '8',\n",
       " '14',\n",
       " '11',\n",
       " '31',\n",
       " '36',\n",
       " '20',\n",
       " '14',\n",
       " '4',\n",
       " '8',\n",
       " '13',\n",
       " '11',\n",
       " '29',\n",
       " '28',\n",
       " '14',\n",
       " '11',\n",
       " '8',\n",
       " '28',\n",
       " '4',\n",
       " '11',\n",
       " '7',\n",
       " '5',\n",
       " '23',\n",
       " '12',\n",
       " '5',\n",
       " '8',\n",
       " '13',\n",
       " '20',\n",
       " '7',\n",
       " '9',\n",
       " '7',\n",
       " '37',\n",
       " '15',\n",
       " '5',\n",
       " '10',\n",
       " '26',\n",
       " '7',\n",
       " '9',\n",
       " '0',\n",
       " '24',\n",
       " '44',\n",
       " '10',\n",
       " '20',\n",
       " '16',\n",
       " '6',\n",
       " '8',\n",
       " '19',\n",
       " '33',\n",
       " '9',\n",
       " '22',\n",
       " '27',\n",
       " '8',\n",
       " '16',\n",
       " '11',\n",
       " '17',\n",
       " '7',\n",
       " '37',\n",
       " '4',\n",
       " '9',\n",
       " '6',\n",
       " '3',\n",
       " '12',\n",
       " '29',\n",
       " '8',\n",
       " '22',\n",
       " '11',\n",
       " '0',\n",
       " '28',\n",
       " '0',\n",
       " '22',\n",
       " '15',\n",
       " '6',\n",
       " '7',\n",
       " '13',\n",
       " '17',\n",
       " '16',\n",
       " '43',\n",
       " '19',\n",
       " '19',\n",
       " '20',\n",
       " '25',\n",
       " '7',\n",
       " '16',\n",
       " '17',\n",
       " '42',\n",
       " '21',\n",
       " '17',\n",
       " '7',\n",
       " '49',\n",
       " '2',\n",
       " '22',\n",
       " '27',\n",
       " '39',\n",
       " ...]"
      ]
     },
     "execution_count": 53,
     "metadata": {},
     "output_type": "execute_result"
    }
   ],
   "source": [
    "exp=[]\n",
    "for i in range(0,5961):\n",
    "    k=df['Experience'][i][0:].split()\n",
    "    exp.append(k[0])\n",
    "exp"
   ]
  },
  {
   "cell_type": "code",
   "execution_count": 54,
   "metadata": {},
   "outputs": [],
   "source": [
    "df['experience']=exp"
   ]
  },
  {
   "cell_type": "code",
   "execution_count": 55,
   "metadata": {},
   "outputs": [
    {
     "data": {
      "text/html": [
       "<div>\n",
       "<style scoped>\n",
       "    .dataframe tbody tr th:only-of-type {\n",
       "        vertical-align: middle;\n",
       "    }\n",
       "\n",
       "    .dataframe tbody tr th {\n",
       "        vertical-align: top;\n",
       "    }\n",
       "\n",
       "    .dataframe thead th {\n",
       "        text-align: right;\n",
       "    }\n",
       "</style>\n",
       "<table border=\"1\" class=\"dataframe\">\n",
       "  <thead>\n",
       "    <tr style=\"text-align: right;\">\n",
       "      <th></th>\n",
       "      <th>Qualification</th>\n",
       "      <th>Experience</th>\n",
       "      <th>Rating</th>\n",
       "      <th>Place</th>\n",
       "      <th>Profile</th>\n",
       "      <th>Miscellaneous_Info</th>\n",
       "      <th>Fees</th>\n",
       "      <th>experience</th>\n",
       "    </tr>\n",
       "  </thead>\n",
       "  <tbody>\n",
       "    <tr>\n",
       "      <th>0</th>\n",
       "      <td>BHMS, MD - Homeopathy</td>\n",
       "      <td>24 years experience</td>\n",
       "      <td>100%</td>\n",
       "      <td>Kakkanad, Ernakulam</td>\n",
       "      <td>Homeopath</td>\n",
       "      <td>100% 16 Feedback Kakkanad, Ernakulam</td>\n",
       "      <td>100</td>\n",
       "      <td>24</td>\n",
       "    </tr>\n",
       "    <tr>\n",
       "      <th>1</th>\n",
       "      <td>BAMS, MD - Ayurveda Medicine</td>\n",
       "      <td>12 years experience</td>\n",
       "      <td>98%</td>\n",
       "      <td>Whitefield, Bangalore</td>\n",
       "      <td>Ayurveda</td>\n",
       "      <td>98% 76 Feedback Whitefield, Bangalore</td>\n",
       "      <td>350</td>\n",
       "      <td>12</td>\n",
       "    </tr>\n",
       "    <tr>\n",
       "      <th>2</th>\n",
       "      <td>MBBS, MS - Otorhinolaryngology</td>\n",
       "      <td>9 years experience</td>\n",
       "      <td>NaN</td>\n",
       "      <td>Mathikere - BEL, Bangalore</td>\n",
       "      <td>ENT Specialist</td>\n",
       "      <td>NaN</td>\n",
       "      <td>300</td>\n",
       "      <td>9</td>\n",
       "    </tr>\n",
       "    <tr>\n",
       "      <th>3</th>\n",
       "      <td>BSc - Zoology, BAMS</td>\n",
       "      <td>12 years experience</td>\n",
       "      <td>NaN</td>\n",
       "      <td>Bannerghatta Road, Bangalore</td>\n",
       "      <td>Ayurveda</td>\n",
       "      <td>Bannerghatta Road, Bangalore ?250 Available on...</td>\n",
       "      <td>250</td>\n",
       "      <td>12</td>\n",
       "    </tr>\n",
       "    <tr>\n",
       "      <th>4</th>\n",
       "      <td>BAMS</td>\n",
       "      <td>20 years experience</td>\n",
       "      <td>100%</td>\n",
       "      <td>Keelkattalai, Chennai</td>\n",
       "      <td>Ayurveda</td>\n",
       "      <td>100% 4 Feedback Keelkattalai, Chennai</td>\n",
       "      <td>250</td>\n",
       "      <td>20</td>\n",
       "    </tr>\n",
       "  </tbody>\n",
       "</table>\n",
       "</div>"
      ],
      "text/plain": [
       "                    Qualification           Experience Rating  \\\n",
       "0           BHMS, MD - Homeopathy  24 years experience   100%   \n",
       "1    BAMS, MD - Ayurveda Medicine  12 years experience    98%   \n",
       "2  MBBS, MS - Otorhinolaryngology   9 years experience    NaN   \n",
       "3             BSc - Zoology, BAMS  12 years experience    NaN   \n",
       "4                            BAMS  20 years experience   100%   \n",
       "\n",
       "                          Place         Profile  \\\n",
       "0           Kakkanad, Ernakulam       Homeopath   \n",
       "1         Whitefield, Bangalore        Ayurveda   \n",
       "2    Mathikere - BEL, Bangalore  ENT Specialist   \n",
       "3  Bannerghatta Road, Bangalore        Ayurveda   \n",
       "4         Keelkattalai, Chennai        Ayurveda   \n",
       "\n",
       "                                  Miscellaneous_Info  Fees experience  \n",
       "0               100% 16 Feedback Kakkanad, Ernakulam   100         24  \n",
       "1              98% 76 Feedback Whitefield, Bangalore   350         12  \n",
       "2                                                NaN   300          9  \n",
       "3  Bannerghatta Road, Bangalore ?250 Available on...   250         12  \n",
       "4              100% 4 Feedback Keelkattalai, Chennai   250         20  "
      ]
     },
     "execution_count": 55,
     "metadata": {},
     "output_type": "execute_result"
    }
   ],
   "source": [
    "df.head()"
   ]
  },
  {
   "cell_type": "code",
   "execution_count": 56,
   "metadata": {},
   "outputs": [],
   "source": [
    "df.drop('Experience',axis=1,inplace=True)"
   ]
  },
  {
   "cell_type": "code",
   "execution_count": 57,
   "metadata": {},
   "outputs": [
    {
     "data": {
      "text/html": [
       "<div>\n",
       "<style scoped>\n",
       "    .dataframe tbody tr th:only-of-type {\n",
       "        vertical-align: middle;\n",
       "    }\n",
       "\n",
       "    .dataframe tbody tr th {\n",
       "        vertical-align: top;\n",
       "    }\n",
       "\n",
       "    .dataframe thead th {\n",
       "        text-align: right;\n",
       "    }\n",
       "</style>\n",
       "<table border=\"1\" class=\"dataframe\">\n",
       "  <thead>\n",
       "    <tr style=\"text-align: right;\">\n",
       "      <th></th>\n",
       "      <th>Qualification</th>\n",
       "      <th>Rating</th>\n",
       "      <th>Place</th>\n",
       "      <th>Profile</th>\n",
       "      <th>Miscellaneous_Info</th>\n",
       "      <th>Fees</th>\n",
       "      <th>experience</th>\n",
       "    </tr>\n",
       "  </thead>\n",
       "  <tbody>\n",
       "    <tr>\n",
       "      <th>0</th>\n",
       "      <td>BHMS, MD - Homeopathy</td>\n",
       "      <td>100%</td>\n",
       "      <td>Kakkanad, Ernakulam</td>\n",
       "      <td>Homeopath</td>\n",
       "      <td>100% 16 Feedback Kakkanad, Ernakulam</td>\n",
       "      <td>100</td>\n",
       "      <td>24</td>\n",
       "    </tr>\n",
       "    <tr>\n",
       "      <th>1</th>\n",
       "      <td>BAMS, MD - Ayurveda Medicine</td>\n",
       "      <td>98%</td>\n",
       "      <td>Whitefield, Bangalore</td>\n",
       "      <td>Ayurveda</td>\n",
       "      <td>98% 76 Feedback Whitefield, Bangalore</td>\n",
       "      <td>350</td>\n",
       "      <td>12</td>\n",
       "    </tr>\n",
       "    <tr>\n",
       "      <th>2</th>\n",
       "      <td>MBBS, MS - Otorhinolaryngology</td>\n",
       "      <td>NaN</td>\n",
       "      <td>Mathikere - BEL, Bangalore</td>\n",
       "      <td>ENT Specialist</td>\n",
       "      <td>NaN</td>\n",
       "      <td>300</td>\n",
       "      <td>9</td>\n",
       "    </tr>\n",
       "    <tr>\n",
       "      <th>3</th>\n",
       "      <td>BSc - Zoology, BAMS</td>\n",
       "      <td>NaN</td>\n",
       "      <td>Bannerghatta Road, Bangalore</td>\n",
       "      <td>Ayurveda</td>\n",
       "      <td>Bannerghatta Road, Bangalore ?250 Available on...</td>\n",
       "      <td>250</td>\n",
       "      <td>12</td>\n",
       "    </tr>\n",
       "    <tr>\n",
       "      <th>4</th>\n",
       "      <td>BAMS</td>\n",
       "      <td>100%</td>\n",
       "      <td>Keelkattalai, Chennai</td>\n",
       "      <td>Ayurveda</td>\n",
       "      <td>100% 4 Feedback Keelkattalai, Chennai</td>\n",
       "      <td>250</td>\n",
       "      <td>20</td>\n",
       "    </tr>\n",
       "  </tbody>\n",
       "</table>\n",
       "</div>"
      ],
      "text/plain": [
       "                    Qualification Rating                         Place  \\\n",
       "0           BHMS, MD - Homeopathy   100%           Kakkanad, Ernakulam   \n",
       "1    BAMS, MD - Ayurveda Medicine    98%         Whitefield, Bangalore   \n",
       "2  MBBS, MS - Otorhinolaryngology    NaN    Mathikere - BEL, Bangalore   \n",
       "3             BSc - Zoology, BAMS    NaN  Bannerghatta Road, Bangalore   \n",
       "4                            BAMS   100%         Keelkattalai, Chennai   \n",
       "\n",
       "          Profile                                 Miscellaneous_Info  Fees  \\\n",
       "0       Homeopath               100% 16 Feedback Kakkanad, Ernakulam   100   \n",
       "1        Ayurveda              98% 76 Feedback Whitefield, Bangalore   350   \n",
       "2  ENT Specialist                                                NaN   300   \n",
       "3        Ayurveda  Bannerghatta Road, Bangalore ?250 Available on...   250   \n",
       "4        Ayurveda              100% 4 Feedback Keelkattalai, Chennai   250   \n",
       "\n",
       "  experience  \n",
       "0         24  \n",
       "1         12  \n",
       "2          9  \n",
       "3         12  \n",
       "4         20  "
      ]
     },
     "execution_count": 57,
     "metadata": {},
     "output_type": "execute_result"
    }
   ],
   "source": [
    "df.head()"
   ]
  },
  {
   "cell_type": "code",
   "execution_count": 58,
   "metadata": {},
   "outputs": [
    {
     "data": {
      "text/plain": [
       "Dentist             1397\n",
       "General Medicine    1173\n",
       "Dermatologists      1034\n",
       "Homeopath            843\n",
       "Ayurveda             786\n",
       "ENT Specialist       728\n",
       "Name: Profile, dtype: int64"
      ]
     },
     "execution_count": 58,
     "metadata": {},
     "output_type": "execute_result"
    }
   ],
   "source": [
    "df['Profile'].value_counts()"
   ]
  },
  {
   "cell_type": "code",
   "execution_count": 59,
   "metadata": {},
   "outputs": [],
   "source": [
    "from sklearn.preprocessing import LabelEncoder\n",
    "le=LabelEncoder()"
   ]
  },
  {
   "cell_type": "code",
   "execution_count": 60,
   "metadata": {},
   "outputs": [],
   "source": [
    "df1=df"
   ]
  },
  {
   "cell_type": "code",
   "execution_count": 61,
   "metadata": {},
   "outputs": [
    {
     "data": {
      "text/html": [
       "<div>\n",
       "<style scoped>\n",
       "    .dataframe tbody tr th:only-of-type {\n",
       "        vertical-align: middle;\n",
       "    }\n",
       "\n",
       "    .dataframe tbody tr th {\n",
       "        vertical-align: top;\n",
       "    }\n",
       "\n",
       "    .dataframe thead th {\n",
       "        text-align: right;\n",
       "    }\n",
       "</style>\n",
       "<table border=\"1\" class=\"dataframe\">\n",
       "  <thead>\n",
       "    <tr style=\"text-align: right;\">\n",
       "      <th></th>\n",
       "      <th>Qualification</th>\n",
       "      <th>Rating</th>\n",
       "      <th>Place</th>\n",
       "      <th>Profile</th>\n",
       "      <th>Miscellaneous_Info</th>\n",
       "      <th>Fees</th>\n",
       "      <th>experience</th>\n",
       "    </tr>\n",
       "  </thead>\n",
       "  <tbody>\n",
       "    <tr>\n",
       "      <th>0</th>\n",
       "      <td>BHMS, MD - Homeopathy</td>\n",
       "      <td>100%</td>\n",
       "      <td>Kakkanad, Ernakulam</td>\n",
       "      <td>Homeopath</td>\n",
       "      <td>100% 16 Feedback Kakkanad, Ernakulam</td>\n",
       "      <td>100</td>\n",
       "      <td>24</td>\n",
       "    </tr>\n",
       "    <tr>\n",
       "      <th>1</th>\n",
       "      <td>BAMS, MD - Ayurveda Medicine</td>\n",
       "      <td>98%</td>\n",
       "      <td>Whitefield, Bangalore</td>\n",
       "      <td>Ayurveda</td>\n",
       "      <td>98% 76 Feedback Whitefield, Bangalore</td>\n",
       "      <td>350</td>\n",
       "      <td>12</td>\n",
       "    </tr>\n",
       "    <tr>\n",
       "      <th>2</th>\n",
       "      <td>MBBS, MS - Otorhinolaryngology</td>\n",
       "      <td>NaN</td>\n",
       "      <td>Mathikere - BEL, Bangalore</td>\n",
       "      <td>ENT Specialist</td>\n",
       "      <td>NaN</td>\n",
       "      <td>300</td>\n",
       "      <td>9</td>\n",
       "    </tr>\n",
       "    <tr>\n",
       "      <th>3</th>\n",
       "      <td>BSc - Zoology, BAMS</td>\n",
       "      <td>NaN</td>\n",
       "      <td>Bannerghatta Road, Bangalore</td>\n",
       "      <td>Ayurveda</td>\n",
       "      <td>Bannerghatta Road, Bangalore ?250 Available on...</td>\n",
       "      <td>250</td>\n",
       "      <td>12</td>\n",
       "    </tr>\n",
       "    <tr>\n",
       "      <th>4</th>\n",
       "      <td>BAMS</td>\n",
       "      <td>100%</td>\n",
       "      <td>Keelkattalai, Chennai</td>\n",
       "      <td>Ayurveda</td>\n",
       "      <td>100% 4 Feedback Keelkattalai, Chennai</td>\n",
       "      <td>250</td>\n",
       "      <td>20</td>\n",
       "    </tr>\n",
       "  </tbody>\n",
       "</table>\n",
       "</div>"
      ],
      "text/plain": [
       "                    Qualification Rating                         Place  \\\n",
       "0           BHMS, MD - Homeopathy   100%           Kakkanad, Ernakulam   \n",
       "1    BAMS, MD - Ayurveda Medicine    98%         Whitefield, Bangalore   \n",
       "2  MBBS, MS - Otorhinolaryngology    NaN    Mathikere - BEL, Bangalore   \n",
       "3             BSc - Zoology, BAMS    NaN  Bannerghatta Road, Bangalore   \n",
       "4                            BAMS   100%         Keelkattalai, Chennai   \n",
       "\n",
       "          Profile                                 Miscellaneous_Info  Fees  \\\n",
       "0       Homeopath               100% 16 Feedback Kakkanad, Ernakulam   100   \n",
       "1        Ayurveda              98% 76 Feedback Whitefield, Bangalore   350   \n",
       "2  ENT Specialist                                                NaN   300   \n",
       "3        Ayurveda  Bannerghatta Road, Bangalore ?250 Available on...   250   \n",
       "4        Ayurveda              100% 4 Feedback Keelkattalai, Chennai   250   \n",
       "\n",
       "  experience  \n",
       "0         24  \n",
       "1         12  \n",
       "2          9  \n",
       "3         12  \n",
       "4         20  "
      ]
     },
     "execution_count": 61,
     "metadata": {},
     "output_type": "execute_result"
    }
   ],
   "source": [
    "df1.head()"
   ]
  },
  {
   "cell_type": "code",
   "execution_count": 62,
   "metadata": {},
   "outputs": [],
   "source": [
    "le.fit(df1['Profile'])\n",
    "label_Profile=dict(zip(range(len(le.classes_)),le.classes_))"
   ]
  },
  {
   "cell_type": "code",
   "execution_count": 64,
   "metadata": {},
   "outputs": [],
   "source": [
    "df1['Profile']=le.fit_transform(df1['Profile'])"
   ]
  },
  {
   "cell_type": "code",
   "execution_count": 65,
   "metadata": {},
   "outputs": [
    {
     "data": {
      "text/html": [
       "<div>\n",
       "<style scoped>\n",
       "    .dataframe tbody tr th:only-of-type {\n",
       "        vertical-align: middle;\n",
       "    }\n",
       "\n",
       "    .dataframe tbody tr th {\n",
       "        vertical-align: top;\n",
       "    }\n",
       "\n",
       "    .dataframe thead th {\n",
       "        text-align: right;\n",
       "    }\n",
       "</style>\n",
       "<table border=\"1\" class=\"dataframe\">\n",
       "  <thead>\n",
       "    <tr style=\"text-align: right;\">\n",
       "      <th></th>\n",
       "      <th>Qualification</th>\n",
       "      <th>Rating</th>\n",
       "      <th>Place</th>\n",
       "      <th>Profile</th>\n",
       "      <th>Miscellaneous_Info</th>\n",
       "      <th>Fees</th>\n",
       "      <th>experience</th>\n",
       "    </tr>\n",
       "  </thead>\n",
       "  <tbody>\n",
       "    <tr>\n",
       "      <th>0</th>\n",
       "      <td>BHMS, MD - Homeopathy</td>\n",
       "      <td>100%</td>\n",
       "      <td>Kakkanad, Ernakulam</td>\n",
       "      <td>5</td>\n",
       "      <td>100% 16 Feedback Kakkanad, Ernakulam</td>\n",
       "      <td>100</td>\n",
       "      <td>24</td>\n",
       "    </tr>\n",
       "    <tr>\n",
       "      <th>1</th>\n",
       "      <td>BAMS, MD - Ayurveda Medicine</td>\n",
       "      <td>98%</td>\n",
       "      <td>Whitefield, Bangalore</td>\n",
       "      <td>0</td>\n",
       "      <td>98% 76 Feedback Whitefield, Bangalore</td>\n",
       "      <td>350</td>\n",
       "      <td>12</td>\n",
       "    </tr>\n",
       "    <tr>\n",
       "      <th>2</th>\n",
       "      <td>MBBS, MS - Otorhinolaryngology</td>\n",
       "      <td>NaN</td>\n",
       "      <td>Mathikere - BEL, Bangalore</td>\n",
       "      <td>3</td>\n",
       "      <td>NaN</td>\n",
       "      <td>300</td>\n",
       "      <td>9</td>\n",
       "    </tr>\n",
       "    <tr>\n",
       "      <th>3</th>\n",
       "      <td>BSc - Zoology, BAMS</td>\n",
       "      <td>NaN</td>\n",
       "      <td>Bannerghatta Road, Bangalore</td>\n",
       "      <td>0</td>\n",
       "      <td>Bannerghatta Road, Bangalore ?250 Available on...</td>\n",
       "      <td>250</td>\n",
       "      <td>12</td>\n",
       "    </tr>\n",
       "    <tr>\n",
       "      <th>4</th>\n",
       "      <td>BAMS</td>\n",
       "      <td>100%</td>\n",
       "      <td>Keelkattalai, Chennai</td>\n",
       "      <td>0</td>\n",
       "      <td>100% 4 Feedback Keelkattalai, Chennai</td>\n",
       "      <td>250</td>\n",
       "      <td>20</td>\n",
       "    </tr>\n",
       "  </tbody>\n",
       "</table>\n",
       "</div>"
      ],
      "text/plain": [
       "                    Qualification Rating                         Place  \\\n",
       "0           BHMS, MD - Homeopathy   100%           Kakkanad, Ernakulam   \n",
       "1    BAMS, MD - Ayurveda Medicine    98%         Whitefield, Bangalore   \n",
       "2  MBBS, MS - Otorhinolaryngology    NaN    Mathikere - BEL, Bangalore   \n",
       "3             BSc - Zoology, BAMS    NaN  Bannerghatta Road, Bangalore   \n",
       "4                            BAMS   100%         Keelkattalai, Chennai   \n",
       "\n",
       "   Profile                                 Miscellaneous_Info  Fees experience  \n",
       "0        5               100% 16 Feedback Kakkanad, Ernakulam   100         24  \n",
       "1        0              98% 76 Feedback Whitefield, Bangalore   350         12  \n",
       "2        3                                                NaN   300          9  \n",
       "3        0  Bannerghatta Road, Bangalore ?250 Available on...   250         12  \n",
       "4        0              100% 4 Feedback Keelkattalai, Chennai   250         20  "
      ]
     },
     "execution_count": 65,
     "metadata": {},
     "output_type": "execute_result"
    }
   ],
   "source": [
    "df1.head()"
   ]
  },
  {
   "cell_type": "code",
   "execution_count": 81,
   "metadata": {},
   "outputs": [
    {
     "data": {
      "text/plain": [
       "' Mumbai'"
      ]
     },
     "execution_count": 81,
     "metadata": {},
     "output_type": "execute_result"
    }
   ],
   "source": [
    "k=df1['Place'][5673].split(',')[1]\n",
    "k"
   ]
  },
  {
   "cell_type": "code",
   "execution_count": 82,
   "metadata": {},
   "outputs": [],
   "source": [
    "df1.Place.fillna('Unknown,Unknown',inplace=True)\n",
    "\n",
    "df1['locality'] = df1['Place'].str.split(\",\").str[0]\n",
    "df1['city'] = df1['Place'].str.split(\",\").str[1]"
   ]
  },
  {
   "cell_type": "code",
   "execution_count": 86,
   "metadata": {},
   "outputs": [],
   "source": [
    "df1.drop('Place',axis=1,inplace=True)"
   ]
  },
  {
   "cell_type": "code",
   "execution_count": 87,
   "metadata": {},
   "outputs": [
    {
     "data": {
      "text/html": [
       "<div>\n",
       "<style scoped>\n",
       "    .dataframe tbody tr th:only-of-type {\n",
       "        vertical-align: middle;\n",
       "    }\n",
       "\n",
       "    .dataframe tbody tr th {\n",
       "        vertical-align: top;\n",
       "    }\n",
       "\n",
       "    .dataframe thead th {\n",
       "        text-align: right;\n",
       "    }\n",
       "</style>\n",
       "<table border=\"1\" class=\"dataframe\">\n",
       "  <thead>\n",
       "    <tr style=\"text-align: right;\">\n",
       "      <th></th>\n",
       "      <th>Qualification</th>\n",
       "      <th>Rating</th>\n",
       "      <th>Profile</th>\n",
       "      <th>Miscellaneous_Info</th>\n",
       "      <th>Fees</th>\n",
       "      <th>experience</th>\n",
       "      <th>locality</th>\n",
       "      <th>city</th>\n",
       "    </tr>\n",
       "  </thead>\n",
       "  <tbody>\n",
       "    <tr>\n",
       "      <th>0</th>\n",
       "      <td>BHMS, MD - Homeopathy</td>\n",
       "      <td>100%</td>\n",
       "      <td>5</td>\n",
       "      <td>100% 16 Feedback Kakkanad, Ernakulam</td>\n",
       "      <td>100</td>\n",
       "      <td>24</td>\n",
       "      <td>Kakkanad</td>\n",
       "      <td>Ernakulam</td>\n",
       "    </tr>\n",
       "    <tr>\n",
       "      <th>1</th>\n",
       "      <td>BAMS, MD - Ayurveda Medicine</td>\n",
       "      <td>98%</td>\n",
       "      <td>0</td>\n",
       "      <td>98% 76 Feedback Whitefield, Bangalore</td>\n",
       "      <td>350</td>\n",
       "      <td>12</td>\n",
       "      <td>Whitefield</td>\n",
       "      <td>Bangalore</td>\n",
       "    </tr>\n",
       "    <tr>\n",
       "      <th>2</th>\n",
       "      <td>MBBS, MS - Otorhinolaryngology</td>\n",
       "      <td>NaN</td>\n",
       "      <td>3</td>\n",
       "      <td>NaN</td>\n",
       "      <td>300</td>\n",
       "      <td>9</td>\n",
       "      <td>Mathikere - BEL</td>\n",
       "      <td>Bangalore</td>\n",
       "    </tr>\n",
       "    <tr>\n",
       "      <th>3</th>\n",
       "      <td>BSc - Zoology, BAMS</td>\n",
       "      <td>NaN</td>\n",
       "      <td>0</td>\n",
       "      <td>Bannerghatta Road, Bangalore ?250 Available on...</td>\n",
       "      <td>250</td>\n",
       "      <td>12</td>\n",
       "      <td>Bannerghatta Road</td>\n",
       "      <td>Bangalore</td>\n",
       "    </tr>\n",
       "    <tr>\n",
       "      <th>4</th>\n",
       "      <td>BAMS</td>\n",
       "      <td>100%</td>\n",
       "      <td>0</td>\n",
       "      <td>100% 4 Feedback Keelkattalai, Chennai</td>\n",
       "      <td>250</td>\n",
       "      <td>20</td>\n",
       "      <td>Keelkattalai</td>\n",
       "      <td>Chennai</td>\n",
       "    </tr>\n",
       "  </tbody>\n",
       "</table>\n",
       "</div>"
      ],
      "text/plain": [
       "                    Qualification Rating  Profile  \\\n",
       "0           BHMS, MD - Homeopathy   100%        5   \n",
       "1    BAMS, MD - Ayurveda Medicine    98%        0   \n",
       "2  MBBS, MS - Otorhinolaryngology    NaN        3   \n",
       "3             BSc - Zoology, BAMS    NaN        0   \n",
       "4                            BAMS   100%        0   \n",
       "\n",
       "                                  Miscellaneous_Info  Fees experience  \\\n",
       "0               100% 16 Feedback Kakkanad, Ernakulam   100         24   \n",
       "1              98% 76 Feedback Whitefield, Bangalore   350         12   \n",
       "2                                                NaN   300          9   \n",
       "3  Bannerghatta Road, Bangalore ?250 Available on...   250         12   \n",
       "4              100% 4 Feedback Keelkattalai, Chennai   250         20   \n",
       "\n",
       "            locality        city  \n",
       "0           Kakkanad   Ernakulam  \n",
       "1         Whitefield   Bangalore  \n",
       "2    Mathikere - BEL   Bangalore  \n",
       "3  Bannerghatta Road   Bangalore  \n",
       "4       Keelkattalai     Chennai  "
      ]
     },
     "execution_count": 87,
     "metadata": {},
     "output_type": "execute_result"
    }
   ],
   "source": [
    "df1.head()"
   ]
  },
  {
   "cell_type": "code",
   "execution_count": 88,
   "metadata": {
    "collapsed": true
   },
   "outputs": [
    {
     "data": {
      "text/plain": [
       "100%    684\n",
       "98%     290\n",
       "99%     259\n",
       "97%     241\n",
       "96%     220\n",
       "95%     178\n",
       "94%     115\n",
       "93%     109\n",
       "90%      66\n",
       "92%      66\n",
       "91%      60\n",
       "89%      42\n",
       "88%      41\n",
       "85%      27\n",
       "82%      23\n",
       "86%      21\n",
       "83%      21\n",
       "80%      19\n",
       "77%      16\n",
       "87%      14\n",
       "84%      13\n",
       "79%      13\n",
       "67%      12\n",
       "81%      12\n",
       "76%       9\n",
       "71%       9\n",
       "75%       8\n",
       "73%       8\n",
       "74%       7\n",
       "60%       7\n",
       "78%       6\n",
       "68%       5\n",
       "56%       5\n",
       "69%       4\n",
       "70%       4\n",
       "72%       3\n",
       "57%       3\n",
       "63%       2\n",
       "62%       2\n",
       "33%       2\n",
       "55%       2\n",
       "64%       2\n",
       "48%       1\n",
       "36%       1\n",
       "58%       1\n",
       "53%       1\n",
       "47%       1\n",
       "40%       1\n",
       "7%        1\n",
       "45%       1\n",
       "65%       1\n",
       "Name: Rating, dtype: int64"
      ]
     },
     "execution_count": 88,
     "metadata": {},
     "output_type": "execute_result"
    }
   ],
   "source": [
    "df1['Rating'].value_counts()"
   ]
  },
  {
   "cell_type": "code",
   "execution_count": 90,
   "metadata": {},
   "outputs": [],
   "source": [
    "#lets fill all the nan values in rating with 11% because its not there.\n",
    "df1['Rating'].fillna('11%',inplace=True)"
   ]
  },
  {
   "cell_type": "code",
   "execution_count": 92,
   "metadata": {},
   "outputs": [
    {
     "data": {
      "text/plain": [
       "'100'"
      ]
     },
     "execution_count": 92,
     "metadata": {},
     "output_type": "execute_result"
    }
   ],
   "source": [
    "k=df1['Rating'][0].split('%')\n",
    "k[0]"
   ]
  },
  {
   "cell_type": "code",
   "execution_count": 93,
   "metadata": {},
   "outputs": [
    {
     "data": {
      "text/plain": [
       "5961"
      ]
     },
     "execution_count": 93,
     "metadata": {},
     "output_type": "execute_result"
    }
   ],
   "source": [
    "len(df1['Rating'])"
   ]
  },
  {
   "cell_type": "code",
   "execution_count": 94,
   "metadata": {},
   "outputs": [],
   "source": [
    "rating=[]\n",
    "for i in range(0,5961):\n",
    "    k=df1['Rating'][i].split('%')\n",
    "    rating.append(k[0])"
   ]
  },
  {
   "cell_type": "code",
   "execution_count": 97,
   "metadata": {},
   "outputs": [],
   "source": [
    "df1['rating']=rating"
   ]
  },
  {
   "cell_type": "code",
   "execution_count": 99,
   "metadata": {},
   "outputs": [],
   "source": [
    "df1.drop('Rating',axis=1,inplace=True)"
   ]
  },
  {
   "cell_type": "code",
   "execution_count": 103,
   "metadata": {},
   "outputs": [],
   "source": [
    "df1['rating'].replace(['11'],[np.nan],inplace=True)"
   ]
  },
  {
   "cell_type": "code",
   "execution_count": 104,
   "metadata": {},
   "outputs": [
    {
     "data": {
      "text/html": [
       "<div>\n",
       "<style scoped>\n",
       "    .dataframe tbody tr th:only-of-type {\n",
       "        vertical-align: middle;\n",
       "    }\n",
       "\n",
       "    .dataframe tbody tr th {\n",
       "        vertical-align: top;\n",
       "    }\n",
       "\n",
       "    .dataframe thead th {\n",
       "        text-align: right;\n",
       "    }\n",
       "</style>\n",
       "<table border=\"1\" class=\"dataframe\">\n",
       "  <thead>\n",
       "    <tr style=\"text-align: right;\">\n",
       "      <th></th>\n",
       "      <th>Qualification</th>\n",
       "      <th>Profile</th>\n",
       "      <th>Miscellaneous_Info</th>\n",
       "      <th>Fees</th>\n",
       "      <th>experience</th>\n",
       "      <th>locality</th>\n",
       "      <th>city</th>\n",
       "      <th>rating</th>\n",
       "    </tr>\n",
       "  </thead>\n",
       "  <tbody>\n",
       "    <tr>\n",
       "      <th>0</th>\n",
       "      <td>BHMS, MD - Homeopathy</td>\n",
       "      <td>5</td>\n",
       "      <td>100% 16 Feedback Kakkanad, Ernakulam</td>\n",
       "      <td>100</td>\n",
       "      <td>24</td>\n",
       "      <td>Kakkanad</td>\n",
       "      <td>Ernakulam</td>\n",
       "      <td>100.0</td>\n",
       "    </tr>\n",
       "    <tr>\n",
       "      <th>1</th>\n",
       "      <td>BAMS, MD - Ayurveda Medicine</td>\n",
       "      <td>0</td>\n",
       "      <td>98% 76 Feedback Whitefield, Bangalore</td>\n",
       "      <td>350</td>\n",
       "      <td>12</td>\n",
       "      <td>Whitefield</td>\n",
       "      <td>Bangalore</td>\n",
       "      <td>98.0</td>\n",
       "    </tr>\n",
       "    <tr>\n",
       "      <th>2</th>\n",
       "      <td>MBBS, MS - Otorhinolaryngology</td>\n",
       "      <td>3</td>\n",
       "      <td>NaN</td>\n",
       "      <td>300</td>\n",
       "      <td>9</td>\n",
       "      <td>Mathikere - BEL</td>\n",
       "      <td>Bangalore</td>\n",
       "      <td>NaN</td>\n",
       "    </tr>\n",
       "    <tr>\n",
       "      <th>3</th>\n",
       "      <td>BSc - Zoology, BAMS</td>\n",
       "      <td>0</td>\n",
       "      <td>Bannerghatta Road, Bangalore ?250 Available on...</td>\n",
       "      <td>250</td>\n",
       "      <td>12</td>\n",
       "      <td>Bannerghatta Road</td>\n",
       "      <td>Bangalore</td>\n",
       "      <td>NaN</td>\n",
       "    </tr>\n",
       "    <tr>\n",
       "      <th>4</th>\n",
       "      <td>BAMS</td>\n",
       "      <td>0</td>\n",
       "      <td>100% 4 Feedback Keelkattalai, Chennai</td>\n",
       "      <td>250</td>\n",
       "      <td>20</td>\n",
       "      <td>Keelkattalai</td>\n",
       "      <td>Chennai</td>\n",
       "      <td>100.0</td>\n",
       "    </tr>\n",
       "  </tbody>\n",
       "</table>\n",
       "</div>"
      ],
      "text/plain": [
       "                    Qualification  Profile  \\\n",
       "0           BHMS, MD - Homeopathy        5   \n",
       "1    BAMS, MD - Ayurveda Medicine        0   \n",
       "2  MBBS, MS - Otorhinolaryngology        3   \n",
       "3             BSc - Zoology, BAMS        0   \n",
       "4                            BAMS        0   \n",
       "\n",
       "                                  Miscellaneous_Info  Fees experience  \\\n",
       "0               100% 16 Feedback Kakkanad, Ernakulam   100         24   \n",
       "1              98% 76 Feedback Whitefield, Bangalore   350         12   \n",
       "2                                                NaN   300          9   \n",
       "3  Bannerghatta Road, Bangalore ?250 Available on...   250         12   \n",
       "4              100% 4 Feedback Keelkattalai, Chennai   250         20   \n",
       "\n",
       "            locality        city  rating  \n",
       "0           Kakkanad   Ernakulam   100.0  \n",
       "1         Whitefield   Bangalore    98.0  \n",
       "2    Mathikere - BEL   Bangalore     NaN  \n",
       "3  Bannerghatta Road   Bangalore     NaN  \n",
       "4       Keelkattalai     Chennai   100.0  "
      ]
     },
     "execution_count": 104,
     "metadata": {},
     "output_type": "execute_result"
    }
   ],
   "source": [
    "df1.head()"
   ]
  },
  {
   "cell_type": "code",
   "execution_count": 105,
   "metadata": {},
   "outputs": [
    {
     "data": {
      "text/plain": [
       "<AxesSubplot:xlabel='rating', ylabel='Density'>"
      ]
     },
     "execution_count": 105,
     "metadata": {},
     "output_type": "execute_result"
    },
    {
     "data": {
      "image/png": "[encoded data removed]",
      "text/plain": [
       "<Figure size 432x288 with 1 Axes>"
      ]
     },
     "metadata": {
      "needs_background": "light"
     },
     "output_type": "display_data"
    }
   ],
   "source": [
    "sns.distplot(df1['rating'])"
   ]
  },
  {
   "cell_type": "code",
   "execution_count": 106,
   "metadata": {},
   "outputs": [
    {
     "data": {
      "text/plain": [
       "count    2659.000000\n",
       "mean       94.643475\n",
       "std         7.852813\n",
       "min         7.000000\n",
       "25%        93.000000\n",
       "50%        97.000000\n",
       "75%       100.000000\n",
       "max       100.000000\n",
       "Name: rating, dtype: float64"
      ]
     },
     "execution_count": 106,
     "metadata": {},
     "output_type": "execute_result"
    }
   ],
   "source": [
    "df1['rating'].describe()"
   ]
  },
  {
   "cell_type": "code",
   "execution_count": 107,
   "metadata": {},
   "outputs": [],
   "source": [
    "#since the graph is distorted,we should use median to fill the null values.\n",
    "df1['rating'].fillna('97',inplace=True)"
   ]
  },
  {
   "cell_type": "code",
   "execution_count": 108,
   "metadata": {},
   "outputs": [
    {
     "data": {
      "text/html": [
       "<div>\n",
       "<style scoped>\n",
       "    .dataframe tbody tr th:only-of-type {\n",
       "        vertical-align: middle;\n",
       "    }\n",
       "\n",
       "    .dataframe tbody tr th {\n",
       "        vertical-align: top;\n",
       "    }\n",
       "\n",
       "    .dataframe thead th {\n",
       "        text-align: right;\n",
       "    }\n",
       "</style>\n",
       "<table border=\"1\" class=\"dataframe\">\n",
       "  <thead>\n",
       "    <tr style=\"text-align: right;\">\n",
       "      <th></th>\n",
       "      <th>Qualification</th>\n",
       "      <th>Profile</th>\n",
       "      <th>Miscellaneous_Info</th>\n",
       "      <th>Fees</th>\n",
       "      <th>experience</th>\n",
       "      <th>locality</th>\n",
       "      <th>city</th>\n",
       "      <th>rating</th>\n",
       "    </tr>\n",
       "  </thead>\n",
       "  <tbody>\n",
       "    <tr>\n",
       "      <th>0</th>\n",
       "      <td>BHMS, MD - Homeopathy</td>\n",
       "      <td>5</td>\n",
       "      <td>100% 16 Feedback Kakkanad, Ernakulam</td>\n",
       "      <td>100</td>\n",
       "      <td>24</td>\n",
       "      <td>Kakkanad</td>\n",
       "      <td>Ernakulam</td>\n",
       "      <td>100</td>\n",
       "    </tr>\n",
       "    <tr>\n",
       "      <th>1</th>\n",
       "      <td>BAMS, MD - Ayurveda Medicine</td>\n",
       "      <td>0</td>\n",
       "      <td>98% 76 Feedback Whitefield, Bangalore</td>\n",
       "      <td>350</td>\n",
       "      <td>12</td>\n",
       "      <td>Whitefield</td>\n",
       "      <td>Bangalore</td>\n",
       "      <td>98</td>\n",
       "    </tr>\n",
       "    <tr>\n",
       "      <th>2</th>\n",
       "      <td>MBBS, MS - Otorhinolaryngology</td>\n",
       "      <td>3</td>\n",
       "      <td>NaN</td>\n",
       "      <td>300</td>\n",
       "      <td>9</td>\n",
       "      <td>Mathikere - BEL</td>\n",
       "      <td>Bangalore</td>\n",
       "      <td>97</td>\n",
       "    </tr>\n",
       "    <tr>\n",
       "      <th>3</th>\n",
       "      <td>BSc - Zoology, BAMS</td>\n",
       "      <td>0</td>\n",
       "      <td>Bannerghatta Road, Bangalore ?250 Available on...</td>\n",
       "      <td>250</td>\n",
       "      <td>12</td>\n",
       "      <td>Bannerghatta Road</td>\n",
       "      <td>Bangalore</td>\n",
       "      <td>97</td>\n",
       "    </tr>\n",
       "    <tr>\n",
       "      <th>4</th>\n",
       "      <td>BAMS</td>\n",
       "      <td>0</td>\n",
       "      <td>100% 4 Feedback Keelkattalai, Chennai</td>\n",
       "      <td>250</td>\n",
       "      <td>20</td>\n",
       "      <td>Keelkattalai</td>\n",
       "      <td>Chennai</td>\n",
       "      <td>100</td>\n",
       "    </tr>\n",
       "  </tbody>\n",
       "</table>\n",
       "</div>"
      ],
      "text/plain": [
       "                    Qualification  Profile  \\\n",
       "0           BHMS, MD - Homeopathy        5   \n",
       "1    BAMS, MD - Ayurveda Medicine        0   \n",
       "2  MBBS, MS - Otorhinolaryngology        3   \n",
       "3             BSc - Zoology, BAMS        0   \n",
       "4                            BAMS        0   \n",
       "\n",
       "                                  Miscellaneous_Info  Fees experience  \\\n",
       "0               100% 16 Feedback Kakkanad, Ernakulam   100         24   \n",
       "1              98% 76 Feedback Whitefield, Bangalore   350         12   \n",
       "2                                                NaN   300          9   \n",
       "3  Bannerghatta Road, Bangalore ?250 Available on...   250         12   \n",
       "4              100% 4 Feedback Keelkattalai, Chennai   250         20   \n",
       "\n",
       "            locality        city rating  \n",
       "0           Kakkanad   Ernakulam    100  \n",
       "1         Whitefield   Bangalore     98  \n",
       "2    Mathikere - BEL   Bangalore     97  \n",
       "3  Bannerghatta Road   Bangalore     97  \n",
       "4       Keelkattalai     Chennai    100  "
      ]
     },
     "execution_count": 108,
     "metadata": {},
     "output_type": "execute_result"
    }
   ],
   "source": [
    "df1.head()"
   ]
  },
  {
   "cell_type": "code",
   "execution_count": 109,
   "metadata": {},
   "outputs": [
    {
     "data": {
      "text/plain": [
       "2     2628\n",
       "1     1962\n",
       "3      995\n",
       "4      257\n",
       "5       84\n",
       "6       23\n",
       "7        6\n",
       "9        3\n",
       "8        2\n",
       "10       1\n",
       "Name: Qualification_count, dtype: int64"
      ]
     },
     "execution_count": 109,
     "metadata": {},
     "output_type": "execute_result"
    }
   ],
   "source": [
    "df1['Qualification_count'] = df1['Qualification'].apply(lambda x: len(x.split(\",\")))\n",
    "df1['Qualification_count'].value_counts()"
   ]
  },
  {
   "cell_type": "code",
   "execution_count": 111,
   "metadata": {},
   "outputs": [],
   "source": [
    "#df1['Qualification'].value_counts()"
   ]
  },
  {
   "cell_type": "code",
   "execution_count": 112,
   "metadata": {},
   "outputs": [],
   "source": [
    "df1[\"Qualification\"]=df1[\"Qualification\"].str.split(\",\")\n",
    "Qualification ={}\n",
    "for x in df1[\"Qualification\"].values:\n",
    "    for each in x:\n",
    "        each = each.strip()\n",
    "        if each in Qualification:\n",
    "            Qualification[each]+=1\n",
    "        else:\n",
    "            Qualification[each]=1"
   ]
  },
  {
   "cell_type": "code",
   "execution_count": 113,
   "metadata": {},
   "outputs": [
    {
     "name": "stdout",
     "output_type": "stream",
     "text": [
      "['MBBS', 'BDS', 'BAMS', 'BHMS', 'MD - Dermatology', 'MS - ENT', 'Venereology & Leprosy', 'MD - General Medicine', 'Diploma in Otorhinolaryngology (DLO)', 'MD - Homeopathy']\n"
     ]
    }
   ],
   "source": [
    "most_qual = sorted(Qualification.items(),key=lambda x:x[1],reverse=True)[:10]\n",
    "final_qual = []\n",
    "for qual in most_qual:\n",
    "    final_qual.append(qual[0])\n",
    "    \n",
    "print(final_qual)"
   ]
  },
  {
   "cell_type": "code",
   "execution_count": 114,
   "metadata": {},
   "outputs": [],
   "source": [
    "for qual in final_qual:\n",
    "    df1[qual] = 0\n",
    "\n",
    "for x,y in zip(df1['Qualification'].values, np.array([i for i in range(len(df1))])):\n",
    "    for c in x:\n",
    "        c = c.strip()\n",
    "        if c in final_qual:\n",
    "            df1[c][y] = 1"
   ]
  },
  {
   "cell_type": "code",
   "execution_count": 115,
   "metadata": {},
   "outputs": [],
   "source": [
    "df1.drop(['Qualification','Qualification_count'],axis=1,inplace=True)"
   ]
  },
  {
   "cell_type": "code",
   "execution_count": 116,
   "metadata": {},
   "outputs": [
    {
     "data": {
      "text/html": [
       "<div>\n",
       "<style scoped>\n",
       "    .dataframe tbody tr th:only-of-type {\n",
       "        vertical-align: middle;\n",
       "    }\n",
       "\n",
       "    .dataframe tbody tr th {\n",
       "        vertical-align: top;\n",
       "    }\n",
       "\n",
       "    .dataframe thead th {\n",
       "        text-align: right;\n",
       "    }\n",
       "</style>\n",
       "<table border=\"1\" class=\"dataframe\">\n",
       "  <thead>\n",
       "    <tr style=\"text-align: right;\">\n",
       "      <th></th>\n",
       "      <th>Profile</th>\n",
       "      <th>Miscellaneous_Info</th>\n",
       "      <th>Fees</th>\n",
       "      <th>experience</th>\n",
       "      <th>locality</th>\n",
       "      <th>city</th>\n",
       "      <th>rating</th>\n",
       "      <th>MBBS</th>\n",
       "      <th>BDS</th>\n",
       "      <th>BAMS</th>\n",
       "      <th>BHMS</th>\n",
       "      <th>MD - Dermatology</th>\n",
       "      <th>MS - ENT</th>\n",
       "      <th>Venereology &amp; Leprosy</th>\n",
       "      <th>MD - General Medicine</th>\n",
       "      <th>Diploma in Otorhinolaryngology (DLO)</th>\n",
       "      <th>MD - Homeopathy</th>\n",
       "    </tr>\n",
       "  </thead>\n",
       "  <tbody>\n",
       "    <tr>\n",
       "      <th>0</th>\n",
       "      <td>5</td>\n",
       "      <td>100% 16 Feedback Kakkanad, Ernakulam</td>\n",
       "      <td>100</td>\n",
       "      <td>24</td>\n",
       "      <td>Kakkanad</td>\n",
       "      <td>Ernakulam</td>\n",
       "      <td>100</td>\n",
       "      <td>0</td>\n",
       "      <td>0</td>\n",
       "      <td>0</td>\n",
       "      <td>1</td>\n",
       "      <td>0</td>\n",
       "      <td>0</td>\n",
       "      <td>0</td>\n",
       "      <td>0</td>\n",
       "      <td>0</td>\n",
       "      <td>1</td>\n",
       "    </tr>\n",
       "    <tr>\n",
       "      <th>1</th>\n",
       "      <td>0</td>\n",
       "      <td>98% 76 Feedback Whitefield, Bangalore</td>\n",
       "      <td>350</td>\n",
       "      <td>12</td>\n",
       "      <td>Whitefield</td>\n",
       "      <td>Bangalore</td>\n",
       "      <td>98</td>\n",
       "      <td>0</td>\n",
       "      <td>0</td>\n",
       "      <td>1</td>\n",
       "      <td>0</td>\n",
       "      <td>0</td>\n",
       "      <td>0</td>\n",
       "      <td>0</td>\n",
       "      <td>0</td>\n",
       "      <td>0</td>\n",
       "      <td>0</td>\n",
       "    </tr>\n",
       "    <tr>\n",
       "      <th>2</th>\n",
       "      <td>3</td>\n",
       "      <td>NaN</td>\n",
       "      <td>300</td>\n",
       "      <td>9</td>\n",
       "      <td>Mathikere - BEL</td>\n",
       "      <td>Bangalore</td>\n",
       "      <td>97</td>\n",
       "      <td>1</td>\n",
       "      <td>0</td>\n",
       "      <td>0</td>\n",
       "      <td>0</td>\n",
       "      <td>0</td>\n",
       "      <td>0</td>\n",
       "      <td>0</td>\n",
       "      <td>0</td>\n",
       "      <td>0</td>\n",
       "      <td>0</td>\n",
       "    </tr>\n",
       "    <tr>\n",
       "      <th>3</th>\n",
       "      <td>0</td>\n",
       "      <td>Bannerghatta Road, Bangalore ?250 Available on...</td>\n",
       "      <td>250</td>\n",
       "      <td>12</td>\n",
       "      <td>Bannerghatta Road</td>\n",
       "      <td>Bangalore</td>\n",
       "      <td>97</td>\n",
       "      <td>0</td>\n",
       "      <td>0</td>\n",
       "      <td>1</td>\n",
       "      <td>0</td>\n",
       "      <td>0</td>\n",
       "      <td>0</td>\n",
       "      <td>0</td>\n",
       "      <td>0</td>\n",
       "      <td>0</td>\n",
       "      <td>0</td>\n",
       "    </tr>\n",
       "    <tr>\n",
       "      <th>4</th>\n",
       "      <td>0</td>\n",
       "      <td>100% 4 Feedback Keelkattalai, Chennai</td>\n",
       "      <td>250</td>\n",
       "      <td>20</td>\n",
       "      <td>Keelkattalai</td>\n",
       "      <td>Chennai</td>\n",
       "      <td>100</td>\n",
       "      <td>0</td>\n",
       "      <td>0</td>\n",
       "      <td>1</td>\n",
       "      <td>0</td>\n",
       "      <td>0</td>\n",
       "      <td>0</td>\n",
       "      <td>0</td>\n",
       "      <td>0</td>\n",
       "      <td>0</td>\n",
       "      <td>0</td>\n",
       "    </tr>\n",
       "  </tbody>\n",
       "</table>\n",
       "</div>"
      ],
      "text/plain": [
       "   Profile                                 Miscellaneous_Info  Fees  \\\n",
       "0        5               100% 16 Feedback Kakkanad, Ernakulam   100   \n",
       "1        0              98% 76 Feedback Whitefield, Bangalore   350   \n",
       "2        3                                                NaN   300   \n",
       "3        0  Bannerghatta Road, Bangalore ?250 Available on...   250   \n",
       "4        0              100% 4 Feedback Keelkattalai, Chennai   250   \n",
       "\n",
       "  experience           locality        city rating  MBBS  BDS  BAMS  BHMS  \\\n",
       "0         24           Kakkanad   Ernakulam    100     0    0     0     1   \n",
       "1         12         Whitefield   Bangalore     98     0    0     1     0   \n",
       "2          9    Mathikere - BEL   Bangalore     97     1    0     0     0   \n",
       "3         12  Bannerghatta Road   Bangalore     97     0    0     1     0   \n",
       "4         20       Keelkattalai     Chennai    100     0    0     1     0   \n",
       "\n",
       "   MD - Dermatology  MS - ENT  Venereology & Leprosy  MD - General Medicine  \\\n",
       "0                 0         0                      0                      0   \n",
       "1                 0         0                      0                      0   \n",
       "2                 0         0                      0                      0   \n",
       "3                 0         0                      0                      0   \n",
       "4                 0         0                      0                      0   \n",
       "\n",
       "   Diploma in Otorhinolaryngology (DLO)  MD - Homeopathy  \n",
       "0                                     0                1  \n",
       "1                                     0                0  \n",
       "2                                     0                0  \n",
       "3                                     0                0  \n",
       "4                                     0                0  "
      ]
     },
     "execution_count": 116,
     "metadata": {},
     "output_type": "execute_result"
    }
   ],
   "source": [
    "df1.head()"
   ]
  },
  {
   "cell_type": "code",
   "execution_count": 117,
   "metadata": {},
   "outputs": [],
   "source": [
    "df1.drop('Miscellaneous_Info',axis=1,inplace=True)"
   ]
  },
  {
   "cell_type": "code",
   "execution_count": 118,
   "metadata": {},
   "outputs": [
    {
     "data": {
      "text/html": [
       "<div>\n",
       "<style scoped>\n",
       "    .dataframe tbody tr th:only-of-type {\n",
       "        vertical-align: middle;\n",
       "    }\n",
       "\n",
       "    .dataframe tbody tr th {\n",
       "        vertical-align: top;\n",
       "    }\n",
       "\n",
       "    .dataframe thead th {\n",
       "        text-align: right;\n",
       "    }\n",
       "</style>\n",
       "<table border=\"1\" class=\"dataframe\">\n",
       "  <thead>\n",
       "    <tr style=\"text-align: right;\">\n",
       "      <th></th>\n",
       "      <th>Profile</th>\n",
       "      <th>Fees</th>\n",
       "      <th>experience</th>\n",
       "      <th>locality</th>\n",
       "      <th>city</th>\n",
       "      <th>rating</th>\n",
       "      <th>MBBS</th>\n",
       "      <th>BDS</th>\n",
       "      <th>BAMS</th>\n",
       "      <th>BHMS</th>\n",
       "      <th>MD - Dermatology</th>\n",
       "      <th>MS - ENT</th>\n",
       "      <th>Venereology &amp; Leprosy</th>\n",
       "      <th>MD - General Medicine</th>\n",
       "      <th>Diploma in Otorhinolaryngology (DLO)</th>\n",
       "      <th>MD - Homeopathy</th>\n",
       "    </tr>\n",
       "  </thead>\n",
       "  <tbody>\n",
       "    <tr>\n",
       "      <th>0</th>\n",
       "      <td>5</td>\n",
       "      <td>100</td>\n",
       "      <td>24</td>\n",
       "      <td>Kakkanad</td>\n",
       "      <td>Ernakulam</td>\n",
       "      <td>100</td>\n",
       "      <td>0</td>\n",
       "      <td>0</td>\n",
       "      <td>0</td>\n",
       "      <td>1</td>\n",
       "      <td>0</td>\n",
       "      <td>0</td>\n",
       "      <td>0</td>\n",
       "      <td>0</td>\n",
       "      <td>0</td>\n",
       "      <td>1</td>\n",
       "    </tr>\n",
       "    <tr>\n",
       "      <th>1</th>\n",
       "      <td>0</td>\n",
       "      <td>350</td>\n",
       "      <td>12</td>\n",
       "      <td>Whitefield</td>\n",
       "      <td>Bangalore</td>\n",
       "      <td>98</td>\n",
       "      <td>0</td>\n",
       "      <td>0</td>\n",
       "      <td>1</td>\n",
       "      <td>0</td>\n",
       "      <td>0</td>\n",
       "      <td>0</td>\n",
       "      <td>0</td>\n",
       "      <td>0</td>\n",
       "      <td>0</td>\n",
       "      <td>0</td>\n",
       "    </tr>\n",
       "    <tr>\n",
       "      <th>2</th>\n",
       "      <td>3</td>\n",
       "      <td>300</td>\n",
       "      <td>9</td>\n",
       "      <td>Mathikere - BEL</td>\n",
       "      <td>Bangalore</td>\n",
       "      <td>97</td>\n",
       "      <td>1</td>\n",
       "      <td>0</td>\n",
       "      <td>0</td>\n",
       "      <td>0</td>\n",
       "      <td>0</td>\n",
       "      <td>0</td>\n",
       "      <td>0</td>\n",
       "      <td>0</td>\n",
       "      <td>0</td>\n",
       "      <td>0</td>\n",
       "    </tr>\n",
       "    <tr>\n",
       "      <th>3</th>\n",
       "      <td>0</td>\n",
       "      <td>250</td>\n",
       "      <td>12</td>\n",
       "      <td>Bannerghatta Road</td>\n",
       "      <td>Bangalore</td>\n",
       "      <td>97</td>\n",
       "      <td>0</td>\n",
       "      <td>0</td>\n",
       "      <td>1</td>\n",
       "      <td>0</td>\n",
       "      <td>0</td>\n",
       "      <td>0</td>\n",
       "      <td>0</td>\n",
       "      <td>0</td>\n",
       "      <td>0</td>\n",
       "      <td>0</td>\n",
       "    </tr>\n",
       "    <tr>\n",
       "      <th>4</th>\n",
       "      <td>0</td>\n",
       "      <td>250</td>\n",
       "      <td>20</td>\n",
       "      <td>Keelkattalai</td>\n",
       "      <td>Chennai</td>\n",
       "      <td>100</td>\n",
       "      <td>0</td>\n",
       "      <td>0</td>\n",
       "      <td>1</td>\n",
       "      <td>0</td>\n",
       "      <td>0</td>\n",
       "      <td>0</td>\n",
       "      <td>0</td>\n",
       "      <td>0</td>\n",
       "      <td>0</td>\n",
       "      <td>0</td>\n",
       "    </tr>\n",
       "  </tbody>\n",
       "</table>\n",
       "</div>"
      ],
      "text/plain": [
       "   Profile  Fees experience           locality        city rating  MBBS  BDS  \\\n",
       "0        5   100         24           Kakkanad   Ernakulam    100     0    0   \n",
       "1        0   350         12         Whitefield   Bangalore     98     0    0   \n",
       "2        3   300          9    Mathikere - BEL   Bangalore     97     1    0   \n",
       "3        0   250         12  Bannerghatta Road   Bangalore     97     0    0   \n",
       "4        0   250         20       Keelkattalai     Chennai    100     0    0   \n",
       "\n",
       "   BAMS  BHMS  MD - Dermatology  MS - ENT  Venereology & Leprosy  \\\n",
       "0     0     1                 0         0                      0   \n",
       "1     1     0                 0         0                      0   \n",
       "2     0     0                 0         0                      0   \n",
       "3     1     0                 0         0                      0   \n",
       "4     1     0                 0         0                      0   \n",
       "\n",
       "   MD - General Medicine  Diploma in Otorhinolaryngology (DLO)  \\\n",
       "0                      0                                     0   \n",
       "1                      0                                     0   \n",
       "2                      0                                     0   \n",
       "3                      0                                     0   \n",
       "4                      0                                     0   \n",
       "\n",
       "   MD - Homeopathy  \n",
       "0                1  \n",
       "1                0  \n",
       "2                0  \n",
       "3                0  \n",
       "4                0  "
      ]
     },
     "execution_count": 118,
     "metadata": {},
     "output_type": "execute_result"
    }
   ],
   "source": [
    "df1.head()"
   ]
  },
  {
   "cell_type": "code",
   "execution_count": 120,
   "metadata": {
    "collapsed": true
   },
   "outputs": [
    {
     "data": {
      "text/plain": [
       "Profile                                 0\n",
       "Fees                                    0\n",
       "experience                              0\n",
       "locality                                0\n",
       "city                                    1\n",
       "rating                                  0\n",
       "MBBS                                    0\n",
       "BDS                                     0\n",
       "BAMS                                    0\n",
       "BHMS                                    0\n",
       "MD - Dermatology                        0\n",
       "MS - ENT                                0\n",
       "Venereology & Leprosy                   0\n",
       "MD - General Medicine                   0\n",
       "Diploma in Otorhinolaryngology (DLO)    0\n",
       "MD - Homeopathy                         0\n",
       "dtype: int64"
      ]
     },
     "execution_count": 120,
     "metadata": {},
     "output_type": "execute_result"
    }
   ],
   "source": [
    "df1.isnull().sum()"
   ]
  },
  {
   "cell_type": "markdown",
   "metadata": {},
   "source": [
    "# Label Encoding"
   ]
  },
  {
   "cell_type": "code",
   "execution_count": 123,
   "metadata": {},
   "outputs": [],
   "source": [
    "le.fit(df1['locality'])\n",
    "label_locality=dict(zip(range(len(le.classes_)),le.classes_))"
   ]
  },
  {
   "cell_type": "code",
   "execution_count": 127,
   "metadata": {},
   "outputs": [
    {
     "data": {
      "text/plain": [
       " Bangalore             1258\n",
       " Mumbai                1219\n",
       " Delhi                 1184\n",
       " Hyderabad              951\n",
       " Chennai                855\n",
       " Coimbatore             228\n",
       " Ernakulam              153\n",
       " Thiruvananthapuram      86\n",
       "Unknown                  25\n",
       " Sector 5                 1\n",
       "Name: city, dtype: int64"
      ]
     },
     "execution_count": 127,
     "metadata": {},
     "output_type": "execute_result"
    }
   ],
   "source": [
    "df1['city'].value_counts()"
   ]
  },
  {
   "cell_type": "code",
   "execution_count": 134,
   "metadata": {},
   "outputs": [],
   "source": [
    "df1['locality']=le.fit_transform(df1['locality'])"
   ]
  },
  {
   "cell_type": "code",
   "execution_count": 152,
   "metadata": {},
   "outputs": [],
   "source": [
    "df1['city'].replace([' Sector 5'],['sector'],inplace=True)"
   ]
  },
  {
   "cell_type": "code",
   "execution_count": 155,
   "metadata": {},
   "outputs": [],
   "source": [
    "df2=df1.dropna()"
   ]
  },
  {
   "cell_type": "code",
   "execution_count": 156,
   "metadata": {},
   "outputs": [
    {
     "data": {
      "text/plain": [
       "(5960, 16)"
      ]
     },
     "execution_count": 156,
     "metadata": {},
     "output_type": "execute_result"
    }
   ],
   "source": [
    "df2.shape"
   ]
  },
  {
   "cell_type": "code",
   "execution_count": 157,
   "metadata": {},
   "outputs": [
    {
     "data": {
      "text/plain": [
       "(5961, 16)"
      ]
     },
     "execution_count": 157,
     "metadata": {},
     "output_type": "execute_result"
    }
   ],
   "source": [
    "df1.shape"
   ]
  },
  {
   "cell_type": "code",
   "execution_count": 162,
   "metadata": {},
   "outputs": [],
   "source": [
    "City=[]\n",
    "for i in range(0,5961):\n",
    "    City.append(str(df1['city'][i]))"
   ]
  },
  {
   "cell_type": "code",
   "execution_count": 164,
   "metadata": {},
   "outputs": [],
   "source": [
    "df1['City']=City"
   ]
  },
  {
   "cell_type": "code",
   "execution_count": 167,
   "metadata": {},
   "outputs": [],
   "source": [
    "df1.drop('city',axis=1,inplace=True)"
   ]
  },
  {
   "cell_type": "code",
   "execution_count": 168,
   "metadata": {},
   "outputs": [],
   "source": [
    "df1=df1.dropna()"
   ]
  },
  {
   "cell_type": "code",
   "execution_count": 169,
   "metadata": {},
   "outputs": [
    {
     "data": {
      "text/plain": [
       "(5961, 16)"
      ]
     },
     "execution_count": 169,
     "metadata": {},
     "output_type": "execute_result"
    }
   ],
   "source": [
    "df1.shape"
   ]
  },
  {
   "cell_type": "code",
   "execution_count": 170,
   "metadata": {},
   "outputs": [],
   "source": [
    "le.fit(df1['City'])\n",
    "label_City=dict(zip(range(len(le.classes_)),le.classes_))"
   ]
  },
  {
   "cell_type": "code",
   "execution_count": 171,
   "metadata": {},
   "outputs": [],
   "source": [
    "df1['City']=le.fit_transform(df1['City'])"
   ]
  },
  {
   "cell_type": "code",
   "execution_count": 172,
   "metadata": {},
   "outputs": [
    {
     "data": {
      "text/html": [
       "<div>\n",
       "<style scoped>\n",
       "    .dataframe tbody tr th:only-of-type {\n",
       "        vertical-align: middle;\n",
       "    }\n",
       "\n",
       "    .dataframe tbody tr th {\n",
       "        vertical-align: top;\n",
       "    }\n",
       "\n",
       "    .dataframe thead th {\n",
       "        text-align: right;\n",
       "    }\n",
       "</style>\n",
       "<table border=\"1\" class=\"dataframe\">\n",
       "  <thead>\n",
       "    <tr style=\"text-align: right;\">\n",
       "      <th></th>\n",
       "      <th>Profile</th>\n",
       "      <th>Fees</th>\n",
       "      <th>experience</th>\n",
       "      <th>locality</th>\n",
       "      <th>rating</th>\n",
       "      <th>MBBS</th>\n",
       "      <th>BDS</th>\n",
       "      <th>BAMS</th>\n",
       "      <th>BHMS</th>\n",
       "      <th>MD - Dermatology</th>\n",
       "      <th>MS - ENT</th>\n",
       "      <th>Venereology &amp; Leprosy</th>\n",
       "      <th>MD - General Medicine</th>\n",
       "      <th>Diploma in Otorhinolaryngology (DLO)</th>\n",
       "      <th>MD - Homeopathy</th>\n",
       "      <th>City</th>\n",
       "    </tr>\n",
       "  </thead>\n",
       "  <tbody>\n",
       "    <tr>\n",
       "      <th>0</th>\n",
       "      <td>5</td>\n",
       "      <td>100</td>\n",
       "      <td>24</td>\n",
       "      <td>296</td>\n",
       "      <td>100</td>\n",
       "      <td>0</td>\n",
       "      <td>0</td>\n",
       "      <td>0</td>\n",
       "      <td>1</td>\n",
       "      <td>0</td>\n",
       "      <td>0</td>\n",
       "      <td>0</td>\n",
       "      <td>0</td>\n",
       "      <td>0</td>\n",
       "      <td>1</td>\n",
       "      <td>4</td>\n",
       "    </tr>\n",
       "    <tr>\n",
       "      <th>1</th>\n",
       "      <td>0</td>\n",
       "      <td>350</td>\n",
       "      <td>12</td>\n",
       "      <td>856</td>\n",
       "      <td>98</td>\n",
       "      <td>0</td>\n",
       "      <td>0</td>\n",
       "      <td>1</td>\n",
       "      <td>0</td>\n",
       "      <td>0</td>\n",
       "      <td>0</td>\n",
       "      <td>0</td>\n",
       "      <td>0</td>\n",
       "      <td>0</td>\n",
       "      <td>0</td>\n",
       "      <td>0</td>\n",
       "    </tr>\n",
       "    <tr>\n",
       "      <th>2</th>\n",
       "      <td>3</td>\n",
       "      <td>300</td>\n",
       "      <td>9</td>\n",
       "      <td>452</td>\n",
       "      <td>97</td>\n",
       "      <td>1</td>\n",
       "      <td>0</td>\n",
       "      <td>0</td>\n",
       "      <td>0</td>\n",
       "      <td>0</td>\n",
       "      <td>0</td>\n",
       "      <td>0</td>\n",
       "      <td>0</td>\n",
       "      <td>0</td>\n",
       "      <td>0</td>\n",
       "      <td>0</td>\n",
       "    </tr>\n",
       "    <tr>\n",
       "      <th>3</th>\n",
       "      <td>0</td>\n",
       "      <td>250</td>\n",
       "      <td>12</td>\n",
       "      <td>68</td>\n",
       "      <td>97</td>\n",
       "      <td>0</td>\n",
       "      <td>0</td>\n",
       "      <td>1</td>\n",
       "      <td>0</td>\n",
       "      <td>0</td>\n",
       "      <td>0</td>\n",
       "      <td>0</td>\n",
       "      <td>0</td>\n",
       "      <td>0</td>\n",
       "      <td>0</td>\n",
       "      <td>0</td>\n",
       "    </tr>\n",
       "    <tr>\n",
       "      <th>4</th>\n",
       "      <td>0</td>\n",
       "      <td>250</td>\n",
       "      <td>20</td>\n",
       "      <td>335</td>\n",
       "      <td>100</td>\n",
       "      <td>0</td>\n",
       "      <td>0</td>\n",
       "      <td>1</td>\n",
       "      <td>0</td>\n",
       "      <td>0</td>\n",
       "      <td>0</td>\n",
       "      <td>0</td>\n",
       "      <td>0</td>\n",
       "      <td>0</td>\n",
       "      <td>0</td>\n",
       "      <td>1</td>\n",
       "    </tr>\n",
       "  </tbody>\n",
       "</table>\n",
       "</div>"
      ],
      "text/plain": [
       "   Profile  Fees experience  locality rating  MBBS  BDS  BAMS  BHMS  \\\n",
       "0        5   100         24       296    100     0    0     0     1   \n",
       "1        0   350         12       856     98     0    0     1     0   \n",
       "2        3   300          9       452     97     1    0     0     0   \n",
       "3        0   250         12        68     97     0    0     1     0   \n",
       "4        0   250         20       335    100     0    0     1     0   \n",
       "\n",
       "   MD - Dermatology  MS - ENT  Venereology & Leprosy  MD - General Medicine  \\\n",
       "0                 0         0                      0                      0   \n",
       "1                 0         0                      0                      0   \n",
       "2                 0         0                      0                      0   \n",
       "3                 0         0                      0                      0   \n",
       "4                 0         0                      0                      0   \n",
       "\n",
       "   Diploma in Otorhinolaryngology (DLO)  MD - Homeopathy  City  \n",
       "0                                     0                1     4  \n",
       "1                                     0                0     0  \n",
       "2                                     0                0     0  \n",
       "3                                     0                0     0  \n",
       "4                                     0                0     1  "
      ]
     },
     "execution_count": 172,
     "metadata": {},
     "output_type": "execute_result"
    }
   ],
   "source": [
    "df1.head()"
   ]
  },
  {
   "cell_type": "code",
   "execution_count": 173,
   "metadata": {},
   "outputs": [
    {
     "data": {
      "text/plain": [
       "Profile                                 0\n",
       "Fees                                    0\n",
       "experience                              0\n",
       "locality                                0\n",
       "rating                                  0\n",
       "MBBS                                    0\n",
       "BDS                                     0\n",
       "BAMS                                    0\n",
       "BHMS                                    0\n",
       "MD - Dermatology                        0\n",
       "MS - ENT                                0\n",
       "Venereology & Leprosy                   0\n",
       "MD - General Medicine                   0\n",
       "Diploma in Otorhinolaryngology (DLO)    0\n",
       "MD - Homeopathy                         0\n",
       "City                                    0\n",
       "dtype: int64"
      ]
     },
     "execution_count": 173,
     "metadata": {},
     "output_type": "execute_result"
    }
   ],
   "source": [
    "df1.isnull().sum()"
   ]
  },
  {
   "cell_type": "markdown",
   "metadata": {},
   "source": [
    "# EDA"
   ]
  },
  {
   "cell_type": "markdown",
   "metadata": {},
   "source": [
    "**Column 1: Profile**"
   ]
  },
  {
   "cell_type": "code",
   "execution_count": 175,
   "metadata": {},
   "outputs": [
    {
     "data": {
      "text/plain": [
       "<AxesSubplot:>"
      ]
     },
     "execution_count": 175,
     "metadata": {},
     "output_type": "execute_result"
    },
    {
     "data": {
      "image/png": "[encoded data removed]",
      "text/plain": [
       "<Figure size 432x288 with 1 Axes>"
      ]
     },
     "metadata": {
      "needs_background": "light"
     },
     "output_type": "display_data"
    }
   ],
   "source": [
    "df1['Profile'].hist(grid=True)"
   ]
  },
  {
   "cell_type": "code",
   "execution_count": 182,
   "metadata": {},
   "outputs": [],
   "source": [
    "labels1=[]\n",
    "for i in range(0,6):\n",
    "    labels1.append(label_Profile[i])"
   ]
  },
  {
   "cell_type": "code",
   "execution_count": 181,
   "metadata": {},
   "outputs": [
    {
     "data": {
      "text/plain": [
       "1    1397\n",
       "4    1173\n",
       "2    1034\n",
       "5     843\n",
       "0     786\n",
       "3     728\n",
       "Name: Profile, dtype: int64"
      ]
     },
     "execution_count": 181,
     "metadata": {},
     "output_type": "execute_result"
    }
   ],
   "source": [
    "df1['Profile'].value_counts()"
   ]
  },
  {
   "cell_type": "code",
   "execution_count": 183,
   "metadata": {},
   "outputs": [
    {
     "data": {
      "image/png": "[encoded data removed]",
      "text/plain": [
       "<Figure size 432x288 with 1 Axes>"
      ]
     },
     "metadata": {},
     "output_type": "display_data"
    }
   ],
   "source": [
    "fig=plt.figure()\n",
    "ax=fig.add_axes([0,0,1,1])\n",
    "langs=labels1\n",
    "value=[786,1397,1034,728,1173,843]\n",
    "ax.pie(value,labels=langs,radius=2,autopct=lambda p:'{:.2f}%({:.0f})'.format(p,(p/100)*sum(value)))\n",
    "plt.title('Comaprison of different Profile')\n",
    "plt.show()"
   ]
  },
  {
   "cell_type": "markdown",
   "metadata": {},
   "source": [
    "Observations:\n",
    "    \n",
    "    1.We can see that 23.44% are dentist,followed by general medicine of 19.68%."
   ]
  },
  {
   "cell_type": "code",
   "execution_count": 184,
   "metadata": {},
   "outputs": [
    {
     "data": {
      "text/plain": [
       "<AxesSubplot:xlabel='Fees', ylabel='Density'>"
      ]
     },
     "execution_count": 184,
     "metadata": {},
     "output_type": "execute_result"
    },
    {
     "data": {
      "image/png": "[encoded data removed]",
      "text/plain": [
       "<Figure size 432x288 with 1 Axes>"
      ]
     },
     "metadata": {
      "needs_background": "light"
     },
     "output_type": "display_data"
    }
   ],
   "source": [
    "sns.distplot(df1['Fees'])"
   ]
  },
  {
   "cell_type": "markdown",
   "metadata": {},
   "source": [
    "Observations:\n",
    "    \n",
    "    1.We can see that most of the fees belongs to the category 0 to 150."
   ]
  },
  {
   "cell_type": "code",
   "execution_count": 189,
   "metadata": {},
   "outputs": [
    {
     "data": {
      "text/plain": [
       "<AxesSubplot:xlabel='experience', ylabel='Density'>"
      ]
     },
     "execution_count": 189,
     "metadata": {},
     "output_type": "execute_result"
    },
    {
     "data": {
      "image/png": "[encoded data removed]",
      "text/plain": [
       "<Figure size 432x288 with 1 Axes>"
      ]
     },
     "metadata": {
      "needs_background": "light"
     },
     "output_type": "display_data"
    }
   ],
   "source": [
    "sns.distplot(df1['experience'])"
   ]
  },
  {
   "cell_type": "code",
   "execution_count": 194,
   "metadata": {},
   "outputs": [
    {
     "data": {
      "image/png": "[encoded data removed]",
      "text/plain": [
       "<Figure size 1584x504 with 1 Axes>"
      ]
     },
     "metadata": {
      "needs_background": "light"
     },
     "output_type": "display_data"
    }
   ],
   "source": [
    "plt.figure(figsize=(22,7))\n",
    "sns.countplot(df1['experience'])\n",
    "plt.show()"
   ]
  },
  {
   "cell_type": "code",
   "execution_count": 198,
   "metadata": {},
   "outputs": [
    {
     "data": {
      "image/png": "[encoded data removed]",
      "text/plain": [
       "<Figure size 1584x504 with 1 Axes>"
      ]
     },
     "metadata": {
      "needs_background": "light"
     },
     "output_type": "display_data"
    }
   ],
   "source": [
    "s = df1['experience'].value_counts()\n",
    "plt.figure(figsize=(22,7))\n",
    "ax=s.plot.bar(width=.8)\n",
    "for i, v in s.reset_index().iterrows():\n",
    "    ax.text(i, v.experience + 0.2 , v.experience, color='red')\n",
    "plt.show()"
   ]
  },
  {
   "cell_type": "markdown",
   "metadata": {},
   "source": [
    "Observations:\n",
    "    \n",
    "    1.We can see that the doctors who have got 9 years of experience are in most numbers followed by 10 years,11years and 8 years."
   ]
  },
  {
   "cell_type": "code",
   "execution_count": 200,
   "metadata": {},
   "outputs": [
    {
     "data": {
      "text/plain": [
       "<AxesSubplot:xlabel='locality', ylabel='Density'>"
      ]
     },
     "execution_count": 200,
     "metadata": {},
     "output_type": "execute_result"
    },
    {
     "data": {
      "image/png": "[encoded data removed]",
      "text/plain": [
       "<Figure size 432x288 with 1 Axes>"
      ]
     },
     "metadata": {
      "needs_background": "light"
     },
     "output_type": "display_data"
    }
   ],
   "source": [
    "sns.distplot(df1['locality'])"
   ]
  },
  {
   "cell_type": "markdown",
   "metadata": {},
   "source": [
    "Observations:\n",
    "    \n",
    "    1.We ca see that almost all localities equally distributed in the data."
   ]
  },
  {
   "cell_type": "code",
   "execution_count": 201,
   "metadata": {},
   "outputs": [
    {
     "data": {
      "text/plain": [
       "<AxesSubplot:xlabel='rating', ylabel='Density'>"
      ]
     },
     "execution_count": 201,
     "metadata": {},
     "output_type": "execute_result"
    },
    {
     "data": {
      "image/png": "[encoded data removed]",
      "text/plain": [
       "<Figure size 432x288 with 1 Axes>"
      ]
     },
     "metadata": {
      "needs_background": "light"
     },
     "output_type": "display_data"
    }
   ],
   "source": [
    "sns.distplot(df1['rating'])"
   ]
  },
  {
   "cell_type": "markdown",
   "metadata": {},
   "source": [
    "Observations:\n",
    "    \n",
    "    1.Most of the ratings are from 85 to 100."
   ]
  },
  {
   "cell_type": "code",
   "execution_count": 203,
   "metadata": {},
   "outputs": [
    {
     "data": {
      "text/plain": [
       "0    3156\n",
       "1    2805\n",
       "Name: MBBS, dtype: int64"
      ]
     },
     "execution_count": 203,
     "metadata": {},
     "output_type": "execute_result"
    }
   ],
   "source": [
    "df1['MBBS'].value_counts()"
   ]
  },
  {
   "cell_type": "code",
   "execution_count": 209,
   "metadata": {},
   "outputs": [
    {
     "data": {
      "image/png": "[encoded data removed]",
      "text/plain": [
       "<Figure size 432x288 with 1 Axes>"
      ]
     },
     "metadata": {},
     "output_type": "display_data"
    }
   ],
   "source": [
    "fig=plt.figure()\n",
    "ax=fig.add_axes([0,0,1,1])\n",
    "langs=['Did MBBS','MBBS not done']\n",
    "value=[2805,3156]\n",
    "ax.pie(value,labels=langs,radius=1,autopct=lambda p:'{:.2f}%({:.0f})'.format(p,(p/100)*sum(value)))\n",
    "plt.title('Comaprison doctors who completed MBBS and Not')\n",
    "plt.show()"
   ]
  },
  {
   "cell_type": "markdown",
   "metadata": {},
   "source": [
    "Observations:\n",
    "    \n",
    "    1.47.06% of the doctors have did MBBS"
   ]
  },
  {
   "cell_type": "code",
   "execution_count": 210,
   "metadata": {},
   "outputs": [
    {
     "data": {
      "text/plain": [
       "0    4599\n",
       "1    1362\n",
       "Name: BDS, dtype: int64"
      ]
     },
     "execution_count": 210,
     "metadata": {},
     "output_type": "execute_result"
    }
   ],
   "source": [
    "df1['BDS'].value_counts()"
   ]
  },
  {
   "cell_type": "code",
   "execution_count": 211,
   "metadata": {},
   "outputs": [
    {
     "data": {
      "image/png": "[encoded data removed]",
      "text/plain": [
       "<Figure size 432x288 with 1 Axes>"
      ]
     },
     "metadata": {},
     "output_type": "display_data"
    }
   ],
   "source": [
    "fig=plt.figure()\n",
    "ax=fig.add_axes([0,0,1,1])\n",
    "langs=['Did BDS','BDS not done']\n",
    "value=[1362,4599]\n",
    "ax.pie(value,labels=langs,radius=1,autopct=lambda p:'{:.2f}%({:.0f})'.format(p,(p/100)*sum(value)))\n",
    "plt.title('Comaprison doctors who completed BDS and Not')\n",
    "plt.show()"
   ]
  },
  {
   "cell_type": "markdown",
   "metadata": {},
   "source": [
    "Observations:\n",
    "    \n",
    "    1.22.85% of the doctors did BDS."
   ]
  },
  {
   "cell_type": "code",
   "execution_count": 212,
   "metadata": {},
   "outputs": [
    {
     "data": {
      "text/plain": [
       "0    5199\n",
       "1     762\n",
       "Name: BAMS, dtype: int64"
      ]
     },
     "execution_count": 212,
     "metadata": {},
     "output_type": "execute_result"
    }
   ],
   "source": [
    "df1['BAMS'].value_counts()"
   ]
  },
  {
   "cell_type": "code",
   "execution_count": 213,
   "metadata": {},
   "outputs": [
    {
     "data": {
      "image/png": "[encoded data removed]",
      "text/plain": [
       "<Figure size 432x288 with 1 Axes>"
      ]
     },
     "metadata": {},
     "output_type": "display_data"
    }
   ],
   "source": [
    "fig=plt.figure()\n",
    "ax=fig.add_axes([0,0,1,1])\n",
    "langs=['Did BAMS','BAMS not done']\n",
    "value=[762,5199]\n",
    "ax.pie(value,labels=langs,radius=1,autopct=lambda p:'{:.2f}%({:.0f})'.format(p,(p/100)*sum(value)))\n",
    "plt.title('Comaprison doctors who completed BAMS and Not')\n",
    "plt.show()"
   ]
  },
  {
   "cell_type": "markdown",
   "metadata": {},
   "source": [
    "Observations:\n",
    "    \n",
    "    1.We can see that only 12.78% of the doctors did BAMS."
   ]
  },
  {
   "cell_type": "code",
   "execution_count": 215,
   "metadata": {},
   "outputs": [
    {
     "data": {
      "text/plain": [
       "0    5356\n",
       "1     605\n",
       "Name: MD - Dermatology, dtype: int64"
      ]
     },
     "execution_count": 215,
     "metadata": {},
     "output_type": "execute_result"
    }
   ],
   "source": [
    "df1['MD - Dermatology'].value_counts()"
   ]
  },
  {
   "cell_type": "code",
   "execution_count": 216,
   "metadata": {},
   "outputs": [
    {
     "data": {
      "image/png": "[encoded data removed]",
      "text/plain": [
       "<Figure size 432x288 with 1 Axes>"
      ]
     },
     "metadata": {},
     "output_type": "display_data"
    }
   ],
   "source": [
    "fig=plt.figure()\n",
    "ax=fig.add_axes([0,0,1,1])\n",
    "langs=['Did MD - Dermatology','MD - Dermatology not done']\n",
    "value=[605,5356]\n",
    "ax.pie(value,labels=langs,radius=1,autopct=lambda p:'{:.2f}%({:.0f})'.format(p,(p/100)*sum(value)))\n",
    "plt.title('Comaprison doctors who completed MD - Dermatology and Not')\n",
    "plt.show()"
   ]
  },
  {
   "cell_type": "markdown",
   "metadata": {},
   "source": [
    "Observations:\n",
    "    \n",
    "    1.We can see that 10.15% of those doctors did MD in dermatology"
   ]
  },
  {
   "cell_type": "code",
   "execution_count": 217,
   "metadata": {},
   "outputs": [
    {
     "data": {
      "text/plain": [
       "0    5550\n",
       "1     411\n",
       "Name: MS - ENT, dtype: int64"
      ]
     },
     "execution_count": 217,
     "metadata": {},
     "output_type": "execute_result"
    }
   ],
   "source": [
    "df1['MS - ENT'].value_counts()"
   ]
  },
  {
   "cell_type": "code",
   "execution_count": 218,
   "metadata": {},
   "outputs": [
    {
     "data": {
      "image/png": "[encoded data removed]",
      "text/plain": [
       "<Figure size 432x288 with 1 Axes>"
      ]
     },
     "metadata": {},
     "output_type": "display_data"
    }
   ],
   "source": [
    "fig=plt.figure()\n",
    "ax=fig.add_axes([0,0,1,1])\n",
    "langs=['Did MS - ENT','MS - ENT not done']\n",
    "value=[411,5550]\n",
    "ax.pie(value,labels=langs,radius=1,autopct=lambda p:'{:.2f}%({:.0f})'.format(p,(p/100)*sum(value)))\n",
    "plt.title('Comaprison doctors who completed MS - ENT and Not')\n",
    "plt.show()"
   ]
  },
  {
   "cell_type": "markdown",
   "metadata": {},
   "source": [
    "Observations:\n",
    "    \n",
    "    1.We can see that 6.89% of the doctors have did MS-ENT"
   ]
  },
  {
   "cell_type": "code",
   "execution_count": 219,
   "metadata": {},
   "outputs": [
    {
     "data": {
      "text/plain": [
       "0    5668\n",
       "1     293\n",
       "Name: Venereology & Leprosy, dtype: int64"
      ]
     },
     "execution_count": 219,
     "metadata": {},
     "output_type": "execute_result"
    }
   ],
   "source": [
    "df1['Venereology & Leprosy'].value_counts()"
   ]
  },
  {
   "cell_type": "code",
   "execution_count": 220,
   "metadata": {},
   "outputs": [
    {
     "data": {
      "image/png": "[encoded data removed]",
      "text/plain": [
       "<Figure size 432x288 with 1 Axes>"
      ]
     },
     "metadata": {},
     "output_type": "display_data"
    }
   ],
   "source": [
    "fig=plt.figure()\n",
    "ax=fig.add_axes([0,0,1,1])\n",
    "langs=['Did Venereology & Leprosy','Venereology & Leprosy not done']\n",
    "value=[293,5668]\n",
    "ax.pie(value,labels=langs,radius=1,autopct=lambda p:'{:.2f}%({:.0f})'.format(p,(p/100)*sum(value)))\n",
    "plt.title('Comaprison doctors who completed Venereology & Leprosy and Not')\n",
    "plt.show()"
   ]
  },
  {
   "cell_type": "markdown",
   "metadata": {},
   "source": [
    "Observations:\n",
    "    \n",
    "    1.Only 4.92% of the doctors have did venereology and leprosy."
   ]
  },
  {
   "cell_type": "code",
   "execution_count": 221,
   "metadata": {},
   "outputs": [
    {
     "data": {
      "text/plain": [
       "0    5676\n",
       "1     285\n",
       "Name: MD - General Medicine, dtype: int64"
      ]
     },
     "execution_count": 221,
     "metadata": {},
     "output_type": "execute_result"
    }
   ],
   "source": [
    "df1['MD - General Medicine'].value_counts()"
   ]
  },
  {
   "cell_type": "code",
   "execution_count": 222,
   "metadata": {},
   "outputs": [
    {
     "data": {
      "image/png": "[encoded data removed]",
      "text/plain": [
       "<Figure size 432x288 with 1 Axes>"
      ]
     },
     "metadata": {},
     "output_type": "display_data"
    }
   ],
   "source": [
    "fig=plt.figure()\n",
    "ax=fig.add_axes([0,0,1,1])\n",
    "langs=['Did MD - General Medicine','MD - General Medicine not done']\n",
    "value=[285,5676]\n",
    "ax.pie(value,labels=langs,radius=1,autopct=lambda p:'{:.2f}%({:.0f})'.format(p,(p/100)*sum(value)))\n",
    "plt.title('Comaprison doctors who completed MD - General Medicine and Not')\n",
    "plt.show()"
   ]
  },
  {
   "cell_type": "markdown",
   "metadata": {},
   "source": [
    "Observations:\n",
    "    \n",
    "    1.We can see that 4.78% of the doctors have did MD - General Medicine."
   ]
  },
  {
   "cell_type": "code",
   "execution_count": 223,
   "metadata": {},
   "outputs": [
    {
     "data": {
      "text/plain": [
       "0     1258\n",
       "6     1219\n",
       "3     1184\n",
       "5      951\n",
       "1      855\n",
       "2      228\n",
       "4      153\n",
       "7       86\n",
       "8       25\n",
       "10       1\n",
       "9        1\n",
       "Name: City, dtype: int64"
      ]
     },
     "execution_count": 223,
     "metadata": {},
     "output_type": "execute_result"
    }
   ],
   "source": [
    "df1['City'].value_counts()"
   ]
  },
  {
   "cell_type": "code",
   "execution_count": 224,
   "metadata": {},
   "outputs": [
    {
     "data": {
      "text/plain": [
       "<AxesSubplot:xlabel='City', ylabel='count'>"
      ]
     },
     "execution_count": 224,
     "metadata": {},
     "output_type": "execute_result"
    },
    {
     "data": {
      "image/png": "[encoded data removed]",
      "text/plain": [
       "<Figure size 432x288 with 1 Axes>"
      ]
     },
     "metadata": {
      "needs_background": "light"
     },
     "output_type": "display_data"
    }
   ],
   "source": [
    "sns.countplot(df1['City'])"
   ]
  },
  {
   "cell_type": "code",
   "execution_count": 225,
   "metadata": {},
   "outputs": [
    {
     "data": {
      "text/plain": [
       "' Bangalore'"
      ]
     },
     "execution_count": 225,
     "metadata": {},
     "output_type": "execute_result"
    }
   ],
   "source": [
    "label_City[0]"
   ]
  },
  {
   "cell_type": "code",
   "execution_count": 226,
   "metadata": {},
   "outputs": [
    {
     "data": {
      "text/plain": [
       "' Mumbai'"
      ]
     },
     "execution_count": 226,
     "metadata": {},
     "output_type": "execute_result"
    }
   ],
   "source": [
    "label_City[6]"
   ]
  },
  {
   "cell_type": "markdown",
   "metadata": {},
   "source": [
    "Observations:\n",
    "    \n",
    "    1.It says that most of the data is from bangalore and Mumbai."
   ]
  },
  {
   "cell_type": "markdown",
   "metadata": {},
   "source": [
    "# Multivariate Analysis"
   ]
  },
  {
   "cell_type": "code",
   "execution_count": 227,
   "metadata": {},
   "outputs": [],
   "source": [
    "from heatmap import heatmap,corrplot"
   ]
  },
  {
   "cell_type": "code",
   "execution_count": 230,
   "metadata": {},
   "outputs": [
    {
     "data": {
      "image/png": "[encoded data removed]",
      "text/plain": [
       "<Figure size 1080x648 with 2 Axes>"
      ]
     },
     "metadata": {
      "needs_background": "light"
     },
     "output_type": "display_data"
    }
   ],
   "source": [
    "plt.figure(figsize=(15,9))\n",
    "corrplot(df1.corr(),size_scale=300)\n",
    "plt.show()"
   ]
  },
  {
   "cell_type": "code",
   "execution_count": 231,
   "metadata": {},
   "outputs": [
    {
     "data": {
      "image/png": "[encoded data removed]",
      "text/plain": [
       "<Figure size 1440x1080 with 2 Axes>"
      ]
     },
     "metadata": {
      "needs_background": "light"
     },
     "output_type": "display_data"
    }
   ],
   "source": [
    "plt.figure(figsize=(20,15))\n",
    "sns.heatmap(df1.corr(), annot = True, vmin=-1, vmax=1, center= 0)\n",
    "plt.show()"
   ]
  },
  {
   "cell_type": "markdown",
   "metadata": {},
   "source": [
    "Observations:\n",
    "    \n",
    "    From the above observations we can see that there are independent variables which are significantly correlated with the response variable fees,\n",
    "    1.MBBS\n",
    "    2.BDS\n",
    "    3.BAMS\n",
    "    4.locality"
   ]
  },
  {
   "cell_type": "markdown",
   "metadata": {},
   "source": [
    "# Bi variate analysis"
   ]
  },
  {
   "cell_type": "code",
   "execution_count": 232,
   "metadata": {},
   "outputs": [],
   "source": [
    "mbbs=df1.groupby('MBBS')"
   ]
  },
  {
   "cell_type": "code",
   "execution_count": 233,
   "metadata": {},
   "outputs": [],
   "source": [
    "mbbs_1=mbbs.get_group(1)\n",
    "mbbs_0=mbbs.get_group(0)"
   ]
  },
  {
   "cell_type": "code",
   "execution_count": 234,
   "metadata": {},
   "outputs": [
    {
     "data": {
      "text/html": [
       "<div>\n",
       "<style scoped>\n",
       "    .dataframe tbody tr th:only-of-type {\n",
       "        vertical-align: middle;\n",
       "    }\n",
       "\n",
       "    .dataframe tbody tr th {\n",
       "        vertical-align: top;\n",
       "    }\n",
       "\n",
       "    .dataframe thead th {\n",
       "        text-align: right;\n",
       "    }\n",
       "</style>\n",
       "<table border=\"1\" class=\"dataframe\">\n",
       "  <thead>\n",
       "    <tr style=\"text-align: right;\">\n",
       "      <th></th>\n",
       "      <th>Profile</th>\n",
       "      <th>Fees</th>\n",
       "      <th>locality</th>\n",
       "      <th>MBBS</th>\n",
       "      <th>BDS</th>\n",
       "      <th>BAMS</th>\n",
       "      <th>BHMS</th>\n",
       "      <th>MD - Dermatology</th>\n",
       "      <th>MS - ENT</th>\n",
       "      <th>Venereology &amp; Leprosy</th>\n",
       "      <th>MD - General Medicine</th>\n",
       "      <th>Diploma in Otorhinolaryngology (DLO)</th>\n",
       "      <th>MD - Homeopathy</th>\n",
       "      <th>City</th>\n",
       "    </tr>\n",
       "  </thead>\n",
       "  <tbody>\n",
       "    <tr>\n",
       "      <th>count</th>\n",
       "      <td>2805.000000</td>\n",
       "      <td>2805.000000</td>\n",
       "      <td>2805.00000</td>\n",
       "      <td>2805.0</td>\n",
       "      <td>2805.000000</td>\n",
       "      <td>2805.000000</td>\n",
       "      <td>2805.000000</td>\n",
       "      <td>2805.000000</td>\n",
       "      <td>2805.00000</td>\n",
       "      <td>2805.000000</td>\n",
       "      <td>2805.000000</td>\n",
       "      <td>2805.000000</td>\n",
       "      <td>2805.000000</td>\n",
       "      <td>2805.000000</td>\n",
       "    </tr>\n",
       "    <tr>\n",
       "      <th>mean</th>\n",
       "      <td>3.066667</td>\n",
       "      <td>362.828877</td>\n",
       "      <td>416.75615</td>\n",
       "      <td>1.0</td>\n",
       "      <td>0.000357</td>\n",
       "      <td>0.000713</td>\n",
       "      <td>0.000713</td>\n",
       "      <td>0.202139</td>\n",
       "      <td>0.13975</td>\n",
       "      <td>0.098039</td>\n",
       "      <td>0.097683</td>\n",
       "      <td>0.085561</td>\n",
       "      <td>0.000357</td>\n",
       "      <td>2.925134</td>\n",
       "    </tr>\n",
       "    <tr>\n",
       "      <th>std</th>\n",
       "      <td>0.875351</td>\n",
       "      <td>204.303100</td>\n",
       "      <td>258.39131</td>\n",
       "      <td>0.0</td>\n",
       "      <td>0.018881</td>\n",
       "      <td>0.026698</td>\n",
       "      <td>0.026698</td>\n",
       "      <td>0.401667</td>\n",
       "      <td>0.34679</td>\n",
       "      <td>0.297421</td>\n",
       "      <td>0.296938</td>\n",
       "      <td>0.279765</td>\n",
       "      <td>0.018881</td>\n",
       "      <td>2.261465</td>\n",
       "    </tr>\n",
       "    <tr>\n",
       "      <th>min</th>\n",
       "      <td>0.000000</td>\n",
       "      <td>20.000000</td>\n",
       "      <td>1.00000</td>\n",
       "      <td>1.0</td>\n",
       "      <td>0.000000</td>\n",
       "      <td>0.000000</td>\n",
       "      <td>0.000000</td>\n",
       "      <td>0.000000</td>\n",
       "      <td>0.00000</td>\n",
       "      <td>0.000000</td>\n",
       "      <td>0.000000</td>\n",
       "      <td>0.000000</td>\n",
       "      <td>0.000000</td>\n",
       "      <td>0.000000</td>\n",
       "    </tr>\n",
       "    <tr>\n",
       "      <th>25%</th>\n",
       "      <td>2.000000</td>\n",
       "      <td>200.000000</td>\n",
       "      <td>195.00000</td>\n",
       "      <td>1.0</td>\n",
       "      <td>0.000000</td>\n",
       "      <td>0.000000</td>\n",
       "      <td>0.000000</td>\n",
       "      <td>0.000000</td>\n",
       "      <td>0.00000</td>\n",
       "      <td>0.000000</td>\n",
       "      <td>0.000000</td>\n",
       "      <td>0.000000</td>\n",
       "      <td>0.000000</td>\n",
       "      <td>1.000000</td>\n",
       "    </tr>\n",
       "    <tr>\n",
       "      <th>50%</th>\n",
       "      <td>3.000000</td>\n",
       "      <td>350.000000</td>\n",
       "      <td>416.00000</td>\n",
       "      <td>1.0</td>\n",
       "      <td>0.000000</td>\n",
       "      <td>0.000000</td>\n",
       "      <td>0.000000</td>\n",
       "      <td>0.000000</td>\n",
       "      <td>0.00000</td>\n",
       "      <td>0.000000</td>\n",
       "      <td>0.000000</td>\n",
       "      <td>0.000000</td>\n",
       "      <td>0.000000</td>\n",
       "      <td>3.000000</td>\n",
       "    </tr>\n",
       "    <tr>\n",
       "      <th>75%</th>\n",
       "      <td>4.000000</td>\n",
       "      <td>500.000000</td>\n",
       "      <td>628.00000</td>\n",
       "      <td>1.0</td>\n",
       "      <td>0.000000</td>\n",
       "      <td>0.000000</td>\n",
       "      <td>0.000000</td>\n",
       "      <td>0.000000</td>\n",
       "      <td>0.00000</td>\n",
       "      <td>0.000000</td>\n",
       "      <td>0.000000</td>\n",
       "      <td>0.000000</td>\n",
       "      <td>0.000000</td>\n",
       "      <td>5.000000</td>\n",
       "    </tr>\n",
       "    <tr>\n",
       "      <th>max</th>\n",
       "      <td>5.000000</td>\n",
       "      <td>950.000000</td>\n",
       "      <td>865.00000</td>\n",
       "      <td>1.0</td>\n",
       "      <td>1.000000</td>\n",
       "      <td>1.000000</td>\n",
       "      <td>1.000000</td>\n",
       "      <td>1.000000</td>\n",
       "      <td>1.00000</td>\n",
       "      <td>1.000000</td>\n",
       "      <td>1.000000</td>\n",
       "      <td>1.000000</td>\n",
       "      <td>1.000000</td>\n",
       "      <td>8.000000</td>\n",
       "    </tr>\n",
       "  </tbody>\n",
       "</table>\n",
       "</div>"
      ],
      "text/plain": [
       "           Profile         Fees    locality    MBBS          BDS         BAMS  \\\n",
       "count  2805.000000  2805.000000  2805.00000  2805.0  2805.000000  2805.000000   \n",
       "mean      3.066667   362.828877   416.75615     1.0     0.000357     0.000713   \n",
       "std       0.875351   204.303100   258.39131     0.0     0.018881     0.026698   \n",
       "min       0.000000    20.000000     1.00000     1.0     0.000000     0.000000   \n",
       "25%       2.000000   200.000000   195.00000     1.0     0.000000     0.000000   \n",
       "50%       3.000000   350.000000   416.00000     1.0     0.000000     0.000000   \n",
       "75%       4.000000   500.000000   628.00000     1.0     0.000000     0.000000   \n",
       "max       5.000000   950.000000   865.00000     1.0     1.000000     1.000000   \n",
       "\n",
       "              BHMS  MD - Dermatology    MS - ENT  Venereology & Leprosy  \\\n",
       "count  2805.000000       2805.000000  2805.00000            2805.000000   \n",
       "mean      0.000713          0.202139     0.13975               0.098039   \n",
       "std       0.026698          0.401667     0.34679               0.297421   \n",
       "min       0.000000          0.000000     0.00000               0.000000   \n",
       "25%       0.000000          0.000000     0.00000               0.000000   \n",
       "50%       0.000000          0.000000     0.00000               0.000000   \n",
       "75%       0.000000          0.000000     0.00000               0.000000   \n",
       "max       1.000000          1.000000     1.00000               1.000000   \n",
       "\n",
       "       MD - General Medicine  Diploma in Otorhinolaryngology (DLO)  \\\n",
       "count            2805.000000                           2805.000000   \n",
       "mean                0.097683                              0.085561   \n",
       "std                 0.296938                              0.279765   \n",
       "min                 0.000000                              0.000000   \n",
       "25%                 0.000000                              0.000000   \n",
       "50%                 0.000000                              0.000000   \n",
       "75%                 0.000000                              0.000000   \n",
       "max                 1.000000                              1.000000   \n",
       "\n",
       "       MD - Homeopathy         City  \n",
       "count      2805.000000  2805.000000  \n",
       "mean          0.000357     2.925134  \n",
       "std           0.018881     2.261465  \n",
       "min           0.000000     0.000000  \n",
       "25%           0.000000     1.000000  \n",
       "50%           0.000000     3.000000  \n",
       "75%           0.000000     5.000000  \n",
       "max           1.000000     8.000000  "
      ]
     },
     "execution_count": 234,
     "metadata": {},
     "output_type": "execute_result"
    }
   ],
   "source": [
    "mbbs_1.describe()"
   ]
  },
  {
   "cell_type": "code",
   "execution_count": 235,
   "metadata": {},
   "outputs": [
    {
     "data": {
      "text/html": [
       "<div>\n",
       "<style scoped>\n",
       "    .dataframe tbody tr th:only-of-type {\n",
       "        vertical-align: middle;\n",
       "    }\n",
       "\n",
       "    .dataframe tbody tr th {\n",
       "        vertical-align: top;\n",
       "    }\n",
       "\n",
       "    .dataframe thead th {\n",
       "        text-align: right;\n",
       "    }\n",
       "</style>\n",
       "<table border=\"1\" class=\"dataframe\">\n",
       "  <thead>\n",
       "    <tr style=\"text-align: right;\">\n",
       "      <th></th>\n",
       "      <th>Profile</th>\n",
       "      <th>Fees</th>\n",
       "      <th>locality</th>\n",
       "      <th>MBBS</th>\n",
       "      <th>BDS</th>\n",
       "      <th>BAMS</th>\n",
       "      <th>BHMS</th>\n",
       "      <th>MD - Dermatology</th>\n",
       "      <th>MS - ENT</th>\n",
       "      <th>Venereology &amp; Leprosy</th>\n",
       "      <th>MD - General Medicine</th>\n",
       "      <th>Diploma in Otorhinolaryngology (DLO)</th>\n",
       "      <th>MD - Homeopathy</th>\n",
       "      <th>City</th>\n",
       "    </tr>\n",
       "  </thead>\n",
       "  <tbody>\n",
       "    <tr>\n",
       "      <th>count</th>\n",
       "      <td>3156.000000</td>\n",
       "      <td>3156.000000</td>\n",
       "      <td>3156.000000</td>\n",
       "      <td>3156.0</td>\n",
       "      <td>3156.000000</td>\n",
       "      <td>3156.000000</td>\n",
       "      <td>3156.000000</td>\n",
       "      <td>3156.000000</td>\n",
       "      <td>3156.000000</td>\n",
       "      <td>3156.000000</td>\n",
       "      <td>3156.000000</td>\n",
       "      <td>3156.000000</td>\n",
       "      <td>3156.000000</td>\n",
       "      <td>3156.000000</td>\n",
       "    </tr>\n",
       "    <tr>\n",
       "      <th>mean</th>\n",
       "      <td>1.886565</td>\n",
       "      <td>259.164449</td>\n",
       "      <td>408.887516</td>\n",
       "      <td>0.0</td>\n",
       "      <td>0.431242</td>\n",
       "      <td>0.240811</td>\n",
       "      <td>0.236375</td>\n",
       "      <td>0.012041</td>\n",
       "      <td>0.006020</td>\n",
       "      <td>0.005703</td>\n",
       "      <td>0.003485</td>\n",
       "      <td>0.002852</td>\n",
       "      <td>0.057034</td>\n",
       "      <td>3.219265</td>\n",
       "    </tr>\n",
       "    <tr>\n",
       "      <th>std</th>\n",
       "      <td>1.963808</td>\n",
       "      <td>163.410622</td>\n",
       "      <td>254.294750</td>\n",
       "      <td>0.0</td>\n",
       "      <td>0.495328</td>\n",
       "      <td>0.427644</td>\n",
       "      <td>0.424923</td>\n",
       "      <td>0.109084</td>\n",
       "      <td>0.077369</td>\n",
       "      <td>0.075317</td>\n",
       "      <td>0.058944</td>\n",
       "      <td>0.053334</td>\n",
       "      <td>0.231945</td>\n",
       "      <td>2.353557</td>\n",
       "    </tr>\n",
       "    <tr>\n",
       "      <th>min</th>\n",
       "      <td>0.000000</td>\n",
       "      <td>5.000000</td>\n",
       "      <td>0.000000</td>\n",
       "      <td>0.0</td>\n",
       "      <td>0.000000</td>\n",
       "      <td>0.000000</td>\n",
       "      <td>0.000000</td>\n",
       "      <td>0.000000</td>\n",
       "      <td>0.000000</td>\n",
       "      <td>0.000000</td>\n",
       "      <td>0.000000</td>\n",
       "      <td>0.000000</td>\n",
       "      <td>0.000000</td>\n",
       "      <td>0.000000</td>\n",
       "    </tr>\n",
       "    <tr>\n",
       "      <th>25%</th>\n",
       "      <td>1.000000</td>\n",
       "      <td>100.000000</td>\n",
       "      <td>194.500000</td>\n",
       "      <td>0.0</td>\n",
       "      <td>0.000000</td>\n",
       "      <td>0.000000</td>\n",
       "      <td>0.000000</td>\n",
       "      <td>0.000000</td>\n",
       "      <td>0.000000</td>\n",
       "      <td>0.000000</td>\n",
       "      <td>0.000000</td>\n",
       "      <td>0.000000</td>\n",
       "      <td>0.000000</td>\n",
       "      <td>1.000000</td>\n",
       "    </tr>\n",
       "    <tr>\n",
       "      <th>50%</th>\n",
       "      <td>1.000000</td>\n",
       "      <td>200.000000</td>\n",
       "      <td>398.500000</td>\n",
       "      <td>0.0</td>\n",
       "      <td>0.000000</td>\n",
       "      <td>0.000000</td>\n",
       "      <td>0.000000</td>\n",
       "      <td>0.000000</td>\n",
       "      <td>0.000000</td>\n",
       "      <td>0.000000</td>\n",
       "      <td>0.000000</td>\n",
       "      <td>0.000000</td>\n",
       "      <td>0.000000</td>\n",
       "      <td>3.000000</td>\n",
       "    </tr>\n",
       "    <tr>\n",
       "      <th>75%</th>\n",
       "      <td>5.000000</td>\n",
       "      <td>300.000000</td>\n",
       "      <td>621.000000</td>\n",
       "      <td>0.0</td>\n",
       "      <td>1.000000</td>\n",
       "      <td>0.000000</td>\n",
       "      <td>0.000000</td>\n",
       "      <td>0.000000</td>\n",
       "      <td>0.000000</td>\n",
       "      <td>0.000000</td>\n",
       "      <td>0.000000</td>\n",
       "      <td>0.000000</td>\n",
       "      <td>0.000000</td>\n",
       "      <td>6.000000</td>\n",
       "    </tr>\n",
       "    <tr>\n",
       "      <th>max</th>\n",
       "      <td>5.000000</td>\n",
       "      <td>920.000000</td>\n",
       "      <td>866.000000</td>\n",
       "      <td>0.0</td>\n",
       "      <td>1.000000</td>\n",
       "      <td>1.000000</td>\n",
       "      <td>1.000000</td>\n",
       "      <td>1.000000</td>\n",
       "      <td>1.000000</td>\n",
       "      <td>1.000000</td>\n",
       "      <td>1.000000</td>\n",
       "      <td>1.000000</td>\n",
       "      <td>1.000000</td>\n",
       "      <td>10.000000</td>\n",
       "    </tr>\n",
       "  </tbody>\n",
       "</table>\n",
       "</div>"
      ],
      "text/plain": [
       "           Profile         Fees     locality    MBBS          BDS  \\\n",
       "count  3156.000000  3156.000000  3156.000000  3156.0  3156.000000   \n",
       "mean      1.886565   259.164449   408.887516     0.0     0.431242   \n",
       "std       1.963808   163.410622   254.294750     0.0     0.495328   \n",
       "min       0.000000     5.000000     0.000000     0.0     0.000000   \n",
       "25%       1.000000   100.000000   194.500000     0.0     0.000000   \n",
       "50%       1.000000   200.000000   398.500000     0.0     0.000000   \n",
       "75%       5.000000   300.000000   621.000000     0.0     1.000000   \n",
       "max       5.000000   920.000000   866.000000     0.0     1.000000   \n",
       "\n",
       "              BAMS         BHMS  MD - Dermatology     MS - ENT  \\\n",
       "count  3156.000000  3156.000000       3156.000000  3156.000000   \n",
       "mean      0.240811     0.236375          0.012041     0.006020   \n",
       "std       0.427644     0.424923          0.109084     0.077369   \n",
       "min       0.000000     0.000000          0.000000     0.000000   \n",
       "25%       0.000000     0.000000          0.000000     0.000000   \n",
       "50%       0.000000     0.000000          0.000000     0.000000   \n",
       "75%       0.000000     0.000000          0.000000     0.000000   \n",
       "max       1.000000     1.000000          1.000000     1.000000   \n",
       "\n",
       "       Venereology & Leprosy  MD - General Medicine  \\\n",
       "count            3156.000000            3156.000000   \n",
       "mean                0.005703               0.003485   \n",
       "std                 0.075317               0.058944   \n",
       "min                 0.000000               0.000000   \n",
       "25%                 0.000000               0.000000   \n",
       "50%                 0.000000               0.000000   \n",
       "75%                 0.000000               0.000000   \n",
       "max                 1.000000               1.000000   \n",
       "\n",
       "       Diploma in Otorhinolaryngology (DLO)  MD - Homeopathy         City  \n",
       "count                           3156.000000      3156.000000  3156.000000  \n",
       "mean                               0.002852         0.057034     3.219265  \n",
       "std                                0.053334         0.231945     2.353557  \n",
       "min                                0.000000         0.000000     0.000000  \n",
       "25%                                0.000000         0.000000     1.000000  \n",
       "50%                                0.000000         0.000000     3.000000  \n",
       "75%                                0.000000         0.000000     6.000000  \n",
       "max                                1.000000         1.000000    10.000000  "
      ]
     },
     "execution_count": 235,
     "metadata": {},
     "output_type": "execute_result"
    }
   ],
   "source": [
    "mbbs_0.describe()"
   ]
  },
  {
   "cell_type": "code",
   "execution_count": 240,
   "metadata": {},
   "outputs": [
    {
     "name": "stderr",
     "output_type": "stream",
     "text": [
      "No handles with labels found to put in legend.\n"
     ]
    },
    {
     "data": {
      "image/png": "[encoded data removed]",
      "text/plain": [
       "<Figure size 792x504 with 1 Axes>"
      ]
     },
     "metadata": {
      "needs_background": "light"
     },
     "output_type": "display_data"
    }
   ],
   "source": [
    "\n",
    "X =['MBBS','Not MBBS']\n",
    "yp = [363,259]\n",
    "plt.figure(figsize=(11,7))  \n",
    "X_axis = np.arange(len(X))\n",
    "  \n",
    "plt.bar(X_axis - 0.2, yp, 0.4,)\n",
    "  \n",
    "plt.xticks(X_axis, X)\n",
    "plt.xlabel(\"Major parameter\")\n",
    "plt.ylabel(\"mean fees values\")\n",
    "plt.title(\"comparision of mean fees for MBBS and non MBBS doctors\")\n",
    "plt.legend()\n",
    "plt.show()"
   ]
  },
  {
   "cell_type": "markdown",
   "metadata": {},
   "source": [
    "Observations:\n",
    "    \n",
    "    1.We can see that MBBS doctors get much higher fees compared to non MBBS doctors."
   ]
  },
  {
   "cell_type": "code",
   "execution_count": 241,
   "metadata": {},
   "outputs": [],
   "source": [
    "bds=df1.groupby('BDS')\n",
    "bds_1=bds.get_group(1)\n",
    "bds_0=bds.get_group(0)"
   ]
  },
  {
   "cell_type": "code",
   "execution_count": 242,
   "metadata": {},
   "outputs": [
    {
     "data": {
      "text/html": [
       "<div>\n",
       "<style scoped>\n",
       "    .dataframe tbody tr th:only-of-type {\n",
       "        vertical-align: middle;\n",
       "    }\n",
       "\n",
       "    .dataframe tbody tr th {\n",
       "        vertical-align: top;\n",
       "    }\n",
       "\n",
       "    .dataframe thead th {\n",
       "        text-align: right;\n",
       "    }\n",
       "</style>\n",
       "<table border=\"1\" class=\"dataframe\">\n",
       "  <thead>\n",
       "    <tr style=\"text-align: right;\">\n",
       "      <th></th>\n",
       "      <th>Profile</th>\n",
       "      <th>Fees</th>\n",
       "      <th>locality</th>\n",
       "      <th>MBBS</th>\n",
       "      <th>BDS</th>\n",
       "      <th>BAMS</th>\n",
       "      <th>BHMS</th>\n",
       "      <th>MD - Dermatology</th>\n",
       "      <th>MS - ENT</th>\n",
       "      <th>Venereology &amp; Leprosy</th>\n",
       "      <th>MD - General Medicine</th>\n",
       "      <th>Diploma in Otorhinolaryngology (DLO)</th>\n",
       "      <th>MD - Homeopathy</th>\n",
       "      <th>City</th>\n",
       "    </tr>\n",
       "  </thead>\n",
       "  <tbody>\n",
       "    <tr>\n",
       "      <th>count</th>\n",
       "      <td>1362.0</td>\n",
       "      <td>1362.000000</td>\n",
       "      <td>1362.000000</td>\n",
       "      <td>1362.000000</td>\n",
       "      <td>1362.0</td>\n",
       "      <td>1362.0</td>\n",
       "      <td>1362.0</td>\n",
       "      <td>1362.0</td>\n",
       "      <td>1362.0</td>\n",
       "      <td>1362.0</td>\n",
       "      <td>1362.0</td>\n",
       "      <td>1362.0</td>\n",
       "      <td>1362.0</td>\n",
       "      <td>1362.000000</td>\n",
       "    </tr>\n",
       "    <tr>\n",
       "      <th>mean</th>\n",
       "      <td>1.0</td>\n",
       "      <td>238.263583</td>\n",
       "      <td>420.871512</td>\n",
       "      <td>0.000734</td>\n",
       "      <td>1.0</td>\n",
       "      <td>0.0</td>\n",
       "      <td>0.0</td>\n",
       "      <td>0.0</td>\n",
       "      <td>0.0</td>\n",
       "      <td>0.0</td>\n",
       "      <td>0.0</td>\n",
       "      <td>0.0</td>\n",
       "      <td>0.0</td>\n",
       "      <td>3.019824</td>\n",
       "    </tr>\n",
       "    <tr>\n",
       "      <th>std</th>\n",
       "      <td>0.0</td>\n",
       "      <td>142.143811</td>\n",
       "      <td>254.645486</td>\n",
       "      <td>0.027096</td>\n",
       "      <td>0.0</td>\n",
       "      <td>0.0</td>\n",
       "      <td>0.0</td>\n",
       "      <td>0.0</td>\n",
       "      <td>0.0</td>\n",
       "      <td>0.0</td>\n",
       "      <td>0.0</td>\n",
       "      <td>0.0</td>\n",
       "      <td>0.0</td>\n",
       "      <td>2.227750</td>\n",
       "    </tr>\n",
       "    <tr>\n",
       "      <th>min</th>\n",
       "      <td>1.0</td>\n",
       "      <td>5.000000</td>\n",
       "      <td>0.000000</td>\n",
       "      <td>0.000000</td>\n",
       "      <td>1.0</td>\n",
       "      <td>0.0</td>\n",
       "      <td>0.0</td>\n",
       "      <td>0.0</td>\n",
       "      <td>0.0</td>\n",
       "      <td>0.0</td>\n",
       "      <td>0.0</td>\n",
       "      <td>0.0</td>\n",
       "      <td>0.0</td>\n",
       "      <td>0.000000</td>\n",
       "    </tr>\n",
       "    <tr>\n",
       "      <th>25%</th>\n",
       "      <td>1.0</td>\n",
       "      <td>100.000000</td>\n",
       "      <td>199.000000</td>\n",
       "      <td>0.000000</td>\n",
       "      <td>1.0</td>\n",
       "      <td>0.0</td>\n",
       "      <td>0.0</td>\n",
       "      <td>0.0</td>\n",
       "      <td>0.0</td>\n",
       "      <td>0.0</td>\n",
       "      <td>0.0</td>\n",
       "      <td>0.0</td>\n",
       "      <td>0.0</td>\n",
       "      <td>1.000000</td>\n",
       "    </tr>\n",
       "    <tr>\n",
       "      <th>50%</th>\n",
       "      <td>1.0</td>\n",
       "      <td>200.000000</td>\n",
       "      <td>419.000000</td>\n",
       "      <td>0.000000</td>\n",
       "      <td>1.0</td>\n",
       "      <td>0.0</td>\n",
       "      <td>0.0</td>\n",
       "      <td>0.0</td>\n",
       "      <td>0.0</td>\n",
       "      <td>0.0</td>\n",
       "      <td>0.0</td>\n",
       "      <td>0.0</td>\n",
       "      <td>0.0</td>\n",
       "      <td>3.000000</td>\n",
       "    </tr>\n",
       "    <tr>\n",
       "      <th>75%</th>\n",
       "      <td>1.0</td>\n",
       "      <td>300.000000</td>\n",
       "      <td>630.000000</td>\n",
       "      <td>0.000000</td>\n",
       "      <td>1.0</td>\n",
       "      <td>0.0</td>\n",
       "      <td>0.0</td>\n",
       "      <td>0.0</td>\n",
       "      <td>0.0</td>\n",
       "      <td>0.0</td>\n",
       "      <td>0.0</td>\n",
       "      <td>0.0</td>\n",
       "      <td>0.0</td>\n",
       "      <td>5.000000</td>\n",
       "    </tr>\n",
       "    <tr>\n",
       "      <th>max</th>\n",
       "      <td>1.0</td>\n",
       "      <td>900.000000</td>\n",
       "      <td>866.000000</td>\n",
       "      <td>1.000000</td>\n",
       "      <td>1.0</td>\n",
       "      <td>0.0</td>\n",
       "      <td>0.0</td>\n",
       "      <td>0.0</td>\n",
       "      <td>0.0</td>\n",
       "      <td>0.0</td>\n",
       "      <td>0.0</td>\n",
       "      <td>0.0</td>\n",
       "      <td>0.0</td>\n",
       "      <td>10.000000</td>\n",
       "    </tr>\n",
       "  </tbody>\n",
       "</table>\n",
       "</div>"
      ],
      "text/plain": [
       "       Profile         Fees     locality         MBBS     BDS    BAMS    BHMS  \\\n",
       "count   1362.0  1362.000000  1362.000000  1362.000000  1362.0  1362.0  1362.0   \n",
       "mean       1.0   238.263583   420.871512     0.000734     1.0     0.0     0.0   \n",
       "std        0.0   142.143811   254.645486     0.027096     0.0     0.0     0.0   \n",
       "min        1.0     5.000000     0.000000     0.000000     1.0     0.0     0.0   \n",
       "25%        1.0   100.000000   199.000000     0.000000     1.0     0.0     0.0   \n",
       "50%        1.0   200.000000   419.000000     0.000000     1.0     0.0     0.0   \n",
       "75%        1.0   300.000000   630.000000     0.000000     1.0     0.0     0.0   \n",
       "max        1.0   900.000000   866.000000     1.000000     1.0     0.0     0.0   \n",
       "\n",
       "       MD - Dermatology  MS - ENT  Venereology & Leprosy  \\\n",
       "count            1362.0    1362.0                 1362.0   \n",
       "mean                0.0       0.0                    0.0   \n",
       "std                 0.0       0.0                    0.0   \n",
       "min                 0.0       0.0                    0.0   \n",
       "25%                 0.0       0.0                    0.0   \n",
       "50%                 0.0       0.0                    0.0   \n",
       "75%                 0.0       0.0                    0.0   \n",
       "max                 0.0       0.0                    0.0   \n",
       "\n",
       "       MD - General Medicine  Diploma in Otorhinolaryngology (DLO)  \\\n",
       "count                 1362.0                                1362.0   \n",
       "mean                     0.0                                   0.0   \n",
       "std                      0.0                                   0.0   \n",
       "min                      0.0                                   0.0   \n",
       "25%                      0.0                                   0.0   \n",
       "50%                      0.0                                   0.0   \n",
       "75%                      0.0                                   0.0   \n",
       "max                      0.0                                   0.0   \n",
       "\n",
       "       MD - Homeopathy         City  \n",
       "count           1362.0  1362.000000  \n",
       "mean               0.0     3.019824  \n",
       "std                0.0     2.227750  \n",
       "min                0.0     0.000000  \n",
       "25%                0.0     1.000000  \n",
       "50%                0.0     3.000000  \n",
       "75%                0.0     5.000000  \n",
       "max                0.0    10.000000  "
      ]
     },
     "execution_count": 242,
     "metadata": {},
     "output_type": "execute_result"
    }
   ],
   "source": [
    "bds_1.describe()"
   ]
  },
  {
   "cell_type": "code",
   "execution_count": 243,
   "metadata": {},
   "outputs": [
    {
     "data": {
      "text/html": [
       "<div>\n",
       "<style scoped>\n",
       "    .dataframe tbody tr th:only-of-type {\n",
       "        vertical-align: middle;\n",
       "    }\n",
       "\n",
       "    .dataframe tbody tr th {\n",
       "        vertical-align: top;\n",
       "    }\n",
       "\n",
       "    .dataframe thead th {\n",
       "        text-align: right;\n",
       "    }\n",
       "</style>\n",
       "<table border=\"1\" class=\"dataframe\">\n",
       "  <thead>\n",
       "    <tr style=\"text-align: right;\">\n",
       "      <th></th>\n",
       "      <th>Profile</th>\n",
       "      <th>Fees</th>\n",
       "      <th>locality</th>\n",
       "      <th>MBBS</th>\n",
       "      <th>BDS</th>\n",
       "      <th>BAMS</th>\n",
       "      <th>BHMS</th>\n",
       "      <th>MD - Dermatology</th>\n",
       "      <th>MS - ENT</th>\n",
       "      <th>Venereology &amp; Leprosy</th>\n",
       "      <th>MD - General Medicine</th>\n",
       "      <th>Diploma in Otorhinolaryngology (DLO)</th>\n",
       "      <th>MD - Homeopathy</th>\n",
       "      <th>City</th>\n",
       "    </tr>\n",
       "  </thead>\n",
       "  <tbody>\n",
       "    <tr>\n",
       "      <th>count</th>\n",
       "      <td>4599.000000</td>\n",
       "      <td>4599.000000</td>\n",
       "      <td>4599.000000</td>\n",
       "      <td>4599.000000</td>\n",
       "      <td>4599.0</td>\n",
       "      <td>4599.000000</td>\n",
       "      <td>4599.000000</td>\n",
       "      <td>4599.000000</td>\n",
       "      <td>4599.000000</td>\n",
       "      <td>4599.000000</td>\n",
       "      <td>4599.000000</td>\n",
       "      <td>4599.000000</td>\n",
       "      <td>4599.000000</td>\n",
       "      <td>4599.000000</td>\n",
       "    </tr>\n",
       "    <tr>\n",
       "      <th>mean</th>\n",
       "      <td>2.868885</td>\n",
       "      <td>328.580778</td>\n",
       "      <td>410.137639</td>\n",
       "      <td>0.609698</td>\n",
       "      <td>0.0</td>\n",
       "      <td>0.165688</td>\n",
       "      <td>0.162644</td>\n",
       "      <td>0.131550</td>\n",
       "      <td>0.089367</td>\n",
       "      <td>0.063710</td>\n",
       "      <td>0.061970</td>\n",
       "      <td>0.054142</td>\n",
       "      <td>0.039356</td>\n",
       "      <td>3.098935</td>\n",
       "    </tr>\n",
       "    <tr>\n",
       "      <th>std</th>\n",
       "      <td>1.662859</td>\n",
       "      <td>198.501938</td>\n",
       "      <td>256.685499</td>\n",
       "      <td>0.487871</td>\n",
       "      <td>0.0</td>\n",
       "      <td>0.371841</td>\n",
       "      <td>0.369081</td>\n",
       "      <td>0.338038</td>\n",
       "      <td>0.285304</td>\n",
       "      <td>0.244261</td>\n",
       "      <td>0.241127</td>\n",
       "      <td>0.226323</td>\n",
       "      <td>0.194463</td>\n",
       "      <td>2.340333</td>\n",
       "    </tr>\n",
       "    <tr>\n",
       "      <th>min</th>\n",
       "      <td>0.000000</td>\n",
       "      <td>10.000000</td>\n",
       "      <td>1.000000</td>\n",
       "      <td>0.000000</td>\n",
       "      <td>0.0</td>\n",
       "      <td>0.000000</td>\n",
       "      <td>0.000000</td>\n",
       "      <td>0.000000</td>\n",
       "      <td>0.000000</td>\n",
       "      <td>0.000000</td>\n",
       "      <td>0.000000</td>\n",
       "      <td>0.000000</td>\n",
       "      <td>0.000000</td>\n",
       "      <td>0.000000</td>\n",
       "    </tr>\n",
       "    <tr>\n",
       "      <th>25%</th>\n",
       "      <td>2.000000</td>\n",
       "      <td>150.000000</td>\n",
       "      <td>192.000000</td>\n",
       "      <td>0.000000</td>\n",
       "      <td>0.0</td>\n",
       "      <td>0.000000</td>\n",
       "      <td>0.000000</td>\n",
       "      <td>0.000000</td>\n",
       "      <td>0.000000</td>\n",
       "      <td>0.000000</td>\n",
       "      <td>0.000000</td>\n",
       "      <td>0.000000</td>\n",
       "      <td>0.000000</td>\n",
       "      <td>1.000000</td>\n",
       "    </tr>\n",
       "    <tr>\n",
       "      <th>50%</th>\n",
       "      <td>3.000000</td>\n",
       "      <td>300.000000</td>\n",
       "      <td>404.000000</td>\n",
       "      <td>1.000000</td>\n",
       "      <td>0.0</td>\n",
       "      <td>0.000000</td>\n",
       "      <td>0.000000</td>\n",
       "      <td>0.000000</td>\n",
       "      <td>0.000000</td>\n",
       "      <td>0.000000</td>\n",
       "      <td>0.000000</td>\n",
       "      <td>0.000000</td>\n",
       "      <td>0.000000</td>\n",
       "      <td>3.000000</td>\n",
       "    </tr>\n",
       "    <tr>\n",
       "      <th>75%</th>\n",
       "      <td>4.000000</td>\n",
       "      <td>500.000000</td>\n",
       "      <td>626.000000</td>\n",
       "      <td>1.000000</td>\n",
       "      <td>0.0</td>\n",
       "      <td>0.000000</td>\n",
       "      <td>0.000000</td>\n",
       "      <td>0.000000</td>\n",
       "      <td>0.000000</td>\n",
       "      <td>0.000000</td>\n",
       "      <td>0.000000</td>\n",
       "      <td>0.000000</td>\n",
       "      <td>0.000000</td>\n",
       "      <td>5.000000</td>\n",
       "    </tr>\n",
       "    <tr>\n",
       "      <th>max</th>\n",
       "      <td>5.000000</td>\n",
       "      <td>950.000000</td>\n",
       "      <td>865.000000</td>\n",
       "      <td>1.000000</td>\n",
       "      <td>0.0</td>\n",
       "      <td>1.000000</td>\n",
       "      <td>1.000000</td>\n",
       "      <td>1.000000</td>\n",
       "      <td>1.000000</td>\n",
       "      <td>1.000000</td>\n",
       "      <td>1.000000</td>\n",
       "      <td>1.000000</td>\n",
       "      <td>1.000000</td>\n",
       "      <td>8.000000</td>\n",
       "    </tr>\n",
       "  </tbody>\n",
       "</table>\n",
       "</div>"
      ],
      "text/plain": [
       "           Profile         Fees     locality         MBBS     BDS  \\\n",
       "count  4599.000000  4599.000000  4599.000000  4599.000000  4599.0   \n",
       "mean      2.868885   328.580778   410.137639     0.609698     0.0   \n",
       "std       1.662859   198.501938   256.685499     0.487871     0.0   \n",
       "min       0.000000    10.000000     1.000000     0.000000     0.0   \n",
       "25%       2.000000   150.000000   192.000000     0.000000     0.0   \n",
       "50%       3.000000   300.000000   404.000000     1.000000     0.0   \n",
       "75%       4.000000   500.000000   626.000000     1.000000     0.0   \n",
       "max       5.000000   950.000000   865.000000     1.000000     0.0   \n",
       "\n",
       "              BAMS         BHMS  MD - Dermatology     MS - ENT  \\\n",
       "count  4599.000000  4599.000000       4599.000000  4599.000000   \n",
       "mean      0.165688     0.162644          0.131550     0.089367   \n",
       "std       0.371841     0.369081          0.338038     0.285304   \n",
       "min       0.000000     0.000000          0.000000     0.000000   \n",
       "25%       0.000000     0.000000          0.000000     0.000000   \n",
       "50%       0.000000     0.000000          0.000000     0.000000   \n",
       "75%       0.000000     0.000000          0.000000     0.000000   \n",
       "max       1.000000     1.000000          1.000000     1.000000   \n",
       "\n",
       "       Venereology & Leprosy  MD - General Medicine  \\\n",
       "count            4599.000000            4599.000000   \n",
       "mean                0.063710               0.061970   \n",
       "std                 0.244261               0.241127   \n",
       "min                 0.000000               0.000000   \n",
       "25%                 0.000000               0.000000   \n",
       "50%                 0.000000               0.000000   \n",
       "75%                 0.000000               0.000000   \n",
       "max                 1.000000               1.000000   \n",
       "\n",
       "       Diploma in Otorhinolaryngology (DLO)  MD - Homeopathy         City  \n",
       "count                           4599.000000      4599.000000  4599.000000  \n",
       "mean                               0.054142         0.039356     3.098935  \n",
       "std                                0.226323         0.194463     2.340333  \n",
       "min                                0.000000         0.000000     0.000000  \n",
       "25%                                0.000000         0.000000     1.000000  \n",
       "50%                                0.000000         0.000000     3.000000  \n",
       "75%                                0.000000         0.000000     5.000000  \n",
       "max                                1.000000         1.000000     8.000000  "
      ]
     },
     "execution_count": 243,
     "metadata": {},
     "output_type": "execute_result"
    }
   ],
   "source": [
    "bds_0.describe()"
   ]
  },
  {
   "cell_type": "code",
   "execution_count": 244,
   "metadata": {},
   "outputs": [
    {
     "name": "stderr",
     "output_type": "stream",
     "text": [
      "No handles with labels found to put in legend.\n"
     ]
    },
    {
     "data": {
      "image/png": "[encoded data removed]",
      "text/plain": [
       "<Figure size 792x504 with 1 Axes>"
      ]
     },
     "metadata": {
      "needs_background": "light"
     },
     "output_type": "display_data"
    }
   ],
   "source": [
    "X =['BDS','Not BDS']\n",
    "yp = [420,328]\n",
    "plt.figure(figsize=(11,7))  \n",
    "X_axis = np.arange(len(X))\n",
    "  \n",
    "plt.bar(X_axis - 0.2, yp, 0.4,)\n",
    "  \n",
    "plt.xticks(X_axis, X)\n",
    "plt.xlabel(\"Major parameter\")\n",
    "plt.ylabel(\"mean fees values\")\n",
    "plt.title(\"comparision of mean fees for BDS and non BDS doctors\")\n",
    "plt.legend()\n",
    "plt.show()"
   ]
  },
  {
   "cell_type": "markdown",
   "metadata": {},
   "source": [
    "Observations:\n",
    "    \n",
    "    1.We can see that those doctors who have completed BDS has higher fees than others."
   ]
  },
  {
   "cell_type": "code",
   "execution_count": 245,
   "metadata": {},
   "outputs": [],
   "source": [
    "bams=df1.groupby('BAMS')\n",
    "bams_1=bams.get_group(1)\n",
    "bams_0=bams.get_group(0)"
   ]
  },
  {
   "cell_type": "code",
   "execution_count": 246,
   "metadata": {},
   "outputs": [
    {
     "data": {
      "text/html": [
       "<div>\n",
       "<style scoped>\n",
       "    .dataframe tbody tr th:only-of-type {\n",
       "        vertical-align: middle;\n",
       "    }\n",
       "\n",
       "    .dataframe tbody tr th {\n",
       "        vertical-align: top;\n",
       "    }\n",
       "\n",
       "    .dataframe thead th {\n",
       "        text-align: right;\n",
       "    }\n",
       "</style>\n",
       "<table border=\"1\" class=\"dataframe\">\n",
       "  <thead>\n",
       "    <tr style=\"text-align: right;\">\n",
       "      <th></th>\n",
       "      <th>Profile</th>\n",
       "      <th>Fees</th>\n",
       "      <th>locality</th>\n",
       "      <th>MBBS</th>\n",
       "      <th>BDS</th>\n",
       "      <th>BAMS</th>\n",
       "      <th>BHMS</th>\n",
       "      <th>MD - Dermatology</th>\n",
       "      <th>MS - ENT</th>\n",
       "      <th>Venereology &amp; Leprosy</th>\n",
       "      <th>MD - General Medicine</th>\n",
       "      <th>Diploma in Otorhinolaryngology (DLO)</th>\n",
       "      <th>MD - Homeopathy</th>\n",
       "      <th>City</th>\n",
       "    </tr>\n",
       "  </thead>\n",
       "  <tbody>\n",
       "    <tr>\n",
       "      <th>count</th>\n",
       "      <td>762.000000</td>\n",
       "      <td>762.000000</td>\n",
       "      <td>762.000000</td>\n",
       "      <td>762.000000</td>\n",
       "      <td>762.0</td>\n",
       "      <td>762.0</td>\n",
       "      <td>762.0</td>\n",
       "      <td>762.0</td>\n",
       "      <td>762.0</td>\n",
       "      <td>762.0</td>\n",
       "      <td>762.000000</td>\n",
       "      <td>762.0</td>\n",
       "      <td>762.0</td>\n",
       "      <td>762.000000</td>\n",
       "    </tr>\n",
       "    <tr>\n",
       "      <th>mean</th>\n",
       "      <td>0.017060</td>\n",
       "      <td>238.187664</td>\n",
       "      <td>391.665354</td>\n",
       "      <td>0.002625</td>\n",
       "      <td>0.0</td>\n",
       "      <td>1.0</td>\n",
       "      <td>0.0</td>\n",
       "      <td>0.0</td>\n",
       "      <td>0.0</td>\n",
       "      <td>0.0</td>\n",
       "      <td>0.003937</td>\n",
       "      <td>0.0</td>\n",
       "      <td>0.0</td>\n",
       "      <td>3.351706</td>\n",
       "    </tr>\n",
       "    <tr>\n",
       "      <th>std</th>\n",
       "      <td>0.273148</td>\n",
       "      <td>155.308088</td>\n",
       "      <td>258.209156</td>\n",
       "      <td>0.051198</td>\n",
       "      <td>0.0</td>\n",
       "      <td>0.0</td>\n",
       "      <td>0.0</td>\n",
       "      <td>0.0</td>\n",
       "      <td>0.0</td>\n",
       "      <td>0.0</td>\n",
       "      <td>0.062663</td>\n",
       "      <td>0.0</td>\n",
       "      <td>0.0</td>\n",
       "      <td>2.523410</td>\n",
       "    </tr>\n",
       "    <tr>\n",
       "      <th>min</th>\n",
       "      <td>0.000000</td>\n",
       "      <td>10.000000</td>\n",
       "      <td>1.000000</td>\n",
       "      <td>0.000000</td>\n",
       "      <td>0.0</td>\n",
       "      <td>1.0</td>\n",
       "      <td>0.0</td>\n",
       "      <td>0.0</td>\n",
       "      <td>0.0</td>\n",
       "      <td>0.0</td>\n",
       "      <td>0.000000</td>\n",
       "      <td>0.0</td>\n",
       "      <td>0.0</td>\n",
       "      <td>0.000000</td>\n",
       "    </tr>\n",
       "    <tr>\n",
       "      <th>25%</th>\n",
       "      <td>0.000000</td>\n",
       "      <td>100.000000</td>\n",
       "      <td>181.000000</td>\n",
       "      <td>0.000000</td>\n",
       "      <td>0.0</td>\n",
       "      <td>1.0</td>\n",
       "      <td>0.0</td>\n",
       "      <td>0.0</td>\n",
       "      <td>0.0</td>\n",
       "      <td>0.0</td>\n",
       "      <td>0.000000</td>\n",
       "      <td>0.0</td>\n",
       "      <td>0.0</td>\n",
       "      <td>0.000000</td>\n",
       "    </tr>\n",
       "    <tr>\n",
       "      <th>50%</th>\n",
       "      <td>0.000000</td>\n",
       "      <td>200.000000</td>\n",
       "      <td>338.500000</td>\n",
       "      <td>0.000000</td>\n",
       "      <td>0.0</td>\n",
       "      <td>1.0</td>\n",
       "      <td>0.0</td>\n",
       "      <td>0.0</td>\n",
       "      <td>0.0</td>\n",
       "      <td>0.0</td>\n",
       "      <td>0.000000</td>\n",
       "      <td>0.0</td>\n",
       "      <td>0.0</td>\n",
       "      <td>3.000000</td>\n",
       "    </tr>\n",
       "    <tr>\n",
       "      <th>75%</th>\n",
       "      <td>0.000000</td>\n",
       "      <td>300.000000</td>\n",
       "      <td>621.000000</td>\n",
       "      <td>0.000000</td>\n",
       "      <td>0.0</td>\n",
       "      <td>1.0</td>\n",
       "      <td>0.0</td>\n",
       "      <td>0.0</td>\n",
       "      <td>0.0</td>\n",
       "      <td>0.0</td>\n",
       "      <td>0.000000</td>\n",
       "      <td>0.0</td>\n",
       "      <td>0.0</td>\n",
       "      <td>6.000000</td>\n",
       "    </tr>\n",
       "    <tr>\n",
       "      <th>max</th>\n",
       "      <td>5.000000</td>\n",
       "      <td>900.000000</td>\n",
       "      <td>864.000000</td>\n",
       "      <td>1.000000</td>\n",
       "      <td>0.0</td>\n",
       "      <td>1.0</td>\n",
       "      <td>0.0</td>\n",
       "      <td>0.0</td>\n",
       "      <td>0.0</td>\n",
       "      <td>0.0</td>\n",
       "      <td>1.000000</td>\n",
       "      <td>0.0</td>\n",
       "      <td>0.0</td>\n",
       "      <td>7.000000</td>\n",
       "    </tr>\n",
       "  </tbody>\n",
       "</table>\n",
       "</div>"
      ],
      "text/plain": [
       "          Profile        Fees    locality        MBBS    BDS   BAMS   BHMS  \\\n",
       "count  762.000000  762.000000  762.000000  762.000000  762.0  762.0  762.0   \n",
       "mean     0.017060  238.187664  391.665354    0.002625    0.0    1.0    0.0   \n",
       "std      0.273148  155.308088  258.209156    0.051198    0.0    0.0    0.0   \n",
       "min      0.000000   10.000000    1.000000    0.000000    0.0    1.0    0.0   \n",
       "25%      0.000000  100.000000  181.000000    0.000000    0.0    1.0    0.0   \n",
       "50%      0.000000  200.000000  338.500000    0.000000    0.0    1.0    0.0   \n",
       "75%      0.000000  300.000000  621.000000    0.000000    0.0    1.0    0.0   \n",
       "max      5.000000  900.000000  864.000000    1.000000    0.0    1.0    0.0   \n",
       "\n",
       "       MD - Dermatology  MS - ENT  Venereology & Leprosy  \\\n",
       "count             762.0     762.0                  762.0   \n",
       "mean                0.0       0.0                    0.0   \n",
       "std                 0.0       0.0                    0.0   \n",
       "min                 0.0       0.0                    0.0   \n",
       "25%                 0.0       0.0                    0.0   \n",
       "50%                 0.0       0.0                    0.0   \n",
       "75%                 0.0       0.0                    0.0   \n",
       "max                 0.0       0.0                    0.0   \n",
       "\n",
       "       MD - General Medicine  Diploma in Otorhinolaryngology (DLO)  \\\n",
       "count             762.000000                                 762.0   \n",
       "mean                0.003937                                   0.0   \n",
       "std                 0.062663                                   0.0   \n",
       "min                 0.000000                                   0.0   \n",
       "25%                 0.000000                                   0.0   \n",
       "50%                 0.000000                                   0.0   \n",
       "75%                 0.000000                                   0.0   \n",
       "max                 1.000000                                   0.0   \n",
       "\n",
       "       MD - Homeopathy        City  \n",
       "count            762.0  762.000000  \n",
       "mean               0.0    3.351706  \n",
       "std                0.0    2.523410  \n",
       "min                0.0    0.000000  \n",
       "25%                0.0    0.000000  \n",
       "50%                0.0    3.000000  \n",
       "75%                0.0    6.000000  \n",
       "max                0.0    7.000000  "
      ]
     },
     "execution_count": 246,
     "metadata": {},
     "output_type": "execute_result"
    }
   ],
   "source": [
    "bams_1.describe()"
   ]
  },
  {
   "cell_type": "code",
   "execution_count": 247,
   "metadata": {},
   "outputs": [
    {
     "data": {
      "text/html": [
       "<div>\n",
       "<style scoped>\n",
       "    .dataframe tbody tr th:only-of-type {\n",
       "        vertical-align: middle;\n",
       "    }\n",
       "\n",
       "    .dataframe tbody tr th {\n",
       "        vertical-align: top;\n",
       "    }\n",
       "\n",
       "    .dataframe thead th {\n",
       "        text-align: right;\n",
       "    }\n",
       "</style>\n",
       "<table border=\"1\" class=\"dataframe\">\n",
       "  <thead>\n",
       "    <tr style=\"text-align: right;\">\n",
       "      <th></th>\n",
       "      <th>Profile</th>\n",
       "      <th>Fees</th>\n",
       "      <th>locality</th>\n",
       "      <th>MBBS</th>\n",
       "      <th>BDS</th>\n",
       "      <th>BAMS</th>\n",
       "      <th>BHMS</th>\n",
       "      <th>MD - Dermatology</th>\n",
       "      <th>MS - ENT</th>\n",
       "      <th>Venereology &amp; Leprosy</th>\n",
       "      <th>MD - General Medicine</th>\n",
       "      <th>Diploma in Otorhinolaryngology (DLO)</th>\n",
       "      <th>MD - Homeopathy</th>\n",
       "      <th>City</th>\n",
       "    </tr>\n",
       "  </thead>\n",
       "  <tbody>\n",
       "    <tr>\n",
       "      <th>count</th>\n",
       "      <td>5199.000000</td>\n",
       "      <td>5199.000000</td>\n",
       "      <td>5199.000000</td>\n",
       "      <td>5199.000000</td>\n",
       "      <td>5199.000000</td>\n",
       "      <td>5199.0</td>\n",
       "      <td>5199.000000</td>\n",
       "      <td>5199.000000</td>\n",
       "      <td>5199.000000</td>\n",
       "      <td>5199.000000</td>\n",
       "      <td>5199.000000</td>\n",
       "      <td>5199.000000</td>\n",
       "      <td>5199.000000</td>\n",
       "      <td>5199.000000</td>\n",
       "    </tr>\n",
       "    <tr>\n",
       "      <th>mean</th>\n",
       "      <td>2.797269</td>\n",
       "      <td>318.168686</td>\n",
       "      <td>415.657049</td>\n",
       "      <td>0.539142</td>\n",
       "      <td>0.261973</td>\n",
       "      <td>0.0</td>\n",
       "      <td>0.143874</td>\n",
       "      <td>0.116369</td>\n",
       "      <td>0.079054</td>\n",
       "      <td>0.056357</td>\n",
       "      <td>0.054241</td>\n",
       "      <td>0.047894</td>\n",
       "      <td>0.034814</td>\n",
       "      <td>3.041162</td>\n",
       "    </tr>\n",
       "    <tr>\n",
       "      <th>std</th>\n",
       "      <td>1.467247</td>\n",
       "      <td>193.506731</td>\n",
       "      <td>255.830344</td>\n",
       "      <td>0.498513</td>\n",
       "      <td>0.439751</td>\n",
       "      <td>0.0</td>\n",
       "      <td>0.350996</td>\n",
       "      <td>0.320697</td>\n",
       "      <td>0.269848</td>\n",
       "      <td>0.230632</td>\n",
       "      <td>0.226515</td>\n",
       "      <td>0.213562</td>\n",
       "      <td>0.183327</td>\n",
       "      <td>2.280587</td>\n",
       "    </tr>\n",
       "    <tr>\n",
       "      <th>min</th>\n",
       "      <td>0.000000</td>\n",
       "      <td>5.000000</td>\n",
       "      <td>0.000000</td>\n",
       "      <td>0.000000</td>\n",
       "      <td>0.000000</td>\n",
       "      <td>0.0</td>\n",
       "      <td>0.000000</td>\n",
       "      <td>0.000000</td>\n",
       "      <td>0.000000</td>\n",
       "      <td>0.000000</td>\n",
       "      <td>0.000000</td>\n",
       "      <td>0.000000</td>\n",
       "      <td>0.000000</td>\n",
       "      <td>0.000000</td>\n",
       "    </tr>\n",
       "    <tr>\n",
       "      <th>25%</th>\n",
       "      <td>1.000000</td>\n",
       "      <td>150.000000</td>\n",
       "      <td>197.500000</td>\n",
       "      <td>0.000000</td>\n",
       "      <td>0.000000</td>\n",
       "      <td>0.0</td>\n",
       "      <td>0.000000</td>\n",
       "      <td>0.000000</td>\n",
       "      <td>0.000000</td>\n",
       "      <td>0.000000</td>\n",
       "      <td>0.000000</td>\n",
       "      <td>0.000000</td>\n",
       "      <td>0.000000</td>\n",
       "      <td>1.000000</td>\n",
       "    </tr>\n",
       "    <tr>\n",
       "      <th>50%</th>\n",
       "      <td>3.000000</td>\n",
       "      <td>300.000000</td>\n",
       "      <td>417.000000</td>\n",
       "      <td>1.000000</td>\n",
       "      <td>0.000000</td>\n",
       "      <td>0.0</td>\n",
       "      <td>0.000000</td>\n",
       "      <td>0.000000</td>\n",
       "      <td>0.000000</td>\n",
       "      <td>0.000000</td>\n",
       "      <td>0.000000</td>\n",
       "      <td>0.000000</td>\n",
       "      <td>0.000000</td>\n",
       "      <td>3.000000</td>\n",
       "    </tr>\n",
       "    <tr>\n",
       "      <th>75%</th>\n",
       "      <td>4.000000</td>\n",
       "      <td>500.000000</td>\n",
       "      <td>626.000000</td>\n",
       "      <td>1.000000</td>\n",
       "      <td>1.000000</td>\n",
       "      <td>0.0</td>\n",
       "      <td>0.000000</td>\n",
       "      <td>0.000000</td>\n",
       "      <td>0.000000</td>\n",
       "      <td>0.000000</td>\n",
       "      <td>0.000000</td>\n",
       "      <td>0.000000</td>\n",
       "      <td>0.000000</td>\n",
       "      <td>5.000000</td>\n",
       "    </tr>\n",
       "    <tr>\n",
       "      <th>max</th>\n",
       "      <td>5.000000</td>\n",
       "      <td>950.000000</td>\n",
       "      <td>866.000000</td>\n",
       "      <td>1.000000</td>\n",
       "      <td>1.000000</td>\n",
       "      <td>0.0</td>\n",
       "      <td>1.000000</td>\n",
       "      <td>1.000000</td>\n",
       "      <td>1.000000</td>\n",
       "      <td>1.000000</td>\n",
       "      <td>1.000000</td>\n",
       "      <td>1.000000</td>\n",
       "      <td>1.000000</td>\n",
       "      <td>10.000000</td>\n",
       "    </tr>\n",
       "  </tbody>\n",
       "</table>\n",
       "</div>"
      ],
      "text/plain": [
       "           Profile         Fees     locality         MBBS          BDS  \\\n",
       "count  5199.000000  5199.000000  5199.000000  5199.000000  5199.000000   \n",
       "mean      2.797269   318.168686   415.657049     0.539142     0.261973   \n",
       "std       1.467247   193.506731   255.830344     0.498513     0.439751   \n",
       "min       0.000000     5.000000     0.000000     0.000000     0.000000   \n",
       "25%       1.000000   150.000000   197.500000     0.000000     0.000000   \n",
       "50%       3.000000   300.000000   417.000000     1.000000     0.000000   \n",
       "75%       4.000000   500.000000   626.000000     1.000000     1.000000   \n",
       "max       5.000000   950.000000   866.000000     1.000000     1.000000   \n",
       "\n",
       "         BAMS         BHMS  MD - Dermatology     MS - ENT  \\\n",
       "count  5199.0  5199.000000       5199.000000  5199.000000   \n",
       "mean      0.0     0.143874          0.116369     0.079054   \n",
       "std       0.0     0.350996          0.320697     0.269848   \n",
       "min       0.0     0.000000          0.000000     0.000000   \n",
       "25%       0.0     0.000000          0.000000     0.000000   \n",
       "50%       0.0     0.000000          0.000000     0.000000   \n",
       "75%       0.0     0.000000          0.000000     0.000000   \n",
       "max       0.0     1.000000          1.000000     1.000000   \n",
       "\n",
       "       Venereology & Leprosy  MD - General Medicine  \\\n",
       "count            5199.000000            5199.000000   \n",
       "mean                0.056357               0.054241   \n",
       "std                 0.230632               0.226515   \n",
       "min                 0.000000               0.000000   \n",
       "25%                 0.000000               0.000000   \n",
       "50%                 0.000000               0.000000   \n",
       "75%                 0.000000               0.000000   \n",
       "max                 1.000000               1.000000   \n",
       "\n",
       "       Diploma in Otorhinolaryngology (DLO)  MD - Homeopathy         City  \n",
       "count                           5199.000000      5199.000000  5199.000000  \n",
       "mean                               0.047894         0.034814     3.041162  \n",
       "std                                0.213562         0.183327     2.280587  \n",
       "min                                0.000000         0.000000     0.000000  \n",
       "25%                                0.000000         0.000000     1.000000  \n",
       "50%                                0.000000         0.000000     3.000000  \n",
       "75%                                0.000000         0.000000     5.000000  \n",
       "max                                1.000000         1.000000    10.000000  "
      ]
     },
     "execution_count": 247,
     "metadata": {},
     "output_type": "execute_result"
    }
   ],
   "source": [
    "bams_0.describe()"
   ]
  },
  {
   "cell_type": "markdown",
   "metadata": {},
   "source": [
    "Observations:\n",
    "    \n",
    "    1.Those who have completed BAMS have significantly less fees."
   ]
  },
  {
   "cell_type": "markdown",
   "metadata": {},
   "source": [
    "# Preparing the testing data"
   ]
  },
  {
   "cell_type": "code",
   "execution_count": 248,
   "metadata": {},
   "outputs": [
    {
     "data": {
      "text/plain": [
       "(1987, 6)"
      ]
     },
     "execution_count": 248,
     "metadata": {},
     "output_type": "execute_result"
    }
   ],
   "source": [
    "df_1.shape"
   ]
  },
  {
   "cell_type": "code",
   "execution_count": 249,
   "metadata": {},
   "outputs": [
    {
     "data": {
      "text/html": [
       "<div>\n",
       "<style scoped>\n",
       "    .dataframe tbody tr th:only-of-type {\n",
       "        vertical-align: middle;\n",
       "    }\n",
       "\n",
       "    .dataframe tbody tr th {\n",
       "        vertical-align: top;\n",
       "    }\n",
       "\n",
       "    .dataframe thead th {\n",
       "        text-align: right;\n",
       "    }\n",
       "</style>\n",
       "<table border=\"1\" class=\"dataframe\">\n",
       "  <thead>\n",
       "    <tr style=\"text-align: right;\">\n",
       "      <th></th>\n",
       "      <th>Qualification</th>\n",
       "      <th>Experience</th>\n",
       "      <th>Rating</th>\n",
       "      <th>Place</th>\n",
       "      <th>Profile</th>\n",
       "      <th>Miscellaneous_Info</th>\n",
       "    </tr>\n",
       "  </thead>\n",
       "  <tbody>\n",
       "    <tr>\n",
       "      <th>0</th>\n",
       "      <td>MBBS</td>\n",
       "      <td>35 years experience</td>\n",
       "      <td>NaN</td>\n",
       "      <td>Ghatkopar East, Mumbai</td>\n",
       "      <td>General Medicine</td>\n",
       "      <td>NaN</td>\n",
       "    </tr>\n",
       "    <tr>\n",
       "      <th>1</th>\n",
       "      <td>MBBS, Diploma in Otorhinolaryngology (DLO)</td>\n",
       "      <td>31 years experience</td>\n",
       "      <td>NaN</td>\n",
       "      <td>West Marredpally, Hyderabad</td>\n",
       "      <td>ENT Specialist</td>\n",
       "      <td>NaN</td>\n",
       "    </tr>\n",
       "    <tr>\n",
       "      <th>2</th>\n",
       "      <td>MBBS, DDVL</td>\n",
       "      <td>40 years experience</td>\n",
       "      <td>70%</td>\n",
       "      <td>KK Nagar, Chennai</td>\n",
       "      <td>Dermatologists</td>\n",
       "      <td>70% 4 Feedback KK Nagar, Chennai</td>\n",
       "    </tr>\n",
       "    <tr>\n",
       "      <th>3</th>\n",
       "      <td>BAMS</td>\n",
       "      <td>0 years experience</td>\n",
       "      <td>NaN</td>\n",
       "      <td>New Ashok Nagar, Delhi</td>\n",
       "      <td>Ayurveda</td>\n",
       "      <td>NaN</td>\n",
       "    </tr>\n",
       "    <tr>\n",
       "      <th>4</th>\n",
       "      <td>BDS, MDS - Conservative Dentistry &amp; Endodontics</td>\n",
       "      <td>16 years experience</td>\n",
       "      <td>100%</td>\n",
       "      <td>Kanakpura Road, Bangalore</td>\n",
       "      <td>Dentist</td>\n",
       "      <td>General Dentistry Conservative Dentistry Cosme...</td>\n",
       "    </tr>\n",
       "  </tbody>\n",
       "</table>\n",
       "</div>"
      ],
      "text/plain": [
       "                                     Qualification           Experience  \\\n",
       "0                                             MBBS  35 years experience   \n",
       "1       MBBS, Diploma in Otorhinolaryngology (DLO)  31 years experience   \n",
       "2                                       MBBS, DDVL  40 years experience   \n",
       "3                                             BAMS   0 years experience   \n",
       "4  BDS, MDS - Conservative Dentistry & Endodontics  16 years experience   \n",
       "\n",
       "  Rating                        Place           Profile  \\\n",
       "0    NaN       Ghatkopar East, Mumbai  General Medicine   \n",
       "1    NaN  West Marredpally, Hyderabad    ENT Specialist   \n",
       "2    70%            KK Nagar, Chennai    Dermatologists   \n",
       "3    NaN       New Ashok Nagar, Delhi          Ayurveda   \n",
       "4   100%    Kanakpura Road, Bangalore           Dentist   \n",
       "\n",
       "                                  Miscellaneous_Info  \n",
       "0                                                NaN  \n",
       "1                                                NaN  \n",
       "2                   70% 4 Feedback KK Nagar, Chennai  \n",
       "3                                                NaN  \n",
       "4  General Dentistry Conservative Dentistry Cosme...  "
      ]
     },
     "execution_count": 249,
     "metadata": {},
     "output_type": "execute_result"
    }
   ],
   "source": [
    "df_1.head()"
   ]
  },
  {
   "cell_type": "code",
   "execution_count": 250,
   "metadata": {},
   "outputs": [],
   "source": [
    "df_1.drop('Miscellaneous_Info',axis=1,inplace=True)"
   ]
  },
  {
   "cell_type": "code",
   "execution_count": 254,
   "metadata": {},
   "outputs": [],
   "source": [
    "expt=[]\n",
    "for i in range(0,1987):\n",
    "    k=df_1['Experience'][i][0:].split()\n",
    "    expt.append(k[0])\n",
    "df_1['experience']=expt"
   ]
  },
  {
   "cell_type": "code",
   "execution_count": 255,
   "metadata": {},
   "outputs": [],
   "source": [
    "df_1.drop('Experience',axis=1,inplace=True)"
   ]
  },
  {
   "cell_type": "code",
   "execution_count": 257,
   "metadata": {},
   "outputs": [],
   "source": [
    "df_1['Profile']=le.fit_transform(df_1['Profile'])"
   ]
  },
  {
   "cell_type": "code",
   "execution_count": 258,
   "metadata": {},
   "outputs": [],
   "source": [
    "df_1.Place.fillna('Unknown,Unknown',inplace=True)\n",
    "\n",
    "df_1['locality'] = df_1['Place'].str.split(\",\").str[0]\n",
    "df_1['city'] = df_1['Place'].str.split(\",\").str[1]"
   ]
  },
  {
   "cell_type": "code",
   "execution_count": 260,
   "metadata": {},
   "outputs": [],
   "source": [
    "df_1.drop('Place',axis=1,inplace=True)"
   ]
  },
  {
   "cell_type": "code",
   "execution_count": 265,
   "metadata": {},
   "outputs": [],
   "source": [
    "df_1['Rating'].fillna('11%',inplace=True)"
   ]
  },
  {
   "cell_type": "code",
   "execution_count": 266,
   "metadata": {},
   "outputs": [],
   "source": [
    "ratingt=[]\n",
    "for i in range(0,1987):\n",
    "    k=df_1['Rating'][i].split('%')\n",
    "    ratingt.append(k[0])"
   ]
  },
  {
   "cell_type": "code",
   "execution_count": 268,
   "metadata": {},
   "outputs": [],
   "source": [
    "df_1['rating']=ratingt"
   ]
  },
  {
   "cell_type": "code",
   "execution_count": 269,
   "metadata": {},
   "outputs": [],
   "source": [
    "df_1.drop('Rating',axis=1,inplace=True)"
   ]
  },
  {
   "cell_type": "code",
   "execution_count": 270,
   "metadata": {},
   "outputs": [
    {
     "data": {
      "text/html": [
       "<div>\n",
       "<style scoped>\n",
       "    .dataframe tbody tr th:only-of-type {\n",
       "        vertical-align: middle;\n",
       "    }\n",
       "\n",
       "    .dataframe tbody tr th {\n",
       "        vertical-align: top;\n",
       "    }\n",
       "\n",
       "    .dataframe thead th {\n",
       "        text-align: right;\n",
       "    }\n",
       "</style>\n",
       "<table border=\"1\" class=\"dataframe\">\n",
       "  <thead>\n",
       "    <tr style=\"text-align: right;\">\n",
       "      <th></th>\n",
       "      <th>Qualification</th>\n",
       "      <th>Profile</th>\n",
       "      <th>experience</th>\n",
       "      <th>locality</th>\n",
       "      <th>city</th>\n",
       "      <th>rating</th>\n",
       "    </tr>\n",
       "  </thead>\n",
       "  <tbody>\n",
       "    <tr>\n",
       "      <th>0</th>\n",
       "      <td>MBBS</td>\n",
       "      <td>4</td>\n",
       "      <td>35</td>\n",
       "      <td>Ghatkopar East</td>\n",
       "      <td>Mumbai</td>\n",
       "      <td>11</td>\n",
       "    </tr>\n",
       "    <tr>\n",
       "      <th>1</th>\n",
       "      <td>MBBS, Diploma in Otorhinolaryngology (DLO)</td>\n",
       "      <td>3</td>\n",
       "      <td>31</td>\n",
       "      <td>West Marredpally</td>\n",
       "      <td>Hyderabad</td>\n",
       "      <td>11</td>\n",
       "    </tr>\n",
       "    <tr>\n",
       "      <th>2</th>\n",
       "      <td>MBBS, DDVL</td>\n",
       "      <td>2</td>\n",
       "      <td>40</td>\n",
       "      <td>KK Nagar</td>\n",
       "      <td>Chennai</td>\n",
       "      <td>70</td>\n",
       "    </tr>\n",
       "    <tr>\n",
       "      <th>3</th>\n",
       "      <td>BAMS</td>\n",
       "      <td>0</td>\n",
       "      <td>0</td>\n",
       "      <td>New Ashok Nagar</td>\n",
       "      <td>Delhi</td>\n",
       "      <td>11</td>\n",
       "    </tr>\n",
       "    <tr>\n",
       "      <th>4</th>\n",
       "      <td>BDS, MDS - Conservative Dentistry &amp; Endodontics</td>\n",
       "      <td>1</td>\n",
       "      <td>16</td>\n",
       "      <td>Kanakpura Road</td>\n",
       "      <td>Bangalore</td>\n",
       "      <td>100</td>\n",
       "    </tr>\n",
       "  </tbody>\n",
       "</table>\n",
       "</div>"
      ],
      "text/plain": [
       "                                     Qualification  Profile experience  \\\n",
       "0                                             MBBS        4         35   \n",
       "1       MBBS, Diploma in Otorhinolaryngology (DLO)        3         31   \n",
       "2                                       MBBS, DDVL        2         40   \n",
       "3                                             BAMS        0          0   \n",
       "4  BDS, MDS - Conservative Dentistry & Endodontics        1         16   \n",
       "\n",
       "           locality        city rating  \n",
       "0    Ghatkopar East      Mumbai     11  \n",
       "1  West Marredpally   Hyderabad     11  \n",
       "2          KK Nagar     Chennai     70  \n",
       "3   New Ashok Nagar       Delhi     11  \n",
       "4    Kanakpura Road   Bangalore    100  "
      ]
     },
     "execution_count": 270,
     "metadata": {},
     "output_type": "execute_result"
    }
   ],
   "source": [
    "df_1.head()"
   ]
  },
  {
   "cell_type": "code",
   "execution_count": 271,
   "metadata": {},
   "outputs": [
    {
     "data": {
      "text/plain": [
       "2     889\n",
       "1     609\n",
       "3     366\n",
       "4      87\n",
       "5      28\n",
       "6       5\n",
       "17      1\n",
       "9       1\n",
       "7       1\n",
       "Name: Qualification_count, dtype: int64"
      ]
     },
     "execution_count": 271,
     "metadata": {},
     "output_type": "execute_result"
    }
   ],
   "source": [
    "df_1['Qualification_count'] = df_1['Qualification'].apply(lambda x: len(x.split(\",\")))\n",
    "df_1['Qualification_count'].value_counts()"
   ]
  },
  {
   "cell_type": "code",
   "execution_count": 272,
   "metadata": {},
   "outputs": [],
   "source": [
    "df_1[\"Qualification\"]=df_1[\"Qualification\"].str.split(\",\")\n",
    "Qualification ={}\n",
    "for x in df_1[\"Qualification\"].values:\n",
    "    for each in x:\n",
    "        each = each.strip()\n",
    "        if each in Qualification:\n",
    "            Qualification[each]+=1\n",
    "        else:\n",
    "            Qualification[each]=1"
   ]
  },
  {
   "cell_type": "code",
   "execution_count": 273,
   "metadata": {},
   "outputs": [
    {
     "name": "stdout",
     "output_type": "stream",
     "text": [
      "['MBBS', 'BDS', 'BHMS', 'BAMS', 'MD - Dermatology', 'MS - ENT', 'MD - General Medicine', 'Venereology & Leprosy', 'Diploma in Otorhinolaryngology (DLO)', 'DDVL']\n"
     ]
    }
   ],
   "source": [
    "most_qual = sorted(Qualification.items(),key=lambda x:x[1],reverse=True)[:10]\n",
    "final_qual = []\n",
    "for qual in most_qual:\n",
    "    final_qual.append(qual[0])\n",
    "    \n",
    "print(final_qual)"
   ]
  },
  {
   "cell_type": "code",
   "execution_count": 274,
   "metadata": {},
   "outputs": [],
   "source": [
    "for qual in final_qual:\n",
    "    df_1[qual] = 0\n",
    "\n",
    "for x,y in zip(df_1['Qualification'].values, np.array([i for i in range(len(df_1))])):\n",
    "    for c in x:\n",
    "        c = c.strip()\n",
    "        if c in final_qual:\n",
    "            df_1[c][y] = 1"
   ]
  },
  {
   "cell_type": "code",
   "execution_count": 275,
   "metadata": {},
   "outputs": [],
   "source": [
    "df_1.drop(['Qualification','Qualification_count'],axis=1,inplace=True)"
   ]
  },
  {
   "cell_type": "code",
   "execution_count": 276,
   "metadata": {},
   "outputs": [
    {
     "data": {
      "text/html": [
       "<div>\n",
       "<style scoped>\n",
       "    .dataframe tbody tr th:only-of-type {\n",
       "        vertical-align: middle;\n",
       "    }\n",
       "\n",
       "    .dataframe tbody tr th {\n",
       "        vertical-align: top;\n",
       "    }\n",
       "\n",
       "    .dataframe thead th {\n",
       "        text-align: right;\n",
       "    }\n",
       "</style>\n",
       "<table border=\"1\" class=\"dataframe\">\n",
       "  <thead>\n",
       "    <tr style=\"text-align: right;\">\n",
       "      <th></th>\n",
       "      <th>Profile</th>\n",
       "      <th>experience</th>\n",
       "      <th>locality</th>\n",
       "      <th>city</th>\n",
       "      <th>rating</th>\n",
       "      <th>MBBS</th>\n",
       "      <th>BDS</th>\n",
       "      <th>BHMS</th>\n",
       "      <th>BAMS</th>\n",
       "      <th>MD - Dermatology</th>\n",
       "      <th>MS - ENT</th>\n",
       "      <th>MD - General Medicine</th>\n",
       "      <th>Venereology &amp; Leprosy</th>\n",
       "      <th>Diploma in Otorhinolaryngology (DLO)</th>\n",
       "      <th>DDVL</th>\n",
       "    </tr>\n",
       "  </thead>\n",
       "  <tbody>\n",
       "    <tr>\n",
       "      <th>0</th>\n",
       "      <td>4</td>\n",
       "      <td>35</td>\n",
       "      <td>Ghatkopar East</td>\n",
       "      <td>Mumbai</td>\n",
       "      <td>11</td>\n",
       "      <td>1</td>\n",
       "      <td>0</td>\n",
       "      <td>0</td>\n",
       "      <td>0</td>\n",
       "      <td>0</td>\n",
       "      <td>0</td>\n",
       "      <td>0</td>\n",
       "      <td>0</td>\n",
       "      <td>0</td>\n",
       "      <td>0</td>\n",
       "    </tr>\n",
       "    <tr>\n",
       "      <th>1</th>\n",
       "      <td>3</td>\n",
       "      <td>31</td>\n",
       "      <td>West Marredpally</td>\n",
       "      <td>Hyderabad</td>\n",
       "      <td>11</td>\n",
       "      <td>1</td>\n",
       "      <td>0</td>\n",
       "      <td>0</td>\n",
       "      <td>0</td>\n",
       "      <td>0</td>\n",
       "      <td>0</td>\n",
       "      <td>0</td>\n",
       "      <td>0</td>\n",
       "      <td>1</td>\n",
       "      <td>0</td>\n",
       "    </tr>\n",
       "    <tr>\n",
       "      <th>2</th>\n",
       "      <td>2</td>\n",
       "      <td>40</td>\n",
       "      <td>KK Nagar</td>\n",
       "      <td>Chennai</td>\n",
       "      <td>70</td>\n",
       "      <td>1</td>\n",
       "      <td>0</td>\n",
       "      <td>0</td>\n",
       "      <td>0</td>\n",
       "      <td>0</td>\n",
       "      <td>0</td>\n",
       "      <td>0</td>\n",
       "      <td>0</td>\n",
       "      <td>0</td>\n",
       "      <td>1</td>\n",
       "    </tr>\n",
       "    <tr>\n",
       "      <th>3</th>\n",
       "      <td>0</td>\n",
       "      <td>0</td>\n",
       "      <td>New Ashok Nagar</td>\n",
       "      <td>Delhi</td>\n",
       "      <td>11</td>\n",
       "      <td>0</td>\n",
       "      <td>0</td>\n",
       "      <td>0</td>\n",
       "      <td>1</td>\n",
       "      <td>0</td>\n",
       "      <td>0</td>\n",
       "      <td>0</td>\n",
       "      <td>0</td>\n",
       "      <td>0</td>\n",
       "      <td>0</td>\n",
       "    </tr>\n",
       "    <tr>\n",
       "      <th>4</th>\n",
       "      <td>1</td>\n",
       "      <td>16</td>\n",
       "      <td>Kanakpura Road</td>\n",
       "      <td>Bangalore</td>\n",
       "      <td>100</td>\n",
       "      <td>0</td>\n",
       "      <td>1</td>\n",
       "      <td>0</td>\n",
       "      <td>0</td>\n",
       "      <td>0</td>\n",
       "      <td>0</td>\n",
       "      <td>0</td>\n",
       "      <td>0</td>\n",
       "      <td>0</td>\n",
       "      <td>0</td>\n",
       "    </tr>\n",
       "  </tbody>\n",
       "</table>\n",
       "</div>"
      ],
      "text/plain": [
       "   Profile experience          locality        city rating  MBBS  BDS  BHMS  \\\n",
       "0        4         35    Ghatkopar East      Mumbai     11     1    0     0   \n",
       "1        3         31  West Marredpally   Hyderabad     11     1    0     0   \n",
       "2        2         40          KK Nagar     Chennai     70     1    0     0   \n",
       "3        0          0   New Ashok Nagar       Delhi     11     0    0     0   \n",
       "4        1         16    Kanakpura Road   Bangalore    100     0    1     0   \n",
       "\n",
       "   BAMS  MD - Dermatology  MS - ENT  MD - General Medicine  \\\n",
       "0     0                 0         0                      0   \n",
       "1     0                 0         0                      0   \n",
       "2     0                 0         0                      0   \n",
       "3     1                 0         0                      0   \n",
       "4     0                 0         0                      0   \n",
       "\n",
       "   Venereology & Leprosy  Diploma in Otorhinolaryngology (DLO)  DDVL  \n",
       "0                      0                                     0     0  \n",
       "1                      0                                     1     0  \n",
       "2                      0                                     0     1  \n",
       "3                      0                                     0     0  \n",
       "4                      0                                     0     0  "
      ]
     },
     "execution_count": 276,
     "metadata": {},
     "output_type": "execute_result"
    }
   ],
   "source": [
    "df_1.head()"
   ]
  },
  {
   "cell_type": "code",
   "execution_count": 279,
   "metadata": {},
   "outputs": [],
   "source": [
    "Cityt=[]\n",
    "for i in range(0,1987):\n",
    "    Cityt.append(str(df_1['city'][i]))"
   ]
  },
  {
   "cell_type": "code",
   "execution_count": 281,
   "metadata": {},
   "outputs": [],
   "source": [
    "df_1['City']=Cityt"
   ]
  },
  {
   "cell_type": "code",
   "execution_count": 282,
   "metadata": {},
   "outputs": [],
   "source": [
    "df_1.drop('city',axis=1,inplace=True)"
   ]
  },
  {
   "cell_type": "code",
   "execution_count": 283,
   "metadata": {},
   "outputs": [
    {
     "data": {
      "text/html": [
       "<div>\n",
       "<style scoped>\n",
       "    .dataframe tbody tr th:only-of-type {\n",
       "        vertical-align: middle;\n",
       "    }\n",
       "\n",
       "    .dataframe tbody tr th {\n",
       "        vertical-align: top;\n",
       "    }\n",
       "\n",
       "    .dataframe thead th {\n",
       "        text-align: right;\n",
       "    }\n",
       "</style>\n",
       "<table border=\"1\" class=\"dataframe\">\n",
       "  <thead>\n",
       "    <tr style=\"text-align: right;\">\n",
       "      <th></th>\n",
       "      <th>Profile</th>\n",
       "      <th>experience</th>\n",
       "      <th>locality</th>\n",
       "      <th>rating</th>\n",
       "      <th>MBBS</th>\n",
       "      <th>BDS</th>\n",
       "      <th>BHMS</th>\n",
       "      <th>BAMS</th>\n",
       "      <th>MD - Dermatology</th>\n",
       "      <th>MS - ENT</th>\n",
       "      <th>MD - General Medicine</th>\n",
       "      <th>Venereology &amp; Leprosy</th>\n",
       "      <th>Diploma in Otorhinolaryngology (DLO)</th>\n",
       "      <th>DDVL</th>\n",
       "      <th>City</th>\n",
       "    </tr>\n",
       "  </thead>\n",
       "  <tbody>\n",
       "    <tr>\n",
       "      <th>0</th>\n",
       "      <td>4</td>\n",
       "      <td>35</td>\n",
       "      <td>Ghatkopar East</td>\n",
       "      <td>11</td>\n",
       "      <td>1</td>\n",
       "      <td>0</td>\n",
       "      <td>0</td>\n",
       "      <td>0</td>\n",
       "      <td>0</td>\n",
       "      <td>0</td>\n",
       "      <td>0</td>\n",
       "      <td>0</td>\n",
       "      <td>0</td>\n",
       "      <td>0</td>\n",
       "      <td>Mumbai</td>\n",
       "    </tr>\n",
       "    <tr>\n",
       "      <th>1</th>\n",
       "      <td>3</td>\n",
       "      <td>31</td>\n",
       "      <td>West Marredpally</td>\n",
       "      <td>11</td>\n",
       "      <td>1</td>\n",
       "      <td>0</td>\n",
       "      <td>0</td>\n",
       "      <td>0</td>\n",
       "      <td>0</td>\n",
       "      <td>0</td>\n",
       "      <td>0</td>\n",
       "      <td>0</td>\n",
       "      <td>1</td>\n",
       "      <td>0</td>\n",
       "      <td>Hyderabad</td>\n",
       "    </tr>\n",
       "    <tr>\n",
       "      <th>2</th>\n",
       "      <td>2</td>\n",
       "      <td>40</td>\n",
       "      <td>KK Nagar</td>\n",
       "      <td>70</td>\n",
       "      <td>1</td>\n",
       "      <td>0</td>\n",
       "      <td>0</td>\n",
       "      <td>0</td>\n",
       "      <td>0</td>\n",
       "      <td>0</td>\n",
       "      <td>0</td>\n",
       "      <td>0</td>\n",
       "      <td>0</td>\n",
       "      <td>1</td>\n",
       "      <td>Chennai</td>\n",
       "    </tr>\n",
       "    <tr>\n",
       "      <th>3</th>\n",
       "      <td>0</td>\n",
       "      <td>0</td>\n",
       "      <td>New Ashok Nagar</td>\n",
       "      <td>11</td>\n",
       "      <td>0</td>\n",
       "      <td>0</td>\n",
       "      <td>0</td>\n",
       "      <td>1</td>\n",
       "      <td>0</td>\n",
       "      <td>0</td>\n",
       "      <td>0</td>\n",
       "      <td>0</td>\n",
       "      <td>0</td>\n",
       "      <td>0</td>\n",
       "      <td>Delhi</td>\n",
       "    </tr>\n",
       "    <tr>\n",
       "      <th>4</th>\n",
       "      <td>1</td>\n",
       "      <td>16</td>\n",
       "      <td>Kanakpura Road</td>\n",
       "      <td>100</td>\n",
       "      <td>0</td>\n",
       "      <td>1</td>\n",
       "      <td>0</td>\n",
       "      <td>0</td>\n",
       "      <td>0</td>\n",
       "      <td>0</td>\n",
       "      <td>0</td>\n",
       "      <td>0</td>\n",
       "      <td>0</td>\n",
       "      <td>0</td>\n",
       "      <td>Bangalore</td>\n",
       "    </tr>\n",
       "  </tbody>\n",
       "</table>\n",
       "</div>"
      ],
      "text/plain": [
       "   Profile experience          locality rating  MBBS  BDS  BHMS  BAMS  \\\n",
       "0        4         35    Ghatkopar East     11     1    0     0     0   \n",
       "1        3         31  West Marredpally     11     1    0     0     0   \n",
       "2        2         40          KK Nagar     70     1    0     0     0   \n",
       "3        0          0   New Ashok Nagar     11     0    0     0     1   \n",
       "4        1         16    Kanakpura Road    100     0    1     0     0   \n",
       "\n",
       "   MD - Dermatology  MS - ENT  MD - General Medicine  Venereology & Leprosy  \\\n",
       "0                 0         0                      0                      0   \n",
       "1                 0         0                      0                      0   \n",
       "2                 0         0                      0                      0   \n",
       "3                 0         0                      0                      0   \n",
       "4                 0         0                      0                      0   \n",
       "\n",
       "   Diploma in Otorhinolaryngology (DLO)  DDVL        City  \n",
       "0                                     0     0      Mumbai  \n",
       "1                                     1     0   Hyderabad  \n",
       "2                                     0     1     Chennai  \n",
       "3                                     0     0       Delhi  \n",
       "4                                     0     0   Bangalore  "
      ]
     },
     "execution_count": 283,
     "metadata": {},
     "output_type": "execute_result"
    }
   ],
   "source": [
    "df_1.head()"
   ]
  },
  {
   "cell_type": "code",
   "execution_count": 284,
   "metadata": {},
   "outputs": [],
   "source": [
    "df_1['locality']=le.fit_transform(df_1['locality'])"
   ]
  },
  {
   "cell_type": "code",
   "execution_count": 285,
   "metadata": {},
   "outputs": [],
   "source": [
    "df_1['City']=le.fit_transform(df_1['City'])"
   ]
  },
  {
   "cell_type": "code",
   "execution_count": 286,
   "metadata": {},
   "outputs": [
    {
     "data": {
      "text/html": [
       "<div>\n",
       "<style scoped>\n",
       "    .dataframe tbody tr th:only-of-type {\n",
       "        vertical-align: middle;\n",
       "    }\n",
       "\n",
       "    .dataframe tbody tr th {\n",
       "        vertical-align: top;\n",
       "    }\n",
       "\n",
       "    .dataframe thead th {\n",
       "        text-align: right;\n",
       "    }\n",
       "</style>\n",
       "<table border=\"1\" class=\"dataframe\">\n",
       "  <thead>\n",
       "    <tr style=\"text-align: right;\">\n",
       "      <th></th>\n",
       "      <th>Profile</th>\n",
       "      <th>experience</th>\n",
       "      <th>locality</th>\n",
       "      <th>rating</th>\n",
       "      <th>MBBS</th>\n",
       "      <th>BDS</th>\n",
       "      <th>BHMS</th>\n",
       "      <th>BAMS</th>\n",
       "      <th>MD - Dermatology</th>\n",
       "      <th>MS - ENT</th>\n",
       "      <th>MD - General Medicine</th>\n",
       "      <th>Venereology &amp; Leprosy</th>\n",
       "      <th>Diploma in Otorhinolaryngology (DLO)</th>\n",
       "      <th>DDVL</th>\n",
       "      <th>City</th>\n",
       "    </tr>\n",
       "  </thead>\n",
       "  <tbody>\n",
       "    <tr>\n",
       "      <th>0</th>\n",
       "      <td>4</td>\n",
       "      <td>35</td>\n",
       "      <td>142</td>\n",
       "      <td>11</td>\n",
       "      <td>1</td>\n",
       "      <td>0</td>\n",
       "      <td>0</td>\n",
       "      <td>0</td>\n",
       "      <td>0</td>\n",
       "      <td>0</td>\n",
       "      <td>0</td>\n",
       "      <td>0</td>\n",
       "      <td>0</td>\n",
       "      <td>0</td>\n",
       "      <td>6</td>\n",
       "    </tr>\n",
       "    <tr>\n",
       "      <th>1</th>\n",
       "      <td>3</td>\n",
       "      <td>31</td>\n",
       "      <td>578</td>\n",
       "      <td>11</td>\n",
       "      <td>1</td>\n",
       "      <td>0</td>\n",
       "      <td>0</td>\n",
       "      <td>0</td>\n",
       "      <td>0</td>\n",
       "      <td>0</td>\n",
       "      <td>0</td>\n",
       "      <td>0</td>\n",
       "      <td>1</td>\n",
       "      <td>0</td>\n",
       "      <td>5</td>\n",
       "    </tr>\n",
       "    <tr>\n",
       "      <th>2</th>\n",
       "      <td>2</td>\n",
       "      <td>40</td>\n",
       "      <td>212</td>\n",
       "      <td>70</td>\n",
       "      <td>1</td>\n",
       "      <td>0</td>\n",
       "      <td>0</td>\n",
       "      <td>0</td>\n",
       "      <td>0</td>\n",
       "      <td>0</td>\n",
       "      <td>0</td>\n",
       "      <td>0</td>\n",
       "      <td>0</td>\n",
       "      <td>1</td>\n",
       "      <td>1</td>\n",
       "    </tr>\n",
       "    <tr>\n",
       "      <th>3</th>\n",
       "      <td>0</td>\n",
       "      <td>0</td>\n",
       "      <td>373</td>\n",
       "      <td>11</td>\n",
       "      <td>0</td>\n",
       "      <td>0</td>\n",
       "      <td>0</td>\n",
       "      <td>1</td>\n",
       "      <td>0</td>\n",
       "      <td>0</td>\n",
       "      <td>0</td>\n",
       "      <td>0</td>\n",
       "      <td>0</td>\n",
       "      <td>0</td>\n",
       "      <td>3</td>\n",
       "    </tr>\n",
       "    <tr>\n",
       "      <th>4</th>\n",
       "      <td>1</td>\n",
       "      <td>16</td>\n",
       "      <td>231</td>\n",
       "      <td>100</td>\n",
       "      <td>0</td>\n",
       "      <td>1</td>\n",
       "      <td>0</td>\n",
       "      <td>0</td>\n",
       "      <td>0</td>\n",
       "      <td>0</td>\n",
       "      <td>0</td>\n",
       "      <td>0</td>\n",
       "      <td>0</td>\n",
       "      <td>0</td>\n",
       "      <td>0</td>\n",
       "    </tr>\n",
       "  </tbody>\n",
       "</table>\n",
       "</div>"
      ],
      "text/plain": [
       "   Profile experience  locality rating  MBBS  BDS  BHMS  BAMS  \\\n",
       "0        4         35       142     11     1    0     0     0   \n",
       "1        3         31       578     11     1    0     0     0   \n",
       "2        2         40       212     70     1    0     0     0   \n",
       "3        0          0       373     11     0    0     0     1   \n",
       "4        1         16       231    100     0    1     0     0   \n",
       "\n",
       "   MD - Dermatology  MS - ENT  MD - General Medicine  Venereology & Leprosy  \\\n",
       "0                 0         0                      0                      0   \n",
       "1                 0         0                      0                      0   \n",
       "2                 0         0                      0                      0   \n",
       "3                 0         0                      0                      0   \n",
       "4                 0         0                      0                      0   \n",
       "\n",
       "   Diploma in Otorhinolaryngology (DLO)  DDVL  City  \n",
       "0                                     0     0     6  \n",
       "1                                     1     0     5  \n",
       "2                                     0     1     1  \n",
       "3                                     0     0     3  \n",
       "4                                     0     0     0  "
      ]
     },
     "execution_count": 286,
     "metadata": {},
     "output_type": "execute_result"
    }
   ],
   "source": [
    "df_1.head()"
   ]
  },
  {
   "cell_type": "code",
   "execution_count": 287,
   "metadata": {},
   "outputs": [
    {
     "data": {
      "text/html": [
       "<div>\n",
       "<style scoped>\n",
       "    .dataframe tbody tr th:only-of-type {\n",
       "        vertical-align: middle;\n",
       "    }\n",
       "\n",
       "    .dataframe tbody tr th {\n",
       "        vertical-align: top;\n",
       "    }\n",
       "\n",
       "    .dataframe thead th {\n",
       "        text-align: right;\n",
       "    }\n",
       "</style>\n",
       "<table border=\"1\" class=\"dataframe\">\n",
       "  <thead>\n",
       "    <tr style=\"text-align: right;\">\n",
       "      <th></th>\n",
       "      <th>Profile</th>\n",
       "      <th>Fees</th>\n",
       "      <th>experience</th>\n",
       "      <th>locality</th>\n",
       "      <th>rating</th>\n",
       "      <th>MBBS</th>\n",
       "      <th>BDS</th>\n",
       "      <th>BAMS</th>\n",
       "      <th>BHMS</th>\n",
       "      <th>MD - Dermatology</th>\n",
       "      <th>MS - ENT</th>\n",
       "      <th>Venereology &amp; Leprosy</th>\n",
       "      <th>MD - General Medicine</th>\n",
       "      <th>Diploma in Otorhinolaryngology (DLO)</th>\n",
       "      <th>MD - Homeopathy</th>\n",
       "      <th>City</th>\n",
       "    </tr>\n",
       "  </thead>\n",
       "  <tbody>\n",
       "    <tr>\n",
       "      <th>0</th>\n",
       "      <td>5</td>\n",
       "      <td>100</td>\n",
       "      <td>24</td>\n",
       "      <td>296</td>\n",
       "      <td>100</td>\n",
       "      <td>0</td>\n",
       "      <td>0</td>\n",
       "      <td>0</td>\n",
       "      <td>1</td>\n",
       "      <td>0</td>\n",
       "      <td>0</td>\n",
       "      <td>0</td>\n",
       "      <td>0</td>\n",
       "      <td>0</td>\n",
       "      <td>1</td>\n",
       "      <td>4</td>\n",
       "    </tr>\n",
       "    <tr>\n",
       "      <th>1</th>\n",
       "      <td>0</td>\n",
       "      <td>350</td>\n",
       "      <td>12</td>\n",
       "      <td>856</td>\n",
       "      <td>98</td>\n",
       "      <td>0</td>\n",
       "      <td>0</td>\n",
       "      <td>1</td>\n",
       "      <td>0</td>\n",
       "      <td>0</td>\n",
       "      <td>0</td>\n",
       "      <td>0</td>\n",
       "      <td>0</td>\n",
       "      <td>0</td>\n",
       "      <td>0</td>\n",
       "      <td>0</td>\n",
       "    </tr>\n",
       "    <tr>\n",
       "      <th>2</th>\n",
       "      <td>3</td>\n",
       "      <td>300</td>\n",
       "      <td>9</td>\n",
       "      <td>452</td>\n",
       "      <td>97</td>\n",
       "      <td>1</td>\n",
       "      <td>0</td>\n",
       "      <td>0</td>\n",
       "      <td>0</td>\n",
       "      <td>0</td>\n",
       "      <td>0</td>\n",
       "      <td>0</td>\n",
       "      <td>0</td>\n",
       "      <td>0</td>\n",
       "      <td>0</td>\n",
       "      <td>0</td>\n",
       "    </tr>\n",
       "    <tr>\n",
       "      <th>3</th>\n",
       "      <td>0</td>\n",
       "      <td>250</td>\n",
       "      <td>12</td>\n",
       "      <td>68</td>\n",
       "      <td>97</td>\n",
       "      <td>0</td>\n",
       "      <td>0</td>\n",
       "      <td>1</td>\n",
       "      <td>0</td>\n",
       "      <td>0</td>\n",
       "      <td>0</td>\n",
       "      <td>0</td>\n",
       "      <td>0</td>\n",
       "      <td>0</td>\n",
       "      <td>0</td>\n",
       "      <td>0</td>\n",
       "    </tr>\n",
       "    <tr>\n",
       "      <th>4</th>\n",
       "      <td>0</td>\n",
       "      <td>250</td>\n",
       "      <td>20</td>\n",
       "      <td>335</td>\n",
       "      <td>100</td>\n",
       "      <td>0</td>\n",
       "      <td>0</td>\n",
       "      <td>1</td>\n",
       "      <td>0</td>\n",
       "      <td>0</td>\n",
       "      <td>0</td>\n",
       "      <td>0</td>\n",
       "      <td>0</td>\n",
       "      <td>0</td>\n",
       "      <td>0</td>\n",
       "      <td>1</td>\n",
       "    </tr>\n",
       "  </tbody>\n",
       "</table>\n",
       "</div>"
      ],
      "text/plain": [
       "   Profile  Fees experience  locality rating  MBBS  BDS  BAMS  BHMS  \\\n",
       "0        5   100         24       296    100     0    0     0     1   \n",
       "1        0   350         12       856     98     0    0     1     0   \n",
       "2        3   300          9       452     97     1    0     0     0   \n",
       "3        0   250         12        68     97     0    0     1     0   \n",
       "4        0   250         20       335    100     0    0     1     0   \n",
       "\n",
       "   MD - Dermatology  MS - ENT  Venereology & Leprosy  MD - General Medicine  \\\n",
       "0                 0         0                      0                      0   \n",
       "1                 0         0                      0                      0   \n",
       "2                 0         0                      0                      0   \n",
       "3                 0         0                      0                      0   \n",
       "4                 0         0                      0                      0   \n",
       "\n",
       "   Diploma in Otorhinolaryngology (DLO)  MD - Homeopathy  City  \n",
       "0                                     0                1     4  \n",
       "1                                     0                0     0  \n",
       "2                                     0                0     0  \n",
       "3                                     0                0     0  \n",
       "4                                     0                0     1  "
      ]
     },
     "execution_count": 287,
     "metadata": {},
     "output_type": "execute_result"
    }
   ],
   "source": [
    "df1.head()"
   ]
  },
  {
   "cell_type": "markdown",
   "metadata": {},
   "source": [
    "# Data cleaning"
   ]
  },
  {
   "cell_type": "code",
   "execution_count": 288,
   "metadata": {},
   "outputs": [
    {
     "data": {
      "text/plain": [
       "Profile                                 0\n",
       "Fees                                    0\n",
       "experience                              0\n",
       "locality                                0\n",
       "rating                                  0\n",
       "MBBS                                    0\n",
       "BDS                                     0\n",
       "BAMS                                    0\n",
       "BHMS                                    0\n",
       "MD - Dermatology                        0\n",
       "MS - ENT                                0\n",
       "Venereology & Leprosy                   0\n",
       "MD - General Medicine                   0\n",
       "Diploma in Otorhinolaryngology (DLO)    0\n",
       "MD - Homeopathy                         0\n",
       "City                                    0\n",
       "dtype: int64"
      ]
     },
     "execution_count": 288,
     "metadata": {},
     "output_type": "execute_result"
    }
   ],
   "source": [
    "df1.isnull().sum()"
   ]
  },
  {
   "cell_type": "code",
   "execution_count": 289,
   "metadata": {},
   "outputs": [
    {
     "data": {
      "text/plain": [
       "Profile                                 0\n",
       "experience                              0\n",
       "locality                                0\n",
       "rating                                  0\n",
       "MBBS                                    0\n",
       "BDS                                     0\n",
       "BHMS                                    0\n",
       "BAMS                                    0\n",
       "MD - Dermatology                        0\n",
       "MS - ENT                                0\n",
       "MD - General Medicine                   0\n",
       "Venereology & Leprosy                   0\n",
       "Diploma in Otorhinolaryngology (DLO)    0\n",
       "DDVL                                    0\n",
       "City                                    0\n",
       "dtype: int64"
      ]
     },
     "execution_count": 289,
     "metadata": {},
     "output_type": "execute_result"
    }
   ],
   "source": [
    "df_1.isnull().sum()"
   ]
  },
  {
   "cell_type": "code",
   "execution_count": 290,
   "metadata": {},
   "outputs": [],
   "source": [
    "k=df1.applymap(np.isreal)"
   ]
  },
  {
   "cell_type": "code",
   "execution_count": 291,
   "metadata": {
    "collapsed": true
   },
   "outputs": [
    {
     "name": "stdout",
     "output_type": "stream",
     "text": [
      "Profile\n",
      "True    5961\n",
      "Name: Profile, dtype: int64\n",
      "\n",
      "\n",
      "Fees\n",
      "True    5961\n",
      "Name: Fees, dtype: int64\n",
      "\n",
      "\n",
      "experience\n",
      "False    5961\n",
      "Name: experience, dtype: int64\n",
      "\n",
      "\n",
      "locality\n",
      "True    5961\n",
      "Name: locality, dtype: int64\n",
      "\n",
      "\n",
      "rating\n",
      "False    3302\n",
      "True     2659\n",
      "Name: rating, dtype: int64\n",
      "\n",
      "\n",
      "MBBS\n",
      "True    5961\n",
      "Name: MBBS, dtype: int64\n",
      "\n",
      "\n",
      "BDS\n",
      "True    5961\n",
      "Name: BDS, dtype: int64\n",
      "\n",
      "\n",
      "BAMS\n",
      "True    5961\n",
      "Name: BAMS, dtype: int64\n",
      "\n",
      "\n",
      "BHMS\n",
      "True    5961\n",
      "Name: BHMS, dtype: int64\n",
      "\n",
      "\n",
      "MD - Dermatology\n",
      "True    5961\n",
      "Name: MD - Dermatology, dtype: int64\n",
      "\n",
      "\n",
      "MS - ENT\n",
      "True    5961\n",
      "Name: MS - ENT, dtype: int64\n",
      "\n",
      "\n",
      "Venereology & Leprosy\n",
      "True    5961\n",
      "Name: Venereology & Leprosy, dtype: int64\n",
      "\n",
      "\n",
      "MD - General Medicine\n",
      "True    5961\n",
      "Name: MD - General Medicine, dtype: int64\n",
      "\n",
      "\n",
      "Diploma in Otorhinolaryngology (DLO)\n",
      "True    5961\n",
      "Name: Diploma in Otorhinolaryngology (DLO), dtype: int64\n",
      "\n",
      "\n",
      "MD - Homeopathy\n",
      "True    5961\n",
      "Name: MD - Homeopathy, dtype: int64\n",
      "\n",
      "\n",
      "City\n",
      "True    5961\n",
      "Name: City, dtype: int64\n",
      "\n",
      "\n"
     ]
    }
   ],
   "source": [
    "for col in k:\n",
    "    print(col)\n",
    "    print(k[col].value_counts())\n",
    "    print('\\n')"
   ]
  },
  {
   "cell_type": "code",
   "execution_count": 295,
   "metadata": {},
   "outputs": [],
   "source": [
    "expert=[]\n",
    "for i in range(0,1987):\n",
    "    expert.append(int(df_1['experience'][i]))"
   ]
  },
  {
   "cell_type": "code",
   "execution_count": 297,
   "metadata": {},
   "outputs": [],
   "source": [
    "df_1['Experience']=expert"
   ]
  },
  {
   "cell_type": "code",
   "execution_count": 299,
   "metadata": {},
   "outputs": [],
   "source": [
    "df_1.drop('experience',axis=1,inplace=True)"
   ]
  },
  {
   "cell_type": "code",
   "execution_count": 302,
   "metadata": {},
   "outputs": [],
   "source": [
    "Rate=[]\n",
    "for i in range(0,1987):\n",
    "    Rate.append(int(df_1['rating'][i]))"
   ]
  },
  {
   "cell_type": "code",
   "execution_count": 303,
   "metadata": {},
   "outputs": [],
   "source": [
    "df_1['Ratings']=Rate"
   ]
  },
  {
   "cell_type": "code",
   "execution_count": 304,
   "metadata": {},
   "outputs": [],
   "source": [
    "df_1.drop('rating',axis=1,inplace=True)"
   ]
  },
  {
   "cell_type": "code",
   "execution_count": null,
   "metadata": {},
   "outputs": [],
   "source": []
  },
  {
   "cell_type": "code",
   "execution_count": 305,
   "metadata": {},
   "outputs": [
    {
     "name": "stdout",
     "output_type": "stream",
     "text": [
      "Profile\n",
      "True    1987\n",
      "Name: Profile, dtype: int64\n",
      "\n",
      "\n",
      "locality\n",
      "True    1987\n",
      "Name: locality, dtype: int64\n",
      "\n",
      "\n",
      "MBBS\n",
      "True    1987\n",
      "Name: MBBS, dtype: int64\n",
      "\n",
      "\n",
      "BDS\n",
      "True    1987\n",
      "Name: BDS, dtype: int64\n",
      "\n",
      "\n",
      "BHMS\n",
      "True    1987\n",
      "Name: BHMS, dtype: int64\n",
      "\n",
      "\n",
      "BAMS\n",
      "True    1987\n",
      "Name: BAMS, dtype: int64\n",
      "\n",
      "\n",
      "MD - Dermatology\n",
      "True    1987\n",
      "Name: MD - Dermatology, dtype: int64\n",
      "\n",
      "\n",
      "MS - ENT\n",
      "True    1987\n",
      "Name: MS - ENT, dtype: int64\n",
      "\n",
      "\n",
      "MD - General Medicine\n",
      "True    1987\n",
      "Name: MD - General Medicine, dtype: int64\n",
      "\n",
      "\n",
      "Venereology & Leprosy\n",
      "True    1987\n",
      "Name: Venereology & Leprosy, dtype: int64\n",
      "\n",
      "\n",
      "Diploma in Otorhinolaryngology (DLO)\n",
      "True    1987\n",
      "Name: Diploma in Otorhinolaryngology (DLO), dtype: int64\n",
      "\n",
      "\n",
      "DDVL\n",
      "True    1987\n",
      "Name: DDVL, dtype: int64\n",
      "\n",
      "\n",
      "City\n",
      "True    1987\n",
      "Name: City, dtype: int64\n",
      "\n",
      "\n",
      "Experience\n",
      "True    1987\n",
      "Name: Experience, dtype: int64\n",
      "\n",
      "\n",
      "Ratings\n",
      "True    1987\n",
      "Name: Ratings, dtype: int64\n",
      "\n",
      "\n"
     ]
    }
   ],
   "source": [
    "k1=df_1.applymap(np.isreal)\n",
    "for col in k1:\n",
    "    print(col)\n",
    "    print(k1[col].value_counts())\n",
    "    print('\\n')"
   ]
  },
  {
   "cell_type": "markdown",
   "metadata": {},
   "source": [
    "Observations:\n",
    "    \n",
    "    1.The data is clean."
   ]
  },
  {
   "cell_type": "markdown",
   "metadata": {},
   "source": [
    "# Removing the outliers"
   ]
  },
  {
   "cell_type": "code",
   "execution_count": 306,
   "metadata": {},
   "outputs": [],
   "source": [
    "from scipy.stats import zscore"
   ]
  },
  {
   "cell_type": "markdown",
   "metadata": {},
   "source": [
    "# Removing the outliers by IQR method"
   ]
  },
  {
   "cell_type": "code",
   "execution_count": 312,
   "metadata": {},
   "outputs": [
    {
     "name": "stdout",
     "output_type": "stream",
     "text": [
      "percentage of loss of data by IQR is : 0.030364032880389198\n"
     ]
    }
   ],
   "source": [
    "q1=df1.quantile(0)\n",
    "q3=df1.quantile(0.96)\n",
    "IQR=q3-q1\n",
    "df2=df1[~((df1 <(q1-1.5*IQR))|(df1 >(q3+1.5*IQR))).any(axis=1)]\n",
    "print('percentage of loss of data by IQR is :',(df1.shape[0]-df2.shape[0])/df1.shape[0])"
   ]
  },
  {
   "cell_type": "markdown",
   "metadata": {},
   "source": [
    "Observations:\n",
    "    \n",
    "    Since the data loss is less than 7% ,its ok."
   ]
  },
  {
   "cell_type": "markdown",
   "metadata": {},
   "source": [
    "# Splitting the variables"
   ]
  },
  {
   "cell_type": "code",
   "execution_count": 314,
   "metadata": {},
   "outputs": [],
   "source": [
    "x=df2.drop('Fees',axis=1)\n",
    "y=df2['Fees']"
   ]
  },
  {
   "cell_type": "code",
   "execution_count": 315,
   "metadata": {},
   "outputs": [
    {
     "data": {
      "text/plain": [
       "(5780, 15)"
      ]
     },
     "execution_count": 315,
     "metadata": {},
     "output_type": "execute_result"
    }
   ],
   "source": [
    "x.shape"
   ]
  },
  {
   "cell_type": "code",
   "execution_count": 316,
   "metadata": {},
   "outputs": [
    {
     "data": {
      "text/plain": [
       "(5780,)"
      ]
     },
     "execution_count": 316,
     "metadata": {},
     "output_type": "execute_result"
    }
   ],
   "source": [
    "y.shape"
   ]
  },
  {
   "cell_type": "code",
   "execution_count": 318,
   "metadata": {},
   "outputs": [
    {
     "data": {
      "text/plain": [
       "Profile                                 0.145469\n",
       "experience                              0.994414\n",
       "locality                                0.106043\n",
       "rating                                 -5.248510\n",
       "MBBS                                    0.059557\n",
       "BDS                                     1.246134\n",
       "BAMS                                    2.177066\n",
       "BHMS                                    2.577407\n",
       "MD - Dermatology                        2.583426\n",
       "MS - ENT                                3.338502\n",
       "Venereology & Leprosy                   4.097447\n",
       "MD - General Medicine                   4.164321\n",
       "Diploma in Otorhinolaryngology (DLO)    4.502043\n",
       "MD - Homeopathy                         0.000000\n",
       "City                                    0.024316\n",
       "dtype: float64"
      ]
     },
     "execution_count": 318,
     "metadata": {},
     "output_type": "execute_result"
    }
   ],
   "source": [
    "x.skew()"
   ]
  },
  {
   "cell_type": "markdown",
   "metadata": {},
   "source": [
    "Observations:\n",
    "    \n",
    "    Since most of them are categorical data, no need to treat for skewness."
   ]
  },
  {
   "cell_type": "markdown",
   "metadata": {},
   "source": [
    "# Model building"
   ]
  },
  {
   "cell_type": "code",
   "execution_count": 323,
   "metadata": {},
   "outputs": [
    {
     "name": "stdout",
     "output_type": "stream",
     "text": [
      "the best accuracy is  0.14754694208192654 on random state 153\n"
     ]
    }
   ],
   "source": [
    "maxAccu=0\n",
    "ln=LinearRegression()\n",
    "maxRS=0\n",
    "for i in range(1,200):\n",
    "    x_train,x_test,y_train,y_test=train_test_split(x,y,test_size=0.3,random_state=i)\n",
    "    mod=ln\n",
    "    mod.fit(x_train,y_train)\n",
    "    pred=mod.predict(x_test)\n",
    "    acc=r2_score(y_test,pred)\n",
    "    if acc>maxAccu:\n",
    "        maxAccu=acc\n",
    "        maxRS=i\n",
    "print('the best accuracy is ',maxAccu,'on random state',maxRS)"
   ]
  },
  {
   "cell_type": "code",
   "execution_count": 324,
   "metadata": {},
   "outputs": [],
   "source": [
    "x_train,x_test,y_train,y_test=train_test_split(x,y,test_size=0.3,random_state=153)"
   ]
  },
  {
   "cell_type": "code",
   "execution_count": 325,
   "metadata": {},
   "outputs": [
    {
     "name": "stdout",
     "output_type": "stream",
     "text": [
      "x train shape: (4046, 15)\n",
      "x test shape (1734, 15)\n",
      "\n",
      "\n",
      "y train shape: (4046,)\n",
      "y test shape (1734,)\n"
     ]
    }
   ],
   "source": [
    "print('x train shape:',x_train.shape)\n",
    "print('x test shape',x_test.shape)\n",
    "print('\\n')\n",
    "print('y train shape:',y_train.shape)\n",
    "print('y test shape',y_test.shape)"
   ]
  },
  {
   "cell_type": "code",
   "execution_count": 326,
   "metadata": {},
   "outputs": [
    {
     "name": "stdout",
     "output_type": "stream",
     "text": [
      "r2 score is : 0.148\n",
      "RMSE: 181.267\n",
      "mean absolute error: 145.348\n"
     ]
    }
   ],
   "source": [
    "#linear model\n",
    "ln=LinearRegression()\n",
    "ln.fit(x_train,y_train)\n",
    "predln=ln.predict(x_test)\n",
    "print('r2 score is :',round((r2_score(y_test,predln)),3))\n",
    "print('RMSE:',round(np.sqrt(mean_squared_error(y_test,predln)),3))\n",
    "print('mean absolute error:',round((mean_absolute_error(y_test,predln)),3))"
   ]
  },
  {
   "cell_type": "code",
   "execution_count": 327,
   "metadata": {},
   "outputs": [
    {
     "name": "stdout",
     "output_type": "stream",
     "text": [
      "r2 score is : 0.148\n",
      "RMSE: 181.267\n",
      "mean absolute error: 145.348\n"
     ]
    }
   ],
   "source": [
    "#lasso model\n",
    "ls=Lasso(alpha=0.00001)\n",
    "ls.fit(x_train,y_train)\n",
    "predls=ls.predict(x_test)\n",
    "print('r2 score is :',round((r2_score(y_test,predls)),3))\n",
    "print('RMSE:',round(np.sqrt(mean_squared_error(y_test,predls)),3))\n",
    "print('mean absolute error:',round((mean_absolute_error(y_test,predls)),3))"
   ]
  },
  {
   "cell_type": "code",
   "execution_count": 329,
   "metadata": {},
   "outputs": [
    {
     "name": "stdout",
     "output_type": "stream",
     "text": [
      "r2 score is : 0.148\n",
      "RMSE: 181.268\n",
      "mean absolute error: 145.35\n"
     ]
    }
   ],
   "source": [
    "#Ridge model\n",
    "rd=Ridge(alpha=0.1)\n",
    "rd.fit(x_train,y_train)\n",
    "predrd=rd.predict(x_test)\n",
    "print('r2 score is :',round((r2_score(y_test,predrd)),3))\n",
    "print('RMSE:',round(np.sqrt(mean_squared_error(y_test,predrd)),3))\n",
    "print('mean absolute error:',round((mean_absolute_error(y_test,predrd)),3))"
   ]
  },
  {
   "cell_type": "code",
   "execution_count": 333,
   "metadata": {},
   "outputs": [
    {
     "name": "stdout",
     "output_type": "stream",
     "text": [
      "r2 score is : 0.148\n",
      "RMSE: 181.269\n",
      "mean absolute error: 145.352\n"
     ]
    }
   ],
   "source": [
    "#ElasticNet model\n",
    "enr=ElasticNet(alpha=0.0001)\n",
    "enr.fit(x_train,y_train)\n",
    "predenr=enr.predict(x_test)\n",
    "print('r2 score is :',round((r2_score(y_test,predenr)),3))\n",
    "print('RMSE:',round(np.sqrt(mean_squared_error(y_test,predenr)),3))\n",
    "print('mean absolute error:',round((mean_absolute_error(y_test,predenr)),3))"
   ]
  },
  {
   "cell_type": "code",
   "execution_count": 336,
   "metadata": {},
   "outputs": [
    {
     "name": "stdout",
     "output_type": "stream",
     "text": [
      "r2 score is : 0.218\n",
      "RMSE: 173.566\n",
      "mean absolute error: 134.177\n"
     ]
    }
   ],
   "source": [
    "rf = RandomForestRegressor(n_estimators=100)\n",
    "rf.fit(x_train, y_train)\n",
    "predrf=rf.predict(x_test)\n",
    "print('r2 score is :',round((r2_score(y_test,predrf)),3))\n",
    "print('RMSE:',round(np.sqrt(mean_squared_error(y_test,predrf)),3))\n",
    "print('mean absolute error:',round((mean_absolute_error(y_test,predrf)),3))"
   ]
  },
  {
   "cell_type": "markdown",
   "metadata": {},
   "source": [
    "# Cross validation scores"
   ]
  },
  {
   "cell_type": "code",
   "execution_count": 339,
   "metadata": {},
   "outputs": [
    {
     "name": "stdout",
     "output_type": "stream",
     "text": [
      "LinearRegression() score is:\n",
      "0.114\n",
      "\n",
      "\n",
      "Lasso(alpha=1e-05) score is:\n",
      "0.114\n",
      "\n",
      "\n",
      "Ridge(alpha=0.1) score is:\n",
      "0.114\n",
      "\n",
      "\n",
      "ElasticNet(alpha=0.0001) score is:\n",
      "0.114\n",
      "\n",
      "\n",
      "RandomForestRegressor() score is:\n",
      "0.166\n",
      "\n",
      "\n"
     ]
    }
   ],
   "source": [
    "models=[ln,ls,rd,enr,rf]\n",
    "for m in models:\n",
    "    \n",
    "    score=cross_val_score(m,x,y,cv=5)\n",
    "    print(m,'score is:')\n",
    "    print(round((score.mean()),3))\n",
    "    print('\\n')"
   ]
  },
  {
   "cell_type": "markdown",
   "metadata": {},
   "source": [
    "**From the above observations we can conclude that RandomForestRegressor is the best model**"
   ]
  },
  {
   "cell_type": "markdown",
   "metadata": {},
   "source": [
    "# Hyper parameter tuning"
   ]
  },
  {
   "cell_type": "code",
   "execution_count": null,
   "metadata": {},
   "outputs": [],
   "source": [
    "rf=RandomForestRegressor()\n",
    "grid_param={\n",
    "    'criterion':['mse','mae'],\n",
    "    \n",
    "    'max_depth':[10],\n",
    "    'max_features':['auto'],\n",
    "    'min_samples_split':[2],\n",
    "    'bootstrap':[True,False]\n",
    "}\n",
    "\n",
    "gd_sr=GridSearchCV(estimator=rf,\n",
    "                  param_grid=grid_param,\n",
    "                  scoring='r2',\n",
    "                  cv=5)\n",
    "\n",
    "gd_sr.fit(x,y)\n",
    "\n",
    "best_parameters=gd_sr.best_params_\n",
    "print(best_parameters)\n",
    "best_result=gd_sr.best_score_\n",
    "print(best_result)"
   ]
  },
  {
   "cell_type": "markdown",
   "metadata": {},
   "source": [
    "Since i have refreshed it,its running again the result it showed is been induced in rf1"
   ]
  },
  {
   "cell_type": "code",
   "execution_count": 342,
   "metadata": {},
   "outputs": [],
   "source": [
    "rf1=RandomForestRegressor(n_estimators=100,criterion='mse',max_depth=10,max_features='auto',min_samples_split=2,bootstrap=True)"
   ]
  },
  {
   "cell_type": "code",
   "execution_count": 343,
   "metadata": {},
   "outputs": [
    {
     "name": "stdout",
     "output_type": "stream",
     "text": [
      "r2 score is : 0.25\n",
      "RMSE: 169.971\n",
      "mean absolute error: 132.623\n"
     ]
    }
   ],
   "source": [
    "rf1.fit(x_train, y_train)\n",
    "predrf1=rf1.predict(x_test)\n",
    "print('r2 score is :',round((r2_score(y_test,predrf1)),3))\n",
    "print('RMSE:',round(np.sqrt(mean_squared_error(y_test,predrf1)),3))\n",
    "print('mean absolute error:',round((mean_absolute_error(y_test,predrf1)),3))"
   ]
  },
  {
   "cell_type": "markdown",
   "metadata": {},
   "source": [
    "Observations:\n",
    "    \n",
    "    1.The maximum accuracy score we got is 0.25"
   ]
  },
  {
   "cell_type": "code",
   "execution_count": 344,
   "metadata": {},
   "outputs": [],
   "source": [
    "predicted_result=pd.DataFrame()"
   ]
  },
  {
   "cell_type": "code",
   "execution_count": 345,
   "metadata": {},
   "outputs": [],
   "source": [
    "prediction=rf1.predict(df_1)"
   ]
  },
  {
   "cell_type": "code",
   "execution_count": 346,
   "metadata": {},
   "outputs": [],
   "source": [
    "predicted_result['Predicted Results']=prediction"
   ]
  },
  {
   "cell_type": "code",
   "execution_count": 347,
   "metadata": {},
   "outputs": [],
   "source": [
    "predicted_result.to_csv('Doctor.csv')"
   ]
  },
  {
   "cell_type": "markdown",
   "metadata": {},
   "source": [
    "# Saving the model"
   ]
  },
  {
   "cell_type": "code",
   "execution_count": 348,
   "metadata": {},
   "outputs": [
    {
     "data": {
      "text/plain": [
       "['rf1doctor.obj']"
      ]
     },
     "execution_count": 348,
     "metadata": {},
     "output_type": "execute_result"
    }
   ],
   "source": [
    "import joblib\n",
    "joblib.dump(rf1,'rf1doctor.obj')"
   ]
  }
 ],
 "metadata": {
  "kernelspec": {
   "display_name": "Python 3",
   "language": "python",
   "name": "python3"
  }
 },
 "nbformat": 4,
 "nbformat_minor": 4
}
