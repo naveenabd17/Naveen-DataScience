{
 "cells": [
  {
   "cell_type": "code",
   "execution_count": 1,
   "metadata": {},
   "outputs": [],
   "source": [
    "import re"
   ]
  },
  {
   "cell_type": "code",
   "execution_count": 29,
   "metadata": {},
   "outputs": [
    {
     "name": "stdout",
     "output_type": "stream",
     "text": [
      "{'Jessica': '22', 'Theon': '33', 'Gabriel': '44', 'Joey': '21'}\n"
     ]
    }
   ],
   "source": [
    "#Sample example\n",
    "Nameage='Jessica is 22 and Theon is 33 Gabriel is 44 and Joey is 21'\n",
    "ages=re.findall(r'\\d{2}',Nameage)\n",
    "names=re.findall(r'[A-Z][a-z]*',Nameage)\n",
    "dict1={}\n",
    "x=0\n",
    "for eachname in names:\n",
    "    dict1[eachname]=ages[x]\n",
    "    x+=1\n",
    "print(dict1)"
   ]
  },
  {
   "cell_type": "code",
   "execution_count": 5,
   "metadata": {},
   "outputs": [
    {
     "name": "stdout",
     "output_type": "stream",
     "text": [
      "Yes inform is here\n"
     ]
    }
   ],
   "source": [
    "#Searching using regualar expression\n",
    "text='yes we need to inform him as soon as possible'\n",
    "if re.search('inform',text):\n",
    "    print('Yes inform is here')"
   ]
  },
  {
   "cell_type": "code",
   "execution_count": 6,
   "metadata": {},
   "outputs": [
    {
     "name": "stdout",
     "output_type": "stream",
     "text": [
      "['inform', 'inform', 'inform']\n"
     ]
    }
   ],
   "source": [
    "#how many times inform has came\n",
    "text1='we need to inform him with the latest information,and information has to be clear.'\n",
    "inform=re.findall('inform',text1)\n",
    "print(inform)"
   ]
  },
  {
   "cell_type": "code",
   "execution_count": 8,
   "metadata": {},
   "outputs": [
    {
     "name": "stdout",
     "output_type": "stream",
     "text": [
      "(11, 17)\n",
      "(38, 44)\n"
     ]
    }
   ],
   "source": [
    "#finding the starting and ending index\n",
    "str1='we need to inform him with the latest information'\n",
    "for i in re.finditer('inform',str1):\n",
    "    loctup=i.span()\n",
    "    print(loctup)"
   ]
  },
  {
   "cell_type": "code",
   "execution_count": 9,
   "metadata": {},
   "outputs": [
    {
     "name": "stdout",
     "output_type": "stream",
     "text": [
      "sat\n",
      "hat\n",
      "mat\n",
      "pat\n"
     ]
    }
   ],
   "source": [
    "#extracting words starting from s,h,m,p and ending with the pattern at\n",
    "str2='sat,hat,mat,pat'\n",
    "pattern=re.findall('[shmp]at',str2)\n",
    "for i in pattern:\n",
    "    print(i)"
   ]
  },
  {
   "cell_type": "code",
   "execution_count": 10,
   "metadata": {},
   "outputs": [
    {
     "name": "stdout",
     "output_type": "stream",
     "text": [
      "hat\n",
      "mat\n"
     ]
    }
   ],
   "source": [
    "#all the words which are starting from h to m and ending with at should be printed\n",
    "str3='sat,hat,mat,pat'\n",
    "pattern1=re.findall('[h-m]at',str3)\n",
    "for i in pattern1:\n",
    "    print(i)"
   ]
  },
  {
   "cell_type": "code",
   "execution_count": 11,
   "metadata": {},
   "outputs": [
    {
     "name": "stdout",
     "output_type": "stream",
     "text": [
      "sat\n",
      "pat\n"
     ]
    }
   ],
   "source": [
    "#apart from all the words which are starting from h to m and ending with at should be printed\n",
    "str4='sat,hat,mat,pat'\n",
    "pattern2=re.findall('[^h-m]at',str4)\n",
    "for i in pattern2:\n",
    "    print(i)"
   ]
  },
  {
   "cell_type": "code",
   "execution_count": 17,
   "metadata": {},
   "outputs": [
    {
     "name": "stdout",
     "output_type": "stream",
     "text": [
      "sat,food,mat,pat\n"
     ]
    }
   ],
   "source": [
    "#replacing the words\n",
    "food='sat,rat,mat,pat'\n",
    "regex=re.compile('[r]at')\n",
    "food=regex.sub('food',food)\n",
    "print(food)"
   ]
  },
  {
   "cell_type": "code",
   "execution_count": 18,
   "metadata": {},
   "outputs": [
    {
     "name": "stdout",
     "output_type": "stream",
     "text": [
      "Keep the blue flag\n",
      "flying high\n",
      "Chelsea\n",
      "\n",
      "Keep the blue flag flying high Chelsea \n"
     ]
    }
   ],
   "source": [
    "#replacing the new line with single space\n",
    "text=\"\"\"Keep the blue flag\n",
    "flying high\n",
    "Chelsea\n",
    "\"\"\"\n",
    "print(text)\n",
    "regex=re.compile('\\n')\n",
    "text=regex.sub(' ',text)\n",
    "print(text)"
   ]
  },
  {
   "cell_type": "code",
   "execution_count": 21,
   "metadata": {},
   "outputs": [
    {
     "name": "stdout",
     "output_type": "stream",
     "text": [
      "Matches: 3\n"
     ]
    }
   ],
   "source": [
    "#finding the numbers\n",
    "num=\"123 1234 12345 123456 1234567\"\n",
    "print('Matches:',len(re.findall(\"\\d{5,7}\",num)))"
   ]
  },
  {
   "cell_type": "code",
   "execution_count": 25,
   "metadata": {},
   "outputs": [
    {
     "name": "stdout",
     "output_type": "stream",
     "text": [
      "it is an phone number\n"
     ]
    }
   ],
   "source": [
    "# \\w = [a-zA-Z0-9]\n",
    "# \\W = [^a-zA-Z0-9]\n",
    "#finding the correct phone number according to conditions\n",
    "phn=\"444-555-1232\"\n",
    "if re.search(\"\\w{3}-\\w{3}-\\w{4}\",phn): #In this case instead of \\w we can use \\d also since only numbers are present\n",
    "    print('it is an phone number')\n",
    "else:\n",
    "    print('its not an phone number')"
   ]
  },
  {
   "cell_type": "code",
   "execution_count": 26,
   "metadata": {},
   "outputs": [
    {
     "name": "stdout",
     "output_type": "stream",
     "text": [
      "name is valid\n"
     ]
    }
   ],
   "source": [
    "#finding whether full name is valid or not\n",
    "# \\s = [\\f\\n\\r\\t\\v]\n",
    "# \\S = [^\\f\\n\\r\\t\\v]\n",
    "if re.search(\"\\w{2,20}\\s\\w{2,30}\",\"Naveen abd\"):\n",
    "    print('name is valid')\n",
    "else:\n",
    "    print('name is invalid')"
   ]
  },
  {
   "cell_type": "code",
   "execution_count": 28,
   "metadata": {},
   "outputs": [
    {
     "name": "stdout",
     "output_type": "stream",
     "text": [
      "email matches: ['sk@aol.com md', 'hgf@ghn.com']\n"
     ]
    }
   ],
   "source": [
    "#finding the valid mail id\n",
    "email=\"sk@aol.com md@hg.com hgf@ghn.com \"\n",
    "print('email matches:',re.findall(\"[\\w._%+-]{1,20}@[\\w.-]{2,20}.[A-Za-z]{2,3}\",email))"
   ]
  },
  {
   "cell_type": "code",
   "execution_count": 1,
   "metadata": {},
   "outputs": [],
   "source": [
    "import re"
   ]
  },
  {
   "cell_type": "code",
   "execution_count": 4,
   "metadata": {},
   "outputs": [
    {
     "data": {
      "text/plain": [
       "' friendly the boy has a nice dog, the dog is friendly'"
      ]
     },
     "execution_count": 4,
     "metadata": {},
     "output_type": "execute_result"
    }
   ],
   "source": [
    "#Removing occurence at the start \n",
    "re.sub(r'^the','','the friendly the boy has a nice dog, the dog is friendly') #use regex=re.compile()"
   ]
  },
  {
   "cell_type": "code",
   "execution_count": 7,
   "metadata": {},
   "outputs": [
    {
     "data": {
      "text/plain": [
       "'the friendly boy has a nice dog, the dog is '"
      ]
     },
     "execution_count": 7,
     "metadata": {},
     "output_type": "execute_result"
    }
   ],
   "source": [
    "#Removing occurence at the end \n",
    "re.sub(r'friendly$','','the friendly boy has a nice dog, the dog is friendly')"
   ]
  },
  {
   "cell_type": "code",
   "execution_count": 8,
   "metadata": {},
   "outputs": [
    {
     "data": {
      "text/plain": [
       "'I have  rupees with me.'"
      ]
     },
     "execution_count": 8,
     "metadata": {},
     "output_type": "execute_result"
    }
   ],
   "source": [
    "#Removing numerical data\n",
    "re.sub(r'\\d+','','I have 500 rupees with me.')"
   ]
  },
  {
   "cell_type": "code",
   "execution_count": 11,
   "metadata": {},
   "outputs": [
    {
     "data": {
      "text/plain": [
       "'I have  and you have .'"
      ]
     },
     "execution_count": 11,
     "metadata": {},
     "output_type": "execute_result"
    }
   ],
   "source": [
    "#Removing currencies \n",
    "re.sub(r'[\\$\\d+\\d+\\$]','','I have 500$ and you have 200$.')"
   ]
  },
  {
   "cell_type": "code",
   "execution_count": 12,
   "metadata": {},
   "outputs": [
    {
     "name": "stdout",
     "output_type": "stream",
     "text": [
      "Today is \n",
      "Today is \n",
      "Today is \n"
     ]
    }
   ],
   "source": [
    "#Handling all date formats\n",
    "print(re.sub(r'\\d+[\\./-]\\d+[\\./-]\\d+', '', 'Today is 14-07-2021'))\n",
    "print(re.sub(r'\\d+[\\./-]\\d+[\\./-]\\d+', '', 'Today is 14/07/2021'))\n",
    "print(re.sub(r'\\d+[\\./-]\\d+[\\./-]\\d+', '', 'Today is 14.07.2021'))"
   ]
  },
  {
   "cell_type": "code",
   "execution_count": 13,
   "metadata": {},
   "outputs": [
    {
     "data": {
      "text/plain": [
       "'My website is '"
      ]
     },
     "execution_count": 13,
     "metadata": {},
     "output_type": "execute_result"
    }
   ],
   "source": [
    "#Removing a hyperlink\n",
    "re.sub(r'https?:\\/\\/.*[\\r\\n]*', '', 'My website is https://rajsangani.me')"
   ]
  },
  {
   "cell_type": "code",
   "execution_count": 14,
   "metadata": {},
   "outputs": [
    {
     "name": "stdout",
     "output_type": "stream",
     "text": [
      "rajsangani\n",
      "rajsangani\n",
      "rajsangani\n"
     ]
    }
   ],
   "source": [
    "#Extracting the main domain name of a URL\n",
    "print(re.search(r'[\\.\\/]+(.*)\\.','https://rajsangani.me').group(1))\n",
    "print(re.search(r'[\\.\\/]+(.*)\\.','www.rajsangani.me').group(1))\n",
    "print(re.search(r'[\\.\\/]+(.*)\\.','https://rajsangani.me/about').group(1))"
   ]
  },
  {
   "cell_type": "code",
   "execution_count": 15,
   "metadata": {},
   "outputs": [
    {
     "data": {
      "text/plain": [
       "'Hi  I am   Raj Sangani  Nice to meet you      '"
      ]
     },
     "execution_count": 15,
     "metadata": {},
     "output_type": "execute_result"
    }
   ],
   "source": [
    "#Removing all punctuation\n",
    "re.sub(r'[^a-z0-9A-Z_]',' ','Hi, I am : Raj Sangani; Nice to meet you!!!!!!')"
   ]
  },
  {
   "cell_type": "code",
   "execution_count": 16,
   "metadata": {},
   "outputs": [
    {
     "data": {
      "text/plain": [
       "'Hi I am  Raj Sangani ! Nice to meet you!!!!!!'"
      ]
     },
     "execution_count": 16,
     "metadata": {},
     "output_type": "execute_result"
    }
   ],
   "source": [
    "re.sub(r'[\\.;:,\\?\\\"\\'\\/]','','''Hi, I am :\" Raj Sangani ! Nice to meet you!!!!!!''')"
   ]
  },
  {
   "cell_type": "code",
   "execution_count": 17,
   "metadata": {},
   "outputs": [
    {
     "data": {
      "text/plain": [
       "'Hi! I am Raj Sangani! Nice to see you!'"
      ]
     },
     "execution_count": 17,
     "metadata": {},
     "output_type": "execute_result"
    }
   ],
   "source": [
    "# Replacing 2 or more exclamation marks with a single one\n",
    "re.sub(r'!{2,}','!','''Hi! I am Raj Sangani!! Nice to see you!!!!!!''')"
   ]
  },
  {
   "cell_type": "code",
   "execution_count": 18,
   "metadata": {},
   "outputs": [
    {
     "data": {
      "text/plain": [
       "' Hi I am Raj. Would you like some help? '"
      ]
     },
     "execution_count": 18,
     "metadata": {},
     "output_type": "execute_result"
    }
   ],
   "source": [
    "#Replacing 2 or more whitespaces with a single one to make word spacing uniform\n",
    "re.sub(r' {2,}',' ','  Hi I  am     Raj. Would you like  some    help?  ')"
   ]
  },
  {
   "cell_type": "code",
   "execution_count": 19,
   "metadata": {},
   "outputs": [
    {
     "data": {
      "text/plain": [
       "'I like strawberry cheesecake more than blueberry cheesecake or chocolate cheesecake.'"
      ]
     },
     "execution_count": 19,
     "metadata": {},
     "output_type": "execute_result"
    }
   ],
   "source": [
    "#Combining words that are hyphenated or space separated\n",
    "re.sub(r'cheese[- ]?cake','cheesecake','I like strawberry cheese cake more than blueberry cheese-cake or chocolate cheesecake.')"
   ]
  },
  {
   "cell_type": "code",
   "execution_count": null,
   "metadata": {},
   "outputs": [],
   "source": []
  }
 ],
 "metadata": {
  "kernelspec": {
   "display_name": "Python 3",
   "language": "python",
   "name": "python3"
  },
  "language_info": {
   "codemirror_mode": {
    "name": "ipython",
    "version": 3
   },
   "file_extension": ".py",
   "mimetype": "text/x-python",
   "name": "python",
   "nbconvert_exporter": "python",
   "pygments_lexer": "ipython3",
   "version": "3.8.8"
  }
 },
 "nbformat": 4,
 "nbformat_minor": 4
}
