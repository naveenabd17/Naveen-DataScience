{
 "cells": [
  {
   "cell_type": "code",
   "execution_count": 1,
   "metadata": {},
   "outputs": [],
   "source": [
    "# Importing Libraries\n",
    "import selenium\n",
    "import pandas as pd\n",
    "import time\n",
    "from bs4 import BeautifulSoup\n",
    "\n",
    "# Importing selenium webdriver \n",
    "from selenium import webdriver\n",
    "\n",
    "# Importing required Exceptions which needs to handled\n",
    "from selenium.common.exceptions import StaleElementReferenceException, NoSuchElementException,ElementNotInteractableException\n",
    "\n",
    "#Importing requests\n",
    "import requests\n",
    "\n",
    "# importing regex\n",
    "import re"
   ]
  },
  {
   "cell_type": "code",
   "execution_count": 2,
   "metadata": {},
   "outputs": [],
   "source": [
    "#calling the driver\n",
    "driver=webdriver.Chrome('chromedriver.exe')"
   ]
  },
  {
   "cell_type": "markdown",
   "metadata": {},
   "source": [
    "**We are taking the data from car trade.com, since the urls of each page are following some sort of patterns so we are making up the urls**"
   ]
  },
  {
   "cell_type": "code",
   "execution_count": 3,
   "metadata": {},
   "outputs": [],
   "source": [
    "#Creating the urls of the main page\n",
    "urls_main_page=[]\n",
    "for i in range(1,251,1):\n",
    "    k1='https://www.cartrade.com/buy-used-cars/p-'\n",
    "    k2=str(i)\n",
    "    k=k1+k2\n",
    "    urls_main_page.append(k)"
   ]
  },
  {
   "cell_type": "code",
   "execution_count": 4,
   "metadata": {},
   "outputs": [],
   "source": [
    "#Collecting the urls of all the cars\n",
    "name1=[]\n",
    "for i in urls_main_page:\n",
    "    driver.get(i)\n",
    "    time.sleep(2)\n",
    "    \n",
    "    #collecting the urls of all the cars present in that page\n",
    "    names1=driver.find_elements_by_xpath('//h2[@class=\"h2heading truncate\"]/a')\n",
    "    for i in names1:\n",
    "        name1.append(i.get_attribute('href'))"
   ]
  },
  {
   "cell_type": "code",
   "execution_count": 5,
   "metadata": {},
   "outputs": [],
   "source": [
    "#Collecting the total information about a car\n",
    "car_price=[]\n",
    "car_name=[]\n",
    "city_name=[]\n",
    "fuel_type=[]\n",
    "kil_d=[]\n",
    "col_d=[]\n",
    "owner_d=[]\n",
    "year_d=[]\n",
    "x=0\n",
    "for j in name1:\n",
    "    driver.get(j)\n",
    "    time.sleep(2)\n",
    "    \n",
    "    #fetching the car price\n",
    "    try:\n",
    "        car_p=driver.find_elements_by_xpath('//*[@id=\"idbybody\"]/div[2]/div[8]/div[1]/div[2]/div/div[1]/div[1]/span[2]')\n",
    "        for i in car_p:\n",
    "            car_price.append(i.text)\n",
    "    except NoSuchElementException:\n",
    "        car_price.append('No details available')\n",
    "    except StaleElementReferenceException:\n",
    "        car_price.append('No details available')\n",
    "        \n",
    "    #fetching the car name\n",
    "    try:       \n",
    "        car_1=driver.find_elements_by_xpath('//*[@id=\"idbybody\"]/div[2]/div[8]/div[1]/div[2]/div[1]/div[2]/h1')\n",
    "        for i in car_1:\n",
    "            car_name.append(i.text)\n",
    "    except NoSuchElementException:\n",
    "        car_name.append('No details available')\n",
    "    except StaleElementReferenceException:\n",
    "        car_name.append('No details available')\n",
    "        \n",
    "    # fetching the city name\n",
    "    try:        \n",
    "        city=driver.find_elements_by_xpath('//*[@id=\"idbybody\"]/div[2]/div[8]/div[1]/div[2]/div[1]/div[4]/table/tbody/tr[1]/td[2]')\n",
    "        for i in city:\n",
    "            city_name.append(i.text)\n",
    "    except NoSuchElementException:\n",
    "        city_name.append('No details available')\n",
    "    except StaleElementReferenceException:\n",
    "        city_name.append('No details available')  \n",
    "        \n",
    "    # fetching the fuel type\n",
    "    try:\n",
    "        fuel=driver.find_elements_by_xpath('//*[@id=\"idbybody\"]/div[2]/div[8]/div[1]/div[2]/div[1]/div[4]/table/tbody/tr[2]/td[2]')\n",
    "        for i in fuel:\n",
    "            fuel_type.append(i.text)\n",
    "    except NoSuchElementException:\n",
    "        fuel_type.append('No details available')\n",
    "    except StaleElementReferenceException:\n",
    "        fuel_type.append('No details available')\n",
    "        \n",
    "    # fetching the kilometer ran\n",
    "    try:    \n",
    "        kil=driver.find_elements_by_xpath('//*[@id=\"idbybody\"]/div[2]/div[8]/div[1]/div[2]/div[1]/div[4]/table/tbody/tr[3]/td[2]')\n",
    "        for i in kil:\n",
    "            kil_d.append(i.text)\n",
    "    except NoSuchElementException:\n",
    "        kil_d.append('No details available')\n",
    "    except StaleElementReferenceException:\n",
    "        kil_d.append('No details available')\n",
    "        \n",
    "    #fetching the color of the vehicle\n",
    "    try:   \n",
    "        col=driver.find_elements_by_xpath('//*[@id=\"idbybody\"]/div[2]/div[8]/div[1]/div[2]/div[1]/div[4]/table/tbody/tr[4]/td[2]')\n",
    "        for i in col:\n",
    "            col_d.append(i.text)\n",
    "    except NoSuchElementException:\n",
    "        col_d.append('No details available')\n",
    "    except StaleElementReferenceException:\n",
    "        col_d.append('No details available')\n",
    "        \n",
    "    #fetching the type of owner\n",
    "    try:   \n",
    "        owner=driver.find_elements_by_xpath('//*[@id=\"idbybody\"]/div[2]/div[8]/div[1]/div[2]/div[1]/div[4]/table/tbody/tr[5]/td[2]')\n",
    "        for i in owner:\n",
    "            owner_d.append(i.text)\n",
    "    except NoSuchElementException:\n",
    "        owner_d.append('No details available')\n",
    "    except StaleElementReferenceException:\n",
    "        owner_d.append('No details available') \n",
    "        \n",
    "    #fetching the year of manufacture\n",
    "    try:\n",
    "        year=driver.find_elements_by_xpath('//*[@id=\"idbybody\"]/div[2]/div[8]/div[1]/div[2]/div[1]/div[4]/table/tbody/tr[8]/td[2]')\n",
    "        for i in year:\n",
    "            year_d.append(i.text)\n",
    "    except NoSuchElementException:\n",
    "        year_d.append('No details available')\n",
    "    except StaleElementReferenceException:\n",
    "        year_d.append('No details available') \n",
    "        \n",
    "    x=x+1"
   ]
  },
  {
   "cell_type": "code",
   "execution_count": null,
   "metadata": {},
   "outputs": [],
   "source": []
  },
  {
   "cell_type": "markdown",
   "metadata": {},
   "source": [
    "**Execute below cell only if there is any interruption**"
   ]
  },
  {
   "cell_type": "code",
   "execution_count": null,
   "metadata": {},
   "outputs": [],
   "source": [
    "#only execute if the loops stops by any interruption\n",
    "\n",
    "for j in range(x,len(name1)):\n",
    "    driver.get(name1[j])\n",
    "    time.sleep(2)\n",
    "    \n",
    "    #fetching the car price\n",
    "    try:\n",
    "        car_p=driver.find_elements_by_xpath('//*[@id=\"idbybody\"]/div[2]/div[8]/div[1]/div[2]/div/div[1]/div[1]/span[2]')\n",
    "        for i in car_p:\n",
    "            car_price.append(i.text)\n",
    "    except NoSuchElementException:\n",
    "        car_price.append('No details available')\n",
    "    except StaleElementReferenceException:\n",
    "        car_price.append('No details available')\n",
    "        \n",
    "    #fetching the car name\n",
    "    try:       \n",
    "        car_1=driver.find_elements_by_xpath('//*[@id=\"idbybody\"]/div[2]/div[8]/div[1]/div[2]/div[1]/div[2]/h1')\n",
    "        for i in car_1:\n",
    "            car_name.append(i.text)\n",
    "    except NoSuchElementException:\n",
    "        car_name.append('No details available')\n",
    "    except StaleElementReferenceException:\n",
    "        car_name.append('No details available')\n",
    "        \n",
    "    # fetching the city name\n",
    "    try:        \n",
    "        city=driver.find_elements_by_xpath('//*[@id=\"idbybody\"]/div[2]/div[8]/div[1]/div[2]/div[1]/div[4]/table/tbody/tr[1]/td[2]')\n",
    "        for i in city:\n",
    "            city_name.append(i.text)\n",
    "    except NoSuchElementException:\n",
    "        city_name.append('No details available')\n",
    "    except StaleElementReferenceException:\n",
    "        city_name.append('No details available')  \n",
    "        \n",
    "    # fetching the fuel type\n",
    "    try:\n",
    "        fuel=driver.find_elements_by_xpath('//*[@id=\"idbybody\"]/div[2]/div[8]/div[1]/div[2]/div[1]/div[4]/table/tbody/tr[2]/td[2]')\n",
    "        for i in fuel:\n",
    "            fuel_type.append(i.text)\n",
    "    except NoSuchElementException:\n",
    "        fuel_type.append('No details available')\n",
    "    except StaleElementReferenceException:\n",
    "        fuel_type.append('No details available')\n",
    "        \n",
    "    # fetching the kilometer ran\n",
    "    try:    \n",
    "        kil=driver.find_elements_by_xpath('//*[@id=\"idbybody\"]/div[2]/div[8]/div[1]/div[2]/div[1]/div[4]/table/tbody/tr[3]/td[2]')\n",
    "        for i in kil:\n",
    "            kil_d.append(i.text)\n",
    "    except NoSuchElementException:\n",
    "        kil_d.append('No details available')\n",
    "    except StaleElementReferenceException:\n",
    "        kil_d.append('No details available')\n",
    "        \n",
    "    #fetching the color of the vehicle\n",
    "    try:   \n",
    "        col=driver.find_elements_by_xpath('//*[@id=\"idbybody\"]/div[2]/div[8]/div[1]/div[2]/div[1]/div[4]/table/tbody/tr[4]/td[2]')\n",
    "        for i in col:\n",
    "            col_d.append(i.text)\n",
    "    except NoSuchElementException:\n",
    "        col_d.append('No details available')\n",
    "    except StaleElementReferenceException:\n",
    "        col_d.append('No details available')\n",
    "        \n",
    "    #fetching the type of owner\n",
    "    try:   \n",
    "        owner=driver.find_elements_by_xpath('//*[@id=\"idbybody\"]/div[2]/div[8]/div[1]/div[2]/div[1]/div[4]/table/tbody/tr[5]/td[2]')\n",
    "        for i in owner:\n",
    "            owner_d.append(i.text)\n",
    "    except NoSuchElementException:\n",
    "        owner_d.append('No details available')\n",
    "    except StaleElementReferenceException:\n",
    "        owner_d.append('No details available') \n",
    "        \n",
    "    #fetching the year of manufacture\n",
    "    try:\n",
    "        year=driver.find_elements_by_xpath('//*[@id=\"idbybody\"]/div[2]/div[8]/div[1]/div[2]/div[1]/div[4]/table/tbody/tr[8]/td[2]')\n",
    "        for i in year:\n",
    "            year_d.append(i.text)\n",
    "    except NoSuchElementException:\n",
    "        year_d.append('No details available')\n",
    "    except StaleElementReferenceException:\n",
    "        year_d.append('No details available') \n",
    "        \n",
    "    x=x+1"
   ]
  },
  {
   "cell_type": "code",
   "execution_count": 6,
   "metadata": {},
   "outputs": [
    {
     "data": {
      "text/plain": [
       "5993"
      ]
     },
     "execution_count": 6,
     "metadata": {},
     "output_type": "execute_result"
    }
   ],
   "source": [
    "len(car_price)"
   ]
  },
  {
   "cell_type": "code",
   "execution_count": 7,
   "metadata": {},
   "outputs": [
    {
     "data": {
      "text/plain": [
       "5993"
      ]
     },
     "execution_count": 7,
     "metadata": {},
     "output_type": "execute_result"
    }
   ],
   "source": [
    "len(car_name)"
   ]
  },
  {
   "cell_type": "code",
   "execution_count": 8,
   "metadata": {},
   "outputs": [
    {
     "data": {
      "text/plain": [
       "5993"
      ]
     },
     "execution_count": 8,
     "metadata": {},
     "output_type": "execute_result"
    }
   ],
   "source": [
    "len(city_name)"
   ]
  },
  {
   "cell_type": "code",
   "execution_count": 9,
   "metadata": {},
   "outputs": [
    {
     "data": {
      "text/plain": [
       "5993"
      ]
     },
     "execution_count": 9,
     "metadata": {},
     "output_type": "execute_result"
    }
   ],
   "source": [
    "len(fuel_type)"
   ]
  },
  {
   "cell_type": "code",
   "execution_count": 10,
   "metadata": {},
   "outputs": [
    {
     "data": {
      "text/plain": [
       "5993"
      ]
     },
     "execution_count": 10,
     "metadata": {},
     "output_type": "execute_result"
    }
   ],
   "source": [
    "len(kil_d)"
   ]
  },
  {
   "cell_type": "code",
   "execution_count": 11,
   "metadata": {},
   "outputs": [
    {
     "data": {
      "text/plain": [
       "5993"
      ]
     },
     "execution_count": 11,
     "metadata": {},
     "output_type": "execute_result"
    }
   ],
   "source": [
    "len(col_d)"
   ]
  },
  {
   "cell_type": "code",
   "execution_count": 12,
   "metadata": {},
   "outputs": [
    {
     "data": {
      "text/plain": [
       "5993"
      ]
     },
     "execution_count": 12,
     "metadata": {},
     "output_type": "execute_result"
    }
   ],
   "source": [
    "len(owner_d)"
   ]
  },
  {
   "cell_type": "code",
   "execution_count": 13,
   "metadata": {},
   "outputs": [
    {
     "data": {
      "text/plain": [
       "5993"
      ]
     },
     "execution_count": 13,
     "metadata": {},
     "output_type": "execute_result"
    }
   ],
   "source": [
    "len(year_d)"
   ]
  },
  {
   "cell_type": "code",
   "execution_count": 14,
   "metadata": {},
   "outputs": [],
   "source": [
    "import pandas as pd\n",
    "df=pd.DataFrame()\n",
    "df['Car Price']=car_price\n",
    "df['Car Name']=car_name\n",
    "df['City Name']=city_name\n",
    "df['Fuel type']=fuel_type\n",
    "df['Kilometer ran']=kil_d\n",
    "df['Color']=col_d\n",
    "df['Owner type']=owner_d\n",
    "df['Year of manufacture']=year_d"
   ]
  },
  {
   "cell_type": "code",
   "execution_count": 15,
   "metadata": {},
   "outputs": [
    {
     "data": {
      "text/html": [
       "<div>\n",
       "<style scoped>\n",
       "    .dataframe tbody tr th:only-of-type {\n",
       "        vertical-align: middle;\n",
       "    }\n",
       "\n",
       "    .dataframe tbody tr th {\n",
       "        vertical-align: top;\n",
       "    }\n",
       "\n",
       "    .dataframe thead th {\n",
       "        text-align: right;\n",
       "    }\n",
       "</style>\n",
       "<table border=\"1\" class=\"dataframe\">\n",
       "  <thead>\n",
       "    <tr style=\"text-align: right;\">\n",
       "      <th></th>\n",
       "      <th>Car Price</th>\n",
       "      <th>Car Name</th>\n",
       "      <th>City Name</th>\n",
       "      <th>Fuel type</th>\n",
       "      <th>Kilometer ran</th>\n",
       "      <th>Color</th>\n",
       "      <th>Owner type</th>\n",
       "      <th>Year of manufacture</th>\n",
       "    </tr>\n",
       "  </thead>\n",
       "  <tbody>\n",
       "    <tr>\n",
       "      <th>0</th>\n",
       "      <td>5.65 Lakh</td>\n",
       "      <td>Used Hyundai Grand i10 in Kanpur</td>\n",
       "      <td>Kanpur</td>\n",
       "      <td>Petrol</td>\n",
       "      <td>9,400 Kms</td>\n",
       "      <td>White</td>\n",
       "      <td>First</td>\n",
       "      <td>2019</td>\n",
       "    </tr>\n",
       "    <tr>\n",
       "      <th>1</th>\n",
       "      <td>4 Lakh</td>\n",
       "      <td>Used Hyundai i10 [2010-2017] in Hyderabad</td>\n",
       "      <td>Hyderabad</td>\n",
       "      <td>Petrol</td>\n",
       "      <td>67,971 Kms</td>\n",
       "      <td>Maroon</td>\n",
       "      <td>First</td>\n",
       "      <td>2014</td>\n",
       "    </tr>\n",
       "    <tr>\n",
       "      <th>2</th>\n",
       "      <td>34.75 Lakh</td>\n",
       "      <td>Used MINI Countryman [2015-2018] in Mumbai</td>\n",
       "      <td>Mumbai</td>\n",
       "      <td>Diesel</td>\n",
       "      <td>18,500 Kms</td>\n",
       "      <td>Grey</td>\n",
       "      <td>First</td>\n",
       "      <td>2018</td>\n",
       "    </tr>\n",
       "    <tr>\n",
       "      <th>3</th>\n",
       "      <td>12.58 Lakh</td>\n",
       "      <td>Used Mercedes-Benz C-Class [2010-2011] in Mumbai</td>\n",
       "      <td>Mumbai</td>\n",
       "      <td>Petrol</td>\n",
       "      <td>66,700 Kms</td>\n",
       "      <td>White</td>\n",
       "      <td>First</td>\n",
       "      <td>2011</td>\n",
       "    </tr>\n",
       "    <tr>\n",
       "      <th>4</th>\n",
       "      <td>8 Lakh</td>\n",
       "      <td>Used BMW 5 Series [2007-2010] in Thane</td>\n",
       "      <td>Thane</td>\n",
       "      <td>Diesel</td>\n",
       "      <td>1,17,123 Kms</td>\n",
       "      <td>Black</td>\n",
       "      <td>First</td>\n",
       "      <td>2008</td>\n",
       "    </tr>\n",
       "  </tbody>\n",
       "</table>\n",
       "</div>"
      ],
      "text/plain": [
       "    Car Price                                          Car Name  City Name  \\\n",
       "0   5.65 Lakh                  Used Hyundai Grand i10 in Kanpur     Kanpur   \n",
       "1      4 Lakh         Used Hyundai i10 [2010-2017] in Hyderabad  Hyderabad   \n",
       "2  34.75 Lakh        Used MINI Countryman [2015-2018] in Mumbai     Mumbai   \n",
       "3  12.58 Lakh  Used Mercedes-Benz C-Class [2010-2011] in Mumbai     Mumbai   \n",
       "4      8 Lakh            Used BMW 5 Series [2007-2010] in Thane      Thane   \n",
       "\n",
       "  Fuel type Kilometer ran   Color Owner type Year of manufacture  \n",
       "0    Petrol     9,400 Kms   White      First                2019  \n",
       "1    Petrol    67,971 Kms  Maroon      First                2014  \n",
       "2    Diesel    18,500 Kms    Grey      First                2018  \n",
       "3    Petrol    66,700 Kms   White      First                2011  \n",
       "4    Diesel  1,17,123 Kms   Black      First                2008  "
      ]
     },
     "execution_count": 15,
     "metadata": {},
     "output_type": "execute_result"
    }
   ],
   "source": [
    "df.head()"
   ]
  },
  {
   "cell_type": "code",
   "execution_count": 16,
   "metadata": {},
   "outputs": [],
   "source": [
    "df.to_csv('car_trade_data.csv')"
   ]
  },
  {
   "cell_type": "code",
   "execution_count": null,
   "metadata": {},
   "outputs": [],
   "source": []
  },
  {
   "cell_type": "code",
   "execution_count": null,
   "metadata": {},
   "outputs": [],
   "source": []
  }
 ],
 "metadata": {
  "kernelspec": {
   "display_name": "Python 3",
   "language": "python",
   "name": "python3"
  },
  "language_info": {
   "codemirror_mode": {
    "name": "ipython",
    "version": 3
   },
   "file_extension": ".py",
   "mimetype": "text/x-python",
   "name": "python",
   "nbconvert_exporter": "python",
   "pygments_lexer": "ipython3",
   "version": "3.8.3"
  }
 },
 "nbformat": 4,
 "nbformat_minor": 5
}
