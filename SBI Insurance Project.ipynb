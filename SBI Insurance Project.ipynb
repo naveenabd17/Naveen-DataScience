{
 "cells": [
  {
   "cell_type": "code",
   "execution_count": 1,
   "id": "faa4e82b",
   "metadata": {},
   "outputs": [],
   "source": [
    "import pandas as pd"
   ]
  },
  {
   "cell_type": "code",
   "execution_count": 2,
   "id": "498036f5",
   "metadata": {},
   "outputs": [],
   "source": [
    "df=pd.read_csv('sbi_dataset.csv')"
   ]
  },
  {
   "cell_type": "code",
   "execution_count": 3,
   "id": "d6ba424c",
   "metadata": {},
   "outputs": [
    {
     "data": {
      "text/html": [
       "<div>\n",
       "<style scoped>\n",
       "    .dataframe tbody tr th:only-of-type {\n",
       "        vertical-align: middle;\n",
       "    }\n",
       "\n",
       "    .dataframe tbody tr th {\n",
       "        vertical-align: top;\n",
       "    }\n",
       "\n",
       "    .dataframe thead th {\n",
       "        text-align: right;\n",
       "    }\n",
       "</style>\n",
       "<table border=\"1\" class=\"dataframe\">\n",
       "  <thead>\n",
       "    <tr style=\"text-align: right;\">\n",
       "      <th></th>\n",
       "      <th>age</th>\n",
       "      <th>sex</th>\n",
       "      <th>bmi</th>\n",
       "      <th>children</th>\n",
       "      <th>smoker</th>\n",
       "      <th>region</th>\n",
       "      <th>charges</th>\n",
       "      <th>insuranceclaim</th>\n",
       "    </tr>\n",
       "  </thead>\n",
       "  <tbody>\n",
       "    <tr>\n",
       "      <th>0</th>\n",
       "      <td>19</td>\n",
       "      <td>0</td>\n",
       "      <td>27.900</td>\n",
       "      <td>0</td>\n",
       "      <td>1</td>\n",
       "      <td>3</td>\n",
       "      <td>16884.92400</td>\n",
       "      <td>1</td>\n",
       "    </tr>\n",
       "    <tr>\n",
       "      <th>1</th>\n",
       "      <td>18</td>\n",
       "      <td>1</td>\n",
       "      <td>33.770</td>\n",
       "      <td>1</td>\n",
       "      <td>0</td>\n",
       "      <td>2</td>\n",
       "      <td>1725.55230</td>\n",
       "      <td>1</td>\n",
       "    </tr>\n",
       "    <tr>\n",
       "      <th>2</th>\n",
       "      <td>28</td>\n",
       "      <td>1</td>\n",
       "      <td>33.000</td>\n",
       "      <td>3</td>\n",
       "      <td>0</td>\n",
       "      <td>2</td>\n",
       "      <td>4449.46200</td>\n",
       "      <td>0</td>\n",
       "    </tr>\n",
       "    <tr>\n",
       "      <th>3</th>\n",
       "      <td>33</td>\n",
       "      <td>1</td>\n",
       "      <td>22.705</td>\n",
       "      <td>0</td>\n",
       "      <td>0</td>\n",
       "      <td>1</td>\n",
       "      <td>21984.47061</td>\n",
       "      <td>0</td>\n",
       "    </tr>\n",
       "    <tr>\n",
       "      <th>4</th>\n",
       "      <td>32</td>\n",
       "      <td>1</td>\n",
       "      <td>28.880</td>\n",
       "      <td>0</td>\n",
       "      <td>0</td>\n",
       "      <td>1</td>\n",
       "      <td>3866.85520</td>\n",
       "      <td>1</td>\n",
       "    </tr>\n",
       "  </tbody>\n",
       "</table>\n",
       "</div>"
      ],
      "text/plain": [
       "   age  sex     bmi  children  smoker  region      charges  insuranceclaim\n",
       "0   19    0  27.900         0       1       3  16884.92400               1\n",
       "1   18    1  33.770         1       0       2   1725.55230               1\n",
       "2   28    1  33.000         3       0       2   4449.46200               0\n",
       "3   33    1  22.705         0       0       1  21984.47061               0\n",
       "4   32    1  28.880         0       0       1   3866.85520               1"
      ]
     },
     "execution_count": 3,
     "metadata": {},
     "output_type": "execute_result"
    }
   ],
   "source": [
    "df.head()"
   ]
  },
  {
   "cell_type": "code",
   "execution_count": 4,
   "id": "bf7b511c",
   "metadata": {},
   "outputs": [
    {
     "data": {
      "text/plain": [
       "age                 int64\n",
       "sex                 int64\n",
       "bmi               float64\n",
       "children            int64\n",
       "smoker              int64\n",
       "region              int64\n",
       "charges           float64\n",
       "insuranceclaim      int64\n",
       "dtype: object"
      ]
     },
     "execution_count": 4,
     "metadata": {},
     "output_type": "execute_result"
    }
   ],
   "source": [
    "df.dtypes"
   ]
  },
  {
   "cell_type": "code",
   "execution_count": 5,
   "id": "89348329",
   "metadata": {},
   "outputs": [
    {
     "data": {
      "text/plain": [
       "age               0\n",
       "sex               0\n",
       "bmi               0\n",
       "children          0\n",
       "smoker            0\n",
       "region            0\n",
       "charges           0\n",
       "insuranceclaim    0\n",
       "dtype: int64"
      ]
     },
     "execution_count": 5,
     "metadata": {},
     "output_type": "execute_result"
    }
   ],
   "source": [
    "df.isnull().sum()"
   ]
  },
  {
   "cell_type": "code",
   "execution_count": 6,
   "id": "b79e67f0",
   "metadata": {},
   "outputs": [
    {
     "data": {
      "text/plain": [
       "Index(['age', 'sex', 'bmi', 'children', 'smoker', 'region', 'charges',\n",
       "       'insuranceclaim'],\n",
       "      dtype='object')"
      ]
     },
     "execution_count": 6,
     "metadata": {},
     "output_type": "execute_result"
    }
   ],
   "source": [
    "df.columns"
   ]
  },
  {
   "cell_type": "code",
   "execution_count": 7,
   "id": "18eabae6",
   "metadata": {},
   "outputs": [],
   "source": [
    "x=df.drop('insuranceclaim',axis=1)\n",
    "y=df['insuranceclaim']"
   ]
  },
  {
   "cell_type": "code",
   "execution_count": 8,
   "id": "b74916e5",
   "metadata": {},
   "outputs": [
    {
     "data": {
      "text/plain": [
       "(1338, 7)"
      ]
     },
     "execution_count": 8,
     "metadata": {},
     "output_type": "execute_result"
    }
   ],
   "source": [
    "x.shape"
   ]
  },
  {
   "cell_type": "code",
   "execution_count": 9,
   "id": "6a30de9e",
   "metadata": {},
   "outputs": [
    {
     "data": {
      "text/plain": [
       "(1338,)"
      ]
     },
     "execution_count": 9,
     "metadata": {},
     "output_type": "execute_result"
    }
   ],
   "source": [
    "y.shape"
   ]
  },
  {
   "cell_type": "code",
   "execution_count": 10,
   "id": "9eb3a43d",
   "metadata": {},
   "outputs": [],
   "source": [
    "import seaborn as sns"
   ]
  },
  {
   "cell_type": "code",
   "execution_count": 11,
   "id": "a287b64c",
   "metadata": {},
   "outputs": [
    {
     "name": "stderr",
     "output_type": "stream",
     "text": [
      "C:\\ProgramData\\Anaconda3\\lib\\site-packages\\seaborn\\_decorators.py:36: FutureWarning: Pass the following variable as a keyword arg: x. From version 0.12, the only valid positional argument will be `data`, and passing other arguments without an explicit keyword will result in an error or misinterpretation.\n",
      "  warnings.warn(\n"
     ]
    },
    {
     "data": {
      "text/plain": [
       "<AxesSubplot:xlabel='insuranceclaim', ylabel='count'>"
      ]
     },
     "execution_count": 11,
     "metadata": {},
     "output_type": "execute_result"
    },
    {
     "data": {
      "image/png": "[encoded data removed]",
      "text/plain": [
       "<Figure size 432x288 with 1 Axes>"
      ]
     },
     "metadata": {
      "needs_background": "light"
     },
     "output_type": "display_data"
    }
   ],
   "source": [
    "sns.countplot(df['insuranceclaim'])"
   ]
  },
  {
   "cell_type": "code",
   "execution_count": 31,
   "id": "33c8f3db",
   "metadata": {},
   "outputs": [],
   "source": [
    "import sklearn\n",
    "import pandas as pd\n",
    "import numpy as np\n",
    "import matplotlib.pyplot as plt\n",
    "import seaborn as sns\n",
    "from sklearn.linear_model import LogisticRegression\n",
    "from sklearn.model_selection import train_test_split\n",
    "from sklearn.metrics import accuracy_score,confusion_matrix,classification_report\n",
    "from sklearn.naive_bayes import GaussianNB\n",
    "from sklearn.svm import SVC\n",
    "from sklearn.tree import DecisionTreeClassifier\n",
    "from sklearn.neighbors import KNeighborsClassifier as knn\n",
    "from sklearn.ensemble import RandomForestClassifier\n",
    "from sklearn.ensemble import AdaBoostClassifier\n",
    "from sklearn.model_selection import cross_val_score\n",
    "from sklearn.model_selection import GridSearchCV\n",
    "from sklearn.svm import LinearSVC\n",
    "from scipy import stats\n",
    "import warnings\n",
    "warnings.filterwarnings('ignore')"
   ]
  },
  {
   "cell_type": "code",
   "execution_count": 14,
   "id": "4ff8edc4",
   "metadata": {},
   "outputs": [],
   "source": [
    "from imblearn.over_sampling import SMOTE\n",
    "SM=SMOTE()\n",
    "x_over,y_over=SM.fit_resample(x,y)"
   ]
  },
  {
   "cell_type": "code",
   "execution_count": 15,
   "id": "ded51291",
   "metadata": {},
   "outputs": [],
   "source": [
    "from sklearn.preprocessing import StandardScaler"
   ]
  },
  {
   "cell_type": "code",
   "execution_count": 16,
   "id": "63a467b5",
   "metadata": {},
   "outputs": [],
   "source": [
    "st=StandardScaler()"
   ]
  },
  {
   "cell_type": "code",
   "execution_count": 17,
   "id": "c3bfce6b",
   "metadata": {},
   "outputs": [],
   "source": [
    "x1=st.fit_transform(x)"
   ]
  },
  {
   "cell_type": "code",
   "execution_count": 18,
   "id": "716d530f",
   "metadata": {},
   "outputs": [
    {
     "name": "stdout",
     "output_type": "stream",
     "text": [
      "accuracy score through logistic regression is \n",
      "0.808\n",
      "classification report is\n",
      "              precision    recall  f1-score   support\n",
      "\n",
      "           0       0.84      0.72      0.77       141\n",
      "           1       0.79      0.89      0.83       167\n",
      "\n",
      "    accuracy                           0.81       308\n",
      "   macro avg       0.81      0.80      0.80       308\n",
      "weighted avg       0.81      0.81      0.81       308\n",
      "\n",
      "confusion matrix is\n",
      "[[101  40]\n",
      " [ 19 148]]\n",
      "\n",
      "\n"
     ]
    }
   ],
   "source": [
    "#Accuracy score using x,y models,\n",
    "lg=LogisticRegression()\n",
    "x_train,x_test,y_train,y_test=train_test_split(x,y,test_size=0.23,random_state=45)\n",
    "lg.fit(x_train,y_train)\n",
    "pred=lg.predict(x_test)\n",
    "print('accuracy score through logistic regression is ')\n",
    "print(round((accuracy_score(y_test,pred)),3))\n",
    "print('classification report is')\n",
    "print(classification_report(y_test,pred))\n",
    "print('confusion matrix is')\n",
    "print(confusion_matrix(y_test,pred))\n",
    "print('\\n')"
   ]
  },
  {
   "cell_type": "code",
   "execution_count": 19,
   "id": "0d9b7037",
   "metadata": {},
   "outputs": [
    {
     "name": "stdout",
     "output_type": "stream",
     "text": [
      "accuracy score through logistic regression is \n",
      "0.751\n",
      "classification report is\n",
      "              precision    recall  f1-score   support\n",
      "\n",
      "           0       0.77      0.73      0.75       185\n",
      "           1       0.73      0.77      0.75       176\n",
      "\n",
      "    accuracy                           0.75       361\n",
      "   macro avg       0.75      0.75      0.75       361\n",
      "weighted avg       0.75      0.75      0.75       361\n",
      "\n",
      "confusion matrix is\n",
      "[[135  50]\n",
      " [ 40 136]]\n",
      "\n",
      "\n"
     ]
    }
   ],
   "source": [
    "#Accuracy score using x_over,y_over models,\n",
    "lg=LogisticRegression()\n",
    "x_train,x_test,y_train,y_test=train_test_split(x_over,y_over,test_size=0.23,random_state=45)\n",
    "lg.fit(x_train,y_train)\n",
    "pred=lg.predict(x_test)\n",
    "print('accuracy score through logistic regression is ')\n",
    "print(round((accuracy_score(y_test,pred)),3))\n",
    "print('classification report is')\n",
    "print(classification_report(y_test,pred))\n",
    "print('confusion matrix is')\n",
    "print(confusion_matrix(y_test,pred))\n",
    "print('\\n')"
   ]
  },
  {
   "cell_type": "code",
   "execution_count": 20,
   "id": "b24b3bcc",
   "metadata": {},
   "outputs": [
    {
     "name": "stdout",
     "output_type": "stream",
     "text": [
      "accuracy score through logistic regression is \n",
      "0.899\n",
      "classification report is\n",
      "              precision    recall  f1-score   support\n",
      "\n",
      "           0       0.92      0.85      0.89       141\n",
      "           1       0.88      0.94      0.91       167\n",
      "\n",
      "    accuracy                           0.90       308\n",
      "   macro avg       0.90      0.90      0.90       308\n",
      "weighted avg       0.90      0.90      0.90       308\n",
      "\n",
      "confusion matrix is\n",
      "[[120  21]\n",
      " [ 10 157]]\n",
      "\n",
      "\n"
     ]
    }
   ],
   "source": [
    "#Accuracy score using x1,y models,\n",
    "lg=LogisticRegression()\n",
    "x_train,x_test,y_train,y_test=train_test_split(x1,y,test_size=0.23,random_state=45)\n",
    "lg.fit(x_train,y_train)\n",
    "pred=lg.predict(x_test)\n",
    "print('accuracy score through logistic regression is ')\n",
    "print(round((accuracy_score(y_test,pred)),3))\n",
    "print('classification report is')\n",
    "print(classification_report(y_test,pred))\n",
    "print('confusion matrix is')\n",
    "print(confusion_matrix(y_test,pred))\n",
    "print('\\n')"
   ]
  },
  {
   "cell_type": "markdown",
   "id": "cc15fc5b",
   "metadata": {},
   "source": [
    "# Building the model"
   ]
  },
  {
   "cell_type": "code",
   "execution_count": 21,
   "id": "1b6dcbc4",
   "metadata": {},
   "outputs": [],
   "source": [
    "x_train,x_test,y_train,y_test=train_test_split(x1,y,test_size=0.23,random_state=45)"
   ]
  },
  {
   "cell_type": "code",
   "execution_count": 22,
   "id": "269012ac",
   "metadata": {},
   "outputs": [
    {
     "name": "stdout",
     "output_type": "stream",
     "text": [
      "the best accuracy is  0.9203980099502488 on random state 167\n"
     ]
    }
   ],
   "source": [
    "maxAccu=0\n",
    "maxRS=0\n",
    "for i in range(1,200):\n",
    "    x_train,x_test,y_train,y_test=train_test_split(x1,y,test_size=0.3,random_state=i)\n",
    "    mod=lg\n",
    "    mod.fit(x_train,y_train)\n",
    "    pred=mod.predict(x_test)\n",
    "    acc=accuracy_score(y_test,pred)\n",
    "    if acc>maxAccu:\n",
    "        maxAccu=acc\n",
    "        maxRS=i\n",
    "print('the best accuracy is ',maxAccu,'on random state',maxRS)"
   ]
  },
  {
   "cell_type": "code",
   "execution_count": 23,
   "id": "7eb7c466",
   "metadata": {},
   "outputs": [],
   "source": [
    "x_train,x_test,y_train,y_test=train_test_split(x1,y,test_size=0.23,random_state=167)"
   ]
  },
  {
   "cell_type": "code",
   "execution_count": 24,
   "id": "e711b2e3",
   "metadata": {},
   "outputs": [
    {
     "name": "stdout",
     "output_type": "stream",
     "text": [
      "accuracy score through logistic regression is \n",
      "0.899\n",
      "classification report is\n",
      "              precision    recall  f1-score   support\n",
      "\n",
      "           0       0.92      0.85      0.88       136\n",
      "           1       0.89      0.94      0.91       172\n",
      "\n",
      "    accuracy                           0.90       308\n",
      "   macro avg       0.90      0.89      0.90       308\n",
      "weighted avg       0.90      0.90      0.90       308\n",
      "\n",
      "confusion matrix is\n",
      "[[115  21]\n",
      " [ 10 162]]\n",
      "\n",
      "\n"
     ]
    }
   ],
   "source": [
    "lg.fit(x_train,y_train)\n",
    "pred=lg.predict(x_test)\n",
    "print('accuracy score through logistic regression is ')\n",
    "print(round((accuracy_score(y_test,pred)),3))\n",
    "print('classification report is')\n",
    "print(classification_report(y_test,pred))\n",
    "print('confusion matrix is')\n",
    "print(confusion_matrix(y_test,pred))\n",
    "print('\\n')"
   ]
  },
  {
   "cell_type": "code",
   "execution_count": 25,
   "id": "538c5369",
   "metadata": {},
   "outputs": [
    {
     "name": "stdout",
     "output_type": "stream",
     "text": [
      "accuracy score through GaussianNB is \n",
      "0.688\n",
      "classification report is\n",
      "              precision    recall  f1-score   support\n",
      "\n",
      "           0       0.60      0.91      0.72       136\n",
      "           1       0.88      0.51      0.65       172\n",
      "\n",
      "    accuracy                           0.69       308\n",
      "   macro avg       0.74      0.71      0.68       308\n",
      "weighted avg       0.75      0.69      0.68       308\n",
      "\n",
      "confusion matrix is\n",
      "[[124  12]\n",
      " [ 84  88]]\n",
      "\n",
      "\n"
     ]
    }
   ],
   "source": [
    "gnb=GaussianNB()\n",
    "gnb.fit(x_train,y_train)\n",
    "pred=gnb.predict(x_test)\n",
    "print('accuracy score through GaussianNB is ')\n",
    "print(round((accuracy_score(y_test,pred)),3))\n",
    "print('classification report is')\n",
    "print(classification_report(y_test,pred))\n",
    "print('confusion matrix is')\n",
    "print(confusion_matrix(y_test,pred))\n",
    "print('\\n')"
   ]
  },
  {
   "cell_type": "code",
   "execution_count": 26,
   "id": "bf7f6ae1",
   "metadata": {},
   "outputs": [
    {
     "name": "stdout",
     "output_type": "stream",
     "text": [
      "accuracy score through svc is \n",
      "0.922\n",
      "classification report is\n",
      "              precision    recall  f1-score   support\n",
      "\n",
      "           0       0.92      0.90      0.91       136\n",
      "           1       0.93      0.94      0.93       172\n",
      "\n",
      "    accuracy                           0.92       308\n",
      "   macro avg       0.92      0.92      0.92       308\n",
      "weighted avg       0.92      0.92      0.92       308\n",
      "\n",
      "confusion matrix is\n",
      "[[123  13]\n",
      " [ 11 161]]\n",
      "\n",
      "\n"
     ]
    }
   ],
   "source": [
    "svc=SVC(kernel='linear')\n",
    "svc.fit(x_train,y_train)\n",
    "pred=svc.predict(x_test)\n",
    "print('accuracy score through svc is ')\n",
    "print(round((accuracy_score(y_test,pred)),3))\n",
    "print('classification report is')\n",
    "print(classification_report(y_test,pred))\n",
    "print('confusion matrix is')\n",
    "print(confusion_matrix(y_test,pred))\n",
    "print('\\n')"
   ]
  },
  {
   "cell_type": "code",
   "execution_count": 28,
   "id": "54c51f13",
   "metadata": {},
   "outputs": [
    {
     "name": "stdout",
     "output_type": "stream",
     "text": [
      "accuracy score through svc is \n",
      "0.919\n",
      "classification report is\n",
      "              precision    recall  f1-score   support\n",
      "\n",
      "           0       0.89      0.93      0.91       136\n",
      "           1       0.95      0.91      0.93       172\n",
      "\n",
      "    accuracy                           0.92       308\n",
      "   macro avg       0.92      0.92      0.92       308\n",
      "weighted avg       0.92      0.92      0.92       308\n",
      "\n",
      "confusion matrix is\n",
      "[[127   9]\n",
      " [ 16 156]]\n",
      "\n",
      "\n"
     ]
    }
   ],
   "source": [
    "svc=SVC(kernel='rbf')\n",
    "svc.fit(x_train,y_train)\n",
    "pred=svc.predict(x_test)\n",
    "print('accuracy score through svc is ')\n",
    "print(round((accuracy_score(y_test,pred)),3))\n",
    "print('classification report is')\n",
    "print(classification_report(y_test,pred))\n",
    "print('confusion matrix is')\n",
    "print(confusion_matrix(y_test,pred))\n",
    "print('\\n')"
   ]
  },
  {
   "cell_type": "code",
   "execution_count": 29,
   "id": "7d039490",
   "metadata": {},
   "outputs": [
    {
     "name": "stdout",
     "output_type": "stream",
     "text": [
      "accuracy score through Decisiob Tree Classifier is \n",
      "0.984\n",
      "classification report is\n",
      "              precision    recall  f1-score   support\n",
      "\n",
      "           0       0.99      0.98      0.98       136\n",
      "           1       0.98      0.99      0.99       172\n",
      "\n",
      "    accuracy                           0.98       308\n",
      "   macro avg       0.98      0.98      0.98       308\n",
      "weighted avg       0.98      0.98      0.98       308\n",
      "\n",
      "confusion matrix is\n",
      "[[133   3]\n",
      " [  2 170]]\n",
      "\n",
      "\n"
     ]
    }
   ],
   "source": [
    "dtc=DecisionTreeClassifier()\n",
    "dtc.fit(x_train,y_train)\n",
    "pred=dtc.predict(x_test)\n",
    "print('accuracy score through Decisiob Tree Classifier is ')\n",
    "print(round((accuracy_score(y_test,pred)),3))\n",
    "print('classification report is')\n",
    "print(classification_report(y_test,pred))\n",
    "print('confusion matrix is')\n",
    "print(confusion_matrix(y_test,pred))\n",
    "print('\\n')"
   ]
  },
  {
   "cell_type": "code",
   "execution_count": 33,
   "id": "1e4a5ac3",
   "metadata": {},
   "outputs": [],
   "source": [
    "lg=LogisticRegression()\n",
    "gnb=GaussianNB()\n",
    "svc=SVC()\n",
    "dtc=DecisionTreeClassifier()\n",
    "knn=KNeighborsClassifier()\n",
    "add=AdaBoostClassifier()\n",
    "rf=RandomForestClassifier()"
   ]
  },
  {
   "cell_type": "code",
   "execution_count": 34,
   "id": "579425a1",
   "metadata": {},
   "outputs": [
    {
     "name": "stdout",
     "output_type": "stream",
     "text": [
      "accuracy score through knn is \n",
      "0.893\n",
      "classification report is\n",
      "              precision    recall  f1-score   support\n",
      "\n",
      "           0       0.89      0.87      0.88       136\n",
      "           1       0.90      0.91      0.90       172\n",
      "\n",
      "    accuracy                           0.89       308\n",
      "   macro avg       0.89      0.89      0.89       308\n",
      "weighted avg       0.89      0.89      0.89       308\n",
      "\n",
      "confusion matrix is\n",
      "[[118  18]\n",
      " [ 15 157]]\n",
      "\n",
      "\n"
     ]
    }
   ],
   "source": [
    "knn.fit(x_train,y_train)\n",
    "pred=knn.predict(x_test)\n",
    "print('accuracy score through knn is ')\n",
    "print(round((accuracy_score(y_test,pred)),3))\n",
    "print('classification report is')\n",
    "print(classification_report(y_test,pred))\n",
    "print('confusion matrix is')\n",
    "print(confusion_matrix(y_test,pred))\n",
    "print('\\n')"
   ]
  },
  {
   "cell_type": "code",
   "execution_count": 35,
   "id": "0e664af1",
   "metadata": {},
   "outputs": [
    {
     "name": "stdout",
     "output_type": "stream",
     "text": [
      "accuracy score through Adaboost is \n",
      "0.883\n",
      "classification report is\n",
      "              precision    recall  f1-score   support\n",
      "\n",
      "           0       0.88      0.85      0.87       136\n",
      "           1       0.89      0.91      0.90       172\n",
      "\n",
      "    accuracy                           0.88       308\n",
      "   macro avg       0.88      0.88      0.88       308\n",
      "weighted avg       0.88      0.88      0.88       308\n",
      "\n",
      "confusion matrix is\n",
      "[[116  20]\n",
      " [ 16 156]]\n",
      "\n",
      "\n"
     ]
    }
   ],
   "source": [
    "add.fit(x_train,y_train)\n",
    "pred=add.predict(x_test)\n",
    "print('accuracy score through Adaboost is ')\n",
    "print(round((accuracy_score(y_test,pred)),3))\n",
    "print('classification report is')\n",
    "print(classification_report(y_test,pred))\n",
    "print('confusion matrix is')\n",
    "print(confusion_matrix(y_test,pred))\n",
    "print('\\n')"
   ]
  },
  {
   "cell_type": "code",
   "execution_count": 36,
   "id": "62ae3d23",
   "metadata": {},
   "outputs": [
    {
     "name": "stdout",
     "output_type": "stream",
     "text": [
      "accuracy score through random forest is \n",
      "0.974\n",
      "classification report is\n",
      "              precision    recall  f1-score   support\n",
      "\n",
      "           0       0.96      0.98      0.97       136\n",
      "           1       0.98      0.97      0.98       172\n",
      "\n",
      "    accuracy                           0.97       308\n",
      "   macro avg       0.97      0.97      0.97       308\n",
      "weighted avg       0.97      0.97      0.97       308\n",
      "\n",
      "confusion matrix is\n",
      "[[133   3]\n",
      " [  5 167]]\n",
      "\n",
      "\n"
     ]
    }
   ],
   "source": [
    "rf.fit(x_train,y_train)\n",
    "pred=rf.predict(x_test)\n",
    "print('accuracy score through random forest is ')\n",
    "print(round((accuracy_score(y_test,pred)),3))\n",
    "print('classification report is')\n",
    "print(classification_report(y_test,pred))\n",
    "print('confusion matrix is')\n",
    "print(confusion_matrix(y_test,pred))\n",
    "print('\\n')"
   ]
  },
  {
   "cell_type": "markdown",
   "id": "1a45df3c",
   "metadata": {},
   "source": [
    "# Cross Validation Score"
   ]
  },
  {
   "cell_type": "code",
   "execution_count": 37,
   "id": "c3357699",
   "metadata": {},
   "outputs": [
    {
     "name": "stdout",
     "output_type": "stream",
     "text": [
      "LogisticRegression() score is:\n",
      "0.879\n",
      "\n",
      "\n",
      "GaussianNB() score is:\n",
      "0.709\n",
      "\n",
      "\n",
      "SVC() score is:\n",
      "0.902\n",
      "\n",
      "\n",
      "DecisionTreeClassifier() score is:\n",
      "0.978\n",
      "\n",
      "\n",
      "KNeighborsClassifier() score is:\n",
      "0.884\n",
      "\n",
      "\n",
      "AdaBoostClassifier() score is:\n",
      "0.865\n",
      "\n",
      "\n",
      "RandomForestClassifier() score is:\n",
      "0.954\n",
      "\n",
      "\n"
     ]
    }
   ],
   "source": [
    "models=[lg,gnb,svc,dtc,knn,add,rf]\n",
    "for m in models:\n",
    "    score=cross_val_score(m,x1,y,cv=5)\n",
    "    print(m,'score is:')\n",
    "    print(round((score.mean()),3))\n",
    "    print('\\n')"
   ]
  },
  {
   "cell_type": "markdown",
   "id": "53b8f2ae",
   "metadata": {},
   "source": [
    "# **The best model is Decision tree classifier**"
   ]
  },
  {
   "cell_type": "code",
   "execution_count": 38,
   "id": "2ec8ea4d",
   "metadata": {},
   "outputs": [
    {
     "name": "stdout",
     "output_type": "stream",
     "text": [
      "{'criterion': 'gini', 'max_features': 'sqrt', 'splitter': 'best'}\n",
      "0.9132902901224217\n"
     ]
    }
   ],
   "source": [
    "grid_param={\n",
    "\n",
    "    'criterion':['gini','entropy'],\n",
    "    'max_features':['auto','sqrt','log2'],\n",
    "\n",
    "    'splitter':['best','random']\n",
    " \n",
    "    \n",
    "}\n",
    "\n",
    "gd_sr=GridSearchCV(estimator=dtc,\n",
    "                  param_grid=grid_param,\n",
    "                  scoring='accuracy',\n",
    "                  cv=5)\n",
    "\n",
    "gd_sr.fit(x1,y)\n",
    "\n",
    "best_parameters=gd_sr.best_params_\n",
    "print(best_parameters)\n",
    "best_result=gd_sr.best_score_\n",
    "print(best_result)"
   ]
  },
  {
   "cell_type": "code",
   "execution_count": 39,
   "id": "633da857",
   "metadata": {},
   "outputs": [],
   "source": [
    "dtc1=DecisionTreeClassifier(criterion='gini',max_features='sqrt',splitter='best')"
   ]
  },
  {
   "cell_type": "code",
   "execution_count": 41,
   "id": "9952dee1",
   "metadata": {},
   "outputs": [
    {
     "name": "stdout",
     "output_type": "stream",
     "text": [
      "accuracy score through random forest is \n",
      "0.984\n",
      "classification report is\n",
      "              precision    recall  f1-score   support\n",
      "\n",
      "           0       0.99      0.98      0.98       136\n",
      "           1       0.98      0.99      0.99       172\n",
      "\n",
      "    accuracy                           0.98       308\n",
      "   macro avg       0.98      0.98      0.98       308\n",
      "weighted avg       0.98      0.98      0.98       308\n",
      "\n",
      "confusion matrix is\n",
      "[[133   3]\n",
      " [  2 170]]\n",
      "\n",
      "\n"
     ]
    }
   ],
   "source": [
    "dtc.fit(x_train,y_train)\n",
    "pred=dtc.predict(x_test)\n",
    "print('accuracy score through random forest is ')\n",
    "print(round((accuracy_score(y_test,pred)),3))\n",
    "print('classification report is')\n",
    "print(classification_report(y_test,pred))\n",
    "print('confusion matrix is')\n",
    "print(confusion_matrix(y_test,pred))\n",
    "print('\\n')"
   ]
  },
  {
   "cell_type": "code",
   "execution_count": 42,
   "id": "def18e28",
   "metadata": {},
   "outputs": [
    {
     "data": {
      "text/plain": [
       "['sbi_insurance.obj']"
      ]
     },
     "execution_count": 42,
     "metadata": {},
     "output_type": "execute_result"
    }
   ],
   "source": [
    "import joblib\n",
    "joblib.dump(dtc,'sbi_insurance.obj')"
   ]
  },
  {
   "cell_type": "code",
   "execution_count": null,
   "id": "35d96be7",
   "metadata": {},
   "outputs": [],
   "source": []
  }
 ],
 "metadata": {
  "kernelspec": {
   "display_name": "Python 3",
   "language": "python",
   "name": "python3"
  },
  "language_info": {
   "codemirror_mode": {
    "name": "ipython",
    "version": 3
   },
   "file_extension": ".py",
   "mimetype": "text/x-python",
   "name": "python",
   "nbconvert_exporter": "python",
   "pygments_lexer": "ipython3",
   "version": "3.8.8"
  }
 },
 "nbformat": 4,
 "nbformat_minor": 5
}
