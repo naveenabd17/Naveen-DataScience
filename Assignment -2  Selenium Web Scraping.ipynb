{
 "cells": [
  {
   "cell_type": "markdown",
   "metadata": {},
   "source": [
    "First Question:\n",
    "    \n",
    "    Write a python program to scrape data for “Data Analyst” Job position in\n",
    "    “Bangalore” location. You have to scrape the job-title, job-location, company_name,\n",
    "    experience_required. You have to scrape first 10 jobs data.\n",
    "    This task will be done in following steps:\n",
    "    1. first get the webpage https://www.naukri.com/\n",
    "    2. Enter “Data Analyst” in “Skill,Designations,Companies” field and enter “Bangalore”\n",
    "    in “enter the location” field.\n",
    "    3. Then click the search button.\n",
    "    4. Then scrape the data for the first 10 jobs results you get.\n",
    "    5. Finally create a dataframe of the scraped data."
   ]
  },
  {
   "cell_type": "code",
   "execution_count": 60,
   "metadata": {},
   "outputs": [],
   "source": [
    "import pandas as pd\n",
    "import selenium\n",
    "from selenium import webdriver"
   ]
  },
  {
   "cell_type": "code",
   "execution_count": 61,
   "metadata": {},
   "outputs": [],
   "source": [
    "driver=webdriver.Chrome('chromedriver.exe')"
   ]
  },
  {
   "cell_type": "code",
   "execution_count": 16,
   "metadata": {},
   "outputs": [],
   "source": [
    "url='https://www.naukri.com/'\n",
    "driver.get(url)"
   ]
  },
  {
   "cell_type": "code",
   "execution_count": 17,
   "metadata": {},
   "outputs": [
    {
     "data": {
      "text/plain": [
       "<selenium.webdriver.remote.webelement.WebElement (session=\"5d1262e6927b8bd572f24b146fc1076d\", element=\"f007f769-0ba6-421d-8a09-c2462dfec141\")>"
      ]
     },
     "execution_count": 17,
     "metadata": {},
     "output_type": "execute_result"
    }
   ],
   "source": [
    "search_job=driver.find_element_by_id('qsb-keyword-sugg')\n",
    "search_job"
   ]
  },
  {
   "cell_type": "code",
   "execution_count": 18,
   "metadata": {},
   "outputs": [],
   "source": [
    "search_job.send_keys('Data Analyst')"
   ]
  },
  {
   "cell_type": "code",
   "execution_count": 19,
   "metadata": {},
   "outputs": [
    {
     "data": {
      "text/plain": [
       "<selenium.webdriver.remote.webelement.WebElement (session=\"5d1262e6927b8bd572f24b146fc1076d\", element=\"450907cf-3a88-4057-99ab-0417b6af41c3\")>"
      ]
     },
     "execution_count": 19,
     "metadata": {},
     "output_type": "execute_result"
    }
   ],
   "source": [
    "search_loc=driver.find_element_by_id('qsb-location-sugg')\n",
    "search_loc"
   ]
  },
  {
   "cell_type": "code",
   "execution_count": 20,
   "metadata": {},
   "outputs": [],
   "source": [
    "search_loc.send_keys('Bangalore')"
   ]
  },
  {
   "cell_type": "code",
   "execution_count": 21,
   "metadata": {},
   "outputs": [],
   "source": [
    "search_btn=driver.find_element_by_xpath('//button[@class=\"btn\"]')\n",
    "search_btn.click()"
   ]
  },
  {
   "cell_type": "code",
   "execution_count": 22,
   "metadata": {
    "collapsed": true
   },
   "outputs": [
    {
     "data": {
      "text/plain": [
       "[<selenium.webdriver.remote.webelement.WebElement (session=\"5d1262e6927b8bd572f24b146fc1076d\", element=\"cb090712-b28f-4da3-89bd-3fea69f293f3\")>,\n",
       " <selenium.webdriver.remote.webelement.WebElement (session=\"5d1262e6927b8bd572f24b146fc1076d\", element=\"8fad6dee-dc27-430c-8740-a816ac1a9608\")>,\n",
       " <selenium.webdriver.remote.webelement.WebElement (session=\"5d1262e6927b8bd572f24b146fc1076d\", element=\"7a8ad429-6ecb-4935-821e-c8356b745b95\")>,\n",
       " <selenium.webdriver.remote.webelement.WebElement (session=\"5d1262e6927b8bd572f24b146fc1076d\", element=\"ddf172b8-1169-4507-8548-178cad4c2724\")>,\n",
       " <selenium.webdriver.remote.webelement.WebElement (session=\"5d1262e6927b8bd572f24b146fc1076d\", element=\"5f500ca2-7f9a-417a-acd8-14209c4de332\")>,\n",
       " <selenium.webdriver.remote.webelement.WebElement (session=\"5d1262e6927b8bd572f24b146fc1076d\", element=\"aaae4e38-cdb7-49a2-a6b2-2ab4f38635d0\")>,\n",
       " <selenium.webdriver.remote.webelement.WebElement (session=\"5d1262e6927b8bd572f24b146fc1076d\", element=\"f7513981-0b8c-40e4-91a9-a8b6351147ce\")>,\n",
       " <selenium.webdriver.remote.webelement.WebElement (session=\"5d1262e6927b8bd572f24b146fc1076d\", element=\"77c42396-4e39-4f02-8139-0dbbfea97c75\")>,\n",
       " <selenium.webdriver.remote.webelement.WebElement (session=\"5d1262e6927b8bd572f24b146fc1076d\", element=\"c7d6db64-61e3-4b71-bc25-35ad40a7de77\")>,\n",
       " <selenium.webdriver.remote.webelement.WebElement (session=\"5d1262e6927b8bd572f24b146fc1076d\", element=\"5f7da961-93ec-4d80-a1ef-843b06ab96b9\")>,\n",
       " <selenium.webdriver.remote.webelement.WebElement (session=\"5d1262e6927b8bd572f24b146fc1076d\", element=\"c72dc445-ae4b-4b79-b1a3-195a508f5cb7\")>,\n",
       " <selenium.webdriver.remote.webelement.WebElement (session=\"5d1262e6927b8bd572f24b146fc1076d\", element=\"014e202e-4295-41e3-81b7-20d157fa8813\")>,\n",
       " <selenium.webdriver.remote.webelement.WebElement (session=\"5d1262e6927b8bd572f24b146fc1076d\", element=\"77ab3f80-671b-4d2a-acbb-a00a826f5047\")>,\n",
       " <selenium.webdriver.remote.webelement.WebElement (session=\"5d1262e6927b8bd572f24b146fc1076d\", element=\"02d60f86-9b3b-4529-877a-57330d3c59b4\")>,\n",
       " <selenium.webdriver.remote.webelement.WebElement (session=\"5d1262e6927b8bd572f24b146fc1076d\", element=\"92dcb74e-a37d-49c7-b182-b8f78ac9490b\")>,\n",
       " <selenium.webdriver.remote.webelement.WebElement (session=\"5d1262e6927b8bd572f24b146fc1076d\", element=\"803648b8-4ce5-4412-8fbf-52de3e1cc8eb\")>,\n",
       " <selenium.webdriver.remote.webelement.WebElement (session=\"5d1262e6927b8bd572f24b146fc1076d\", element=\"45326835-022e-4acb-9501-cee8f9ae1d28\")>,\n",
       " <selenium.webdriver.remote.webelement.WebElement (session=\"5d1262e6927b8bd572f24b146fc1076d\", element=\"1d38391f-5488-43c4-8d6b-d970566520ab\")>,\n",
       " <selenium.webdriver.remote.webelement.WebElement (session=\"5d1262e6927b8bd572f24b146fc1076d\", element=\"0ca0a455-3eba-43b8-b61d-ceea3a5a7017\")>,\n",
       " <selenium.webdriver.remote.webelement.WebElement (session=\"5d1262e6927b8bd572f24b146fc1076d\", element=\"c20e3606-7e9b-4a82-a359-f4a87a6e5bfe\")>]"
      ]
     },
     "execution_count": 22,
     "metadata": {},
     "output_type": "execute_result"
    }
   ],
   "source": [
    "title_tags=driver.find_elements_by_xpath(\"//a[@class='title fw500 ellipsis']\")\n",
    "title_tags"
   ]
  },
  {
   "cell_type": "code",
   "execution_count": 23,
   "metadata": {
    "collapsed": true
   },
   "outputs": [
    {
     "data": {
      "text/plain": [
       "['Data Scientist / Data Analyst -Business Analyst',\n",
       " 'Data analysts',\n",
       " 'Data Analyst (2positions)//immediate Joiners//bangalore',\n",
       " 'Data analysts',\n",
       " 'Data Analyst',\n",
       " 'Data Analyst',\n",
       " 'Data Analyst - Category Demand Management (Revenue & Growth)',\n",
       " 'Job Opportunity For Talent Data Analyst - Cornerstone OnDemand',\n",
       " 'Consultant-Data Analyst -Bangalore',\n",
       " 'Data Analyst - Work from Home']"
      ]
     },
     "execution_count": 23,
     "metadata": {},
     "output_type": "execute_result"
    }
   ],
   "source": [
    "Job_title=[]\n",
    "for i in range(0,10):\n",
    "    Job_title.append(title_tags[i].text)\n",
    "Job_title"
   ]
  },
  {
   "cell_type": "code",
   "execution_count": 33,
   "metadata": {
    "collapsed": true
   },
   "outputs": [
    {
     "data": {
      "text/plain": [
       "[<selenium.webdriver.remote.webelement.WebElement (session=\"5d1262e6927b8bd572f24b146fc1076d\", element=\"43c72fb9-4b41-4934-b19d-e1be3bd43339\")>,\n",
       " <selenium.webdriver.remote.webelement.WebElement (session=\"5d1262e6927b8bd572f24b146fc1076d\", element=\"778e312f-bb26-4d9b-a1ee-22e8bb50a55f\")>,\n",
       " <selenium.webdriver.remote.webelement.WebElement (session=\"5d1262e6927b8bd572f24b146fc1076d\", element=\"02f9fd0b-5913-4394-8256-a5cb5474ff97\")>,\n",
       " <selenium.webdriver.remote.webelement.WebElement (session=\"5d1262e6927b8bd572f24b146fc1076d\", element=\"b6fca9f1-105b-4d45-8b16-45c3c4f93412\")>,\n",
       " <selenium.webdriver.remote.webelement.WebElement (session=\"5d1262e6927b8bd572f24b146fc1076d\", element=\"406f062b-9662-4f50-b3d1-9f407ac8707f\")>,\n",
       " <selenium.webdriver.remote.webelement.WebElement (session=\"5d1262e6927b8bd572f24b146fc1076d\", element=\"c1ad8d06-dcbd-4f22-85ae-b30b73011661\")>,\n",
       " <selenium.webdriver.remote.webelement.WebElement (session=\"5d1262e6927b8bd572f24b146fc1076d\", element=\"124a0c20-107a-49ad-abfc-b18f027e33b0\")>,\n",
       " <selenium.webdriver.remote.webelement.WebElement (session=\"5d1262e6927b8bd572f24b146fc1076d\", element=\"0403f8c0-c8f0-4693-baab-d0bbc8b9fd5e\")>,\n",
       " <selenium.webdriver.remote.webelement.WebElement (session=\"5d1262e6927b8bd572f24b146fc1076d\", element=\"414550b3-ec43-4a22-8a1d-fc5e75715660\")>,\n",
       " <selenium.webdriver.remote.webelement.WebElement (session=\"5d1262e6927b8bd572f24b146fc1076d\", element=\"ca6e2f6b-c77c-4ac5-84e4-32908d40ca17\")>,\n",
       " <selenium.webdriver.remote.webelement.WebElement (session=\"5d1262e6927b8bd572f24b146fc1076d\", element=\"7bff6bae-bc0a-473e-ad89-3f1dc5e198fa\")>,\n",
       " <selenium.webdriver.remote.webelement.WebElement (session=\"5d1262e6927b8bd572f24b146fc1076d\", element=\"2db59216-54d2-47e6-b6d9-3598cb5c363b\")>,\n",
       " <selenium.webdriver.remote.webelement.WebElement (session=\"5d1262e6927b8bd572f24b146fc1076d\", element=\"3881551b-0fd1-40d5-a915-3ad54320df96\")>,\n",
       " <selenium.webdriver.remote.webelement.WebElement (session=\"5d1262e6927b8bd572f24b146fc1076d\", element=\"0077ab7f-6f08-4b42-a93d-753eeb702f80\")>,\n",
       " <selenium.webdriver.remote.webelement.WebElement (session=\"5d1262e6927b8bd572f24b146fc1076d\", element=\"271bd484-553b-4c5c-bdeb-2f4a20270016\")>,\n",
       " <selenium.webdriver.remote.webelement.WebElement (session=\"5d1262e6927b8bd572f24b146fc1076d\", element=\"07651f3a-a911-43ba-97a5-cd7790fc6d92\")>,\n",
       " <selenium.webdriver.remote.webelement.WebElement (session=\"5d1262e6927b8bd572f24b146fc1076d\", element=\"82f06a77-a75a-4846-929b-27f5a9b8f24d\")>,\n",
       " <selenium.webdriver.remote.webelement.WebElement (session=\"5d1262e6927b8bd572f24b146fc1076d\", element=\"c15fa1d2-b2d8-48a8-b444-03b4d60cd1ac\")>,\n",
       " <selenium.webdriver.remote.webelement.WebElement (session=\"5d1262e6927b8bd572f24b146fc1076d\", element=\"9e04f3ad-5447-487c-96c2-25d418a05c63\")>,\n",
       " <selenium.webdriver.remote.webelement.WebElement (session=\"5d1262e6927b8bd572f24b146fc1076d\", element=\"d4c48723-a731-4b2b-acc2-8ce8b8448ca9\")>,\n",
       " <selenium.webdriver.remote.webelement.WebElement (session=\"5d1262e6927b8bd572f24b146fc1076d\", element=\"1a2feb90-1296-4203-abb5-134a272b77d2\")>,\n",
       " <selenium.webdriver.remote.webelement.WebElement (session=\"5d1262e6927b8bd572f24b146fc1076d\", element=\"109c8c62-9b9f-4873-acf2-8605ffa6658d\")>,\n",
       " <selenium.webdriver.remote.webelement.WebElement (session=\"5d1262e6927b8bd572f24b146fc1076d\", element=\"97943c0c-f7d2-4de6-9d45-638132121ad4\")>,\n",
       " <selenium.webdriver.remote.webelement.WebElement (session=\"5d1262e6927b8bd572f24b146fc1076d\", element=\"b3553eeb-82b9-4875-9f99-a9d460524cb2\")>,\n",
       " <selenium.webdriver.remote.webelement.WebElement (session=\"5d1262e6927b8bd572f24b146fc1076d\", element=\"3fea677c-f3d9-4900-a118-d116cd3065d8\")>,\n",
       " <selenium.webdriver.remote.webelement.WebElement (session=\"5d1262e6927b8bd572f24b146fc1076d\", element=\"b89e2419-2b8d-43db-9227-3d76cf45cc66\")>,\n",
       " <selenium.webdriver.remote.webelement.WebElement (session=\"5d1262e6927b8bd572f24b146fc1076d\", element=\"f4fda9cc-7fd6-4ae5-9895-2a98bc2fb897\")>,\n",
       " <selenium.webdriver.remote.webelement.WebElement (session=\"5d1262e6927b8bd572f24b146fc1076d\", element=\"835228ae-31f7-4c50-8052-3e2b4721a470\")>,\n",
       " <selenium.webdriver.remote.webelement.WebElement (session=\"5d1262e6927b8bd572f24b146fc1076d\", element=\"a2a879b1-803a-440e-a811-9eae32e77a93\")>,\n",
       " <selenium.webdriver.remote.webelement.WebElement (session=\"5d1262e6927b8bd572f24b146fc1076d\", element=\"cfa290ad-7308-466e-81e5-4762ba5e7016\")>,\n",
       " <selenium.webdriver.remote.webelement.WebElement (session=\"5d1262e6927b8bd572f24b146fc1076d\", element=\"ec4588ab-0c4c-4721-9b16-1027966de648\")>,\n",
       " <selenium.webdriver.remote.webelement.WebElement (session=\"5d1262e6927b8bd572f24b146fc1076d\", element=\"8012e315-7bb5-42a1-830f-d0b012ba9a12\")>,\n",
       " <selenium.webdriver.remote.webelement.WebElement (session=\"5d1262e6927b8bd572f24b146fc1076d\", element=\"e9ffc347-abd3-4587-be60-ceaf7a71be4f\")>,\n",
       " <selenium.webdriver.remote.webelement.WebElement (session=\"5d1262e6927b8bd572f24b146fc1076d\", element=\"7e38402e-d15d-4580-a4ba-b2b16e2417eb\")>,\n",
       " <selenium.webdriver.remote.webelement.WebElement (session=\"5d1262e6927b8bd572f24b146fc1076d\", element=\"b6fa9a26-0837-4e35-9b90-96bee75b04b0\")>,\n",
       " <selenium.webdriver.remote.webelement.WebElement (session=\"5d1262e6927b8bd572f24b146fc1076d\", element=\"c411f0a6-eae5-486f-adbd-de5d5257ab58\")>,\n",
       " <selenium.webdriver.remote.webelement.WebElement (session=\"5d1262e6927b8bd572f24b146fc1076d\", element=\"30e4e54f-0feb-40e6-a054-760ac9af25b1\")>,\n",
       " <selenium.webdriver.remote.webelement.WebElement (session=\"5d1262e6927b8bd572f24b146fc1076d\", element=\"9efc508b-d5ca-453b-acea-5e69abb293b4\")>,\n",
       " <selenium.webdriver.remote.webelement.WebElement (session=\"5d1262e6927b8bd572f24b146fc1076d\", element=\"62571c32-a719-4242-8bae-81844f8deef7\")>,\n",
       " <selenium.webdriver.remote.webelement.WebElement (session=\"5d1262e6927b8bd572f24b146fc1076d\", element=\"b62dc865-ac5d-4355-82ef-cb7c1702ce57\")>,\n",
       " <selenium.webdriver.remote.webelement.WebElement (session=\"5d1262e6927b8bd572f24b146fc1076d\", element=\"7fceeb02-dbe4-4e06-b926-fafb09da9cf5\")>,\n",
       " <selenium.webdriver.remote.webelement.WebElement (session=\"5d1262e6927b8bd572f24b146fc1076d\", element=\"3ebb01de-8ae6-4a8f-a9b9-3bcb61ef615b\")>,\n",
       " <selenium.webdriver.remote.webelement.WebElement (session=\"5d1262e6927b8bd572f24b146fc1076d\", element=\"1a7b1228-43f2-44f6-9864-97ec61717849\")>,\n",
       " <selenium.webdriver.remote.webelement.WebElement (session=\"5d1262e6927b8bd572f24b146fc1076d\", element=\"f47eb650-6c67-47ac-a4f2-19d0d08b5e61\")>,\n",
       " <selenium.webdriver.remote.webelement.WebElement (session=\"5d1262e6927b8bd572f24b146fc1076d\", element=\"e01e42f2-19a1-42c0-8643-bbf6f57c8589\")>,\n",
       " <selenium.webdriver.remote.webelement.WebElement (session=\"5d1262e6927b8bd572f24b146fc1076d\", element=\"0de45e59-be81-4b77-ba2a-95873c011522\")>,\n",
       " <selenium.webdriver.remote.webelement.WebElement (session=\"5d1262e6927b8bd572f24b146fc1076d\", element=\"fe5b6588-633b-4cc7-87a0-eeb828ea6549\")>,\n",
       " <selenium.webdriver.remote.webelement.WebElement (session=\"5d1262e6927b8bd572f24b146fc1076d\", element=\"5a97fa68-dd0f-4122-a774-162c27e739f5\")>,\n",
       " <selenium.webdriver.remote.webelement.WebElement (session=\"5d1262e6927b8bd572f24b146fc1076d\", element=\"1bc71ea0-0a3b-4456-a028-5f418bf528e6\")>,\n",
       " <selenium.webdriver.remote.webelement.WebElement (session=\"5d1262e6927b8bd572f24b146fc1076d\", element=\"765bfc33-c8d8-4f34-8d9a-a176b60c922f\")>,\n",
       " <selenium.webdriver.remote.webelement.WebElement (session=\"5d1262e6927b8bd572f24b146fc1076d\", element=\"a71cdca8-16b2-4fe0-855e-c8a940497796\")>,\n",
       " <selenium.webdriver.remote.webelement.WebElement (session=\"5d1262e6927b8bd572f24b146fc1076d\", element=\"a0742835-164f-40e5-a9cd-9c391ae89238\")>,\n",
       " <selenium.webdriver.remote.webelement.WebElement (session=\"5d1262e6927b8bd572f24b146fc1076d\", element=\"3bbf62a1-c19e-42fa-91c5-0dc89beb44ad\")>,\n",
       " <selenium.webdriver.remote.webelement.WebElement (session=\"5d1262e6927b8bd572f24b146fc1076d\", element=\"5d523f38-551a-44c8-95ed-e395c89e5ac9\")>,\n",
       " <selenium.webdriver.remote.webelement.WebElement (session=\"5d1262e6927b8bd572f24b146fc1076d\", element=\"eb44ee30-8582-401d-b68d-efd815ba6e1d\")>,\n",
       " <selenium.webdriver.remote.webelement.WebElement (session=\"5d1262e6927b8bd572f24b146fc1076d\", element=\"ae268b75-d684-46b7-ae63-90375b165547\")>,\n",
       " <selenium.webdriver.remote.webelement.WebElement (session=\"5d1262e6927b8bd572f24b146fc1076d\", element=\"be0a8835-ca9f-4bc3-8eab-3d1e2f74ef76\")>,\n",
       " <selenium.webdriver.remote.webelement.WebElement (session=\"5d1262e6927b8bd572f24b146fc1076d\", element=\"6cfbc640-45da-45aa-8d7b-dd255185a1fe\")>,\n",
       " <selenium.webdriver.remote.webelement.WebElement (session=\"5d1262e6927b8bd572f24b146fc1076d\", element=\"6bb2cc35-4cde-4466-ad61-caf9de406150\")>,\n",
       " <selenium.webdriver.remote.webelement.WebElement (session=\"5d1262e6927b8bd572f24b146fc1076d\", element=\"4c3d8d78-d510-4dda-b59e-d87d8432e7f1\")>]"
      ]
     },
     "execution_count": 33,
     "metadata": {},
     "output_type": "execute_result"
    }
   ],
   "source": [
    "location_tag=driver.find_elements_by_xpath('//span[@class=\"ellipsis fleft fs12 lh16\"]')\n",
    "location_tag"
   ]
  },
  {
   "cell_type": "code",
   "execution_count": 37,
   "metadata": {
    "collapsed": true
   },
   "outputs": [
    {
     "data": {
      "text/plain": [
       "['Mumbai, Hyderabad/Secunderabad, Pune, Gurgaon/Gurugram, Chennai, Bangalore/Bengaluru',\n",
       " 'Bengaluru/Bangalore',\n",
       " 'Bangalore/Bengaluru',\n",
       " 'Bangalore/Bengaluru',\n",
       " 'Bangalore/Bengaluru',\n",
       " 'Bangalore/Bengaluru',\n",
       " 'Bangalore/Bengaluru',\n",
       " 'Kolkata, Pune, Chennai, Bangalore/Bengaluru, Delhi / NCR, Mumbai (All Areas)',\n",
       " 'Bangalore/Bengaluru',\n",
       " 'Pune, Bangalore/Bengaluru, Mumbai (All Areas)']"
      ]
     },
     "execution_count": 37,
     "metadata": {},
     "output_type": "execute_result"
    }
   ],
   "source": [
    "Location=[]\n",
    "for i in range(2,30,3):\n",
    "    Location.append(location_tag[i].text)\n",
    "Location"
   ]
  },
  {
   "cell_type": "code",
   "execution_count": 38,
   "metadata": {
    "collapsed": true
   },
   "outputs": [
    {
     "data": {
      "text/plain": [
       "[<selenium.webdriver.remote.webelement.WebElement (session=\"5d1262e6927b8bd572f24b146fc1076d\", element=\"25e7bb25-bbdf-47b7-a017-27b3fe2d2dc2\")>,\n",
       " <selenium.webdriver.remote.webelement.WebElement (session=\"5d1262e6927b8bd572f24b146fc1076d\", element=\"9a5eaae4-1681-401f-b10d-78df0c508170\")>,\n",
       " <selenium.webdriver.remote.webelement.WebElement (session=\"5d1262e6927b8bd572f24b146fc1076d\", element=\"169ecb0f-1555-48db-bd54-97a0f6679feb\")>,\n",
       " <selenium.webdriver.remote.webelement.WebElement (session=\"5d1262e6927b8bd572f24b146fc1076d\", element=\"cf57fbec-2e82-4c96-8a7a-fcce9dd11813\")>,\n",
       " <selenium.webdriver.remote.webelement.WebElement (session=\"5d1262e6927b8bd572f24b146fc1076d\", element=\"678c2f3c-d866-4da0-abbe-69aa9655cafb\")>,\n",
       " <selenium.webdriver.remote.webelement.WebElement (session=\"5d1262e6927b8bd572f24b146fc1076d\", element=\"33e0aed2-e6c0-4c5b-929c-8e231fe40d0a\")>,\n",
       " <selenium.webdriver.remote.webelement.WebElement (session=\"5d1262e6927b8bd572f24b146fc1076d\", element=\"05aa5722-9aef-4377-8748-0340fa686ca7\")>,\n",
       " <selenium.webdriver.remote.webelement.WebElement (session=\"5d1262e6927b8bd572f24b146fc1076d\", element=\"2a5ec7c5-3283-45eb-9d68-590edb661051\")>,\n",
       " <selenium.webdriver.remote.webelement.WebElement (session=\"5d1262e6927b8bd572f24b146fc1076d\", element=\"eeee447b-553b-4bc5-8786-d7cda1fe999f\")>,\n",
       " <selenium.webdriver.remote.webelement.WebElement (session=\"5d1262e6927b8bd572f24b146fc1076d\", element=\"68daa8ed-fbdb-489a-9a46-26dad2cc903a\")>,\n",
       " <selenium.webdriver.remote.webelement.WebElement (session=\"5d1262e6927b8bd572f24b146fc1076d\", element=\"e484d9d8-2e96-4930-93cd-efc8a737cde0\")>,\n",
       " <selenium.webdriver.remote.webelement.WebElement (session=\"5d1262e6927b8bd572f24b146fc1076d\", element=\"fc1128b4-63ca-412a-ad39-6960f050fc7a\")>,\n",
       " <selenium.webdriver.remote.webelement.WebElement (session=\"5d1262e6927b8bd572f24b146fc1076d\", element=\"d6e1dfe9-8a33-40c1-a7f8-99813f0e02cd\")>,\n",
       " <selenium.webdriver.remote.webelement.WebElement (session=\"5d1262e6927b8bd572f24b146fc1076d\", element=\"8c0d41ab-c01d-43c1-a28d-ba503ae438f2\")>,\n",
       " <selenium.webdriver.remote.webelement.WebElement (session=\"5d1262e6927b8bd572f24b146fc1076d\", element=\"0456b433-b2d9-40c9-8f3d-dfcdbf691dcf\")>,\n",
       " <selenium.webdriver.remote.webelement.WebElement (session=\"5d1262e6927b8bd572f24b146fc1076d\", element=\"cd1f1060-9f9a-458f-ac24-a33f19b45731\")>,\n",
       " <selenium.webdriver.remote.webelement.WebElement (session=\"5d1262e6927b8bd572f24b146fc1076d\", element=\"e7301226-c0c8-46cd-a948-503200523e61\")>,\n",
       " <selenium.webdriver.remote.webelement.WebElement (session=\"5d1262e6927b8bd572f24b146fc1076d\", element=\"7b6f25cc-d85b-491b-b305-31debf6884ae\")>,\n",
       " <selenium.webdriver.remote.webelement.WebElement (session=\"5d1262e6927b8bd572f24b146fc1076d\", element=\"3aaeb578-1e26-461a-87b2-21f01d213aea\")>,\n",
       " <selenium.webdriver.remote.webelement.WebElement (session=\"5d1262e6927b8bd572f24b146fc1076d\", element=\"2a80d3c6-5e28-4efc-ad96-92f792f709be\")>]"
      ]
     },
     "execution_count": 38,
     "metadata": {},
     "output_type": "execute_result"
    }
   ],
   "source": [
    "company_tags=driver.find_elements_by_xpath('//div[@class=\"mt-7 companyInfo subheading lh16\"]')\n",
    "company_tags"
   ]
  },
  {
   "cell_type": "code",
   "execution_count": 39,
   "metadata": {},
   "outputs": [
    {
     "data": {
      "text/plain": [
       "['Inflexion Analytix Private Limited',\n",
       " 'IBM India Pvt. Limited\\n4.0\\n(9816 Reviews)',\n",
       " 'Tech Mahindra Ltd.\\n3.6\\n(11299 Reviews)',\n",
       " 'IBM India Pvt. Limited\\n4.0\\n(9816 Reviews)',\n",
       " 'Myntra Designs Pvt. Ltd.\\n4.1\\n(760 Reviews)',\n",
       " 'Myntra Designs Pvt. Ltd.\\n4.1\\n(760 Reviews)',\n",
       " 'Myntra Designs Pvt. Ltd.\\n4.1\\n(760 Reviews)',\n",
       " 'Cornerstone OnDemand Services India Pvt Ltd\\n4.4\\n(14 Reviews)',\n",
       " 'Innovsource Services Private Limited\\n4.2\\n(636 Reviews)',\n",
       " 'POWER STORES E COMMERCE PRIVATE LIMITED']"
      ]
     },
     "execution_count": 39,
     "metadata": {},
     "output_type": "execute_result"
    }
   ],
   "source": [
    "Company_Name=[]\n",
    "for i in range(0,10):\n",
    "    Company_Name.append(company_tags[i].text)\n",
    "Company_Name"
   ]
  },
  {
   "cell_type": "code",
   "execution_count": 42,
   "metadata": {
    "collapsed": true
   },
   "outputs": [
    {
     "data": {
      "text/plain": [
       "[<selenium.webdriver.remote.webelement.WebElement (session=\"5d1262e6927b8bd572f24b146fc1076d\", element=\"43c72fb9-4b41-4934-b19d-e1be3bd43339\")>,\n",
       " <selenium.webdriver.remote.webelement.WebElement (session=\"5d1262e6927b8bd572f24b146fc1076d\", element=\"b6fca9f1-105b-4d45-8b16-45c3c4f93412\")>,\n",
       " <selenium.webdriver.remote.webelement.WebElement (session=\"5d1262e6927b8bd572f24b146fc1076d\", element=\"124a0c20-107a-49ad-abfc-b18f027e33b0\")>,\n",
       " <selenium.webdriver.remote.webelement.WebElement (session=\"5d1262e6927b8bd572f24b146fc1076d\", element=\"ca6e2f6b-c77c-4ac5-84e4-32908d40ca17\")>,\n",
       " <selenium.webdriver.remote.webelement.WebElement (session=\"5d1262e6927b8bd572f24b146fc1076d\", element=\"3881551b-0fd1-40d5-a915-3ad54320df96\")>,\n",
       " <selenium.webdriver.remote.webelement.WebElement (session=\"5d1262e6927b8bd572f24b146fc1076d\", element=\"07651f3a-a911-43ba-97a5-cd7790fc6d92\")>,\n",
       " <selenium.webdriver.remote.webelement.WebElement (session=\"5d1262e6927b8bd572f24b146fc1076d\", element=\"9e04f3ad-5447-487c-96c2-25d418a05c63\")>,\n",
       " <selenium.webdriver.remote.webelement.WebElement (session=\"5d1262e6927b8bd572f24b146fc1076d\", element=\"109c8c62-9b9f-4873-acf2-8605ffa6658d\")>,\n",
       " <selenium.webdriver.remote.webelement.WebElement (session=\"5d1262e6927b8bd572f24b146fc1076d\", element=\"3fea677c-f3d9-4900-a118-d116cd3065d8\")>,\n",
       " <selenium.webdriver.remote.webelement.WebElement (session=\"5d1262e6927b8bd572f24b146fc1076d\", element=\"835228ae-31f7-4c50-8052-3e2b4721a470\")>,\n",
       " <selenium.webdriver.remote.webelement.WebElement (session=\"5d1262e6927b8bd572f24b146fc1076d\", element=\"ec4588ab-0c4c-4721-9b16-1027966de648\")>,\n",
       " <selenium.webdriver.remote.webelement.WebElement (session=\"5d1262e6927b8bd572f24b146fc1076d\", element=\"7e38402e-d15d-4580-a4ba-b2b16e2417eb\")>,\n",
       " <selenium.webdriver.remote.webelement.WebElement (session=\"5d1262e6927b8bd572f24b146fc1076d\", element=\"30e4e54f-0feb-40e6-a054-760ac9af25b1\")>,\n",
       " <selenium.webdriver.remote.webelement.WebElement (session=\"5d1262e6927b8bd572f24b146fc1076d\", element=\"b62dc865-ac5d-4355-82ef-cb7c1702ce57\")>,\n",
       " <selenium.webdriver.remote.webelement.WebElement (session=\"5d1262e6927b8bd572f24b146fc1076d\", element=\"1a7b1228-43f2-44f6-9864-97ec61717849\")>,\n",
       " <selenium.webdriver.remote.webelement.WebElement (session=\"5d1262e6927b8bd572f24b146fc1076d\", element=\"0de45e59-be81-4b77-ba2a-95873c011522\")>,\n",
       " <selenium.webdriver.remote.webelement.WebElement (session=\"5d1262e6927b8bd572f24b146fc1076d\", element=\"1bc71ea0-0a3b-4456-a028-5f418bf528e6\")>,\n",
       " <selenium.webdriver.remote.webelement.WebElement (session=\"5d1262e6927b8bd572f24b146fc1076d\", element=\"a0742835-164f-40e5-a9cd-9c391ae89238\")>,\n",
       " <selenium.webdriver.remote.webelement.WebElement (session=\"5d1262e6927b8bd572f24b146fc1076d\", element=\"eb44ee30-8582-401d-b68d-efd815ba6e1d\")>,\n",
       " <selenium.webdriver.remote.webelement.WebElement (session=\"5d1262e6927b8bd572f24b146fc1076d\", element=\"6cfbc640-45da-45aa-8d7b-dd255185a1fe\")>]"
      ]
     },
     "execution_count": 42,
     "metadata": {},
     "output_type": "execute_result"
    }
   ],
   "source": [
    "experience_tag=driver.find_elements_by_xpath('//li[@class=\"fleft grey-text br2 placeHolderLi experience\"]/span')\n",
    "experience_tag"
   ]
  },
  {
   "cell_type": "code",
   "execution_count": 44,
   "metadata": {},
   "outputs": [
    {
     "data": {
      "text/plain": [
       "['0-3 Yrs',\n",
       " '5-6 Yrs',\n",
       " '4-8 Yrs',\n",
       " '3-5 Yrs',\n",
       " '3-5 Yrs',\n",
       " '3-8 Yrs',\n",
       " '1-4 Yrs',\n",
       " '3-5 Yrs',\n",
       " '2-7 Yrs',\n",
       " '2-5 Yrs']"
      ]
     },
     "execution_count": 44,
     "metadata": {},
     "output_type": "execute_result"
    }
   ],
   "source": [
    "Experience=[]\n",
    "for i in range(0,10):\n",
    "    Experience.append(experience_tag[i].text)\n",
    "Experience"
   ]
  },
  {
   "cell_type": "code",
   "execution_count": 45,
   "metadata": {},
   "outputs": [],
   "source": [
    "df1=pd.DataFrame()\n",
    "df1['Job_title']=Job_title\n",
    "df1['Location']=Location\n",
    "df1['Company_Name']=Company_Name\n",
    "df1['Experience']=Experience"
   ]
  },
  {
   "cell_type": "code",
   "execution_count": 47,
   "metadata": {},
   "outputs": [
    {
     "data": {
      "text/html": [
       "<div>\n",
       "<style scoped>\n",
       "    .dataframe tbody tr th:only-of-type {\n",
       "        vertical-align: middle;\n",
       "    }\n",
       "\n",
       "    .dataframe tbody tr th {\n",
       "        vertical-align: top;\n",
       "    }\n",
       "\n",
       "    .dataframe thead th {\n",
       "        text-align: right;\n",
       "    }\n",
       "</style>\n",
       "<table border=\"1\" class=\"dataframe\">\n",
       "  <thead>\n",
       "    <tr style=\"text-align: right;\">\n",
       "      <th></th>\n",
       "      <th>Job_title</th>\n",
       "      <th>Location</th>\n",
       "      <th>Company_Name</th>\n",
       "      <th>Experience</th>\n",
       "    </tr>\n",
       "  </thead>\n",
       "  <tbody>\n",
       "    <tr>\n",
       "      <th>0</th>\n",
       "      <td>Data Scientist / Data Analyst -Business Analyst</td>\n",
       "      <td>Mumbai, Hyderabad/Secunderabad, Pune, Gurgaon/...</td>\n",
       "      <td>Inflexion Analytix Private Limited</td>\n",
       "      <td>0-3 Yrs</td>\n",
       "    </tr>\n",
       "    <tr>\n",
       "      <th>1</th>\n",
       "      <td>Data analysts</td>\n",
       "      <td>Bengaluru/Bangalore</td>\n",
       "      <td>IBM India Pvt. Limited\\n4.0\\n(9816 Reviews)</td>\n",
       "      <td>5-6 Yrs</td>\n",
       "    </tr>\n",
       "    <tr>\n",
       "      <th>2</th>\n",
       "      <td>Data Analyst (2positions)//immediate Joiners//...</td>\n",
       "      <td>Bangalore/Bengaluru</td>\n",
       "      <td>Tech Mahindra Ltd.\\n3.6\\n(11299 Reviews)</td>\n",
       "      <td>4-8 Yrs</td>\n",
       "    </tr>\n",
       "    <tr>\n",
       "      <th>3</th>\n",
       "      <td>Data analysts</td>\n",
       "      <td>Bangalore/Bengaluru</td>\n",
       "      <td>IBM India Pvt. Limited\\n4.0\\n(9816 Reviews)</td>\n",
       "      <td>3-5 Yrs</td>\n",
       "    </tr>\n",
       "    <tr>\n",
       "      <th>4</th>\n",
       "      <td>Data Analyst</td>\n",
       "      <td>Bangalore/Bengaluru</td>\n",
       "      <td>Myntra Designs Pvt. Ltd.\\n4.1\\n(760 Reviews)</td>\n",
       "      <td>3-5 Yrs</td>\n",
       "    </tr>\n",
       "    <tr>\n",
       "      <th>5</th>\n",
       "      <td>Data Analyst</td>\n",
       "      <td>Bangalore/Bengaluru</td>\n",
       "      <td>Myntra Designs Pvt. Ltd.\\n4.1\\n(760 Reviews)</td>\n",
       "      <td>3-8 Yrs</td>\n",
       "    </tr>\n",
       "    <tr>\n",
       "      <th>6</th>\n",
       "      <td>Data Analyst - Category Demand Management (Rev...</td>\n",
       "      <td>Bangalore/Bengaluru</td>\n",
       "      <td>Myntra Designs Pvt. Ltd.\\n4.1\\n(760 Reviews)</td>\n",
       "      <td>1-4 Yrs</td>\n",
       "    </tr>\n",
       "    <tr>\n",
       "      <th>7</th>\n",
       "      <td>Job Opportunity For Talent Data Analyst - Corn...</td>\n",
       "      <td>Kolkata, Pune, Chennai, Bangalore/Bengaluru, D...</td>\n",
       "      <td>Cornerstone OnDemand Services India Pvt Ltd\\n4...</td>\n",
       "      <td>3-5 Yrs</td>\n",
       "    </tr>\n",
       "    <tr>\n",
       "      <th>8</th>\n",
       "      <td>Consultant-Data Analyst -Bangalore</td>\n",
       "      <td>Bangalore/Bengaluru</td>\n",
       "      <td>Innovsource Services Private Limited\\n4.2\\n(63...</td>\n",
       "      <td>2-7 Yrs</td>\n",
       "    </tr>\n",
       "    <tr>\n",
       "      <th>9</th>\n",
       "      <td>Data Analyst - Work from Home</td>\n",
       "      <td>Pune, Bangalore/Bengaluru, Mumbai (All Areas)</td>\n",
       "      <td>POWER STORES E COMMERCE PRIVATE LIMITED</td>\n",
       "      <td>2-5 Yrs</td>\n",
       "    </tr>\n",
       "  </tbody>\n",
       "</table>\n",
       "</div>"
      ],
      "text/plain": [
       "                                           Job_title  \\\n",
       "0    Data Scientist / Data Analyst -Business Analyst   \n",
       "1                                      Data analysts   \n",
       "2  Data Analyst (2positions)//immediate Joiners//...   \n",
       "3                                      Data analysts   \n",
       "4                                       Data Analyst   \n",
       "5                                       Data Analyst   \n",
       "6  Data Analyst - Category Demand Management (Rev...   \n",
       "7  Job Opportunity For Talent Data Analyst - Corn...   \n",
       "8                 Consultant-Data Analyst -Bangalore   \n",
       "9                      Data Analyst - Work from Home   \n",
       "\n",
       "                                            Location  \\\n",
       "0  Mumbai, Hyderabad/Secunderabad, Pune, Gurgaon/...   \n",
       "1                                Bengaluru/Bangalore   \n",
       "2                                Bangalore/Bengaluru   \n",
       "3                                Bangalore/Bengaluru   \n",
       "4                                Bangalore/Bengaluru   \n",
       "5                                Bangalore/Bengaluru   \n",
       "6                                Bangalore/Bengaluru   \n",
       "7  Kolkata, Pune, Chennai, Bangalore/Bengaluru, D...   \n",
       "8                                Bangalore/Bengaluru   \n",
       "9      Pune, Bangalore/Bengaluru, Mumbai (All Areas)   \n",
       "\n",
       "                                        Company_Name Experience  \n",
       "0                 Inflexion Analytix Private Limited    0-3 Yrs  \n",
       "1        IBM India Pvt. Limited\\n4.0\\n(9816 Reviews)    5-6 Yrs  \n",
       "2           Tech Mahindra Ltd.\\n3.6\\n(11299 Reviews)    4-8 Yrs  \n",
       "3        IBM India Pvt. Limited\\n4.0\\n(9816 Reviews)    3-5 Yrs  \n",
       "4       Myntra Designs Pvt. Ltd.\\n4.1\\n(760 Reviews)    3-5 Yrs  \n",
       "5       Myntra Designs Pvt. Ltd.\\n4.1\\n(760 Reviews)    3-8 Yrs  \n",
       "6       Myntra Designs Pvt. Ltd.\\n4.1\\n(760 Reviews)    1-4 Yrs  \n",
       "7  Cornerstone OnDemand Services India Pvt Ltd\\n4...    3-5 Yrs  \n",
       "8  Innovsource Services Private Limited\\n4.2\\n(63...    2-7 Yrs  \n",
       "9            POWER STORES E COMMERCE PRIVATE LIMITED    2-5 Yrs  "
      ]
     },
     "execution_count": 47,
     "metadata": {},
     "output_type": "execute_result"
    }
   ],
   "source": [
    "df1.head(10)"
   ]
  },
  {
   "cell_type": "markdown",
   "metadata": {},
   "source": [
    "Second Question:\n",
    "    \n",
    "    Write a python program to scrape data for “Data Scientist” Job position in\n",
    "    “Bangalore” location. You have to scrape the job-title, job-location,\n",
    "    company_name, full job-description. You have to scrape first 10 jobs data.\n",
    "    This task will be done in following steps:\n",
    "    1. first get the webpage https://www.naukri.com/\n",
    "    2. Enter “Data Scientist” in “Skill,Designations,Companies” field and enter\n",
    "    “Bangalore” in “enter the location” field.\n",
    "    3. Then click the search button.\n",
    "    4. Then scrape the data for the first 10 jobs results you get.\n",
    "    5. Finally create a dataframe of the scraped data."
   ]
  },
  {
   "cell_type": "code",
   "execution_count": 48,
   "metadata": {},
   "outputs": [],
   "source": [
    "driver=webdriver.Chrome('chromedriver.exe')"
   ]
  },
  {
   "cell_type": "code",
   "execution_count": 49,
   "metadata": {},
   "outputs": [],
   "source": [
    "url='https://www.naukri.com/'\n",
    "driver.get(url)"
   ]
  },
  {
   "cell_type": "code",
   "execution_count": 50,
   "metadata": {},
   "outputs": [
    {
     "data": {
      "text/plain": [
       "<selenium.webdriver.remote.webelement.WebElement (session=\"15b77da3aa331f9cdf3d4a956e4e05ec\", element=\"3a093967-1a7b-4625-83b8-c3d6cb3d42d5\")>"
      ]
     },
     "execution_count": 50,
     "metadata": {},
     "output_type": "execute_result"
    }
   ],
   "source": [
    "search_job=driver.find_element_by_id('qsb-keyword-sugg')\n",
    "search_job"
   ]
  },
  {
   "cell_type": "code",
   "execution_count": 51,
   "metadata": {},
   "outputs": [],
   "source": [
    "search_job.send_keys('Data Scientist')"
   ]
  },
  {
   "cell_type": "code",
   "execution_count": 52,
   "metadata": {},
   "outputs": [
    {
     "data": {
      "text/plain": [
       "<selenium.webdriver.remote.webelement.WebElement (session=\"15b77da3aa331f9cdf3d4a956e4e05ec\", element=\"a4cae765-0fe2-4bc7-91ba-1634291be6b4\")>"
      ]
     },
     "execution_count": 52,
     "metadata": {},
     "output_type": "execute_result"
    }
   ],
   "source": [
    "location_tag=driver.find_element_by_id('qsb-location-sugg')\n",
    "location_tag"
   ]
  },
  {
   "cell_type": "code",
   "execution_count": 53,
   "metadata": {},
   "outputs": [],
   "source": [
    "search_btn=driver.find_element_by_xpath('//button[@class=\"btn\"]')\n",
    "search_btn.click()"
   ]
  },
  {
   "cell_type": "code",
   "execution_count": 55,
   "metadata": {
    "collapsed": true
   },
   "outputs": [
    {
     "data": {
      "text/plain": [
       "[<selenium.webdriver.remote.webelement.WebElement (session=\"15b77da3aa331f9cdf3d4a956e4e05ec\", element=\"3e767d87-9fb5-4e6f-839f-c9e220c28ca7\")>,\n",
       " <selenium.webdriver.remote.webelement.WebElement (session=\"15b77da3aa331f9cdf3d4a956e4e05ec\", element=\"31e8320c-c6b7-4aa9-a156-c6a08d8d93e5\")>,\n",
       " <selenium.webdriver.remote.webelement.WebElement (session=\"15b77da3aa331f9cdf3d4a956e4e05ec\", element=\"835ae072-efd7-49f3-8c94-1649a6a4b8a4\")>,\n",
       " <selenium.webdriver.remote.webelement.WebElement (session=\"15b77da3aa331f9cdf3d4a956e4e05ec\", element=\"dda7acd4-e8f2-414c-8327-bd34e1a2cb83\")>,\n",
       " <selenium.webdriver.remote.webelement.WebElement (session=\"15b77da3aa331f9cdf3d4a956e4e05ec\", element=\"991fcee7-dd81-47b2-a105-a751bdceae41\")>,\n",
       " <selenium.webdriver.remote.webelement.WebElement (session=\"15b77da3aa331f9cdf3d4a956e4e05ec\", element=\"822cd88e-3639-4efc-be6d-5ca629ec59f9\")>,\n",
       " <selenium.webdriver.remote.webelement.WebElement (session=\"15b77da3aa331f9cdf3d4a956e4e05ec\", element=\"1a764e7b-7b38-4d81-8a73-bfbb3df1c699\")>,\n",
       " <selenium.webdriver.remote.webelement.WebElement (session=\"15b77da3aa331f9cdf3d4a956e4e05ec\", element=\"776b36ed-f8fa-4f0f-b1df-4eeaa8e4f8d2\")>,\n",
       " <selenium.webdriver.remote.webelement.WebElement (session=\"15b77da3aa331f9cdf3d4a956e4e05ec\", element=\"78c97650-2bad-44a5-95b3-39ab76cc13e4\")>,\n",
       " <selenium.webdriver.remote.webelement.WebElement (session=\"15b77da3aa331f9cdf3d4a956e4e05ec\", element=\"91eb6ba9-0711-47db-af34-59db800bb0c2\")>,\n",
       " <selenium.webdriver.remote.webelement.WebElement (session=\"15b77da3aa331f9cdf3d4a956e4e05ec\", element=\"98cb2fec-9c3c-4116-8778-0dbaeb531547\")>,\n",
       " <selenium.webdriver.remote.webelement.WebElement (session=\"15b77da3aa331f9cdf3d4a956e4e05ec\", element=\"806c3741-8487-4ae7-abc3-316c5d38478f\")>,\n",
       " <selenium.webdriver.remote.webelement.WebElement (session=\"15b77da3aa331f9cdf3d4a956e4e05ec\", element=\"62248eac-3e37-4ee1-b944-55a97f01a495\")>,\n",
       " <selenium.webdriver.remote.webelement.WebElement (session=\"15b77da3aa331f9cdf3d4a956e4e05ec\", element=\"67138e55-2e8a-4f40-8a21-cc222fcbd80f\")>,\n",
       " <selenium.webdriver.remote.webelement.WebElement (session=\"15b77da3aa331f9cdf3d4a956e4e05ec\", element=\"95a3400b-173d-4274-b7a3-58f43baafb2f\")>,\n",
       " <selenium.webdriver.remote.webelement.WebElement (session=\"15b77da3aa331f9cdf3d4a956e4e05ec\", element=\"a0186954-cf28-4ede-b8f8-2085fca9ce95\")>,\n",
       " <selenium.webdriver.remote.webelement.WebElement (session=\"15b77da3aa331f9cdf3d4a956e4e05ec\", element=\"60754b79-d891-494d-a069-0bbc905eea06\")>,\n",
       " <selenium.webdriver.remote.webelement.WebElement (session=\"15b77da3aa331f9cdf3d4a956e4e05ec\", element=\"fb6b6c90-6245-4e72-87d2-27baa6af62b4\")>,\n",
       " <selenium.webdriver.remote.webelement.WebElement (session=\"15b77da3aa331f9cdf3d4a956e4e05ec\", element=\"9129e0e7-754a-4e4e-be11-a56b3630d416\")>,\n",
       " <selenium.webdriver.remote.webelement.WebElement (session=\"15b77da3aa331f9cdf3d4a956e4e05ec\", element=\"fa55d46d-3361-4361-ad5b-5d4b110931b3\")>]"
      ]
     },
     "execution_count": 55,
     "metadata": {},
     "output_type": "execute_result"
    }
   ],
   "source": [
    "title_tags=driver.find_elements_by_xpath('//a[@class=\"title fw500 ellipsis\"]')\n",
    "title_tags"
   ]
  },
  {
   "cell_type": "code",
   "execution_count": 56,
   "metadata": {
    "collapsed": true
   },
   "outputs": [
    {
     "data": {
      "text/plain": [
       "['Data Scientist / Data Analyst -Business Analyst',\n",
       " 'Senior Data Scientist (marketplace)',\n",
       " 'Data analytics / Data scientist intern (work from Home)',\n",
       " 'data scientist',\n",
       " 'Senior / Lead Data Scientist',\n",
       " 'Senior Data Scientist - SQL/Spark/Python',\n",
       " 'Chaayos is Looking For Data Scientist',\n",
       " 'Data Scientist, Machine Learning',\n",
       " 'Senior Data Scientist',\n",
       " 'VP - Sr. Data Scientist For Morgan Stanley, Bangalore']"
      ]
     },
     "execution_count": 56,
     "metadata": {},
     "output_type": "execute_result"
    }
   ],
   "source": [
    "Job_title=[]\n",
    "for i in range(0,10):\n",
    "    Job_title.append(title_tags[i].text)\n",
    "Job_title"
   ]
  },
  {
   "cell_type": "code",
   "execution_count": 58,
   "metadata": {
    "collapsed": true
   },
   "outputs": [
    {
     "data": {
      "text/plain": [
       "[<selenium.webdriver.remote.webelement.WebElement (session=\"15b77da3aa331f9cdf3d4a956e4e05ec\", element=\"4bf71255-b286-4352-9448-5304615710b2\")>,\n",
       " <selenium.webdriver.remote.webelement.WebElement (session=\"15b77da3aa331f9cdf3d4a956e4e05ec\", element=\"ad86e6aa-f21e-471b-a978-2c5b1388a473\")>,\n",
       " <selenium.webdriver.remote.webelement.WebElement (session=\"15b77da3aa331f9cdf3d4a956e4e05ec\", element=\"813cf753-a200-47f9-91e6-d52214f5c07e\")>,\n",
       " <selenium.webdriver.remote.webelement.WebElement (session=\"15b77da3aa331f9cdf3d4a956e4e05ec\", element=\"e1dba987-8804-4edd-a2ca-8bb56c963a00\")>,\n",
       " <selenium.webdriver.remote.webelement.WebElement (session=\"15b77da3aa331f9cdf3d4a956e4e05ec\", element=\"1990374c-a94a-45b6-b534-67a469fc05fa\")>,\n",
       " <selenium.webdriver.remote.webelement.WebElement (session=\"15b77da3aa331f9cdf3d4a956e4e05ec\", element=\"e2e522e7-8c9c-4a96-987e-5ca8e801420a\")>,\n",
       " <selenium.webdriver.remote.webelement.WebElement (session=\"15b77da3aa331f9cdf3d4a956e4e05ec\", element=\"c6089883-de2b-41d0-8dac-f46a2cd90eef\")>,\n",
       " <selenium.webdriver.remote.webelement.WebElement (session=\"15b77da3aa331f9cdf3d4a956e4e05ec\", element=\"44370b22-09ec-4fc4-83c5-e9db4bf14ba8\")>,\n",
       " <selenium.webdriver.remote.webelement.WebElement (session=\"15b77da3aa331f9cdf3d4a956e4e05ec\", element=\"2f5e06f8-a38f-482c-89d6-a40f9f5b6774\")>,\n",
       " <selenium.webdriver.remote.webelement.WebElement (session=\"15b77da3aa331f9cdf3d4a956e4e05ec\", element=\"def4ff7a-9228-47c1-94e1-7fbf44ea5246\")>,\n",
       " <selenium.webdriver.remote.webelement.WebElement (session=\"15b77da3aa331f9cdf3d4a956e4e05ec\", element=\"4b2baaee-0927-4103-ae49-7564ed59909b\")>,\n",
       " <selenium.webdriver.remote.webelement.WebElement (session=\"15b77da3aa331f9cdf3d4a956e4e05ec\", element=\"7cb5f35a-e397-4445-bb38-71cb195eba60\")>,\n",
       " <selenium.webdriver.remote.webelement.WebElement (session=\"15b77da3aa331f9cdf3d4a956e4e05ec\", element=\"cfccc960-5c17-48b0-88c6-4e7c86104923\")>,\n",
       " <selenium.webdriver.remote.webelement.WebElement (session=\"15b77da3aa331f9cdf3d4a956e4e05ec\", element=\"3393ee24-eba9-4e46-8da2-f7b3aa04f459\")>,\n",
       " <selenium.webdriver.remote.webelement.WebElement (session=\"15b77da3aa331f9cdf3d4a956e4e05ec\", element=\"8a5c3ef2-2e1a-4e54-bf61-f8ce4c59face\")>,\n",
       " <selenium.webdriver.remote.webelement.WebElement (session=\"15b77da3aa331f9cdf3d4a956e4e05ec\", element=\"ada426cb-26ad-4999-a1ac-01c836405f3a\")>,\n",
       " <selenium.webdriver.remote.webelement.WebElement (session=\"15b77da3aa331f9cdf3d4a956e4e05ec\", element=\"9784179b-540d-4d3f-b1de-1b6ee2892fdf\")>,\n",
       " <selenium.webdriver.remote.webelement.WebElement (session=\"15b77da3aa331f9cdf3d4a956e4e05ec\", element=\"d57539cb-fbaf-443c-bac5-cdc534c4a042\")>,\n",
       " <selenium.webdriver.remote.webelement.WebElement (session=\"15b77da3aa331f9cdf3d4a956e4e05ec\", element=\"5fd86372-6d97-4b81-822c-c424a21f0c4f\")>,\n",
       " <selenium.webdriver.remote.webelement.WebElement (session=\"15b77da3aa331f9cdf3d4a956e4e05ec\", element=\"70eb27cf-7894-4dc3-b6ca-75275dc13558\")>]"
      ]
     },
     "execution_count": 58,
     "metadata": {},
     "output_type": "execute_result"
    }
   ],
   "source": [
    "company_tag=driver.find_elements_by_xpath('//a[@class=\"subTitle ellipsis fleft\"]')\n",
    "company_tag"
   ]
  },
  {
   "cell_type": "code",
   "execution_count": 60,
   "metadata": {},
   "outputs": [
    {
     "data": {
      "text/plain": [
       "['Inflexion Analytix Private Limited',\n",
       " 'Walmart Global Tech India',\n",
       " 'TalkValley LLC',\n",
       " 'Global Talent Pool',\n",
       " 'TVS CREDIT SERVICES LIMITED',\n",
       " 'Datamatics Business Solutions',\n",
       " 'Chaayos (Sunshine Teahouse Pvt. Ltd.)',\n",
       " 'Fractal Analytics',\n",
       " 'RedBus',\n",
       " 'Morgan Stanley Advantage Services']"
      ]
     },
     "execution_count": 60,
     "metadata": {},
     "output_type": "execute_result"
    }
   ],
   "source": [
    "Company_Name2=[]\n",
    "for i in range(0,10):\n",
    "    Company_Name2.append(company_tag[i].text)\n",
    "Company_Name2"
   ]
  },
  {
   "cell_type": "code",
   "execution_count": 62,
   "metadata": {
    "collapsed": true
   },
   "outputs": [
    {
     "data": {
      "text/plain": [
       "[<selenium.webdriver.remote.webelement.WebElement (session=\"15b77da3aa331f9cdf3d4a956e4e05ec\", element=\"2e42189c-9fd5-402e-8580-a0f48cd82b62\")>,\n",
       " <selenium.webdriver.remote.webelement.WebElement (session=\"15b77da3aa331f9cdf3d4a956e4e05ec\", element=\"a6d9d25b-d5bf-409b-b8c5-980c77458495\")>,\n",
       " <selenium.webdriver.remote.webelement.WebElement (session=\"15b77da3aa331f9cdf3d4a956e4e05ec\", element=\"2ef8ae1a-29c7-4369-9a91-f97d087326c1\")>,\n",
       " <selenium.webdriver.remote.webelement.WebElement (session=\"15b77da3aa331f9cdf3d4a956e4e05ec\", element=\"0bf3ec2e-d160-4fa6-861a-bdd5acad200e\")>,\n",
       " <selenium.webdriver.remote.webelement.WebElement (session=\"15b77da3aa331f9cdf3d4a956e4e05ec\", element=\"02f8f857-a6d2-4ff3-9d16-ea011453d6b0\")>,\n",
       " <selenium.webdriver.remote.webelement.WebElement (session=\"15b77da3aa331f9cdf3d4a956e4e05ec\", element=\"cb0a1472-27c8-40f7-93b4-a42ed35ceae0\")>,\n",
       " <selenium.webdriver.remote.webelement.WebElement (session=\"15b77da3aa331f9cdf3d4a956e4e05ec\", element=\"a41ee407-3529-4f33-87ee-610019f5f093\")>,\n",
       " <selenium.webdriver.remote.webelement.WebElement (session=\"15b77da3aa331f9cdf3d4a956e4e05ec\", element=\"eeb0d624-57da-4184-ab40-8bad1b26f31f\")>,\n",
       " <selenium.webdriver.remote.webelement.WebElement (session=\"15b77da3aa331f9cdf3d4a956e4e05ec\", element=\"1d03f481-bd79-4d06-95ec-3a889c5c92cb\")>,\n",
       " <selenium.webdriver.remote.webelement.WebElement (session=\"15b77da3aa331f9cdf3d4a956e4e05ec\", element=\"3e4db7aa-5864-4821-b399-a387f4432494\")>,\n",
       " <selenium.webdriver.remote.webelement.WebElement (session=\"15b77da3aa331f9cdf3d4a956e4e05ec\", element=\"0e781d39-66f7-4744-8031-4f83cd50c205\")>,\n",
       " <selenium.webdriver.remote.webelement.WebElement (session=\"15b77da3aa331f9cdf3d4a956e4e05ec\", element=\"e8439de5-eec9-4769-aec5-d1fefbc35b88\")>,\n",
       " <selenium.webdriver.remote.webelement.WebElement (session=\"15b77da3aa331f9cdf3d4a956e4e05ec\", element=\"1bc94289-437b-44a2-be61-9371a1a18e04\")>,\n",
       " <selenium.webdriver.remote.webelement.WebElement (session=\"15b77da3aa331f9cdf3d4a956e4e05ec\", element=\"16aed69f-aad5-4858-9b3e-13c1163cdcbc\")>,\n",
       " <selenium.webdriver.remote.webelement.WebElement (session=\"15b77da3aa331f9cdf3d4a956e4e05ec\", element=\"0b69d47c-4ea6-4dcb-a4c4-c709fa2bf601\")>,\n",
       " <selenium.webdriver.remote.webelement.WebElement (session=\"15b77da3aa331f9cdf3d4a956e4e05ec\", element=\"ac638e13-5c88-4b28-a461-ece5bb68538f\")>,\n",
       " <selenium.webdriver.remote.webelement.WebElement (session=\"15b77da3aa331f9cdf3d4a956e4e05ec\", element=\"2c49aaa9-992f-4d62-b1c4-92759a7e572c\")>,\n",
       " <selenium.webdriver.remote.webelement.WebElement (session=\"15b77da3aa331f9cdf3d4a956e4e05ec\", element=\"8c01c4fd-7e03-4454-9fad-1afbaeda87bc\")>,\n",
       " <selenium.webdriver.remote.webelement.WebElement (session=\"15b77da3aa331f9cdf3d4a956e4e05ec\", element=\"29df7013-e196-43d2-bfaf-0ac677756554\")>,\n",
       " <selenium.webdriver.remote.webelement.WebElement (session=\"15b77da3aa331f9cdf3d4a956e4e05ec\", element=\"bbc18c08-46bd-4a2e-b4ea-30285b0cfca1\")>,\n",
       " <selenium.webdriver.remote.webelement.WebElement (session=\"15b77da3aa331f9cdf3d4a956e4e05ec\", element=\"a2df301f-e549-4578-81f4-49f00cc76f2f\")>,\n",
       " <selenium.webdriver.remote.webelement.WebElement (session=\"15b77da3aa331f9cdf3d4a956e4e05ec\", element=\"1e77f7b3-d397-4420-b01f-cbfb0c577064\")>,\n",
       " <selenium.webdriver.remote.webelement.WebElement (session=\"15b77da3aa331f9cdf3d4a956e4e05ec\", element=\"0b3e7eff-1975-40da-8a33-bf8c36c0cc16\")>,\n",
       " <selenium.webdriver.remote.webelement.WebElement (session=\"15b77da3aa331f9cdf3d4a956e4e05ec\", element=\"c5aad9ad-7555-4139-bc0f-f30908ba3688\")>,\n",
       " <selenium.webdriver.remote.webelement.WebElement (session=\"15b77da3aa331f9cdf3d4a956e4e05ec\", element=\"3abf71c6-e8b5-4984-a510-35d139e335c0\")>,\n",
       " <selenium.webdriver.remote.webelement.WebElement (session=\"15b77da3aa331f9cdf3d4a956e4e05ec\", element=\"324162ef-a5c3-4759-9094-c69b560e8ad1\")>,\n",
       " <selenium.webdriver.remote.webelement.WebElement (session=\"15b77da3aa331f9cdf3d4a956e4e05ec\", element=\"97a2960a-f252-407d-bb8d-43fa0237feda\")>,\n",
       " <selenium.webdriver.remote.webelement.WebElement (session=\"15b77da3aa331f9cdf3d4a956e4e05ec\", element=\"90478089-143f-421b-99aa-30c77c140b59\")>,\n",
       " <selenium.webdriver.remote.webelement.WebElement (session=\"15b77da3aa331f9cdf3d4a956e4e05ec\", element=\"f044ff1a-eeb4-4a43-b022-138ca8aed802\")>,\n",
       " <selenium.webdriver.remote.webelement.WebElement (session=\"15b77da3aa331f9cdf3d4a956e4e05ec\", element=\"c85482ac-8a91-47a7-9071-b6b823cae948\")>,\n",
       " <selenium.webdriver.remote.webelement.WebElement (session=\"15b77da3aa331f9cdf3d4a956e4e05ec\", element=\"83ff2cac-d5f6-4ff7-9f62-32ec81bc8b5b\")>,\n",
       " <selenium.webdriver.remote.webelement.WebElement (session=\"15b77da3aa331f9cdf3d4a956e4e05ec\", element=\"b4421968-985b-4c64-acc8-9fd9c74e696e\")>,\n",
       " <selenium.webdriver.remote.webelement.WebElement (session=\"15b77da3aa331f9cdf3d4a956e4e05ec\", element=\"58561114-2255-48ee-a160-4e0308d2450c\")>,\n",
       " <selenium.webdriver.remote.webelement.WebElement (session=\"15b77da3aa331f9cdf3d4a956e4e05ec\", element=\"549ba743-85dd-4493-9146-7005acba7f9e\")>,\n",
       " <selenium.webdriver.remote.webelement.WebElement (session=\"15b77da3aa331f9cdf3d4a956e4e05ec\", element=\"eeaaf7cd-eb90-4ae0-8a25-de5894019a76\")>,\n",
       " <selenium.webdriver.remote.webelement.WebElement (session=\"15b77da3aa331f9cdf3d4a956e4e05ec\", element=\"58d2161b-7d6f-4607-a710-b522802ddc81\")>,\n",
       " <selenium.webdriver.remote.webelement.WebElement (session=\"15b77da3aa331f9cdf3d4a956e4e05ec\", element=\"63a6fa58-98ca-4ff0-8e9a-bf68bea37046\")>,\n",
       " <selenium.webdriver.remote.webelement.WebElement (session=\"15b77da3aa331f9cdf3d4a956e4e05ec\", element=\"8f163c4b-2837-4756-a07f-5ab6b933a2bb\")>,\n",
       " <selenium.webdriver.remote.webelement.WebElement (session=\"15b77da3aa331f9cdf3d4a956e4e05ec\", element=\"6d6ec0f6-ac64-4cf6-8280-999573da4205\")>,\n",
       " <selenium.webdriver.remote.webelement.WebElement (session=\"15b77da3aa331f9cdf3d4a956e4e05ec\", element=\"28613709-9a21-44a2-970f-9810badfa891\")>,\n",
       " <selenium.webdriver.remote.webelement.WebElement (session=\"15b77da3aa331f9cdf3d4a956e4e05ec\", element=\"cf602205-0bed-4727-87a5-e54873225e55\")>,\n",
       " <selenium.webdriver.remote.webelement.WebElement (session=\"15b77da3aa331f9cdf3d4a956e4e05ec\", element=\"53031cd2-8781-46f9-bf3d-16ee6488cd6e\")>,\n",
       " <selenium.webdriver.remote.webelement.WebElement (session=\"15b77da3aa331f9cdf3d4a956e4e05ec\", element=\"0b97b6be-01b2-4296-9d88-5a8d28984e6b\")>,\n",
       " <selenium.webdriver.remote.webelement.WebElement (session=\"15b77da3aa331f9cdf3d4a956e4e05ec\", element=\"4c1c2411-1c74-44db-959b-995743517d94\")>,\n",
       " <selenium.webdriver.remote.webelement.WebElement (session=\"15b77da3aa331f9cdf3d4a956e4e05ec\", element=\"3154d49b-7fc1-4353-a73f-ed0a12e303c2\")>,\n",
       " <selenium.webdriver.remote.webelement.WebElement (session=\"15b77da3aa331f9cdf3d4a956e4e05ec\", element=\"c23979fb-d217-4458-96fa-26297f2a9390\")>,\n",
       " <selenium.webdriver.remote.webelement.WebElement (session=\"15b77da3aa331f9cdf3d4a956e4e05ec\", element=\"84b457b0-257d-4f0f-b4c1-e235e80cfee2\")>,\n",
       " <selenium.webdriver.remote.webelement.WebElement (session=\"15b77da3aa331f9cdf3d4a956e4e05ec\", element=\"10200de4-d3a6-4076-9bb8-336ef6edae63\")>,\n",
       " <selenium.webdriver.remote.webelement.WebElement (session=\"15b77da3aa331f9cdf3d4a956e4e05ec\", element=\"d3d9284f-bfac-4745-b6a4-69bab43ff98a\")>,\n",
       " <selenium.webdriver.remote.webelement.WebElement (session=\"15b77da3aa331f9cdf3d4a956e4e05ec\", element=\"d37ea9be-3e3a-4508-b908-55858353a92a\")>,\n",
       " <selenium.webdriver.remote.webelement.WebElement (session=\"15b77da3aa331f9cdf3d4a956e4e05ec\", element=\"b6dd4a41-7cea-4e66-b83d-292fe2ec359d\")>,\n",
       " <selenium.webdriver.remote.webelement.WebElement (session=\"15b77da3aa331f9cdf3d4a956e4e05ec\", element=\"d360c804-e1e7-4d06-9622-ff635f9c44e6\")>,\n",
       " <selenium.webdriver.remote.webelement.WebElement (session=\"15b77da3aa331f9cdf3d4a956e4e05ec\", element=\"0f3993af-3141-4a81-8357-442ab191921b\")>,\n",
       " <selenium.webdriver.remote.webelement.WebElement (session=\"15b77da3aa331f9cdf3d4a956e4e05ec\", element=\"211f98c3-0b56-4058-bddd-289b557a0ed1\")>,\n",
       " <selenium.webdriver.remote.webelement.WebElement (session=\"15b77da3aa331f9cdf3d4a956e4e05ec\", element=\"f6c3165e-726b-4e0d-b1eb-9cf36247306b\")>,\n",
       " <selenium.webdriver.remote.webelement.WebElement (session=\"15b77da3aa331f9cdf3d4a956e4e05ec\", element=\"8f67b592-a62b-43e6-982a-1f7990f53fdb\")>,\n",
       " <selenium.webdriver.remote.webelement.WebElement (session=\"15b77da3aa331f9cdf3d4a956e4e05ec\", element=\"a4b0f8ac-7303-40cd-8c6e-a98b1040a752\")>,\n",
       " <selenium.webdriver.remote.webelement.WebElement (session=\"15b77da3aa331f9cdf3d4a956e4e05ec\", element=\"74d63984-6feb-4863-8fd6-ce22708960e7\")>,\n",
       " <selenium.webdriver.remote.webelement.WebElement (session=\"15b77da3aa331f9cdf3d4a956e4e05ec\", element=\"17c0f576-a31d-437a-8ee0-36c0565ec3db\")>,\n",
       " <selenium.webdriver.remote.webelement.WebElement (session=\"15b77da3aa331f9cdf3d4a956e4e05ec\", element=\"6c9098f0-7161-4929-adf1-74869f305347\")>]"
      ]
     },
     "execution_count": 62,
     "metadata": {},
     "output_type": "execute_result"
    }
   ],
   "source": [
    "location_tag=driver.find_elements_by_xpath('//span[@class=\"ellipsis fleft fs12 lh16\"]')\n",
    "location_tag"
   ]
  },
  {
   "cell_type": "code",
   "execution_count": 64,
   "metadata": {},
   "outputs": [
    {
     "data": {
      "text/plain": [
       "['Mumbai, Hyderabad/Secunderabad, Pune, Gurgaon/Gurugram, Chennai, Bangalore/Bengaluru',\n",
       " 'Other',\n",
       " 'Kolkata, Bangalore/Bengaluru, Delhi / NCR',\n",
       " 'Bangalore/Bengaluru',\n",
       " 'Pune, Chennai, Bangalore/Bengaluru',\n",
       " 'Mumbai, Thane, Navi Mumbai',\n",
       " 'New Delhi',\n",
       " 'Gurgaon/Gurugram, Bangalore/Bengaluru, Mumbai (All Areas)',\n",
       " 'Bangalore/Bengaluru',\n",
       " 'Bangalore/Bengaluru']"
      ]
     },
     "execution_count": 64,
     "metadata": {},
     "output_type": "execute_result"
    }
   ],
   "source": [
    "Location2=[]\n",
    "for i in range(2,30,3):\n",
    "    Location2.append(location_tag[i].text)\n",
    "Location2"
   ]
  },
  {
   "cell_type": "code",
   "execution_count": 69,
   "metadata": {},
   "outputs": [],
   "source": [
    "descr=driver.find_element_by_xpath('//a[@class=\"title fw500 ellipsis\"]')\n",
    "descr.click()"
   ]
  },
  {
   "cell_type": "code",
   "execution_count": 84,
   "metadata": {},
   "outputs": [
    {
     "data": {
      "text/plain": [
       "['Applications invited from all Freshers and experienced candidates (0-3 yrs) aspiring to...',\n",
       " 'oQualifications oPhD with 2 years of experience 4-year bachelors degree with 7 years of...',\n",
       " 'Duration of the internship: 3 months+ internship completion certificate We are a group ...',\n",
       " 'Graduate level math and statistics knowledge is preferred Good Python programmers with ...',\n",
       " 'Experience in working with large data sets and big data systems (SQL, Hadoop, Hive, etc...',\n",
       " 'Artificial Intelligence and Machine Learning experience in building data modelsEducatio...',\n",
       " 'Employment type - Full timeFreshers are welcome with the good knowledge of SQL / MySQL ...',\n",
       " 'Experience of working on end-to-end data science pipeline: problem scoping, data gather...',\n",
       " 'Job Role: Senior Data Scientist Reporting To: Head of Data Science Total Exp: 5 - 7 yea...',\n",
       " 'About UsMorgan Stanley is a leading global financial services firm providing a wide ran...']"
      ]
     },
     "execution_count": 84,
     "metadata": {},
     "output_type": "execute_result"
    }
   ],
   "source": [
    "job_discriptions=driver.find_elements_by_xpath(\"//div[@class='job-description fs12 grey-text']\")\n",
    "discriptions=[]\n",
    "for i in range(0,10):\n",
    "    discriptions.append(job_discriptions[i].text)\n",
    "discriptions"
   ]
  },
  {
   "cell_type": "code",
   "execution_count": 85,
   "metadata": {},
   "outputs": [],
   "source": [
    "df2=pd.DataFrame()\n",
    "df2['Job_title']=Job_title\n",
    "df2['Company_Name']=Company_Name2\n",
    "df2['Location']=Location2\n",
    "df2['Job descriptions']=discriptions"
   ]
  },
  {
   "cell_type": "code",
   "execution_count": 87,
   "metadata": {},
   "outputs": [
    {
     "data": {
      "text/html": [
       "<div>\n",
       "<style scoped>\n",
       "    .dataframe tbody tr th:only-of-type {\n",
       "        vertical-align: middle;\n",
       "    }\n",
       "\n",
       "    .dataframe tbody tr th {\n",
       "        vertical-align: top;\n",
       "    }\n",
       "\n",
       "    .dataframe thead th {\n",
       "        text-align: right;\n",
       "    }\n",
       "</style>\n",
       "<table border=\"1\" class=\"dataframe\">\n",
       "  <thead>\n",
       "    <tr style=\"text-align: right;\">\n",
       "      <th></th>\n",
       "      <th>Job_title</th>\n",
       "      <th>Company_Name</th>\n",
       "      <th>Location</th>\n",
       "      <th>Job descriptions</th>\n",
       "    </tr>\n",
       "  </thead>\n",
       "  <tbody>\n",
       "    <tr>\n",
       "      <th>0</th>\n",
       "      <td>Data Scientist / Data Analyst -Business Analyst</td>\n",
       "      <td>Inflexion Analytix Private Limited</td>\n",
       "      <td>Mumbai, Hyderabad/Secunderabad, Pune, Gurgaon/...</td>\n",
       "      <td>Applications invited from all Freshers and exp...</td>\n",
       "    </tr>\n",
       "    <tr>\n",
       "      <th>1</th>\n",
       "      <td>Senior Data Scientist (marketplace)</td>\n",
       "      <td>Walmart Global Tech India</td>\n",
       "      <td>Other</td>\n",
       "      <td>oQualifications oPhD with 2 years of experienc...</td>\n",
       "    </tr>\n",
       "    <tr>\n",
       "      <th>2</th>\n",
       "      <td>Data analytics / Data scientist intern (work f...</td>\n",
       "      <td>TalkValley LLC</td>\n",
       "      <td>Kolkata, Bangalore/Bengaluru, Delhi / NCR</td>\n",
       "      <td>Duration of the internship: 3 months+ internsh...</td>\n",
       "    </tr>\n",
       "    <tr>\n",
       "      <th>3</th>\n",
       "      <td>data scientist</td>\n",
       "      <td>Global Talent Pool</td>\n",
       "      <td>Bangalore/Bengaluru</td>\n",
       "      <td>Graduate level math and statistics knowledge i...</td>\n",
       "    </tr>\n",
       "    <tr>\n",
       "      <th>4</th>\n",
       "      <td>Senior / Lead Data Scientist</td>\n",
       "      <td>TVS CREDIT SERVICES LIMITED</td>\n",
       "      <td>Pune, Chennai, Bangalore/Bengaluru</td>\n",
       "      <td>Experience in working with large data sets and...</td>\n",
       "    </tr>\n",
       "    <tr>\n",
       "      <th>5</th>\n",
       "      <td>Senior Data Scientist - SQL/Spark/Python</td>\n",
       "      <td>Datamatics Business Solutions</td>\n",
       "      <td>Mumbai, Thane, Navi Mumbai</td>\n",
       "      <td>Artificial Intelligence and Machine Learning e...</td>\n",
       "    </tr>\n",
       "    <tr>\n",
       "      <th>6</th>\n",
       "      <td>Chaayos is Looking For Data Scientist</td>\n",
       "      <td>Chaayos (Sunshine Teahouse Pvt. Ltd.)</td>\n",
       "      <td>New Delhi</td>\n",
       "      <td>Employment type - Full timeFreshers are welcom...</td>\n",
       "    </tr>\n",
       "    <tr>\n",
       "      <th>7</th>\n",
       "      <td>Data Scientist, Machine Learning</td>\n",
       "      <td>Fractal Analytics</td>\n",
       "      <td>Gurgaon/Gurugram, Bangalore/Bengaluru, Mumbai ...</td>\n",
       "      <td>Experience of working on end-to-end data scien...</td>\n",
       "    </tr>\n",
       "    <tr>\n",
       "      <th>8</th>\n",
       "      <td>Senior Data Scientist</td>\n",
       "      <td>RedBus</td>\n",
       "      <td>Bangalore/Bengaluru</td>\n",
       "      <td>Job Role: Senior Data Scientist Reporting To: ...</td>\n",
       "    </tr>\n",
       "    <tr>\n",
       "      <th>9</th>\n",
       "      <td>VP - Sr. Data Scientist For Morgan Stanley, Ba...</td>\n",
       "      <td>Morgan Stanley Advantage Services</td>\n",
       "      <td>Bangalore/Bengaluru</td>\n",
       "      <td>About UsMorgan Stanley is a leading global fin...</td>\n",
       "    </tr>\n",
       "  </tbody>\n",
       "</table>\n",
       "</div>"
      ],
      "text/plain": [
       "                                           Job_title  \\\n",
       "0    Data Scientist / Data Analyst -Business Analyst   \n",
       "1                Senior Data Scientist (marketplace)   \n",
       "2  Data analytics / Data scientist intern (work f...   \n",
       "3                                     data scientist   \n",
       "4                       Senior / Lead Data Scientist   \n",
       "5           Senior Data Scientist - SQL/Spark/Python   \n",
       "6              Chaayos is Looking For Data Scientist   \n",
       "7                   Data Scientist, Machine Learning   \n",
       "8                              Senior Data Scientist   \n",
       "9  VP - Sr. Data Scientist For Morgan Stanley, Ba...   \n",
       "\n",
       "                            Company_Name  \\\n",
       "0     Inflexion Analytix Private Limited   \n",
       "1              Walmart Global Tech India   \n",
       "2                         TalkValley LLC   \n",
       "3                     Global Talent Pool   \n",
       "4            TVS CREDIT SERVICES LIMITED   \n",
       "5          Datamatics Business Solutions   \n",
       "6  Chaayos (Sunshine Teahouse Pvt. Ltd.)   \n",
       "7                      Fractal Analytics   \n",
       "8                                 RedBus   \n",
       "9      Morgan Stanley Advantage Services   \n",
       "\n",
       "                                            Location  \\\n",
       "0  Mumbai, Hyderabad/Secunderabad, Pune, Gurgaon/...   \n",
       "1                                              Other   \n",
       "2          Kolkata, Bangalore/Bengaluru, Delhi / NCR   \n",
       "3                                Bangalore/Bengaluru   \n",
       "4                 Pune, Chennai, Bangalore/Bengaluru   \n",
       "5                         Mumbai, Thane, Navi Mumbai   \n",
       "6                                          New Delhi   \n",
       "7  Gurgaon/Gurugram, Bangalore/Bengaluru, Mumbai ...   \n",
       "8                                Bangalore/Bengaluru   \n",
       "9                                Bangalore/Bengaluru   \n",
       "\n",
       "                                    Job descriptions  \n",
       "0  Applications invited from all Freshers and exp...  \n",
       "1  oQualifications oPhD with 2 years of experienc...  \n",
       "2  Duration of the internship: 3 months+ internsh...  \n",
       "3  Graduate level math and statistics knowledge i...  \n",
       "4  Experience in working with large data sets and...  \n",
       "5  Artificial Intelligence and Machine Learning e...  \n",
       "6  Employment type - Full timeFreshers are welcom...  \n",
       "7  Experience of working on end-to-end data scien...  \n",
       "8  Job Role: Senior Data Scientist Reporting To: ...  \n",
       "9  About UsMorgan Stanley is a leading global fin...  "
      ]
     },
     "execution_count": 87,
     "metadata": {},
     "output_type": "execute_result"
    }
   ],
   "source": [
    "df2.head(10)"
   ]
  },
  {
   "cell_type": "markdown",
   "metadata": {},
   "source": [
    "Question 3:\n",
    "    \n",
    "    You have to use the location and salary filter.\n",
    "    You have to scrape data for “Data Scientist” designation for first 10 job results.\n",
    "    You have to scrape the job-title, job-location, company_name,\n",
    "    experience_required.\n",
    "    The location filter to be used is “Delhi/NCR”\n",
    "    The salary filter to be used is “3-6” lakhs\n",
    "    The task will be done as shown in the below steps:\n",
    "    1. first get the webpage https://www.naukri.com/\n",
    "    2. Enter “Data Scientist” in “Skill,Designations,Companies” field .\n",
    "    3. Then click the search button.\n",
    "    4. Then apply the location filter and salary filter by checking the respective boxes\n",
    "    4. Then scrape the data for the first 10 jobs results you get.\n",
    "    5. Finally create a dataframe of the scraped data.\n",
    "    Note- All of the above steps have to be done in code. No step is to be done\n",
    "    manually"
   ]
  },
  {
   "cell_type": "code",
   "execution_count": 2,
   "metadata": {},
   "outputs": [],
   "source": [
    "driver=webdriver.Chrome('chromedriver.exe')"
   ]
  },
  {
   "cell_type": "code",
   "execution_count": 3,
   "metadata": {},
   "outputs": [],
   "source": [
    "url='https://www.naukri.com/'\n",
    "driver.get(url)"
   ]
  },
  {
   "cell_type": "code",
   "execution_count": 4,
   "metadata": {},
   "outputs": [
    {
     "data": {
      "text/plain": [
       "<selenium.webdriver.remote.webelement.WebElement (session=\"48f10cef2544a229f43638ce901b270e\", element=\"fa9aa45b-bd80-4a50-a559-a965b37a74ad\")>"
      ]
     },
     "execution_count": 4,
     "metadata": {},
     "output_type": "execute_result"
    }
   ],
   "source": [
    "search_job=driver.find_element_by_id('qsb-keyword-sugg')\n",
    "search_job"
   ]
  },
  {
   "cell_type": "code",
   "execution_count": 5,
   "metadata": {},
   "outputs": [],
   "source": [
    "search_job.send_keys('Data Scientist')"
   ]
  },
  {
   "cell_type": "code",
   "execution_count": 6,
   "metadata": {},
   "outputs": [],
   "source": [
    "search_tag=driver.find_element_by_xpath('//button[@class=\"btn\"]')\n",
    "search_tag.click()"
   ]
  },
  {
   "cell_type": "code",
   "execution_count": 11,
   "metadata": {},
   "outputs": [
    {
     "data": {
      "text/plain": [
       "<selenium.webdriver.remote.webelement.WebElement (session=\"48f10cef2544a229f43638ce901b270e\", element=\"4f596490-44da-438a-b224-8926ce8b5bbf\")>"
      ]
     },
     "execution_count": 11,
     "metadata": {},
     "output_type": "execute_result"
    }
   ],
   "source": [
    "loc_filter=driver.find_element_by_xpath('//span[@title=\"Delhi / NCR\"]')\n",
    "loc_filter"
   ]
  },
  {
   "cell_type": "code",
   "execution_count": 12,
   "metadata": {},
   "outputs": [],
   "source": [
    "loc_filter.click()"
   ]
  },
  {
   "cell_type": "code",
   "execution_count": 13,
   "metadata": {},
   "outputs": [],
   "source": [
    "salary_filter=driver.find_element_by_xpath('//span[@title=\"3-6 Lakhs\"]')\n",
    "salary_filter.click()"
   ]
  },
  {
   "cell_type": "code",
   "execution_count": 16,
   "metadata": {
    "collapsed": true
   },
   "outputs": [
    {
     "data": {
      "text/plain": [
       "['Data Scientist / Data Analyst -Business Analyst',\n",
       " 'Data analytics / Data scientist intern (work from Home)',\n",
       " 'Chaayos is Looking For Data Scientist',\n",
       " 'Data Scientist',\n",
       " 'Junior Data Scientist',\n",
       " 'We are hiring- Data Scientist +Python- Noida',\n",
       " 'Data Scientist',\n",
       " 'Data Analyst/Scientist Big Data, Statistical Techniques',\n",
       " 'Senior Data Scientist',\n",
       " 'Hiring For Data Scientist @ Prodapt Solutions',\n",
       " 'Data Scientist - High growth VC backed Influencer Marketplace',\n",
       " 'Immediate Opening : Data Scientist - Python/Machine Learning',\n",
       " 'Data Scientist',\n",
       " 'Data Scientist',\n",
       " 'Business Analyst- Data Scientist',\n",
       " 'Data Scientist',\n",
       " 'Data Scientist',\n",
       " 'Data Scientist',\n",
       " 'Associate Data Scientist',\n",
       " 'Associate Data Scientist']"
      ]
     },
     "execution_count": 16,
     "metadata": {},
     "output_type": "execute_result"
    }
   ],
   "source": [
    "Job_title=[]\n",
    "for i in driver.find_elements_by_xpath('//a[@class=\"title fw500 ellipsis\"]'):\n",
    "    Job_title.append(i.text)\n",
    "Job_title"
   ]
  },
  {
   "cell_type": "code",
   "execution_count": 17,
   "metadata": {
    "collapsed": true
   },
   "outputs": [
    {
     "data": {
      "text/plain": [
       "['Inflexion Analytix Private Limited',\n",
       " 'TalkValley LLC',\n",
       " 'Chaayos (Sunshine Teahouse Pvt. Ltd.)',\n",
       " 'Fractal Analytics',\n",
       " 'R Systems International Ltd.',\n",
       " 'RANDSTAD INDIA PVT LTD',\n",
       " 'Milliman India Pvt Ltd',\n",
       " 'The Search House (A Div of JSD Search House Pvt. L td.)',\n",
       " 'iNICU',\n",
       " 'BIZZ-BUDDY ENTERPRISES PRIVATE LIMITED',\n",
       " 'Ravgins International Pvt. Ltd.',\n",
       " 'GyanScore Services Private Limited',\n",
       " 'BlackBuck',\n",
       " 'Country Veggie',\n",
       " 'Wipro',\n",
       " 'Evalueserve.com Pvt. Ltd',\n",
       " 'Mahajan Imaging',\n",
       " 'Mahajan Imaging',\n",
       " 'Right Step Consulting',\n",
       " 'Blow Trumpet Solutions']"
      ]
     },
     "execution_count": 17,
     "metadata": {},
     "output_type": "execute_result"
    }
   ],
   "source": [
    "Company_Name=[]\n",
    "for i in driver.find_elements_by_xpath('//a[@class=\"subTitle ellipsis fleft\"]'):\n",
    "    Company_Name.append(i.text)\n",
    "Company_Name "
   ]
  },
  {
   "cell_type": "code",
   "execution_count": 20,
   "metadata": {},
   "outputs": [],
   "source": [
    "location_tag=driver.find_elements_by_xpath('//span[@class=\"ellipsis fleft fs12 lh16\"]')"
   ]
  },
  {
   "cell_type": "code",
   "execution_count": 23,
   "metadata": {
    "collapsed": true
   },
   "outputs": [
    {
     "data": {
      "text/plain": [
       "['Mumbai, Hyderabad/Secunderabad, Pune, Gurgaon/Gurugram, Chennai, Bangalore/Bengaluru',\n",
       " 'Kolkata, Bangalore/Bengaluru, Delhi / NCR',\n",
       " 'New Delhi',\n",
       " 'Mumbai, Gurgaon/Gurugram, Bangalore/Bengaluru',\n",
       " 'Noida(Sector-59 Noida)',\n",
       " 'Noida, Gurgaon/Gurugram, Delhi / NCR',\n",
       " 'Gurgaon/Gurugram, Delhi / NCR',\n",
       " 'Gurgaon/Gurugram',\n",
       " 'Delhi',\n",
       " 'Kolkata, Hyderabad/Secunderabad, Pune, Chennai, Bangalore/Bengaluru, Delhi / NCR']"
      ]
     },
     "execution_count": 23,
     "metadata": {},
     "output_type": "execute_result"
    }
   ],
   "source": [
    "Location=[]\n",
    "for i in range(2,30,3):\n",
    "    Location.append(location_tag[i].text)\n",
    "Location"
   ]
  },
  {
   "cell_type": "code",
   "execution_count": 26,
   "metadata": {
    "collapsed": true
   },
   "outputs": [
    {
     "data": {
      "text/plain": [
       "[<selenium.webdriver.remote.webelement.WebElement (session=\"48f10cef2544a229f43638ce901b270e\", element=\"3f57efbf-aa02-43be-8934-6d7c89fe5929\")>,\n",
       " <selenium.webdriver.remote.webelement.WebElement (session=\"48f10cef2544a229f43638ce901b270e\", element=\"7abbec52-3823-4848-b6a3-19cd3154a8f2\")>,\n",
       " <selenium.webdriver.remote.webelement.WebElement (session=\"48f10cef2544a229f43638ce901b270e\", element=\"60381d7c-1591-430c-82ec-229304e79147\")>,\n",
       " <selenium.webdriver.remote.webelement.WebElement (session=\"48f10cef2544a229f43638ce901b270e\", element=\"909bb6ea-d2f8-4f9b-8698-c83cecd67f38\")>,\n",
       " <selenium.webdriver.remote.webelement.WebElement (session=\"48f10cef2544a229f43638ce901b270e\", element=\"ea687ed0-7cc3-49b3-a376-28057f4e1b83\")>,\n",
       " <selenium.webdriver.remote.webelement.WebElement (session=\"48f10cef2544a229f43638ce901b270e\", element=\"1ccdc61b-14ce-4938-b90a-00b274e75842\")>,\n",
       " <selenium.webdriver.remote.webelement.WebElement (session=\"48f10cef2544a229f43638ce901b270e\", element=\"15eeb7be-e216-4118-beca-e61b22baf684\")>,\n",
       " <selenium.webdriver.remote.webelement.WebElement (session=\"48f10cef2544a229f43638ce901b270e\", element=\"2b338453-cc67-4767-9511-18c4c07aac5b\")>,\n",
       " <selenium.webdriver.remote.webelement.WebElement (session=\"48f10cef2544a229f43638ce901b270e\", element=\"d98a28cf-e8ca-499a-976b-8e1a28e2fc91\")>,\n",
       " <selenium.webdriver.remote.webelement.WebElement (session=\"48f10cef2544a229f43638ce901b270e\", element=\"dbed42fb-c49a-4bd4-8aa1-3ba034cdc185\")>,\n",
       " <selenium.webdriver.remote.webelement.WebElement (session=\"48f10cef2544a229f43638ce901b270e\", element=\"3855ad0b-217a-4742-9cfb-55ae1322f9c2\")>,\n",
       " <selenium.webdriver.remote.webelement.WebElement (session=\"48f10cef2544a229f43638ce901b270e\", element=\"1dc32198-15d7-44aa-adcb-00d4ed829f4d\")>,\n",
       " <selenium.webdriver.remote.webelement.WebElement (session=\"48f10cef2544a229f43638ce901b270e\", element=\"9a0cc278-0f72-4000-a150-a0f4848a1a01\")>,\n",
       " <selenium.webdriver.remote.webelement.WebElement (session=\"48f10cef2544a229f43638ce901b270e\", element=\"d8a1c21a-8605-4b19-bca7-11f496ae336f\")>,\n",
       " <selenium.webdriver.remote.webelement.WebElement (session=\"48f10cef2544a229f43638ce901b270e\", element=\"3f613b82-34b9-406d-b844-d62603766846\")>,\n",
       " <selenium.webdriver.remote.webelement.WebElement (session=\"48f10cef2544a229f43638ce901b270e\", element=\"bcb375e9-816b-4f4f-a67f-62150ce2aa8b\")>,\n",
       " <selenium.webdriver.remote.webelement.WebElement (session=\"48f10cef2544a229f43638ce901b270e\", element=\"6fa9d295-4f84-41fb-9d0c-4c475414b9eb\")>,\n",
       " <selenium.webdriver.remote.webelement.WebElement (session=\"48f10cef2544a229f43638ce901b270e\", element=\"80b1ecd6-4ef7-461b-8177-547a8406b62d\")>,\n",
       " <selenium.webdriver.remote.webelement.WebElement (session=\"48f10cef2544a229f43638ce901b270e\", element=\"2008ba19-085b-4717-a6ef-6d1c0109cf52\")>,\n",
       " <selenium.webdriver.remote.webelement.WebElement (session=\"48f10cef2544a229f43638ce901b270e\", element=\"dcbf8eef-6e86-437c-bb28-c4a81a7117e7\")>]"
      ]
     },
     "execution_count": 26,
     "metadata": {},
     "output_type": "execute_result"
    }
   ],
   "source": [
    "experience_tag=driver.find_elements_by_xpath('//li[@class=\"fleft grey-text br2 placeHolderLi experience\"]/span')\n",
    "experience_tag"
   ]
  },
  {
   "cell_type": "code",
   "execution_count": 27,
   "metadata": {},
   "outputs": [
    {
     "data": {
      "text/plain": [
       "['0-3 Yrs',\n",
       " '0-5 Yrs',\n",
       " '0-5 Yrs',\n",
       " '3-7 Yrs',\n",
       " '3-5 Yrs',\n",
       " '4-7 Yrs',\n",
       " '2-5 Yrs',\n",
       " '2-7 Yrs',\n",
       " '1-5 Yrs',\n",
       " '5-10 Yrs']"
      ]
     },
     "execution_count": 27,
     "metadata": {},
     "output_type": "execute_result"
    }
   ],
   "source": [
    "experience=[]\n",
    "for i in range(0,10):\n",
    "    experience.append(experience_tag[i].text)\n",
    "experience"
   ]
  },
  {
   "cell_type": "code",
   "execution_count": 28,
   "metadata": {},
   "outputs": [],
   "source": [
    "df3=pd.DataFrame()\n",
    "df3['Job_title']=Job_title[0:10]\n",
    "df3['Company_Name']=Company_Name[0:10]\n",
    "df3['Location']=Location\n",
    "df3['Experience']=experience"
   ]
  },
  {
   "cell_type": "code",
   "execution_count": 30,
   "metadata": {},
   "outputs": [
    {
     "data": {
      "text/plain": [
       "(10, 4)"
      ]
     },
     "execution_count": 30,
     "metadata": {},
     "output_type": "execute_result"
    }
   ],
   "source": [
    "df3.shape"
   ]
  },
  {
   "cell_type": "code",
   "execution_count": 31,
   "metadata": {},
   "outputs": [
    {
     "data": {
      "text/html": [
       "<div>\n",
       "<style scoped>\n",
       "    .dataframe tbody tr th:only-of-type {\n",
       "        vertical-align: middle;\n",
       "    }\n",
       "\n",
       "    .dataframe tbody tr th {\n",
       "        vertical-align: top;\n",
       "    }\n",
       "\n",
       "    .dataframe thead th {\n",
       "        text-align: right;\n",
       "    }\n",
       "</style>\n",
       "<table border=\"1\" class=\"dataframe\">\n",
       "  <thead>\n",
       "    <tr style=\"text-align: right;\">\n",
       "      <th></th>\n",
       "      <th>Job_title</th>\n",
       "      <th>Company_Name</th>\n",
       "      <th>Location</th>\n",
       "      <th>Experience</th>\n",
       "    </tr>\n",
       "  </thead>\n",
       "  <tbody>\n",
       "    <tr>\n",
       "      <th>0</th>\n",
       "      <td>Data Scientist / Data Analyst -Business Analyst</td>\n",
       "      <td>Inflexion Analytix Private Limited</td>\n",
       "      <td>Mumbai, Hyderabad/Secunderabad, Pune, Gurgaon/...</td>\n",
       "      <td>0-3 Yrs</td>\n",
       "    </tr>\n",
       "    <tr>\n",
       "      <th>1</th>\n",
       "      <td>Data analytics / Data scientist intern (work f...</td>\n",
       "      <td>TalkValley LLC</td>\n",
       "      <td>Kolkata, Bangalore/Bengaluru, Delhi / NCR</td>\n",
       "      <td>0-5 Yrs</td>\n",
       "    </tr>\n",
       "    <tr>\n",
       "      <th>2</th>\n",
       "      <td>Chaayos is Looking For Data Scientist</td>\n",
       "      <td>Chaayos (Sunshine Teahouse Pvt. Ltd.)</td>\n",
       "      <td>New Delhi</td>\n",
       "      <td>0-5 Yrs</td>\n",
       "    </tr>\n",
       "    <tr>\n",
       "      <th>3</th>\n",
       "      <td>Data Scientist</td>\n",
       "      <td>Fractal Analytics</td>\n",
       "      <td>Mumbai, Gurgaon/Gurugram, Bangalore/Bengaluru</td>\n",
       "      <td>3-7 Yrs</td>\n",
       "    </tr>\n",
       "    <tr>\n",
       "      <th>4</th>\n",
       "      <td>Junior Data Scientist</td>\n",
       "      <td>R Systems International Ltd.</td>\n",
       "      <td>Noida(Sector-59 Noida)</td>\n",
       "      <td>3-5 Yrs</td>\n",
       "    </tr>\n",
       "  </tbody>\n",
       "</table>\n",
       "</div>"
      ],
      "text/plain": [
       "                                           Job_title  \\\n",
       "0    Data Scientist / Data Analyst -Business Analyst   \n",
       "1  Data analytics / Data scientist intern (work f...   \n",
       "2              Chaayos is Looking For Data Scientist   \n",
       "3                                     Data Scientist   \n",
       "4                              Junior Data Scientist   \n",
       "\n",
       "                            Company_Name  \\\n",
       "0     Inflexion Analytix Private Limited   \n",
       "1                         TalkValley LLC   \n",
       "2  Chaayos (Sunshine Teahouse Pvt. Ltd.)   \n",
       "3                      Fractal Analytics   \n",
       "4           R Systems International Ltd.   \n",
       "\n",
       "                                            Location Experience  \n",
       "0  Mumbai, Hyderabad/Secunderabad, Pune, Gurgaon/...    0-3 Yrs  \n",
       "1          Kolkata, Bangalore/Bengaluru, Delhi / NCR    0-5 Yrs  \n",
       "2                                          New Delhi    0-5 Yrs  \n",
       "3      Mumbai, Gurgaon/Gurugram, Bangalore/Bengaluru    3-7 Yrs  \n",
       "4                             Noida(Sector-59 Noida)    3-5 Yrs  "
      ]
     },
     "execution_count": 31,
     "metadata": {},
     "output_type": "execute_result"
    }
   ],
   "source": [
    "df3.head()"
   ]
  },
  {
   "cell_type": "markdown",
   "metadata": {},
   "source": [
    "Question 4:\n",
    "    \n",
    "    Write a python program to scrape data for first 10 job results for Data scientist\n",
    "    Designation in Noida location. You have to scrape company_name, No. of days\n",
    "    ago when job was posted, Rating of the company.\n",
    "    This task will be done in following steps:\n",
    "    1. first get the webpage https://www.glassdoor.co.in/index.htm\n",
    "    2. Enter “Data Scientist” in “Job Title,Keyword,Company” field and enter “Noida”\n",
    "    in “location” field.\n",
    "    3. Then click the search button. You will land up in the below page:\n",
    "    4. Then scrape the data for the first 10 jobs results you get in the above shown\n",
    "    page."
   ]
  },
  {
   "cell_type": "code",
   "execution_count": 41,
   "metadata": {},
   "outputs": [],
   "source": [
    "driver=webdriver.Chrome('chromedriver.exe')\n",
    "driver.get('https://www.glassdoor.co.in/index.htm')"
   ]
  },
  {
   "cell_type": "code",
   "execution_count": 49,
   "metadata": {},
   "outputs": [],
   "source": [
    "import time"
   ]
  },
  {
   "cell_type": "code",
   "execution_count": 50,
   "metadata": {},
   "outputs": [],
   "source": [
    "search_job1=driver.find_element_by_id('sc.keyword')\n",
    "time.sleep(10)\n",
    "search_loc=driver.find_element_by_id('sc.location')\n",
    "time.sleep(10)\n",
    "search_btn=driver.find_element_by_xpath('//button[@class=\"gd-ui-button ml-std col-auto SearchStyles__newSearchButton css-iixdfr\"]')"
   ]
  },
  {
   "cell_type": "code",
   "execution_count": 51,
   "metadata": {},
   "outputs": [],
   "source": [
    "search_job1.send_keys('Data Scientist')\n",
    "time.sleep(10)\n",
    "search_loc.send_keys('Noida')\n",
    "time.sleep(10)\n",
    "search_btn.click()"
   ]
  },
  {
   "cell_type": "code",
   "execution_count": 52,
   "metadata": {
    "collapsed": true
   },
   "outputs": [
    {
     "data": {
      "text/plain": [
       "['Ginger Webs Pvt. Ltd.',\n",
       " 'Crowe',\n",
       " 'Biz2Credit Inc',\n",
       " 'Mogli Labs India Private Limited',\n",
       " 'Techlive',\n",
       " 'Ericsson',\n",
       " 'dunnhumby',\n",
       " 'CRMNEXT',\n",
       " 'Amploy',\n",
       " 'WishFin',\n",
       " 'SearchUrCollege',\n",
       " 'Jubna',\n",
       " 'CRMNEXT',\n",
       " 'Constems-AI Systems Private Limited',\n",
       " 'ANI Calls India Private Limited',\n",
       " 'ANI Calls India Private Limited',\n",
       " 'Pinnacle Digital Analytics pvt ltd',\n",
       " 'Skyjobs hr services',\n",
       " 'ANI Calls India Private Limited',\n",
       " 'MasterCard',\n",
       " 'ANI Calls India Private Limited',\n",
       " 'Innovacer',\n",
       " 'xtLytics',\n",
       " 'Unofin Technology LLP',\n",
       " 'American Express',\n",
       " 'Jobsbale',\n",
       " 'Lantern Digital Services',\n",
       " 'Genpact',\n",
       " 'United Airlines Inc.',\n",
       " 'Scry Analytics']"
      ]
     },
     "execution_count": 52,
     "metadata": {},
     "output_type": "execute_result"
    }
   ],
   "source": [
    "Company_Name=[]\n",
    "for i in driver.find_elements_by_xpath('//a[@class=\" css-l2wjgv e1n63ojh0 jobLink\"]/span'):\n",
    "    Company_Name.append(i.text)\n",
    "Company_Name"
   ]
  },
  {
   "cell_type": "code",
   "execution_count": 53,
   "metadata": {
    "collapsed": true
   },
   "outputs": [
    {
     "data": {
      "text/plain": [
       "['1d',\n",
       " '9d',\n",
       " '30d+',\n",
       " '6d',\n",
       " '30d+',\n",
       " '7d',\n",
       " '1d',\n",
       " '30d+',\n",
       " '7d',\n",
       " '30d+',\n",
       " '30d+',\n",
       " '9d',\n",
       " '30d+',\n",
       " '13d',\n",
       " '30d+',\n",
       " '30d+',\n",
       " '9d',\n",
       " '30d',\n",
       " '30d+',\n",
       " '15d',\n",
       " '30d+',\n",
       " '30d+',\n",
       " '30d+',\n",
       " '2d',\n",
       " '24h',\n",
       " '28d',\n",
       " '30d+',\n",
       " '17d',\n",
       " '24h',\n",
       " '21d']"
      ]
     },
     "execution_count": 53,
     "metadata": {},
     "output_type": "execute_result"
    }
   ],
   "source": [
    "Days=[]\n",
    "for i in driver.find_elements_by_xpath('//div[@class=\"d-flex align-items-end pl-std css-mi55ob\"]'):\n",
    "    Days.append(i.text)\n",
    "Days"
   ]
  },
  {
   "cell_type": "code",
   "execution_count": 54,
   "metadata": {
    "collapsed": true
   },
   "outputs": [
    {
     "data": {
      "text/plain": [
       "['3.7',\n",
       " '3.7',\n",
       " '4.0',\n",
       " '5.0',\n",
       " '4.1',\n",
       " '4.1',\n",
       " '3.7',\n",
       " '3.8',\n",
       " '3.7',\n",
       " '4.3',\n",
       " '3.8',\n",
       " '3.0',\n",
       " '4.2',\n",
       " '3.5',\n",
       " '3.8',\n",
       " '4.1']"
      ]
     },
     "execution_count": 54,
     "metadata": {},
     "output_type": "execute_result"
    }
   ],
   "source": [
    "Rating=[]\n",
    "for i in driver.find_elements_by_xpath('//span[@class=\"css-19pjha7 e1cjmv6j1\"]'):\n",
    "    Rating.append(i.text)\n",
    "Rating"
   ]
  },
  {
   "cell_type": "code",
   "execution_count": 56,
   "metadata": {},
   "outputs": [],
   "source": [
    "df4=pd.DataFrame()\n",
    "df4['Company_Name']=Company_Name[0:10]\n",
    "df4['Job posted']=Days[0:10]\n",
    "df4['Company_Rating']=Rating[0:10]"
   ]
  },
  {
   "cell_type": "code",
   "execution_count": 57,
   "metadata": {},
   "outputs": [
    {
     "data": {
      "text/html": [
       "<div>\n",
       "<style scoped>\n",
       "    .dataframe tbody tr th:only-of-type {\n",
       "        vertical-align: middle;\n",
       "    }\n",
       "\n",
       "    .dataframe tbody tr th {\n",
       "        vertical-align: top;\n",
       "    }\n",
       "\n",
       "    .dataframe thead th {\n",
       "        text-align: right;\n",
       "    }\n",
       "</style>\n",
       "<table border=\"1\" class=\"dataframe\">\n",
       "  <thead>\n",
       "    <tr style=\"text-align: right;\">\n",
       "      <th></th>\n",
       "      <th>Company_Name</th>\n",
       "      <th>Job posted</th>\n",
       "      <th>Company_Rating</th>\n",
       "    </tr>\n",
       "  </thead>\n",
       "  <tbody>\n",
       "    <tr>\n",
       "      <th>0</th>\n",
       "      <td>Ginger Webs Pvt. Ltd.</td>\n",
       "      <td>1d</td>\n",
       "      <td>3.7</td>\n",
       "    </tr>\n",
       "    <tr>\n",
       "      <th>1</th>\n",
       "      <td>Crowe</td>\n",
       "      <td>9d</td>\n",
       "      <td>3.7</td>\n",
       "    </tr>\n",
       "    <tr>\n",
       "      <th>2</th>\n",
       "      <td>Biz2Credit Inc</td>\n",
       "      <td>30d+</td>\n",
       "      <td>4.0</td>\n",
       "    </tr>\n",
       "    <tr>\n",
       "      <th>3</th>\n",
       "      <td>Mogli Labs India Private Limited</td>\n",
       "      <td>6d</td>\n",
       "      <td>5.0</td>\n",
       "    </tr>\n",
       "    <tr>\n",
       "      <th>4</th>\n",
       "      <td>Techlive</td>\n",
       "      <td>30d+</td>\n",
       "      <td>4.1</td>\n",
       "    </tr>\n",
       "  </tbody>\n",
       "</table>\n",
       "</div>"
      ],
      "text/plain": [
       "                       Company_Name Job posted Company_Rating\n",
       "0             Ginger Webs Pvt. Ltd.         1d            3.7\n",
       "1                             Crowe         9d            3.7\n",
       "2                    Biz2Credit Inc       30d+            4.0\n",
       "3  Mogli Labs India Private Limited         6d            5.0\n",
       "4                          Techlive       30d+            4.1"
      ]
     },
     "execution_count": 57,
     "metadata": {},
     "output_type": "execute_result"
    }
   ],
   "source": [
    "df4.head()"
   ]
  },
  {
   "cell_type": "code",
   "execution_count": 58,
   "metadata": {},
   "outputs": [
    {
     "data": {
      "text/plain": [
       "(10, 3)"
      ]
     },
     "execution_count": 58,
     "metadata": {},
     "output_type": "execute_result"
    }
   ],
   "source": [
    "df4.shape"
   ]
  },
  {
   "cell_type": "markdown",
   "metadata": {},
   "source": [
    "Questions 5:\n",
    "    \n",
    "    Write a python program to scrape the salary data for Data Scientist designation\n",
    "    in Noida location.\n",
    "    You have to scrape Company name, Number of salaries, Average salary, Min\n",
    "    salary, Max Salary.\n",
    "    The above task will be, done as shown in the below steps:\n",
    "    1. first get the webpage https://www.glassdoor.co.in/Salaries/index.htm\n",
    "    2. Enter “Data Scientist” in Job title field and “Noida” in location field.\n",
    "    3. Click the search button.\n",
    "    4. After that you will land on the below page\n",
    "    You have to scrape whole data from this webpage\n",
    "    5. Scrape data for first 10 companies. Scrape the min salary, max salary, company\n",
    "    name, Average salary and rating of the company.\n",
    "    6.Store the data in a dataframe."
   ]
  },
  {
   "cell_type": "code",
   "execution_count": 62,
   "metadata": {},
   "outputs": [],
   "source": [
    "driver=webdriver.Chrome('chromedriver.exe')"
   ]
  },
  {
   "cell_type": "code",
   "execution_count": 63,
   "metadata": {},
   "outputs": [],
   "source": [
    "url='https://www.glassdoor.co.in/Salaries/index.htm'\n",
    "driver.get(url)"
   ]
  },
  {
   "cell_type": "code",
   "execution_count": 64,
   "metadata": {},
   "outputs": [],
   "source": [
    "search_job2=driver.find_element_by_id('KeywordSearch')\n",
    "time.sleep(10)\n",
    "search_loc2=driver.find_element_by_id('LocationSearch')\n",
    "time.sleep(10)\n",
    "search_btn2=driver.find_element_by_id('HeroSearchButton')"
   ]
  },
  {
   "cell_type": "code",
   "execution_count": 65,
   "metadata": {},
   "outputs": [],
   "source": [
    "search_job2.send_keys('Data Scientist')\n",
    "time.sleep(10)\n",
    "search_loc2.send_keys('Noida')\n",
    "time.sleep(10)\n",
    "search_btn2.click()"
   ]
  },
  {
   "cell_type": "code",
   "execution_count": 66,
   "metadata": {
    "collapsed": true
   },
   "outputs": [
    {
     "data": {
      "text/plain": [
       "['Tata Consultancy Services',\n",
       " 'IBM',\n",
       " 'Accenture',\n",
       " 'Ericsson-Worldwide',\n",
       " 'Delhivery',\n",
       " 'UnitedHealth Group',\n",
       " 'Optum Global Solutions',\n",
       " 'Valiance Solutions',\n",
       " 'ZS Associates',\n",
       " 'EXL Service',\n",
       " 'Innovaccer',\n",
       " 'Optum',\n",
       " 'Cognizant Technology Solutions',\n",
       " 'dunnhumby',\n",
       " 'Vidooly Media Tech',\n",
       " 'Tech Mahindra',\n",
       " 'OYO',\n",
       " 'Nagarro',\n",
       " 'R Systems',\n",
       " 'CARS24.com']"
      ]
     },
     "execution_count": 66,
     "metadata": {},
     "output_type": "execute_result"
    }
   ],
   "source": [
    "Company_Name5=[]\n",
    "for i in driver.find_elements_by_xpath('//a[@class=\"css-f3vw95 e1aj7ssy3\"]'):\n",
    "    Company_Name5.append(i.text)\n",
    "Company_Name5"
   ]
  },
  {
   "cell_type": "code",
   "execution_count": 67,
   "metadata": {
    "collapsed": true
   },
   "outputs": [
    {
     "data": {
      "text/plain": [
       "['Average',\n",
       " '₹ 22,816 - ₹ 2,78,017',\n",
       " '17 salaries',\n",
       " '15 salaries',\n",
       " '14 salaries',\n",
       " '14 salaries',\n",
       " '14 salaries',\n",
       " '11 salaries',\n",
       " '9 salaries',\n",
       " '9 salaries',\n",
       " '8 salaries',\n",
       " '8 salaries',\n",
       " '8 salaries',\n",
       " '7 salaries',\n",
       " '6 salaries',\n",
       " '6 salaries',\n",
       " '6 salaries',\n",
       " '5 salaries',\n",
       " '5 salaries',\n",
       " '5 salaries',\n",
       " '5 salaries',\n",
       " '5 salaries']"
      ]
     },
     "execution_count": 67,
     "metadata": {},
     "output_type": "execute_result"
    }
   ],
   "source": [
    "No_of_Salaries5=[]\n",
    "for i in driver.find_elements_by_xpath('//span[@class=\"m-0 css-1b6bxoo\"]'):\n",
    "    No_of_Salaries5.append(i.text)\n",
    "No_of_Salaries5"
   ]
  },
  {
   "cell_type": "code",
   "execution_count": 75,
   "metadata": {},
   "outputs": [],
   "source": [
    "No_of_Salaries5=No_of_Salaries5[2:]"
   ]
  },
  {
   "cell_type": "code",
   "execution_count": 70,
   "metadata": {
    "collapsed": true
   },
   "outputs": [
    {
     "data": {
      "text/plain": [
       "['Big Data',\n",
       " 'Data Analyst',\n",
       " 'Quantitative Analyst',\n",
       " 'Senior Data Scientist',\n",
       " 'Tata Consultancy Services',\n",
       " '₹ 6,14,306',\n",
       " 'IBM',\n",
       " '₹ 9,00,000',\n",
       " 'Accenture',\n",
       " '₹ 11,46,533',\n",
       " 'Ericsson-Worldwide',\n",
       " '₹ 7,38,057',\n",
       " 'Delhivery',\n",
       " '₹ 12,39,781',\n",
       " 'UnitedHealth Group',\n",
       " '₹ 13,36,142',\n",
       " 'Optum Global Solutions',\n",
       " '₹ 13,26,575',\n",
       " 'Valiance Solutions',\n",
       " '₹ 8,15,192',\n",
       " 'ZS Associates',\n",
       " '₹ 11,35,221',\n",
       " 'EXL Service',\n",
       " '₹ 11,44,243',\n",
       " 'Innovaccer',\n",
       " '₹ 12,07,110',\n",
       " 'Optum',\n",
       " '₹ 12,16,299',\n",
       " 'Cognizant Technology Solutions',\n",
       " '₹ 10,07,410',\n",
       " 'dunnhumby',\n",
       " '₹ 10,54,671',\n",
       " 'Vidooly Media Tech',\n",
       " '₹ 34,103',\n",
       " 'Tech Mahindra',\n",
       " '₹ 10,52,718',\n",
       " 'OYO',\n",
       " '₹ 14,13,078',\n",
       " 'Nagarro',\n",
       " '₹ 9,61,653',\n",
       " 'R Systems',\n",
       " '₹ 18,37,196',\n",
       " 'CARS24.com',\n",
       " '₹ 10,00,000']"
      ]
     },
     "execution_count": 70,
     "metadata": {},
     "output_type": "execute_result"
    }
   ],
   "source": [
    "Avg_Salaries5=[]\n",
    "for i in driver.find_elements_by_xpath('//h3[@class=\"m-0 css-g261rn\"]'):\n",
    "    Avg_Salaries5.append(i.text)\n",
    "Avg_Salaries5"
   ]
  },
  {
   "cell_type": "code",
   "execution_count": 71,
   "metadata": {},
   "outputs": [],
   "source": [
    "avg_sal=Avg_Salaries5[5:]"
   ]
  },
  {
   "cell_type": "code",
   "execution_count": 74,
   "metadata": {
    "collapsed": true
   },
   "outputs": [
    {
     "data": {
      "text/plain": [
       "['₹ 6,14,306',\n",
       " '₹ 9,00,000',\n",
       " '₹ 11,46,533',\n",
       " '₹ 7,38,057',\n",
       " '₹ 12,39,781',\n",
       " '₹ 13,36,142',\n",
       " '₹ 13,26,575',\n",
       " '₹ 8,15,192',\n",
       " '₹ 11,35,221',\n",
       " '₹ 11,44,243']"
      ]
     },
     "execution_count": 74,
     "metadata": {},
     "output_type": "execute_result"
    }
   ],
   "source": [
    "Average_Salaries=[]\n",
    "for i in range(0,20,2):\n",
    "    Average_Salaries.append(avg_sal[i])\n",
    "Average_Salaries"
   ]
  },
  {
   "cell_type": "code",
   "execution_count": 78,
   "metadata": {},
   "outputs": [
    {
     "data": {
      "text/plain": [
       "['Range: ₹343K - ₹1,250K',\n",
       " 'Range: ₹586K - ₹2,730K',\n",
       " 'Range: ₹577K - ₹2,213K',\n",
       " 'Range: ₹355K - ₹1,613K',\n",
       " 'Range: ₹450K - ₹11,622K',\n",
       " 'Range: ₹1,069K - ₹1,520K',\n",
       " 'Range: ₹350K - ₹2,149K',\n",
       " 'Range: ₹502K - ₹1,465K',\n",
       " 'Range: ₹202K - ₹1,809K',\n",
       " 'Range: ₹575K - ₹1,520K',\n",
       " 'Range: ₹620K - ₹1,695K',\n",
       " 'Range: ₹807K - ₹1,986K',\n",
       " 'Range: ₹792K - ₹1,263K',\n",
       " 'Range: ₹817K - ₹2,006K',\n",
       " 'Range: ₹12K - ₹63K',\n",
       " 'Range: ₹405K - ₹1,703K',\n",
       " 'Range: ₹971K - ₹1,883K',\n",
       " 'Range: ₹400K - ₹1,124K',\n",
       " 'Range: ₹800K - ₹3,041K',\n",
       " 'Range: ₹853K - ₹1,483K']"
      ]
     },
     "execution_count": 78,
     "metadata": {},
     "output_type": "execute_result"
    }
   ],
   "source": [
    "Min_Salaries5=[]\n",
    "for i in driver.find_elements_by_xpath('//span[@class=\"d-block d-lg-none m-0 css-1b6bxoo\"]'):\n",
    "    Min_Salaries5.append(i.text)\n",
    "Min_Salaries5"
   ]
  },
  {
   "cell_type": "code",
   "execution_count": 80,
   "metadata": {},
   "outputs": [],
   "source": [
    "k=Min_Salaries5[0].split()"
   ]
  },
  {
   "cell_type": "code",
   "execution_count": 85,
   "metadata": {},
   "outputs": [
    {
     "data": {
      "text/plain": [
       "'₹343K'"
      ]
     },
     "execution_count": 85,
     "metadata": {},
     "output_type": "execute_result"
    }
   ],
   "source": [
    "k[1]"
   ]
  },
  {
   "cell_type": "code",
   "execution_count": 88,
   "metadata": {},
   "outputs": [],
   "source": [
    "Min_salary=[]\n",
    "Max_salary=[]\n",
    "for i in Min_Salaries5:\n",
    "    k=i.split()\n",
    "    Min_salary.append(k[1])\n",
    "    Max_salary.append(k[3])"
   ]
  },
  {
   "cell_type": "code",
   "execution_count": 89,
   "metadata": {},
   "outputs": [
    {
     "data": {
      "text/html": [
       "<div>\n",
       "<style scoped>\n",
       "    .dataframe tbody tr th:only-of-type {\n",
       "        vertical-align: middle;\n",
       "    }\n",
       "\n",
       "    .dataframe tbody tr th {\n",
       "        vertical-align: top;\n",
       "    }\n",
       "\n",
       "    .dataframe thead th {\n",
       "        text-align: right;\n",
       "    }\n",
       "</style>\n",
       "<table border=\"1\" class=\"dataframe\">\n",
       "  <thead>\n",
       "    <tr style=\"text-align: right;\">\n",
       "      <th></th>\n",
       "      <th>Company_Name</th>\n",
       "      <th>Number of salaries</th>\n",
       "      <th>Average salary</th>\n",
       "      <th>Minimum salary</th>\n",
       "      <th>Maximum salary</th>\n",
       "    </tr>\n",
       "  </thead>\n",
       "  <tbody>\n",
       "    <tr>\n",
       "      <th>0</th>\n",
       "      <td>Tata Consultancy Services</td>\n",
       "      <td>17 salaries</td>\n",
       "      <td>₹ 6,14,306</td>\n",
       "      <td>₹343K</td>\n",
       "      <td>₹1,250K</td>\n",
       "    </tr>\n",
       "    <tr>\n",
       "      <th>1</th>\n",
       "      <td>IBM</td>\n",
       "      <td>15 salaries</td>\n",
       "      <td>₹ 9,00,000</td>\n",
       "      <td>₹586K</td>\n",
       "      <td>₹2,730K</td>\n",
       "    </tr>\n",
       "    <tr>\n",
       "      <th>2</th>\n",
       "      <td>Accenture</td>\n",
       "      <td>14 salaries</td>\n",
       "      <td>₹ 11,46,533</td>\n",
       "      <td>₹577K</td>\n",
       "      <td>₹2,213K</td>\n",
       "    </tr>\n",
       "    <tr>\n",
       "      <th>3</th>\n",
       "      <td>Ericsson-Worldwide</td>\n",
       "      <td>14 salaries</td>\n",
       "      <td>₹ 7,38,057</td>\n",
       "      <td>₹355K</td>\n",
       "      <td>₹1,613K</td>\n",
       "    </tr>\n",
       "    <tr>\n",
       "      <th>4</th>\n",
       "      <td>Delhivery</td>\n",
       "      <td>14 salaries</td>\n",
       "      <td>₹ 12,39,781</td>\n",
       "      <td>₹450K</td>\n",
       "      <td>₹11,622K</td>\n",
       "    </tr>\n",
       "  </tbody>\n",
       "</table>\n",
       "</div>"
      ],
      "text/plain": [
       "                Company_Name Number of salaries Average salary Minimum salary  \\\n",
       "0  Tata Consultancy Services        17 salaries     ₹ 6,14,306          ₹343K   \n",
       "1                        IBM        15 salaries     ₹ 9,00,000          ₹586K   \n",
       "2                  Accenture        14 salaries    ₹ 11,46,533          ₹577K   \n",
       "3         Ericsson-Worldwide        14 salaries     ₹ 7,38,057          ₹355K   \n",
       "4                  Delhivery        14 salaries    ₹ 12,39,781          ₹450K   \n",
       "\n",
       "  Maximum salary  \n",
       "0        ₹1,250K  \n",
       "1        ₹2,730K  \n",
       "2        ₹2,213K  \n",
       "3        ₹1,613K  \n",
       "4       ₹11,622K  "
      ]
     },
     "execution_count": 89,
     "metadata": {},
     "output_type": "execute_result"
    }
   ],
   "source": [
    "df5=pd.DataFrame()\n",
    "df5['Company_Name']=Company_Name5[0:10]\n",
    "df5['Number of salaries']=No_of_Salaries5[0:10]\n",
    "df5['Average salary']=Average_Salaries[0:10]\n",
    "df5['Minimum salary']=Min_salary[0:10]\n",
    "df5['Maximum salary']=Max_salary[0:10]\n",
    "df5.head()"
   ]
  },
  {
   "cell_type": "code",
   "execution_count": 90,
   "metadata": {},
   "outputs": [
    {
     "data": {
      "text/plain": [
       "(10, 5)"
      ]
     },
     "execution_count": 90,
     "metadata": {},
     "output_type": "execute_result"
    }
   ],
   "source": [
    "df5.shape"
   ]
  },
  {
   "cell_type": "markdown",
   "metadata": {},
   "source": [
    "Question 6:\n",
    "    \n",
    "    Scrape data of first 100 sunglasses listings on flipkart.com. You have to\n",
    "    scrape four attributes:\n",
    "    1. Brand\n",
    "    2. Product Description\n",
    "    3. Price\n",
    "    4. Discount %\n",
    "    The attributes which you have to scrape is ticked marked in the below image.\n",
    "    To scrape the data you have to go through following steps:\n",
    "    1. Go to flipkart webpage by url https://www.flipkart.com/\n",
    "    2. Enter “sunglasses” in the search field where “search for products, brands and\n",
    "    more” is written and click the search icon\n",
    "    3. after that you will reach to a webpage having a lot of sunglasses. From this page\n",
    "    you can scrap the required data as usual.\n",
    "    4. after scraping data from the first page, go to the “Next” Button at the bottom of\n",
    "    the page , then click on it\n",
    "    WEB SCRAPING ASSIGNMENT-2\n",
    "    .\n",
    "    5. Now scrape data from this page as usual\n",
    "    6. repeat this until you get data for 100 sunglasses.\n",
    "    Note that all of the above steps have to be done by coding only and not manually."
   ]
  },
  {
   "cell_type": "code",
   "execution_count": 2,
   "metadata": {},
   "outputs": [],
   "source": [
    "driver=webdriver.Chrome('chromedriver.exe')"
   ]
  },
  {
   "cell_type": "code",
   "execution_count": 4,
   "metadata": {},
   "outputs": [],
   "source": [
    "url='https://www.flipkart.com/'\n",
    "driver.get(url)"
   ]
  },
  {
   "cell_type": "code",
   "execution_count": 8,
   "metadata": {},
   "outputs": [
    {
     "data": {
      "text/plain": [
       "<selenium.webdriver.remote.webelement.WebElement (session=\"41ea5d5eb5a78de13ea98bd9b3634784\", element=\"12c85396-ae68-463f-a809-d6f8d171569f\")>"
      ]
     },
     "execution_count": 8,
     "metadata": {},
     "output_type": "execute_result"
    }
   ],
   "source": [
    "search_tag=driver.find_element_by_xpath('//input[@class=\"_3704LK\"]')\n",
    "search_tag"
   ]
  },
  {
   "cell_type": "code",
   "execution_count": 10,
   "metadata": {},
   "outputs": [
    {
     "data": {
      "text/plain": [
       "<selenium.webdriver.remote.webelement.WebElement (session=\"41ea5d5eb5a78de13ea98bd9b3634784\", element=\"0a2788ed-3334-4525-8361-0e499ee1f2c0\")>"
      ]
     },
     "execution_count": 10,
     "metadata": {},
     "output_type": "execute_result"
    }
   ],
   "source": [
    "search_btn=driver.find_element_by_xpath('//button[@class=\"L0Z3Pu\"]')\n",
    "search_btn"
   ]
  },
  {
   "cell_type": "code",
   "execution_count": 11,
   "metadata": {},
   "outputs": [],
   "source": [
    "search_tag.send_keys('Sunglasses')"
   ]
  },
  {
   "cell_type": "code",
   "execution_count": 12,
   "metadata": {},
   "outputs": [],
   "source": [
    "search_btn.click()"
   ]
  },
  {
   "cell_type": "code",
   "execution_count": 39,
   "metadata": {},
   "outputs": [
    {
     "data": {
      "text/html": [
       "<div>\n",
       "<style scoped>\n",
       "    .dataframe tbody tr th:only-of-type {\n",
       "        vertical-align: middle;\n",
       "    }\n",
       "\n",
       "    .dataframe tbody tr th {\n",
       "        vertical-align: top;\n",
       "    }\n",
       "\n",
       "    .dataframe thead th {\n",
       "        text-align: right;\n",
       "    }\n",
       "</style>\n",
       "<table border=\"1\" class=\"dataframe\">\n",
       "  <thead>\n",
       "    <tr style=\"text-align: right;\">\n",
       "      <th></th>\n",
       "      <th>Brand Name</th>\n",
       "      <th>Product Description</th>\n",
       "      <th>Price</th>\n",
       "      <th>Discount in %</th>\n",
       "    </tr>\n",
       "  </thead>\n",
       "  <tbody>\n",
       "    <tr>\n",
       "      <th>0</th>\n",
       "      <td>ROYAL SON</td>\n",
       "      <td>UV Protection Retro Square Sunglasses (88)</td>\n",
       "      <td>₹479</td>\n",
       "      <td>76</td>\n",
       "    </tr>\n",
       "    <tr>\n",
       "      <th>1</th>\n",
       "      <td>AISLIN</td>\n",
       "      <td>UV Protection, Gradient Round Sunglasses (58)</td>\n",
       "      <td>₹525</td>\n",
       "      <td>65</td>\n",
       "    </tr>\n",
       "    <tr>\n",
       "      <th>2</th>\n",
       "      <td>PIRASO</td>\n",
       "      <td>UV Protection Aviator Sunglasses (54)</td>\n",
       "      <td>₹200</td>\n",
       "      <td>87</td>\n",
       "    </tr>\n",
       "    <tr>\n",
       "      <th>3</th>\n",
       "      <td>PIRASO</td>\n",
       "      <td>UV Protection Aviator Sunglasses (54)</td>\n",
       "      <td>₹200</td>\n",
       "      <td>87</td>\n",
       "    </tr>\n",
       "    <tr>\n",
       "      <th>4</th>\n",
       "      <td>PIRASO</td>\n",
       "      <td>UV Protection Aviator Sunglasses (54)</td>\n",
       "      <td>₹200</td>\n",
       "      <td>87</td>\n",
       "    </tr>\n",
       "  </tbody>\n",
       "</table>\n",
       "</div>"
      ],
      "text/plain": [
       "  Brand Name                            Product Description Price  \\\n",
       "0  ROYAL SON     UV Protection Retro Square Sunglasses (88)  ₹479   \n",
       "1     AISLIN  UV Protection, Gradient Round Sunglasses (58)  ₹525   \n",
       "2     PIRASO          UV Protection Aviator Sunglasses (54)  ₹200   \n",
       "3     PIRASO          UV Protection Aviator Sunglasses (54)  ₹200   \n",
       "4     PIRASO          UV Protection Aviator Sunglasses (54)  ₹200   \n",
       "\n",
       "  Discount in %  \n",
       "0            76  \n",
       "1            65  \n",
       "2            87  \n",
       "3            87  \n",
       "4            87  "
      ]
     },
     "execution_count": 39,
     "metadata": {},
     "output_type": "execute_result"
    }
   ],
   "source": [
    "Company_Name=[]\n",
    "Description=[]\n",
    "Price=[]\n",
    "Discount=[]\n",
    "for i in range(5):\n",
    "    for a in driver.find_elements_by_xpath('//div[@class=\"_2WkVRV\"]'):\n",
    "        Company_Name.append(a.text)\n",
    "    for b in driver.find_elements_by_xpath('//a[@class=\"IRpwTa\"]'):\n",
    "        Description.append(b.text)\n",
    "    for c in driver.find_elements_by_xpath('//div[@class=\"_30jeq3\"]'):\n",
    "        Price.append(c.text)\n",
    "    for d in driver.find_elements_by_xpath('//div[@class=\"_3Ay6Sb\"]/span'):\n",
    "        Discount.append(d.text.strip()[0:2])\n",
    "        \n",
    "    driver.find_element_by_xpath('//a[@class=\"_1LKTO3\"]/span').click()\n",
    "    time.sleep(10)\n",
    "    \n",
    "df6=pd.DataFrame()\n",
    "df6['Brand Name']=Company_Name[0:100]\n",
    "df6['Product Description']=Description[0:100]\n",
    "df6['Price']=Price[0:100]\n",
    "df6['Discount in %']=Discount[0:100]\n",
    "df6.head()"
   ]
  },
  {
   "cell_type": "code",
   "execution_count": 40,
   "metadata": {},
   "outputs": [
    {
     "data": {
      "text/plain": [
       "(100, 4)"
      ]
     },
     "execution_count": 40,
     "metadata": {},
     "output_type": "execute_result"
    }
   ],
   "source": [
    "df6.shape"
   ]
  },
  {
   "cell_type": "markdown",
   "metadata": {},
   "source": [
    "Question 7:\n",
    "    \n",
    "    Scrape 100 reviews data from flipkart.com for iphone11 phone. You have to\n",
    "    go the link: https://www.flipkart.com/apple-iphone-11-black-64-gb-includesearpods-poweradapter/p/itm0f37c2240b217?pid=MOBFKCTSVZAXUHGR&lid=LSTMOBFKC\n",
    "    TSVZAXUHGREPBFGI&marketplace.\n",
    "    When you will open the above link you will reach to the below shown webpage.\n",
    "    As shown in the above page you have to scrape the tick marked attributes.\n",
    "    These are\n",
    "    1. Rating\n",
    "    2. Review_summary\n",
    "    3. Full review\n",
    "    You have to scrape this data for first 100 reviews."
   ]
  },
  {
   "cell_type": "code",
   "execution_count": 41,
   "metadata": {},
   "outputs": [],
   "source": [
    "driver=webdriver.Chrome('chromedriver.exe')\n",
    "url='https://www.flipkart.com/apple-iphone-11-black-64-gb-includes-earpods-power-adapter/p/itm0f37c2240b217?pid=MOBFKCTSVZAXUHGR&lid=LSTMOBFKCTSVZAXUHGREPBFGI&marketplace'\n",
    "driver.get(url)"
   ]
  },
  {
   "cell_type": "code",
   "execution_count": 42,
   "metadata": {},
   "outputs": [
    {
     "data": {
      "text/plain": [
       "<selenium.webdriver.remote.webelement.WebElement (session=\"9ce5ed273a3a1c166e9f43bd3731c44c\", element=\"800b71f3-43d4-436f-98ee-2e9a75d0091e\")>"
      ]
     },
     "execution_count": 42,
     "metadata": {},
     "output_type": "execute_result"
    }
   ],
   "source": [
    "click_tag=driver.find_element_by_xpath('//div[@class=\"_3UAT2v _16PBlm\"]/span')\n",
    "click_tag"
   ]
  },
  {
   "cell_type": "code",
   "execution_count": 43,
   "metadata": {},
   "outputs": [],
   "source": [
    "click_tag.click()"
   ]
  },
  {
   "cell_type": "code",
   "execution_count": 51,
   "metadata": {},
   "outputs": [
    {
     "data": {
      "text/html": [
       "<div>\n",
       "<style scoped>\n",
       "    .dataframe tbody tr th:only-of-type {\n",
       "        vertical-align: middle;\n",
       "    }\n",
       "\n",
       "    .dataframe tbody tr th {\n",
       "        vertical-align: top;\n",
       "    }\n",
       "\n",
       "    .dataframe thead th {\n",
       "        text-align: right;\n",
       "    }\n",
       "</style>\n",
       "<table border=\"1\" class=\"dataframe\">\n",
       "  <thead>\n",
       "    <tr style=\"text-align: right;\">\n",
       "      <th></th>\n",
       "      <th>Rating</th>\n",
       "      <th>Review Summary</th>\n",
       "      <th>Full review</th>\n",
       "    </tr>\n",
       "  </thead>\n",
       "  <tbody>\n",
       "    <tr>\n",
       "      <th>0</th>\n",
       "      <td>5</td>\n",
       "      <td>Brilliant</td>\n",
       "      <td>The Best Phone for the Money\\n\\nThe iPhone 11 ...</td>\n",
       "    </tr>\n",
       "    <tr>\n",
       "      <th>1</th>\n",
       "      <td>5</td>\n",
       "      <td>Perfect product!</td>\n",
       "      <td>Amazing phone with great cameras and better ba...</td>\n",
       "    </tr>\n",
       "    <tr>\n",
       "      <th>2</th>\n",
       "      <td>5</td>\n",
       "      <td>Great product</td>\n",
       "      <td>Amazing Powerful and Durable Gadget.\\n\\nI’m am...</td>\n",
       "    </tr>\n",
       "    <tr>\n",
       "      <th>3</th>\n",
       "      <td>5</td>\n",
       "      <td>Worth every penny</td>\n",
       "      <td>Previously I was using one plus 3t it was a gr...</td>\n",
       "    </tr>\n",
       "    <tr>\n",
       "      <th>4</th>\n",
       "      <td>4</td>\n",
       "      <td>Good choice</td>\n",
       "      <td>So far it’s been an AMAZING experience coming ...</td>\n",
       "    </tr>\n",
       "  </tbody>\n",
       "</table>\n",
       "</div>"
      ],
      "text/plain": [
       "  Rating     Review Summary                                        Full review\n",
       "0      5          Brilliant  The Best Phone for the Money\\n\\nThe iPhone 11 ...\n",
       "1      5   Perfect product!  Amazing phone with great cameras and better ba...\n",
       "2      5      Great product  Amazing Powerful and Durable Gadget.\\n\\nI’m am...\n",
       "3      5  Worth every penny  Previously I was using one plus 3t it was a gr...\n",
       "4      4        Good choice  So far it’s been an AMAZING experience coming ..."
      ]
     },
     "execution_count": 51,
     "metadata": {},
     "output_type": "execute_result"
    }
   ],
   "source": [
    "Rating=[]\n",
    "Review_Summary=[]\n",
    "Full_Review=[]\n",
    "for i in range(12):\n",
    "    for a in driver.find_elements_by_xpath('//div[@class=\"_3LWZlK _1BLPMq\"]'):\n",
    "        Rating.append(a.text)\n",
    "    for b in driver.find_elements_by_xpath('//p[@class=\"_2-N8zT\"]'):\n",
    "        Review_Summary.append(b.text)\n",
    "    for c in driver.find_elements_by_xpath('//div[@class=\"t-ZTKy\"]/div/div'):\n",
    "        Full_Review.append(c.text)\n",
    "    \n",
    "        \n",
    "    driver.find_element_by_xpath('//a[@class=\"_1LKTO3\"]/span').click()\n",
    "    time.sleep(10)\n",
    "    \n",
    "df7=pd.DataFrame()\n",
    "df7['Rating']=Rating[0:100]\n",
    "df7['Review Summary']=Review_Summary[0:100]\n",
    "df7['Full review']=Full_Review[0:100]\n",
    "df7.head()"
   ]
  },
  {
   "cell_type": "code",
   "execution_count": 52,
   "metadata": {},
   "outputs": [
    {
     "data": {
      "text/plain": [
       "(100, 3)"
      ]
     },
     "execution_count": 52,
     "metadata": {},
     "output_type": "execute_result"
    }
   ],
   "source": [
    "df7.shape"
   ]
  },
  {
   "cell_type": "markdown",
   "metadata": {},
   "source": [
    "Question 8:\n",
    "    \n",
    "    Scrape data for first 100 sneakers you find when you visit flipkart.com and\n",
    "    search for “sneakers” in the search field.\n",
    "    You have to scrape 4 attributes of each sneaker :\n",
    "    1. Brand\n",
    "    2. Product Description\n",
    "    3. Price\n",
    "    4. discount %\n",
    "    As shown in the below image, you have to scrape the tick marked attributes."
   ]
  },
  {
   "cell_type": "code",
   "execution_count": 53,
   "metadata": {},
   "outputs": [],
   "source": [
    "url='https://www.flipkart.com/'\n",
    "driver.get(url)"
   ]
  },
  {
   "cell_type": "code",
   "execution_count": 54,
   "metadata": {},
   "outputs": [
    {
     "data": {
      "text/plain": [
       "<selenium.webdriver.remote.webelement.WebElement (session=\"9ce5ed273a3a1c166e9f43bd3731c44c\", element=\"7d7334d5-377b-4f61-8208-215e3cd18cf5\")>"
      ]
     },
     "execution_count": 54,
     "metadata": {},
     "output_type": "execute_result"
    }
   ],
   "source": [
    "search_tag=driver.find_element_by_xpath('//input[@class=\"_3704LK\"]')\n",
    "search_tag"
   ]
  },
  {
   "cell_type": "code",
   "execution_count": 55,
   "metadata": {},
   "outputs": [
    {
     "data": {
      "text/plain": [
       "<selenium.webdriver.remote.webelement.WebElement (session=\"9ce5ed273a3a1c166e9f43bd3731c44c\", element=\"56be2d78-5230-4403-86d2-44820d67ce0f\")>"
      ]
     },
     "execution_count": 55,
     "metadata": {},
     "output_type": "execute_result"
    }
   ],
   "source": [
    "search_btn=driver.find_element_by_xpath('//button[@class=\"L0Z3Pu\"]')\n",
    "search_btn"
   ]
  },
  {
   "cell_type": "code",
   "execution_count": 56,
   "metadata": {},
   "outputs": [],
   "source": [
    "search_tag.send_keys('Sneakers')\n",
    "time.sleep(5)\n",
    "search_btn.click()"
   ]
  },
  {
   "cell_type": "code",
   "execution_count": 66,
   "metadata": {},
   "outputs": [
    {
     "data": {
      "text/html": [
       "<div>\n",
       "<style scoped>\n",
       "    .dataframe tbody tr th:only-of-type {\n",
       "        vertical-align: middle;\n",
       "    }\n",
       "\n",
       "    .dataframe tbody tr th {\n",
       "        vertical-align: top;\n",
       "    }\n",
       "\n",
       "    .dataframe thead th {\n",
       "        text-align: right;\n",
       "    }\n",
       "</style>\n",
       "<table border=\"1\" class=\"dataframe\">\n",
       "  <thead>\n",
       "    <tr style=\"text-align: right;\">\n",
       "      <th></th>\n",
       "      <th>Brand</th>\n",
       "      <th>Product_description</th>\n",
       "      <th>Price</th>\n",
       "      <th>Discount</th>\n",
       "    </tr>\n",
       "  </thead>\n",
       "  <tbody>\n",
       "    <tr>\n",
       "      <th>0</th>\n",
       "      <td>TR</td>\n",
       "      <td>Sneakers For Men</td>\n",
       "      <td>₹379</td>\n",
       "      <td>₹709</td>\n",
       "    </tr>\n",
       "    <tr>\n",
       "      <th>1</th>\n",
       "      <td>pollachief</td>\n",
       "      <td>Casual Sneaker for Men Sneakers For Men</td>\n",
       "      <td>₹499</td>\n",
       "      <td>₹709</td>\n",
       "    </tr>\n",
       "    <tr>\n",
       "      <th>2</th>\n",
       "      <td>Shoes Bank</td>\n",
       "      <td>White Sneaker For Men's/Boy's Sneakers For Men</td>\n",
       "      <td>₹349</td>\n",
       "      <td>₹709</td>\n",
       "    </tr>\n",
       "    <tr>\n",
       "      <th>3</th>\n",
       "      <td>ORICUM</td>\n",
       "      <td>Combo pack of 2 casual sneaker shoes for men S...</td>\n",
       "      <td>₹419</td>\n",
       "      <td>₹709</td>\n",
       "    </tr>\n",
       "    <tr>\n",
       "      <th>4</th>\n",
       "      <td>PEHANOSA</td>\n",
       "      <td>Sneakers For Men</td>\n",
       "      <td>₹499</td>\n",
       "      <td>₹709</td>\n",
       "    </tr>\n",
       "  </tbody>\n",
       "</table>\n",
       "</div>"
      ],
      "text/plain": [
       "        Brand                                Product_description Price  \\\n",
       "0          TR                                   Sneakers For Men  ₹379   \n",
       "1  pollachief            Casual Sneaker for Men Sneakers For Men  ₹499   \n",
       "2  Shoes Bank     White Sneaker For Men's/Boy's Sneakers For Men  ₹349   \n",
       "3      ORICUM  Combo pack of 2 casual sneaker shoes for men S...  ₹419   \n",
       "4    PEHANOSA                                   Sneakers For Men  ₹499   \n",
       "\n",
       "  Discount  \n",
       "0     ₹709  \n",
       "1     ₹709  \n",
       "2     ₹709  \n",
       "3     ₹709  \n",
       "4     ₹709  "
      ]
     },
     "execution_count": 66,
     "metadata": {},
     "output_type": "execute_result"
    }
   ],
   "source": [
    "Brand=[]\n",
    "Product_description=[]\n",
    "Price=[]\n",
    "Discount=[]\n",
    "for i in range(4):\n",
    "    for a in driver.find_elements_by_xpath('//div[@class=\"_2WkVRV\"]'):\n",
    "        Brand.append(a.text)\n",
    "    for b in driver.find_elements_by_xpath('//a[@class=\"IRpwTa\"]'):\n",
    "        Product_description.append(b.text)\n",
    "    for c in driver.find_elements_by_xpath('//div[@class=\"_30jeq3\"]'):\n",
    "        Price.append(c.text)\n",
    "    for d in driver.find_elements_by_xpath('//div[@class=\"_3Ay6Sb\"]/span'):\n",
    "        Discount.append(c.text.split()[0])\n",
    "    \n",
    "        \n",
    "    driver.find_element_by_xpath('//a[@class=\"_1LKTO3\"]').click()\n",
    "    time.sleep(10)\n",
    "    \n",
    "df8=pd.DataFrame()\n",
    "df8['Brand']=Brand[0:100]\n",
    "df8['Product_description']=Product_description[0:100]\n",
    "df8['Price']=Price[0:100]\n",
    "df8['Discount']=Discount[0:100]\n",
    "df8.head()"
   ]
  },
  {
   "cell_type": "code",
   "execution_count": 67,
   "metadata": {},
   "outputs": [
    {
     "data": {
      "text/plain": [
       "(100, 4)"
      ]
     },
     "execution_count": 67,
     "metadata": {},
     "output_type": "execute_result"
    }
   ],
   "source": [
    "df8.shape"
   ]
  },
  {
   "cell_type": "markdown",
   "metadata": {},
   "source": [
    "Question 9:\n",
    "    \n",
    "    Go to the link - https://www.myntra.com/shoes\n",
    "    Set Price filter to “Rs. 6649 to Rs. 13099” , Color filter to “Black”, as shown in\n",
    "    the below image\n",
    "    And then scrape First 100 shoes data you get. The data should include “Brand” of\n",
    "    the shoes , Short Shoe description, price of the shoe as shown in the below image.\n",
    "    Please note that applying the filter and scraping the data , everything should be\n",
    "    done through code only and there should not be any manual step."
   ]
  },
  {
   "cell_type": "code",
   "execution_count": 2,
   "metadata": {},
   "outputs": [],
   "source": [
    "driver=webdriver.Chrome('chromedriver.exe')\n",
    "url='https://www.myntra.com/shoes'\n",
    "driver.get(url)"
   ]
  },
  {
   "cell_type": "code",
   "execution_count": 3,
   "metadata": {},
   "outputs": [
    {
     "data": {
      "text/plain": [
       "<selenium.webdriver.remote.webelement.WebElement (session=\"bb2f8c81072a23cc94acd9a0668ecec5\", element=\"f3eb7d94-14e2-49a8-a49e-566b91101b50\")>"
      ]
     },
     "execution_count": 3,
     "metadata": {},
     "output_type": "execute_result"
    }
   ],
   "source": [
    "color_filter=driver.find_element_by_xpath('//span[@class=\"colour-label colour-colorDisplay\"]')\n",
    "color_filter"
   ]
  },
  {
   "cell_type": "code",
   "execution_count": 4,
   "metadata": {},
   "outputs": [],
   "source": [
    "color_filter.click()"
   ]
  },
  {
   "cell_type": "code",
   "execution_count": 6,
   "metadata": {},
   "outputs": [],
   "source": [
    "search_bt = driver.find_element_by_xpath(\"//label[text()='Rs. 6687 to Rs. 13125']\")\n",
    "search_bt.click()"
   ]
  },
  {
   "cell_type": "code",
   "execution_count": 15,
   "metadata": {},
   "outputs": [
    {
     "data": {
      "text/html": [
       "<div>\n",
       "<style scoped>\n",
       "    .dataframe tbody tr th:only-of-type {\n",
       "        vertical-align: middle;\n",
       "    }\n",
       "\n",
       "    .dataframe tbody tr th {\n",
       "        vertical-align: top;\n",
       "    }\n",
       "\n",
       "    .dataframe thead th {\n",
       "        text-align: right;\n",
       "    }\n",
       "</style>\n",
       "<table border=\"1\" class=\"dataframe\">\n",
       "  <thead>\n",
       "    <tr style=\"text-align: right;\">\n",
       "      <th></th>\n",
       "      <th>Brand</th>\n",
       "      <th>Product_description</th>\n",
       "      <th>Price</th>\n",
       "    </tr>\n",
       "  </thead>\n",
       "  <tbody>\n",
       "    <tr>\n",
       "      <th>0</th>\n",
       "      <td>Nike</td>\n",
       "      <td>Men JORDAN DELTA Basketball</td>\n",
       "      <td>Rs. 11246</td>\n",
       "    </tr>\n",
       "    <tr>\n",
       "      <th>1</th>\n",
       "      <td>Nike</td>\n",
       "      <td>Men JOYRIDE Running Shoes</td>\n",
       "      <td>Rs. 11470</td>\n",
       "    </tr>\n",
       "    <tr>\n",
       "      <th>2</th>\n",
       "      <td>Nike</td>\n",
       "      <td>Unisex COSMIC UNITY Basketball</td>\n",
       "      <td>Rs. 12316</td>\n",
       "    </tr>\n",
       "    <tr>\n",
       "      <th>3</th>\n",
       "      <td>Nike</td>\n",
       "      <td>Men KD13 EP Basketball Shoes</td>\n",
       "      <td>Rs. 7796</td>\n",
       "    </tr>\n",
       "    <tr>\n",
       "      <th>4</th>\n",
       "      <td>Nike</td>\n",
       "      <td>Unisex LEBRON XVIII Basketball</td>\n",
       "      <td>Rs. 6999</td>\n",
       "    </tr>\n",
       "  </tbody>\n",
       "</table>\n",
       "</div>"
      ],
      "text/plain": [
       "  Brand             Product_description      Price\n",
       "0  Nike     Men JORDAN DELTA Basketball  Rs. 11246\n",
       "1  Nike       Men JOYRIDE Running Shoes  Rs. 11470\n",
       "2  Nike  Unisex COSMIC UNITY Basketball  Rs. 12316\n",
       "3  Nike    Men KD13 EP Basketball Shoes   Rs. 7796\n",
       "4  Nike  Unisex LEBRON XVIII Basketball   Rs. 6999"
      ]
     },
     "execution_count": 15,
     "metadata": {},
     "output_type": "execute_result"
    }
   ],
   "source": [
    "import time\n",
    "Brand=[]\n",
    "Product_description=[]\n",
    "Price=[]\n",
    "for i in range(8):\n",
    "    for a in driver.find_elements_by_xpath('//h3[@class=\"product-brand\"]'):\n",
    "        Brand.append(a.text)\n",
    "    for b in driver.find_elements_by_xpath('//h4[@class=\"product-product\"]'):\n",
    "        Product_description.append(b.text)\n",
    "    for c in driver.find_elements_by_xpath('//span[@class=\"product-discountedPrice\"]'):\n",
    "        Price.append(c.text)\n",
    "    \n",
    "        \n",
    "    driver.find_element_by_xpath('//li[@class=\"pagination-next\"]').click()\n",
    "    time.sleep(10)\n",
    "    \n",
    "df9=pd.DataFrame()\n",
    "df9['Brand']=Brand[0:100]\n",
    "df9['Product_description']=Product_description[0:100]\n",
    "df9['Price']=Price[0:100]\n",
    "df9.head()"
   ]
  },
  {
   "cell_type": "code",
   "execution_count": 16,
   "metadata": {},
   "outputs": [
    {
     "data": {
      "text/plain": [
       "(100, 3)"
      ]
     },
     "execution_count": 16,
     "metadata": {},
     "output_type": "execute_result"
    }
   ],
   "source": [
    "df9.shape"
   ]
  },
  {
   "cell_type": "markdown",
   "metadata": {},
   "source": [
    "Question 10:\n",
    "    \n",
    "     Go to webpage https://www.amazon.in/\n",
    "     Enter “Laptop” in the search field and then click the search icon.\n",
    "     Then set CPU Type filter to “Intel Core i7” and “Intel Core i9” as shown in the\n",
    "    below image:\n",
    "    After setting the filters scrape first 10 laptops data. You have to scrape 3 attributes\n",
    "    for each laptop:\n",
    "    1. title\n",
    "    2. Ratings\n",
    "    3. Price\n",
    "    As shown in the below image as the tick marked attributes."
   ]
  },
  {
   "cell_type": "code",
   "execution_count": 62,
   "metadata": {},
   "outputs": [],
   "source": [
    "url='https://www.amazon.in/'\n",
    "driver.get(url)"
   ]
  },
  {
   "cell_type": "code",
   "execution_count": 63,
   "metadata": {},
   "outputs": [
    {
     "data": {
      "text/plain": [
       "<selenium.webdriver.remote.webelement.WebElement (session=\"7dd33a919ddfff666fdcb2420bdf23a2\", element=\"1499345a-c5a7-423b-98fc-35f86a7d2989\")>"
      ]
     },
     "execution_count": 63,
     "metadata": {},
     "output_type": "execute_result"
    }
   ],
   "source": [
    "search_tag=driver.find_element_by_id('twotabsearchtextbox')\n",
    "search_tag"
   ]
  },
  {
   "cell_type": "code",
   "execution_count": 64,
   "metadata": {},
   "outputs": [
    {
     "data": {
      "text/plain": [
       "<selenium.webdriver.remote.webelement.WebElement (session=\"7dd33a919ddfff666fdcb2420bdf23a2\", element=\"f366e3d4-b94f-408d-abfa-4395e91b6f68\")>"
      ]
     },
     "execution_count": 64,
     "metadata": {},
     "output_type": "execute_result"
    }
   ],
   "source": [
    "search_btn=driver.find_element_by_id('nav-search-submit-button')\n",
    "search_btn"
   ]
  },
  {
   "cell_type": "code",
   "execution_count": 65,
   "metadata": {},
   "outputs": [],
   "source": [
    "search_tag.send_keys('Laptop')\n",
    "time.sleep(5)\n",
    "search_btn.click()"
   ]
  },
  {
   "cell_type": "code",
   "execution_count": 66,
   "metadata": {},
   "outputs": [
    {
     "data": {
      "text/plain": [
       "<selenium.webdriver.remote.webelement.WebElement (session=\"7dd33a919ddfff666fdcb2420bdf23a2\", element=\"a63d30d6-b8a0-4ff1-aa79-f22667b5597d\")>"
      ]
     },
     "execution_count": 66,
     "metadata": {},
     "output_type": "execute_result"
    }
   ],
   "source": [
    "filter1=driver.find_element_by_xpath('//span[text()=\"Intel Core i7\"]')\n",
    "filter1"
   ]
  },
  {
   "cell_type": "code",
   "execution_count": 67,
   "metadata": {},
   "outputs": [],
   "source": [
    "filter1.click()"
   ]
  },
  {
   "cell_type": "code",
   "execution_count": 68,
   "metadata": {},
   "outputs": [],
   "source": [
    "filter2=driver.find_element_by_xpath('//span[text()=\"Intel Core i9\"]')\n",
    "filter2.click()"
   ]
  },
  {
   "cell_type": "code",
   "execution_count": 78,
   "metadata": {},
   "outputs": [
    {
     "data": {
      "text/html": [
       "<div>\n",
       "<style scoped>\n",
       "    .dataframe tbody tr th:only-of-type {\n",
       "        vertical-align: middle;\n",
       "    }\n",
       "\n",
       "    .dataframe tbody tr th {\n",
       "        vertical-align: top;\n",
       "    }\n",
       "\n",
       "    .dataframe thead th {\n",
       "        text-align: right;\n",
       "    }\n",
       "</style>\n",
       "<table border=\"1\" class=\"dataframe\">\n",
       "  <thead>\n",
       "    <tr style=\"text-align: right;\">\n",
       "      <th></th>\n",
       "      <th>Brand</th>\n",
       "      <th>Price</th>\n",
       "    </tr>\n",
       "  </thead>\n",
       "  <tbody>\n",
       "    <tr>\n",
       "      <th>0</th>\n",
       "      <td>Mi Notebook Horizon Edition 14 Intel Core i5-1...</td>\n",
       "      <td>54,999</td>\n",
       "    </tr>\n",
       "    <tr>\n",
       "      <th>1</th>\n",
       "      <td>MSI GS66 Stealth, Intel 10th Gen. i7-10875H, 1...</td>\n",
       "      <td>2,56,072</td>\n",
       "    </tr>\n",
       "    <tr>\n",
       "      <th>2</th>\n",
       "      <td>HP Pavilion (2021) Thin &amp; Light 11th Gen Core ...</td>\n",
       "      <td>84,990</td>\n",
       "    </tr>\n",
       "    <tr>\n",
       "      <th>3</th>\n",
       "      <td>Mi Notebook Horizon Edition 14 Intel Core i5-1...</td>\n",
       "      <td>54,999</td>\n",
       "    </tr>\n",
       "    <tr>\n",
       "      <th>4</th>\n",
       "      <td>Life Digital Laptop 15.6-inch (39.62 cms) (Int...</td>\n",
       "      <td>26,990</td>\n",
       "    </tr>\n",
       "  </tbody>\n",
       "</table>\n",
       "</div>"
      ],
      "text/plain": [
       "                                               Brand     Price\n",
       "0  Mi Notebook Horizon Edition 14 Intel Core i5-1...    54,999\n",
       "1  MSI GS66 Stealth, Intel 10th Gen. i7-10875H, 1...  2,56,072\n",
       "2  HP Pavilion (2021) Thin & Light 11th Gen Core ...    84,990\n",
       "3  Mi Notebook Horizon Edition 14 Intel Core i5-1...    54,999\n",
       "4  Life Digital Laptop 15.6-inch (39.62 cms) (Int...    26,990"
      ]
     },
     "execution_count": 78,
     "metadata": {},
     "output_type": "execute_result"
    }
   ],
   "source": [
    "import time\n",
    "Brand=[]\n",
    "Rating=[]\n",
    "Price=[]\n",
    "for i in range(8):\n",
    "    for a in driver.find_elements_by_xpath('//h2[@class=\"a-size-mini a-spacing-none a-color-base s-line-clamp-2\"]'):\n",
    "        Brand.append(a.text)\n",
    "    for c in driver.find_elements_by_xpath('//span[@class=\"a-price-whole\"]'):\n",
    "        Price.append(c.text)    \n",
    "df10=pd.DataFrame()\n",
    "df10['Brand']=Brand[0:10]\n",
    "df10['Price']=Price[0:10]\n",
    "df10.head()"
   ]
  },
  {
   "cell_type": "code",
   "execution_count": 81,
   "metadata": {
    "collapsed": true
   },
   "outputs": [
    {
     "data": {
      "text/plain": [
       "['4.4 out of 5 stars',\n",
       " '828',\n",
       " '3.0 out of 5 stars',\n",
       " '3',\n",
       " '4.5 out of 5 stars',\n",
       " '90',\n",
       " '4.4 out of 5 stars',\n",
       " '828',\n",
       " '3.1 out of 5 stars',\n",
       " '8',\n",
       " '5.0 out of 5 stars',\n",
       " '3',\n",
       " '4.1 out of 5 stars',\n",
       " '20',\n",
       " '2.3 out of 5 stars',\n",
       " '26',\n",
       " '3.8 out of 5 stars',\n",
       " '8',\n",
       " '4.6 out of 5 stars',\n",
       " '11',\n",
       " '4.7 out of 5 stars',\n",
       " '7',\n",
       " '5.0 out of 5 stars',\n",
       " '3',\n",
       " '3.1 out of 5 stars',\n",
       " '18',\n",
       " '4.4 out of 5 stars',\n",
       " '246',\n",
       " '4.4 out of 5 stars',\n",
       " '64',\n",
       " '4.3 out of 5 stars',\n",
       " '33',\n",
       " '4.4 out of 5 stars',\n",
       " '93',\n",
       " '3.2 out of 5 stars',\n",
       " '6',\n",
       " '5.0 out of 5 stars',\n",
       " '1',\n",
       " '3.9 out of 5 stars',\n",
       " '3',\n",
       " '3.8 out of 5 stars',\n",
       " '23']"
      ]
     },
     "execution_count": 81,
     "metadata": {},
     "output_type": "execute_result"
    }
   ],
   "source": [
    "Rating=[]\n",
    "for i in driver.find_elements_by_xpath(\"//div[@class='a-row a-size-small']/span\"):\n",
    "    k=i.get_attribute(\"aria-label\")\n",
    "    \n",
    "    Rating.append(k)\n",
    "Rating"
   ]
  },
  {
   "cell_type": "code",
   "execution_count": 86,
   "metadata": {},
   "outputs": [
    {
     "data": {
      "text/plain": [
       "['4.4 out of 5 stars',\n",
       " '3.0 out of 5 stars',\n",
       " '4.5 out of 5 stars',\n",
       " '4.4 out of 5 stars',\n",
       " '3.1 out of 5 stars',\n",
       " '5.0 out of 5 stars',\n",
       " '4.1 out of 5 stars',\n",
       " '2.3 out of 5 stars',\n",
       " '3.8 out of 5 stars',\n",
       " '4.6 out of 5 stars']"
      ]
     },
     "execution_count": 86,
     "metadata": {},
     "output_type": "execute_result"
    }
   ],
   "source": [
    "Ratings=[]\n",
    "for i in range(0,20,2):\n",
    "    Ratings.append(Rating[i])\n",
    "Ratings"
   ]
  },
  {
   "cell_type": "code",
   "execution_count": 87,
   "metadata": {},
   "outputs": [],
   "source": [
    "df10['Ratings']=Ratings"
   ]
  },
  {
   "cell_type": "code",
   "execution_count": 88,
   "metadata": {},
   "outputs": [
    {
     "data": {
      "text/html": [
       "<div>\n",
       "<style scoped>\n",
       "    .dataframe tbody tr th:only-of-type {\n",
       "        vertical-align: middle;\n",
       "    }\n",
       "\n",
       "    .dataframe tbody tr th {\n",
       "        vertical-align: top;\n",
       "    }\n",
       "\n",
       "    .dataframe thead th {\n",
       "        text-align: right;\n",
       "    }\n",
       "</style>\n",
       "<table border=\"1\" class=\"dataframe\">\n",
       "  <thead>\n",
       "    <tr style=\"text-align: right;\">\n",
       "      <th></th>\n",
       "      <th>Brand</th>\n",
       "      <th>Price</th>\n",
       "      <th>Ratings</th>\n",
       "    </tr>\n",
       "  </thead>\n",
       "  <tbody>\n",
       "    <tr>\n",
       "      <th>0</th>\n",
       "      <td>Mi Notebook Horizon Edition 14 Intel Core i5-1...</td>\n",
       "      <td>54,999</td>\n",
       "      <td>4.4 out of 5 stars</td>\n",
       "    </tr>\n",
       "    <tr>\n",
       "      <th>1</th>\n",
       "      <td>MSI GS66 Stealth, Intel 10th Gen. i7-10875H, 1...</td>\n",
       "      <td>2,56,072</td>\n",
       "      <td>3.0 out of 5 stars</td>\n",
       "    </tr>\n",
       "    <tr>\n",
       "      <th>2</th>\n",
       "      <td>HP Pavilion (2021) Thin &amp; Light 11th Gen Core ...</td>\n",
       "      <td>84,990</td>\n",
       "      <td>4.5 out of 5 stars</td>\n",
       "    </tr>\n",
       "    <tr>\n",
       "      <th>3</th>\n",
       "      <td>Mi Notebook Horizon Edition 14 Intel Core i5-1...</td>\n",
       "      <td>54,999</td>\n",
       "      <td>4.4 out of 5 stars</td>\n",
       "    </tr>\n",
       "    <tr>\n",
       "      <th>4</th>\n",
       "      <td>Life Digital Laptop 15.6-inch (39.62 cms) (Int...</td>\n",
       "      <td>26,990</td>\n",
       "      <td>3.1 out of 5 stars</td>\n",
       "    </tr>\n",
       "  </tbody>\n",
       "</table>\n",
       "</div>"
      ],
      "text/plain": [
       "                                               Brand     Price  \\\n",
       "0  Mi Notebook Horizon Edition 14 Intel Core i5-1...    54,999   \n",
       "1  MSI GS66 Stealth, Intel 10th Gen. i7-10875H, 1...  2,56,072   \n",
       "2  HP Pavilion (2021) Thin & Light 11th Gen Core ...    84,990   \n",
       "3  Mi Notebook Horizon Edition 14 Intel Core i5-1...    54,999   \n",
       "4  Life Digital Laptop 15.6-inch (39.62 cms) (Int...    26,990   \n",
       "\n",
       "              Ratings  \n",
       "0  4.4 out of 5 stars  \n",
       "1  3.0 out of 5 stars  \n",
       "2  4.5 out of 5 stars  \n",
       "3  4.4 out of 5 stars  \n",
       "4  3.1 out of 5 stars  "
      ]
     },
     "execution_count": 88,
     "metadata": {},
     "output_type": "execute_result"
    }
   ],
   "source": [
    "df10.head()"
   ]
  },
  {
   "cell_type": "code",
   "execution_count": 89,
   "metadata": {},
   "outputs": [
    {
     "data": {
      "text/plain": [
       "(10, 3)"
      ]
     },
     "execution_count": 89,
     "metadata": {},
     "output_type": "execute_result"
    }
   ],
   "source": [
    "df10.shape"
   ]
  },
  {
   "cell_type": "code",
   "execution_count": null,
   "metadata": {},
   "outputs": [],
   "source": []
  }
 ],
 "metadata": {
  "kernelspec": {
   "display_name": "Python 3",
   "language": "python",
   "name": "python3"
  },
  "language_info": {
   "codemirror_mode": {
    "name": "ipython",
    "version": 3
   },
   "file_extension": ".py",
   "mimetype": "text/x-python",
   "name": "python",
   "nbconvert_exporter": "python",
   "pygments_lexer": "ipython3",
   "version": "3.8.5"
  }
 },
 "nbformat": 4,
 "nbformat_minor": 4
}
