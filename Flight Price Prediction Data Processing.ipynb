{
 "cells": [
  {
   "cell_type": "code",
   "execution_count": 1,
   "id": "84e413f4",
   "metadata": {},
   "outputs": [],
   "source": [
    "import pandas as pd\n",
    "import numpy as np"
   ]
  },
  {
   "cell_type": "code",
   "execution_count": 2,
   "id": "3e5d4958",
   "metadata": {},
   "outputs": [],
   "source": [
    "# Creating the dataframes\n",
    "dataframes=[]\n",
    "for i in range(1,73):\n",
    "    k1='df'\n",
    "    k2=str(i)\n",
    "    k=k1+k2\n",
    "    dataframes.append(k)"
   ]
  },
  {
   "cell_type": "code",
   "execution_count": 3,
   "id": "bc2fe9a1",
   "metadata": {},
   "outputs": [],
   "source": [
    "# Creating the datafiles name\n",
    "flight=[]\n",
    "for i in range(1,73):\n",
    "    k1='flight_data_'\n",
    "    k2=str(i)\n",
    "    k3='.csv'\n",
    "    k=k1+k2+k3\n",
    "    flight.append(k)"
   ]
  },
  {
   "cell_type": "code",
   "execution_count": 4,
   "id": "d5ba0b22",
   "metadata": {},
   "outputs": [],
   "source": [
    "#importing all the dataframe\n",
    "k=0\n",
    "for i in dataframes:\n",
    "    locals()[i]=pd.read_csv(flight[k])\n",
    "    k=k+1"
   ]
  },
  {
   "cell_type": "code",
   "execution_count": 5,
   "id": "f2314796",
   "metadata": {},
   "outputs": [],
   "source": [
    "df_list=[]\n",
    "for i in dataframes:\n",
    "    df_list.append(locals()[i])"
   ]
  },
  {
   "cell_type": "code",
   "execution_count": 6,
   "id": "aea84534",
   "metadata": {},
   "outputs": [],
   "source": [
    "df=pd.DataFrame()\n",
    "df = df.append(df_list)"
   ]
  },
  {
   "cell_type": "code",
   "execution_count": 7,
   "id": "37877569",
   "metadata": {},
   "outputs": [
    {
     "data": {
      "text/html": [
       "<div>\n",
       "<style scoped>\n",
       "    .dataframe tbody tr th:only-of-type {\n",
       "        vertical-align: middle;\n",
       "    }\n",
       "\n",
       "    .dataframe tbody tr th {\n",
       "        vertical-align: top;\n",
       "    }\n",
       "\n",
       "    .dataframe thead th {\n",
       "        text-align: right;\n",
       "    }\n",
       "</style>\n",
       "<table border=\"1\" class=\"dataframe\">\n",
       "  <thead>\n",
       "    <tr style=\"text-align: right;\">\n",
       "      <th></th>\n",
       "      <th>Unnamed: 0</th>\n",
       "      <th>Company Name</th>\n",
       "      <th>Departure time</th>\n",
       "      <th>Arrival Time</th>\n",
       "      <th>Duration</th>\n",
       "      <th>No of stops</th>\n",
       "      <th>Rates</th>\n",
       "      <th>No of days in advanced booked</th>\n",
       "      <th>class</th>\n",
       "      <th>where to where</th>\n",
       "      <th>Root Value</th>\n",
       "    </tr>\n",
       "  </thead>\n",
       "  <tbody>\n",
       "    <tr>\n",
       "      <th>0</th>\n",
       "      <td>0</td>\n",
       "      <td>Air Asia</td>\n",
       "      <td>08:00</td>\n",
       "      <td>14:35</td>\n",
       "      <td>6h 35m</td>\n",
       "      <td>1 Stop</td>\n",
       "      <td>5,953</td>\n",
       "      <td>1</td>\n",
       "      <td>Economy</td>\n",
       "      <td>Delhi - Mumbai</td>\n",
       "      <td>3</td>\n",
       "    </tr>\n",
       "    <tr>\n",
       "      <th>1</th>\n",
       "      <td>1</td>\n",
       "      <td>Air Asia</td>\n",
       "      <td>09:25</td>\n",
       "      <td>16:00</td>\n",
       "      <td>6h 35m</td>\n",
       "      <td>1 Stop</td>\n",
       "      <td>5,953</td>\n",
       "      <td>1</td>\n",
       "      <td>Economy</td>\n",
       "      <td>Delhi - Mumbai</td>\n",
       "      <td>3</td>\n",
       "    </tr>\n",
       "    <tr>\n",
       "      <th>2</th>\n",
       "      <td>2</td>\n",
       "      <td>Air Asia</td>\n",
       "      <td>12:40</td>\n",
       "      <td>20:15</td>\n",
       "      <td>7h 35m</td>\n",
       "      <td>1 Stop</td>\n",
       "      <td>5,953</td>\n",
       "      <td>1</td>\n",
       "      <td>Economy</td>\n",
       "      <td>Delhi - Mumbai</td>\n",
       "      <td>3</td>\n",
       "    </tr>\n",
       "    <tr>\n",
       "      <th>3</th>\n",
       "      <td>3</td>\n",
       "      <td>Air Asia</td>\n",
       "      <td>11:55</td>\n",
       "      <td>20:15</td>\n",
       "      <td>8h 20m</td>\n",
       "      <td>1 Stop</td>\n",
       "      <td>5,953</td>\n",
       "      <td>1</td>\n",
       "      <td>Economy</td>\n",
       "      <td>Delhi - Mumbai</td>\n",
       "      <td>3</td>\n",
       "    </tr>\n",
       "    <tr>\n",
       "      <th>4</th>\n",
       "      <td>4</td>\n",
       "      <td>Air Asia</td>\n",
       "      <td>08:00</td>\n",
       "      <td>16:35</td>\n",
       "      <td>8h 35m</td>\n",
       "      <td>1 Stop</td>\n",
       "      <td>5,953</td>\n",
       "      <td>1</td>\n",
       "      <td>Economy</td>\n",
       "      <td>Delhi - Mumbai</td>\n",
       "      <td>3</td>\n",
       "    </tr>\n",
       "  </tbody>\n",
       "</table>\n",
       "</div>"
      ],
      "text/plain": [
       "   Unnamed: 0 Company Name Departure time Arrival Time Duration No of stops  \\\n",
       "0           0     Air Asia          08:00        14:35   6h 35m      1 Stop   \n",
       "1           1     Air Asia          09:25        16:00   6h 35m      1 Stop   \n",
       "2           2     Air Asia          12:40        20:15   7h 35m      1 Stop   \n",
       "3           3     Air Asia          11:55        20:15   8h 20m      1 Stop   \n",
       "4           4     Air Asia          08:00        16:35   8h 35m      1 Stop   \n",
       "\n",
       "   Rates  No of days in advanced booked    class  where to where  Root Value  \n",
       "0  5,953                              1  Economy  Delhi - Mumbai           3  \n",
       "1  5,953                              1  Economy  Delhi - Mumbai           3  \n",
       "2  5,953                              1  Economy  Delhi - Mumbai           3  \n",
       "3  5,953                              1  Economy  Delhi - Mumbai           3  \n",
       "4  5,953                              1  Economy  Delhi - Mumbai           3  "
      ]
     },
     "execution_count": 7,
     "metadata": {},
     "output_type": "execute_result"
    }
   ],
   "source": [
    "df.head()"
   ]
  },
  {
   "cell_type": "code",
   "execution_count": 8,
   "id": "39252ef6",
   "metadata": {},
   "outputs": [
    {
     "data": {
      "text/plain": [
       "(1587, 11)"
      ]
     },
     "execution_count": 8,
     "metadata": {},
     "output_type": "execute_result"
    }
   ],
   "source": [
    "df.shape"
   ]
  },
  {
   "cell_type": "code",
   "execution_count": 9,
   "id": "f9e37a97",
   "metadata": {},
   "outputs": [
    {
     "data": {
      "text/plain": [
       "Index(['Unnamed: 0', 'Company Name', 'Departure time', 'Arrival Time',\n",
       "       'Duration', 'No of stops', 'Rates', 'No of days in advanced booked',\n",
       "       'class', 'where to where', 'Root Value'],\n",
       "      dtype='object')"
      ]
     },
     "execution_count": 9,
     "metadata": {},
     "output_type": "execute_result"
    }
   ],
   "source": [
    "df.columns"
   ]
  },
  {
   "cell_type": "code",
   "execution_count": 10,
   "id": "9b50fe36",
   "metadata": {},
   "outputs": [],
   "source": [
    "df.drop('Unnamed: 0',axis=1,inplace=True)"
   ]
  },
  {
   "cell_type": "code",
   "execution_count": 11,
   "id": "dfde2f91",
   "metadata": {},
   "outputs": [
    {
     "data": {
      "text/html": [
       "<div>\n",
       "<style scoped>\n",
       "    .dataframe tbody tr th:only-of-type {\n",
       "        vertical-align: middle;\n",
       "    }\n",
       "\n",
       "    .dataframe tbody tr th {\n",
       "        vertical-align: top;\n",
       "    }\n",
       "\n",
       "    .dataframe thead th {\n",
       "        text-align: right;\n",
       "    }\n",
       "</style>\n",
       "<table border=\"1\" class=\"dataframe\">\n",
       "  <thead>\n",
       "    <tr style=\"text-align: right;\">\n",
       "      <th></th>\n",
       "      <th>Company Name</th>\n",
       "      <th>Departure time</th>\n",
       "      <th>Arrival Time</th>\n",
       "      <th>Duration</th>\n",
       "      <th>No of stops</th>\n",
       "      <th>Rates</th>\n",
       "      <th>No of days in advanced booked</th>\n",
       "      <th>class</th>\n",
       "      <th>where to where</th>\n",
       "      <th>Root Value</th>\n",
       "    </tr>\n",
       "  </thead>\n",
       "  <tbody>\n",
       "    <tr>\n",
       "      <th>0</th>\n",
       "      <td>Air Asia</td>\n",
       "      <td>08:00</td>\n",
       "      <td>14:35</td>\n",
       "      <td>6h 35m</td>\n",
       "      <td>1 Stop</td>\n",
       "      <td>5,953</td>\n",
       "      <td>1</td>\n",
       "      <td>Economy</td>\n",
       "      <td>Delhi - Mumbai</td>\n",
       "      <td>3</td>\n",
       "    </tr>\n",
       "    <tr>\n",
       "      <th>1</th>\n",
       "      <td>Air Asia</td>\n",
       "      <td>09:25</td>\n",
       "      <td>16:00</td>\n",
       "      <td>6h 35m</td>\n",
       "      <td>1 Stop</td>\n",
       "      <td>5,953</td>\n",
       "      <td>1</td>\n",
       "      <td>Economy</td>\n",
       "      <td>Delhi - Mumbai</td>\n",
       "      <td>3</td>\n",
       "    </tr>\n",
       "    <tr>\n",
       "      <th>2</th>\n",
       "      <td>Air Asia</td>\n",
       "      <td>12:40</td>\n",
       "      <td>20:15</td>\n",
       "      <td>7h 35m</td>\n",
       "      <td>1 Stop</td>\n",
       "      <td>5,953</td>\n",
       "      <td>1</td>\n",
       "      <td>Economy</td>\n",
       "      <td>Delhi - Mumbai</td>\n",
       "      <td>3</td>\n",
       "    </tr>\n",
       "    <tr>\n",
       "      <th>3</th>\n",
       "      <td>Air Asia</td>\n",
       "      <td>11:55</td>\n",
       "      <td>20:15</td>\n",
       "      <td>8h 20m</td>\n",
       "      <td>1 Stop</td>\n",
       "      <td>5,953</td>\n",
       "      <td>1</td>\n",
       "      <td>Economy</td>\n",
       "      <td>Delhi - Mumbai</td>\n",
       "      <td>3</td>\n",
       "    </tr>\n",
       "    <tr>\n",
       "      <th>4</th>\n",
       "      <td>Air Asia</td>\n",
       "      <td>08:00</td>\n",
       "      <td>16:35</td>\n",
       "      <td>8h 35m</td>\n",
       "      <td>1 Stop</td>\n",
       "      <td>5,953</td>\n",
       "      <td>1</td>\n",
       "      <td>Economy</td>\n",
       "      <td>Delhi - Mumbai</td>\n",
       "      <td>3</td>\n",
       "    </tr>\n",
       "  </tbody>\n",
       "</table>\n",
       "</div>"
      ],
      "text/plain": [
       "  Company Name Departure time Arrival Time Duration No of stops  Rates  \\\n",
       "0     Air Asia          08:00        14:35   6h 35m      1 Stop  5,953   \n",
       "1     Air Asia          09:25        16:00   6h 35m      1 Stop  5,953   \n",
       "2     Air Asia          12:40        20:15   7h 35m      1 Stop  5,953   \n",
       "3     Air Asia          11:55        20:15   8h 20m      1 Stop  5,953   \n",
       "4     Air Asia          08:00        16:35   8h 35m      1 Stop  5,953   \n",
       "\n",
       "   No of days in advanced booked    class  where to where  Root Value  \n",
       "0                              1  Economy  Delhi - Mumbai           3  \n",
       "1                              1  Economy  Delhi - Mumbai           3  \n",
       "2                              1  Economy  Delhi - Mumbai           3  \n",
       "3                              1  Economy  Delhi - Mumbai           3  \n",
       "4                              1  Economy  Delhi - Mumbai           3  "
      ]
     },
     "execution_count": 11,
     "metadata": {},
     "output_type": "execute_result"
    }
   ],
   "source": [
    "df.head()"
   ]
  },
  {
   "cell_type": "code",
   "execution_count": 12,
   "id": "2e69c9fd",
   "metadata": {},
   "outputs": [
    {
     "data": {
      "text/plain": [
       "Vistara Premium Economy    437\n",
       "Air India Business         355\n",
       "Vistara Business           195\n",
       "IndiGo                     185\n",
       "Go First                   140\n",
       "Air Asia                    98\n",
       "SpiceJet                    67\n",
       "Air India                   56\n",
       "Vistara                     54\n",
       "Name: Company Name, dtype: int64"
      ]
     },
     "execution_count": 12,
     "metadata": {},
     "output_type": "execute_result"
    }
   ],
   "source": [
    "df['Company Name'].value_counts()"
   ]
  },
  {
   "cell_type": "markdown",
   "id": "0ae90f75",
   "metadata": {},
   "source": [
    "# Creating the dataset for tableau"
   ]
  },
  {
   "cell_type": "markdown",
   "id": "f8254410",
   "metadata": {},
   "source": [
    "**Column : Departure time**"
   ]
  },
  {
   "cell_type": "code",
   "execution_count": 13,
   "id": "2e0aabdc",
   "metadata": {},
   "outputs": [],
   "source": [
    "dt_list=[]\n",
    "for i in df['Departure time']:\n",
    "    dt_list.append(i)\n",
    "dt_int3=[]\n",
    "for i in dt_list:\n",
    "    k=i.split(':')\n",
    "    dt_int1=int(k[0])\n",
    "    dt_int2=int(k[1])/60\n",
    "    dt_int3.append(round((dt_int1+dt_int2),2))"
   ]
  },
  {
   "cell_type": "code",
   "execution_count": 14,
   "id": "6b1f5928",
   "metadata": {},
   "outputs": [],
   "source": [
    "df['Departure Time']=dt_int3"
   ]
  },
  {
   "cell_type": "code",
   "execution_count": 15,
   "id": "6ff73549",
   "metadata": {},
   "outputs": [],
   "source": [
    "df.drop('Departure time',axis=1,inplace=True)"
   ]
  },
  {
   "cell_type": "markdown",
   "id": "925418f3",
   "metadata": {},
   "source": [
    "**Column : Arrival time**"
   ]
  },
  {
   "cell_type": "code",
   "execution_count": 16,
   "id": "0afcfc3a",
   "metadata": {},
   "outputs": [
    {
     "data": {
      "text/html": [
       "<div>\n",
       "<style scoped>\n",
       "    .dataframe tbody tr th:only-of-type {\n",
       "        vertical-align: middle;\n",
       "    }\n",
       "\n",
       "    .dataframe tbody tr th {\n",
       "        vertical-align: top;\n",
       "    }\n",
       "\n",
       "    .dataframe thead th {\n",
       "        text-align: right;\n",
       "    }\n",
       "</style>\n",
       "<table border=\"1\" class=\"dataframe\">\n",
       "  <thead>\n",
       "    <tr style=\"text-align: right;\">\n",
       "      <th></th>\n",
       "      <th>Company Name</th>\n",
       "      <th>Arrival Time</th>\n",
       "      <th>Duration</th>\n",
       "      <th>No of stops</th>\n",
       "      <th>Rates</th>\n",
       "      <th>No of days in advanced booked</th>\n",
       "      <th>class</th>\n",
       "      <th>where to where</th>\n",
       "      <th>Route Value</th>\n",
       "      <th>Departure Time</th>\n",
       "    </tr>\n",
       "  </thead>\n",
       "  <tbody>\n",
       "    <tr>\n",
       "      <th>0</th>\n",
       "      <td>Air Asia</td>\n",
       "      <td>14:35</td>\n",
       "      <td>6h 35m</td>\n",
       "      <td>1 Stop</td>\n",
       "      <td>5,953</td>\n",
       "      <td>1</td>\n",
       "      <td>Economy</td>\n",
       "      <td>Delhi - Mumbai</td>\n",
       "      <td>3</td>\n",
       "      <td>8.00</td>\n",
       "    </tr>\n",
       "    <tr>\n",
       "      <th>1</th>\n",
       "      <td>Air Asia</td>\n",
       "      <td>16:00</td>\n",
       "      <td>6h 35m</td>\n",
       "      <td>1 Stop</td>\n",
       "      <td>5,953</td>\n",
       "      <td>1</td>\n",
       "      <td>Economy</td>\n",
       "      <td>Delhi - Mumbai</td>\n",
       "      <td>3</td>\n",
       "      <td>9.42</td>\n",
       "    </tr>\n",
       "    <tr>\n",
       "      <th>2</th>\n",
       "      <td>Air Asia</td>\n",
       "      <td>20:15</td>\n",
       "      <td>7h 35m</td>\n",
       "      <td>1 Stop</td>\n",
       "      <td>5,953</td>\n",
       "      <td>1</td>\n",
       "      <td>Economy</td>\n",
       "      <td>Delhi - Mumbai</td>\n",
       "      <td>3</td>\n",
       "      <td>12.67</td>\n",
       "    </tr>\n",
       "    <tr>\n",
       "      <th>3</th>\n",
       "      <td>Air Asia</td>\n",
       "      <td>20:15</td>\n",
       "      <td>8h 20m</td>\n",
       "      <td>1 Stop</td>\n",
       "      <td>5,953</td>\n",
       "      <td>1</td>\n",
       "      <td>Economy</td>\n",
       "      <td>Delhi - Mumbai</td>\n",
       "      <td>3</td>\n",
       "      <td>11.92</td>\n",
       "    </tr>\n",
       "    <tr>\n",
       "      <th>4</th>\n",
       "      <td>Air Asia</td>\n",
       "      <td>16:35</td>\n",
       "      <td>8h 35m</td>\n",
       "      <td>1 Stop</td>\n",
       "      <td>5,953</td>\n",
       "      <td>1</td>\n",
       "      <td>Economy</td>\n",
       "      <td>Delhi - Mumbai</td>\n",
       "      <td>3</td>\n",
       "      <td>8.00</td>\n",
       "    </tr>\n",
       "  </tbody>\n",
       "</table>\n",
       "</div>"
      ],
      "text/plain": [
       "  Company Name Arrival Time Duration No of stops  Rates  \\\n",
       "0     Air Asia        14:35   6h 35m      1 Stop  5,953   \n",
       "1     Air Asia        16:00   6h 35m      1 Stop  5,953   \n",
       "2     Air Asia        20:15   7h 35m      1 Stop  5,953   \n",
       "3     Air Asia        20:15   8h 20m      1 Stop  5,953   \n",
       "4     Air Asia        16:35   8h 35m      1 Stop  5,953   \n",
       "\n",
       "   No of days in advanced booked    class  where to where  Route Value  \\\n",
       "0                              1  Economy  Delhi - Mumbai            3   \n",
       "1                              1  Economy  Delhi - Mumbai            3   \n",
       "2                              1  Economy  Delhi - Mumbai            3   \n",
       "3                              1  Economy  Delhi - Mumbai            3   \n",
       "4                              1  Economy  Delhi - Mumbai            3   \n",
       "\n",
       "   Departure Time  \n",
       "0            8.00  \n",
       "1            9.42  \n",
       "2           12.67  \n",
       "3           11.92  \n",
       "4            8.00  "
      ]
     },
     "execution_count": 16,
     "metadata": {},
     "output_type": "execute_result"
    }
   ],
   "source": [
    "df1=pd.DataFrame()\n",
    "list1=[]\n",
    "for i in df['Company Name']:\n",
    "    list1.append(i)\n",
    "df1['Company Name']=list1\n",
    "list2=[]\n",
    "for i in df['Arrival Time']:\n",
    "    list2.append(i)\n",
    "df1['Arrival Time']=list2\n",
    "\n",
    "list3=[]\n",
    "for i in df['Duration']:\n",
    "    list3.append(i)\n",
    "df1['Duration']=list3\n",
    "\n",
    "list4=[]\n",
    "for i in df['No of stops']:\n",
    "    list4.append(i)\n",
    "df1['No of stops']=list4\n",
    "\n",
    "list5=[]\n",
    "for i in df['Rates']:\n",
    "    list5.append(i)\n",
    "df1['Rates']=list5\n",
    "\n",
    "list6=[]\n",
    "for i in df['No of days in advanced booked']:\n",
    "    list6.append(i)\n",
    "df1['No of days in advanced booked']=list6\n",
    "\n",
    "list7=[]\n",
    "for i in df['class']:\n",
    "    list7.append(i)\n",
    "df1['class']=list7\n",
    "\n",
    "list8=[]\n",
    "for i in df['where to where']:\n",
    "    list8.append(i)\n",
    "df1['where to where']=list8\n",
    "\n",
    "list9=[]\n",
    "for i in df['Root Value']:\n",
    "    list9.append(i)\n",
    "df1['Route Value']=list9\n",
    "\n",
    "list10=[]\n",
    "for i in df['Departure Time']:\n",
    "    list10.append(i)\n",
    "df1['Departure Time']=list10\n",
    "\n",
    "df1.head()"
   ]
  },
  {
   "cell_type": "code",
   "execution_count": 17,
   "id": "b0e80750",
   "metadata": {},
   "outputs": [
    {
     "data": {
      "text/plain": [
       "(1587, 10)"
      ]
     },
     "execution_count": 17,
     "metadata": {},
     "output_type": "execute_result"
    }
   ],
   "source": [
    "df1.shape"
   ]
  },
  {
   "cell_type": "code",
   "execution_count": 24,
   "id": "79ed066d",
   "metadata": {},
   "outputs": [],
   "source": [
    "# Out of Arrival time, departure time and duration we can remove one to avoid multicollinearity\n",
    "df1.drop('Arrival Time',axis=1,inplace=True)"
   ]
  },
  {
   "cell_type": "code",
   "execution_count": 53,
   "id": "fea12e3e",
   "metadata": {},
   "outputs": [],
   "source": [
    "sample1=[]\n",
    "sample2=[]\n",
    "for i in df1['Duration']:\n",
    "    k=i.split(' ')\n",
    "    sample1.append(k[0])\n",
    "    sample2.append(k[1])\n",
    "sample3=[]\n",
    "sample4=[]   \n",
    "for i in sample1:\n",
    "    for m in range(len(i)):\n",
    "        mi=[]\n",
    "        mi1=[]\n",
    "        for word in i:\n",
    "            if word.isdigit():\n",
    "                mi.append(word)\n",
    "        mi1=''.join(mi)\n",
    "    sample3.append(mi1)\n",
    "            \n",
    "for i in sample2:\n",
    "    for m in range(len(i)):\n",
    "        mi=[]\n",
    "        mi1=[]\n",
    "        for word in i:\n",
    "            if word.isdigit():\n",
    "                mi.append(word)\n",
    "        mi1=''.join(mi)\n",
    "    sample4.append(mi1)\n",
    "g=0\n",
    "fin_d=[]\n",
    "for i in sample3:\n",
    "    fin_d.append(round((int(i)+int(sample4[g])/60),2))\n",
    "    g=g+1"
   ]
  },
  {
   "cell_type": "code",
   "execution_count": 56,
   "id": "1c804ed8",
   "metadata": {},
   "outputs": [],
   "source": [
    "df1.drop('Duration',axis=1,inplace=True)\n",
    "df1['Duration']=fin_d"
   ]
  },
  {
   "cell_type": "code",
   "execution_count": 57,
   "id": "f92a2f03",
   "metadata": {},
   "outputs": [
    {
     "data": {
      "text/html": [
       "<div>\n",
       "<style scoped>\n",
       "    .dataframe tbody tr th:only-of-type {\n",
       "        vertical-align: middle;\n",
       "    }\n",
       "\n",
       "    .dataframe tbody tr th {\n",
       "        vertical-align: top;\n",
       "    }\n",
       "\n",
       "    .dataframe thead th {\n",
       "        text-align: right;\n",
       "    }\n",
       "</style>\n",
       "<table border=\"1\" class=\"dataframe\">\n",
       "  <thead>\n",
       "    <tr style=\"text-align: right;\">\n",
       "      <th></th>\n",
       "      <th>Company Name</th>\n",
       "      <th>No of stops</th>\n",
       "      <th>Rates</th>\n",
       "      <th>No of days in advanced booked</th>\n",
       "      <th>class</th>\n",
       "      <th>where to where</th>\n",
       "      <th>Route Value</th>\n",
       "      <th>Departure Time</th>\n",
       "      <th>Duration</th>\n",
       "    </tr>\n",
       "  </thead>\n",
       "  <tbody>\n",
       "    <tr>\n",
       "      <th>0</th>\n",
       "      <td>Air Asia</td>\n",
       "      <td>1 Stop</td>\n",
       "      <td>5,953</td>\n",
       "      <td>1</td>\n",
       "      <td>Economy</td>\n",
       "      <td>Delhi - Mumbai</td>\n",
       "      <td>3</td>\n",
       "      <td>8.00</td>\n",
       "      <td>6.58</td>\n",
       "    </tr>\n",
       "    <tr>\n",
       "      <th>1</th>\n",
       "      <td>Air Asia</td>\n",
       "      <td>1 Stop</td>\n",
       "      <td>5,953</td>\n",
       "      <td>1</td>\n",
       "      <td>Economy</td>\n",
       "      <td>Delhi - Mumbai</td>\n",
       "      <td>3</td>\n",
       "      <td>9.42</td>\n",
       "      <td>6.58</td>\n",
       "    </tr>\n",
       "    <tr>\n",
       "      <th>2</th>\n",
       "      <td>Air Asia</td>\n",
       "      <td>1 Stop</td>\n",
       "      <td>5,953</td>\n",
       "      <td>1</td>\n",
       "      <td>Economy</td>\n",
       "      <td>Delhi - Mumbai</td>\n",
       "      <td>3</td>\n",
       "      <td>12.67</td>\n",
       "      <td>7.58</td>\n",
       "    </tr>\n",
       "    <tr>\n",
       "      <th>3</th>\n",
       "      <td>Air Asia</td>\n",
       "      <td>1 Stop</td>\n",
       "      <td>5,953</td>\n",
       "      <td>1</td>\n",
       "      <td>Economy</td>\n",
       "      <td>Delhi - Mumbai</td>\n",
       "      <td>3</td>\n",
       "      <td>11.92</td>\n",
       "      <td>8.33</td>\n",
       "    </tr>\n",
       "    <tr>\n",
       "      <th>4</th>\n",
       "      <td>Air Asia</td>\n",
       "      <td>1 Stop</td>\n",
       "      <td>5,953</td>\n",
       "      <td>1</td>\n",
       "      <td>Economy</td>\n",
       "      <td>Delhi - Mumbai</td>\n",
       "      <td>3</td>\n",
       "      <td>8.00</td>\n",
       "      <td>8.58</td>\n",
       "    </tr>\n",
       "    <tr>\n",
       "      <th>5</th>\n",
       "      <td>Air Asia</td>\n",
       "      <td>1 Stop</td>\n",
       "      <td>5,953</td>\n",
       "      <td>1</td>\n",
       "      <td>Economy</td>\n",
       "      <td>Delhi - Mumbai</td>\n",
       "      <td>3</td>\n",
       "      <td>18.67</td>\n",
       "      <td>11.67</td>\n",
       "    </tr>\n",
       "    <tr>\n",
       "      <th>6</th>\n",
       "      <td>Air Asia</td>\n",
       "      <td>1 Stop</td>\n",
       "      <td>5,953</td>\n",
       "      <td>1</td>\n",
       "      <td>Economy</td>\n",
       "      <td>Delhi - Mumbai</td>\n",
       "      <td>3</td>\n",
       "      <td>16.25</td>\n",
       "      <td>14.08</td>\n",
       "    </tr>\n",
       "    <tr>\n",
       "      <th>7</th>\n",
       "      <td>Air Asia</td>\n",
       "      <td>1 Stop</td>\n",
       "      <td>5,953</td>\n",
       "      <td>1</td>\n",
       "      <td>Economy</td>\n",
       "      <td>Delhi - Mumbai</td>\n",
       "      <td>3</td>\n",
       "      <td>8.58</td>\n",
       "      <td>16.08</td>\n",
       "    </tr>\n",
       "    <tr>\n",
       "      <th>8</th>\n",
       "      <td>Go First</td>\n",
       "      <td>Non Stop</td>\n",
       "      <td>5,954</td>\n",
       "      <td>1</td>\n",
       "      <td>Economy</td>\n",
       "      <td>Delhi - Mumbai</td>\n",
       "      <td>3</td>\n",
       "      <td>18.83</td>\n",
       "      <td>1.92</td>\n",
       "    </tr>\n",
       "    <tr>\n",
       "      <th>9</th>\n",
       "      <td>Go First</td>\n",
       "      <td>Non Stop</td>\n",
       "      <td>5,954</td>\n",
       "      <td>1</td>\n",
       "      <td>Economy</td>\n",
       "      <td>Delhi - Mumbai</td>\n",
       "      <td>3</td>\n",
       "      <td>9.08</td>\n",
       "      <td>2.00</td>\n",
       "    </tr>\n",
       "  </tbody>\n",
       "</table>\n",
       "</div>"
      ],
      "text/plain": [
       "  Company Name No of stops  Rates  No of days in advanced booked    class  \\\n",
       "0     Air Asia      1 Stop  5,953                              1  Economy   \n",
       "1     Air Asia      1 Stop  5,953                              1  Economy   \n",
       "2     Air Asia      1 Stop  5,953                              1  Economy   \n",
       "3     Air Asia      1 Stop  5,953                              1  Economy   \n",
       "4     Air Asia      1 Stop  5,953                              1  Economy   \n",
       "5     Air Asia      1 Stop  5,953                              1  Economy   \n",
       "6     Air Asia      1 Stop  5,953                              1  Economy   \n",
       "7     Air Asia      1 Stop  5,953                              1  Economy   \n",
       "8     Go First    Non Stop  5,954                              1  Economy   \n",
       "9     Go First    Non Stop  5,954                              1  Economy   \n",
       "\n",
       "   where to where  Route Value  Departure Time  Duration  \n",
       "0  Delhi - Mumbai            3            8.00      6.58  \n",
       "1  Delhi - Mumbai            3            9.42      6.58  \n",
       "2  Delhi - Mumbai            3           12.67      7.58  \n",
       "3  Delhi - Mumbai            3           11.92      8.33  \n",
       "4  Delhi - Mumbai            3            8.00      8.58  \n",
       "5  Delhi - Mumbai            3           18.67     11.67  \n",
       "6  Delhi - Mumbai            3           16.25     14.08  \n",
       "7  Delhi - Mumbai            3            8.58     16.08  \n",
       "8  Delhi - Mumbai            3           18.83      1.92  \n",
       "9  Delhi - Mumbai            3            9.08      2.00  "
      ]
     },
     "execution_count": 57,
     "metadata": {},
     "output_type": "execute_result"
    }
   ],
   "source": [
    "df1.head(10)"
   ]
  },
  {
   "cell_type": "code",
   "execution_count": 50,
   "id": "b22ba13f",
   "metadata": {},
   "outputs": [
    {
     "data": {
      "text/plain": [
       "(1587, 9)"
      ]
     },
     "execution_count": 50,
     "metadata": {},
     "output_type": "execute_result"
    }
   ],
   "source": [
    "df1.shape"
   ]
  },
  {
   "cell_type": "code",
   "execution_count": 58,
   "id": "fb15ffa1",
   "metadata": {},
   "outputs": [
    {
     "data": {
      "text/plain": [
       "1 Stop       837\n",
       "Non Stop     643\n",
       "2 Stop(s)     87\n",
       "3 Stop(s)     20\n",
       "Name: No of stops, dtype: int64"
      ]
     },
     "execution_count": 58,
     "metadata": {},
     "output_type": "execute_result"
    }
   ],
   "source": [
    "df1['No of stops'].value_counts()"
   ]
  },
  {
   "cell_type": "code",
   "execution_count": 59,
   "id": "fdc4d5c2",
   "metadata": {},
   "outputs": [],
   "source": [
    "df1['No of stops'].replace(['1 Stop','Non Stop','2 Stop(s)','3 Stop(s)'],[1,0,2,3],inplace=True)"
   ]
  },
  {
   "cell_type": "code",
   "execution_count": 60,
   "id": "38c3dc87",
   "metadata": {},
   "outputs": [
    {
     "data": {
      "text/plain": [
       "1    837\n",
       "0    643\n",
       "2     87\n",
       "3     20\n",
       "Name: No of stops, dtype: int64"
      ]
     },
     "execution_count": 60,
     "metadata": {},
     "output_type": "execute_result"
    }
   ],
   "source": [
    "df1['No of stops'].value_counts()"
   ]
  },
  {
   "cell_type": "code",
   "execution_count": 74,
   "id": "9fae8e7b",
   "metadata": {},
   "outputs": [],
   "source": [
    "price=[]\n",
    "for i in df1['Rates']:\n",
    "    k=[]\n",
    "    k1=[]\n",
    "    for j in i:\n",
    "        if j !=',':\n",
    "            k.append(j)\n",
    "    k1=''.join(k)\n",
    "    k2=int(k1)\n",
    "    price.append(k2)"
   ]
  },
  {
   "cell_type": "code",
   "execution_count": 79,
   "id": "19f3896f",
   "metadata": {},
   "outputs": [
    {
     "data": {
      "text/plain": [
       "1587"
      ]
     },
     "execution_count": 79,
     "metadata": {},
     "output_type": "execute_result"
    }
   ],
   "source": [
    "len(price)"
   ]
  },
  {
   "cell_type": "code",
   "execution_count": 80,
   "id": "c44d1153",
   "metadata": {},
   "outputs": [],
   "source": [
    "df1.drop('Rates',axis=1,inplace=True)"
   ]
  },
  {
   "cell_type": "code",
   "execution_count": 81,
   "id": "665196dd",
   "metadata": {},
   "outputs": [],
   "source": [
    "df1['Price']=price"
   ]
  },
  {
   "cell_type": "code",
   "execution_count": 82,
   "id": "944daf08",
   "metadata": {},
   "outputs": [
    {
     "data": {
      "text/html": [
       "<div>\n",
       "<style scoped>\n",
       "    .dataframe tbody tr th:only-of-type {\n",
       "        vertical-align: middle;\n",
       "    }\n",
       "\n",
       "    .dataframe tbody tr th {\n",
       "        vertical-align: top;\n",
       "    }\n",
       "\n",
       "    .dataframe thead th {\n",
       "        text-align: right;\n",
       "    }\n",
       "</style>\n",
       "<table border=\"1\" class=\"dataframe\">\n",
       "  <thead>\n",
       "    <tr style=\"text-align: right;\">\n",
       "      <th></th>\n",
       "      <th>Company Name</th>\n",
       "      <th>No of stops</th>\n",
       "      <th>No of days in advanced booked</th>\n",
       "      <th>class</th>\n",
       "      <th>where to where</th>\n",
       "      <th>Route Value</th>\n",
       "      <th>Departure Time</th>\n",
       "      <th>Duration</th>\n",
       "      <th>Price</th>\n",
       "    </tr>\n",
       "  </thead>\n",
       "  <tbody>\n",
       "    <tr>\n",
       "      <th>0</th>\n",
       "      <td>Air Asia</td>\n",
       "      <td>1</td>\n",
       "      <td>1</td>\n",
       "      <td>Economy</td>\n",
       "      <td>Delhi - Mumbai</td>\n",
       "      <td>3</td>\n",
       "      <td>8.00</td>\n",
       "      <td>6.58</td>\n",
       "      <td>5953</td>\n",
       "    </tr>\n",
       "    <tr>\n",
       "      <th>1</th>\n",
       "      <td>Air Asia</td>\n",
       "      <td>1</td>\n",
       "      <td>1</td>\n",
       "      <td>Economy</td>\n",
       "      <td>Delhi - Mumbai</td>\n",
       "      <td>3</td>\n",
       "      <td>9.42</td>\n",
       "      <td>6.58</td>\n",
       "      <td>5953</td>\n",
       "    </tr>\n",
       "    <tr>\n",
       "      <th>2</th>\n",
       "      <td>Air Asia</td>\n",
       "      <td>1</td>\n",
       "      <td>1</td>\n",
       "      <td>Economy</td>\n",
       "      <td>Delhi - Mumbai</td>\n",
       "      <td>3</td>\n",
       "      <td>12.67</td>\n",
       "      <td>7.58</td>\n",
       "      <td>5953</td>\n",
       "    </tr>\n",
       "    <tr>\n",
       "      <th>3</th>\n",
       "      <td>Air Asia</td>\n",
       "      <td>1</td>\n",
       "      <td>1</td>\n",
       "      <td>Economy</td>\n",
       "      <td>Delhi - Mumbai</td>\n",
       "      <td>3</td>\n",
       "      <td>11.92</td>\n",
       "      <td>8.33</td>\n",
       "      <td>5953</td>\n",
       "    </tr>\n",
       "    <tr>\n",
       "      <th>4</th>\n",
       "      <td>Air Asia</td>\n",
       "      <td>1</td>\n",
       "      <td>1</td>\n",
       "      <td>Economy</td>\n",
       "      <td>Delhi - Mumbai</td>\n",
       "      <td>3</td>\n",
       "      <td>8.00</td>\n",
       "      <td>8.58</td>\n",
       "      <td>5953</td>\n",
       "    </tr>\n",
       "  </tbody>\n",
       "</table>\n",
       "</div>"
      ],
      "text/plain": [
       "  Company Name  No of stops  No of days in advanced booked    class  \\\n",
       "0     Air Asia            1                              1  Economy   \n",
       "1     Air Asia            1                              1  Economy   \n",
       "2     Air Asia            1                              1  Economy   \n",
       "3     Air Asia            1                              1  Economy   \n",
       "4     Air Asia            1                              1  Economy   \n",
       "\n",
       "   where to where  Route Value  Departure Time  Duration  Price  \n",
       "0  Delhi - Mumbai            3            8.00      6.58   5953  \n",
       "1  Delhi - Mumbai            3            9.42      6.58   5953  \n",
       "2  Delhi - Mumbai            3           12.67      7.58   5953  \n",
       "3  Delhi - Mumbai            3           11.92      8.33   5953  \n",
       "4  Delhi - Mumbai            3            8.00      8.58   5953  "
      ]
     },
     "execution_count": 82,
     "metadata": {},
     "output_type": "execute_result"
    }
   ],
   "source": [
    "df1.head()"
   ]
  },
  {
   "cell_type": "code",
   "execution_count": 83,
   "id": "dc0ab9f8",
   "metadata": {},
   "outputs": [
    {
     "data": {
      "text/plain": [
       "Company Name                      object\n",
       "No of stops                        int64\n",
       "No of days in advanced booked      int64\n",
       "class                             object\n",
       "where to where                    object\n",
       "Route Value                        int64\n",
       "Departure Time                   float64\n",
       "Duration                         float64\n",
       "Price                              int64\n",
       "dtype: object"
      ]
     },
     "execution_count": 83,
     "metadata": {},
     "output_type": "execute_result"
    }
   ],
   "source": [
    "df1.dtypes"
   ]
  },
  {
   "cell_type": "code",
   "execution_count": 84,
   "id": "825c80c9",
   "metadata": {},
   "outputs": [],
   "source": [
    "# extracting the dataset for tableau analysis\n",
    "df1.to_csv('flight_tableau.csv')"
   ]
  },
  {
   "cell_type": "code",
   "execution_count": 85,
   "id": "a7a52773",
   "metadata": {},
   "outputs": [
    {
     "data": {
      "text/plain": [
       "Delhi - Mumbai        288\n",
       "Delhi - Bengaluru     268\n",
       "Delhi - Kolkata       258\n",
       "Delhi - Hyderabad     258\n",
       "Mumbai - Bengaluru    250\n",
       "Delhi - Chennai       215\n",
       "Mubai - Bengaluru      50\n",
       "Name: where to where, dtype: int64"
      ]
     },
     "execution_count": 85,
     "metadata": {},
     "output_type": "execute_result"
    }
   ],
   "source": [
    "df1['where to where'].value_counts()"
   ]
  },
  {
   "cell_type": "code",
   "execution_count": 86,
   "id": "5b226a5b",
   "metadata": {},
   "outputs": [],
   "source": [
    "df1['where to where'].replace('Mubai - Bengaluru','Mumbai - Bengaluru',inplace=True)"
   ]
  },
  {
   "cell_type": "code",
   "execution_count": 87,
   "id": "7daa0e9c",
   "metadata": {},
   "outputs": [
    {
     "data": {
      "text/plain": [
       "Mumbai - Bengaluru    300\n",
       "Delhi - Mumbai        288\n",
       "Delhi - Bengaluru     268\n",
       "Delhi - Kolkata       258\n",
       "Delhi - Hyderabad     258\n",
       "Delhi - Chennai       215\n",
       "Name: where to where, dtype: int64"
      ]
     },
     "execution_count": 87,
     "metadata": {},
     "output_type": "execute_result"
    }
   ],
   "source": [
    "df1['where to where'].value_counts()"
   ]
  },
  {
   "cell_type": "code",
   "execution_count": 88,
   "id": "d3b9141e",
   "metadata": {},
   "outputs": [],
   "source": [
    "dist_list=[]\n",
    "for i in df1['where to where']:\n",
    "    if i =='Delhi - Mumbai':\n",
    "        dist_list.append(1148)\n",
    "    elif i =='Delhi - Bengaluru':\n",
    "        dist_list.append(1740)\n",
    "    elif i == 'Delhi - Kolkata':\n",
    "        dist_list.append(1304)\n",
    "    elif i =='Delhi - Hyderabad':\n",
    "        dist_list.append(1253)\n",
    "    elif i =='Delhi - Chennai':\n",
    "        dist_list.append(1757)\n",
    "    elif i =='Mumbai - Bengaluru':\n",
    "        dist_list.append(842)"
   ]
  },
  {
   "cell_type": "code",
   "execution_count": 90,
   "id": "248146b5",
   "metadata": {},
   "outputs": [],
   "source": [
    "df1['distance in km']=dist_list"
   ]
  },
  {
   "cell_type": "code",
   "execution_count": 91,
   "id": "6023b7d3",
   "metadata": {},
   "outputs": [
    {
     "data": {
      "text/html": [
       "<div>\n",
       "<style scoped>\n",
       "    .dataframe tbody tr th:only-of-type {\n",
       "        vertical-align: middle;\n",
       "    }\n",
       "\n",
       "    .dataframe tbody tr th {\n",
       "        vertical-align: top;\n",
       "    }\n",
       "\n",
       "    .dataframe thead th {\n",
       "        text-align: right;\n",
       "    }\n",
       "</style>\n",
       "<table border=\"1\" class=\"dataframe\">\n",
       "  <thead>\n",
       "    <tr style=\"text-align: right;\">\n",
       "      <th></th>\n",
       "      <th>Company Name</th>\n",
       "      <th>No of stops</th>\n",
       "      <th>No of days in advanced booked</th>\n",
       "      <th>class</th>\n",
       "      <th>where to where</th>\n",
       "      <th>Route Value</th>\n",
       "      <th>Departure Time</th>\n",
       "      <th>Duration</th>\n",
       "      <th>Price</th>\n",
       "      <th>distance in km</th>\n",
       "    </tr>\n",
       "  </thead>\n",
       "  <tbody>\n",
       "    <tr>\n",
       "      <th>0</th>\n",
       "      <td>Air Asia</td>\n",
       "      <td>1</td>\n",
       "      <td>1</td>\n",
       "      <td>Economy</td>\n",
       "      <td>Delhi - Mumbai</td>\n",
       "      <td>3</td>\n",
       "      <td>8.00</td>\n",
       "      <td>6.58</td>\n",
       "      <td>5953</td>\n",
       "      <td>1148</td>\n",
       "    </tr>\n",
       "    <tr>\n",
       "      <th>1</th>\n",
       "      <td>Air Asia</td>\n",
       "      <td>1</td>\n",
       "      <td>1</td>\n",
       "      <td>Economy</td>\n",
       "      <td>Delhi - Mumbai</td>\n",
       "      <td>3</td>\n",
       "      <td>9.42</td>\n",
       "      <td>6.58</td>\n",
       "      <td>5953</td>\n",
       "      <td>1148</td>\n",
       "    </tr>\n",
       "    <tr>\n",
       "      <th>2</th>\n",
       "      <td>Air Asia</td>\n",
       "      <td>1</td>\n",
       "      <td>1</td>\n",
       "      <td>Economy</td>\n",
       "      <td>Delhi - Mumbai</td>\n",
       "      <td>3</td>\n",
       "      <td>12.67</td>\n",
       "      <td>7.58</td>\n",
       "      <td>5953</td>\n",
       "      <td>1148</td>\n",
       "    </tr>\n",
       "    <tr>\n",
       "      <th>3</th>\n",
       "      <td>Air Asia</td>\n",
       "      <td>1</td>\n",
       "      <td>1</td>\n",
       "      <td>Economy</td>\n",
       "      <td>Delhi - Mumbai</td>\n",
       "      <td>3</td>\n",
       "      <td>11.92</td>\n",
       "      <td>8.33</td>\n",
       "      <td>5953</td>\n",
       "      <td>1148</td>\n",
       "    </tr>\n",
       "    <tr>\n",
       "      <th>4</th>\n",
       "      <td>Air Asia</td>\n",
       "      <td>1</td>\n",
       "      <td>1</td>\n",
       "      <td>Economy</td>\n",
       "      <td>Delhi - Mumbai</td>\n",
       "      <td>3</td>\n",
       "      <td>8.00</td>\n",
       "      <td>8.58</td>\n",
       "      <td>5953</td>\n",
       "      <td>1148</td>\n",
       "    </tr>\n",
       "  </tbody>\n",
       "</table>\n",
       "</div>"
      ],
      "text/plain": [
       "  Company Name  No of stops  No of days in advanced booked    class  \\\n",
       "0     Air Asia            1                              1  Economy   \n",
       "1     Air Asia            1                              1  Economy   \n",
       "2     Air Asia            1                              1  Economy   \n",
       "3     Air Asia            1                              1  Economy   \n",
       "4     Air Asia            1                              1  Economy   \n",
       "\n",
       "   where to where  Route Value  Departure Time  Duration  Price  \\\n",
       "0  Delhi - Mumbai            3            8.00      6.58   5953   \n",
       "1  Delhi - Mumbai            3            9.42      6.58   5953   \n",
       "2  Delhi - Mumbai            3           12.67      7.58   5953   \n",
       "3  Delhi - Mumbai            3           11.92      8.33   5953   \n",
       "4  Delhi - Mumbai            3            8.00      8.58   5953   \n",
       "\n",
       "   distance in km  \n",
       "0            1148  \n",
       "1            1148  \n",
       "2            1148  \n",
       "3            1148  \n",
       "4            1148  "
      ]
     },
     "execution_count": 91,
     "metadata": {},
     "output_type": "execute_result"
    }
   ],
   "source": [
    "df1.head()"
   ]
  },
  {
   "cell_type": "code",
   "execution_count": 92,
   "id": "c585df2e",
   "metadata": {},
   "outputs": [],
   "source": [
    "df1.to_csv('flight_tableau.csv')"
   ]
  }
 ],
 "metadata": {
  "kernelspec": {
   "display_name": "Python 3",
   "language": "python",
   "name": "python3"
  },
  "language_info": {
   "codemirror_mode": {
    "name": "ipython",
    "version": 3
   },
   "file_extension": ".py",
   "mimetype": "text/x-python",
   "name": "python",
   "nbconvert_exporter": "python",
   "pygments_lexer": "ipython3",
   "version": "3.8.8"
  }
 },
 "nbformat": 4,
 "nbformat_minor": 5
}
