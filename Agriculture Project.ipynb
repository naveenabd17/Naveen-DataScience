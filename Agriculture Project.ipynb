{
 "cells": [
  {
   "cell_type": "markdown",
   "id": "c5ce9e96",
   "metadata": {},
   "source": [
    "# Introduction on Project"
   ]
  },
  {
   "cell_type": "code",
   "execution_count": null,
   "id": "154fa131",
   "metadata": {},
   "outputs": [],
   "source": []
  },
  {
   "cell_type": "code",
   "execution_count": null,
   "id": "06fdd9dc",
   "metadata": {},
   "outputs": [],
   "source": []
  },
  {
   "cell_type": "code",
   "execution_count": null,
   "id": "cd622f3c",
   "metadata": {},
   "outputs": [],
   "source": []
  },
  {
   "cell_type": "code",
   "execution_count": null,
   "id": "aafbc05d",
   "metadata": {},
   "outputs": [],
   "source": []
  },
  {
   "cell_type": "markdown",
   "id": "9a9941a2",
   "metadata": {},
   "source": [
    "# Importing the required libraries"
   ]
  },
  {
   "cell_type": "code",
   "execution_count": 1,
   "id": "58e4a7d2",
   "metadata": {},
   "outputs": [],
   "source": [
    "import sklearn\n",
    "import pandas as pd\n",
    "import numpy as np\n",
    "import matplotlib.pyplot as plt\n",
    "import seaborn as sns\n",
    "from sklearn.linear_model import LogisticRegression\n",
    "from sklearn.model_selection import train_test_split\n",
    "from sklearn.metrics import accuracy_score,confusion_matrix,classification_report\n",
    "from sklearn.naive_bayes import GaussianNB\n",
    "from sklearn.svm import SVC\n",
    "from sklearn.tree import DecisionTreeClassifier\n",
    "from sklearn.neighbors import KNeighborsClassifier\n",
    "from sklearn.ensemble import RandomForestClassifier\n",
    "from sklearn.ensemble import AdaBoostClassifier\n",
    "from sklearn.model_selection import cross_val_score\n",
    "from sklearn.model_selection import GridSearchCV\n",
    "from sklearn.svm import LinearSVC\n",
    "from scipy import stats\n",
    "import warnings\n",
    "warnings.filterwarnings('ignore')"
   ]
  },
  {
   "cell_type": "markdown",
   "id": "3826c83a",
   "metadata": {},
   "source": [
    "# Importing the dataset"
   ]
  },
  {
   "cell_type": "code",
   "execution_count": 2,
   "id": "4d7dd94c",
   "metadata": {},
   "outputs": [],
   "source": [
    "df=pd.read_csv('agriculture_training_data.csv')\n",
    "dft=pd.read_csv('agriculture_test_data.csv')"
   ]
  },
  {
   "cell_type": "code",
   "execution_count": 3,
   "id": "5ef613ab",
   "metadata": {},
   "outputs": [],
   "source": [
    "pd.set_option('display.max_columns',None)"
   ]
  },
  {
   "cell_type": "code",
   "execution_count": 4,
   "id": "e94cdaac",
   "metadata": {},
   "outputs": [
    {
     "data": {
      "text/html": [
       "<div>\n",
       "<style scoped>\n",
       "    .dataframe tbody tr th:only-of-type {\n",
       "        vertical-align: middle;\n",
       "    }\n",
       "\n",
       "    .dataframe tbody tr th {\n",
       "        vertical-align: top;\n",
       "    }\n",
       "\n",
       "    .dataframe thead th {\n",
       "        text-align: right;\n",
       "    }\n",
       "</style>\n",
       "<table border=\"1\" class=\"dataframe\">\n",
       "  <thead>\n",
       "    <tr style=\"text-align: right;\">\n",
       "      <th></th>\n",
       "      <th>ID</th>\n",
       "      <th>Estimated_Insects_Count</th>\n",
       "      <th>Crop_Type</th>\n",
       "      <th>Soil_Type</th>\n",
       "      <th>Pesticide_Use_Category</th>\n",
       "      <th>Number_Doses_Week</th>\n",
       "      <th>Number_Weeks_Used</th>\n",
       "      <th>Number_Weeks_Quit</th>\n",
       "      <th>Season</th>\n",
       "      <th>Crop_Damage</th>\n",
       "    </tr>\n",
       "  </thead>\n",
       "  <tbody>\n",
       "    <tr>\n",
       "      <th>0</th>\n",
       "      <td>F00000001</td>\n",
       "      <td>188</td>\n",
       "      <td>1</td>\n",
       "      <td>0</td>\n",
       "      <td>1</td>\n",
       "      <td>0</td>\n",
       "      <td>0.0</td>\n",
       "      <td>0</td>\n",
       "      <td>1</td>\n",
       "      <td>0</td>\n",
       "    </tr>\n",
       "    <tr>\n",
       "      <th>1</th>\n",
       "      <td>F00000003</td>\n",
       "      <td>209</td>\n",
       "      <td>1</td>\n",
       "      <td>0</td>\n",
       "      <td>1</td>\n",
       "      <td>0</td>\n",
       "      <td>0.0</td>\n",
       "      <td>0</td>\n",
       "      <td>2</td>\n",
       "      <td>1</td>\n",
       "    </tr>\n",
       "    <tr>\n",
       "      <th>2</th>\n",
       "      <td>F00000004</td>\n",
       "      <td>257</td>\n",
       "      <td>1</td>\n",
       "      <td>0</td>\n",
       "      <td>1</td>\n",
       "      <td>0</td>\n",
       "      <td>0.0</td>\n",
       "      <td>0</td>\n",
       "      <td>2</td>\n",
       "      <td>1</td>\n",
       "    </tr>\n",
       "    <tr>\n",
       "      <th>3</th>\n",
       "      <td>F00000005</td>\n",
       "      <td>257</td>\n",
       "      <td>1</td>\n",
       "      <td>1</td>\n",
       "      <td>1</td>\n",
       "      <td>0</td>\n",
       "      <td>0.0</td>\n",
       "      <td>0</td>\n",
       "      <td>2</td>\n",
       "      <td>1</td>\n",
       "    </tr>\n",
       "    <tr>\n",
       "      <th>4</th>\n",
       "      <td>F00000006</td>\n",
       "      <td>342</td>\n",
       "      <td>1</td>\n",
       "      <td>0</td>\n",
       "      <td>1</td>\n",
       "      <td>0</td>\n",
       "      <td>0.0</td>\n",
       "      <td>0</td>\n",
       "      <td>2</td>\n",
       "      <td>1</td>\n",
       "    </tr>\n",
       "  </tbody>\n",
       "</table>\n",
       "</div>"
      ],
      "text/plain": [
       "          ID  Estimated_Insects_Count  Crop_Type  Soil_Type  \\\n",
       "0  F00000001                      188          1          0   \n",
       "1  F00000003                      209          1          0   \n",
       "2  F00000004                      257          1          0   \n",
       "3  F00000005                      257          1          1   \n",
       "4  F00000006                      342          1          0   \n",
       "\n",
       "   Pesticide_Use_Category  Number_Doses_Week  Number_Weeks_Used  \\\n",
       "0                       1                  0                0.0   \n",
       "1                       1                  0                0.0   \n",
       "2                       1                  0                0.0   \n",
       "3                       1                  0                0.0   \n",
       "4                       1                  0                0.0   \n",
       "\n",
       "   Number_Weeks_Quit  Season  Crop_Damage  \n",
       "0                  0       1            0  \n",
       "1                  0       2            1  \n",
       "2                  0       2            1  \n",
       "3                  0       2            1  \n",
       "4                  0       2            1  "
      ]
     },
     "execution_count": 4,
     "metadata": {},
     "output_type": "execute_result"
    }
   ],
   "source": [
    "df.head()"
   ]
  },
  {
   "cell_type": "code",
   "execution_count": 5,
   "id": "950c6d15",
   "metadata": {},
   "outputs": [
    {
     "data": {
      "text/html": [
       "<div>\n",
       "<style scoped>\n",
       "    .dataframe tbody tr th:only-of-type {\n",
       "        vertical-align: middle;\n",
       "    }\n",
       "\n",
       "    .dataframe tbody tr th {\n",
       "        vertical-align: top;\n",
       "    }\n",
       "\n",
       "    .dataframe thead th {\n",
       "        text-align: right;\n",
       "    }\n",
       "</style>\n",
       "<table border=\"1\" class=\"dataframe\">\n",
       "  <thead>\n",
       "    <tr style=\"text-align: right;\">\n",
       "      <th></th>\n",
       "      <th>ID</th>\n",
       "      <th>Estimated_Insects_Count</th>\n",
       "      <th>Crop_Type</th>\n",
       "      <th>Soil_Type</th>\n",
       "      <th>Pesticide_Use_Category</th>\n",
       "      <th>Number_Doses_Week</th>\n",
       "      <th>Number_Weeks_Used</th>\n",
       "      <th>Number_Weeks_Quit</th>\n",
       "      <th>Season</th>\n",
       "    </tr>\n",
       "  </thead>\n",
       "  <tbody>\n",
       "    <tr>\n",
       "      <th>0</th>\n",
       "      <td>F00000002</td>\n",
       "      <td>188</td>\n",
       "      <td>1</td>\n",
       "      <td>1</td>\n",
       "      <td>1</td>\n",
       "      <td>0</td>\n",
       "      <td>NaN</td>\n",
       "      <td>0</td>\n",
       "      <td>2</td>\n",
       "    </tr>\n",
       "    <tr>\n",
       "      <th>1</th>\n",
       "      <td>F00000007</td>\n",
       "      <td>410</td>\n",
       "      <td>1</td>\n",
       "      <td>1</td>\n",
       "      <td>1</td>\n",
       "      <td>0</td>\n",
       "      <td>0.0</td>\n",
       "      <td>0</td>\n",
       "      <td>2</td>\n",
       "    </tr>\n",
       "    <tr>\n",
       "      <th>2</th>\n",
       "      <td>F00000011</td>\n",
       "      <td>626</td>\n",
       "      <td>1</td>\n",
       "      <td>0</td>\n",
       "      <td>1</td>\n",
       "      <td>0</td>\n",
       "      <td>0.0</td>\n",
       "      <td>0</td>\n",
       "      <td>2</td>\n",
       "    </tr>\n",
       "    <tr>\n",
       "      <th>3</th>\n",
       "      <td>F00000013</td>\n",
       "      <td>731</td>\n",
       "      <td>1</td>\n",
       "      <td>0</td>\n",
       "      <td>1</td>\n",
       "      <td>0</td>\n",
       "      <td>0.0</td>\n",
       "      <td>0</td>\n",
       "      <td>2</td>\n",
       "    </tr>\n",
       "    <tr>\n",
       "      <th>4</th>\n",
       "      <td>F00000014</td>\n",
       "      <td>789</td>\n",
       "      <td>0</td>\n",
       "      <td>0</td>\n",
       "      <td>1</td>\n",
       "      <td>0</td>\n",
       "      <td>0.0</td>\n",
       "      <td>0</td>\n",
       "      <td>1</td>\n",
       "    </tr>\n",
       "  </tbody>\n",
       "</table>\n",
       "</div>"
      ],
      "text/plain": [
       "          ID  Estimated_Insects_Count  Crop_Type  Soil_Type  \\\n",
       "0  F00000002                      188          1          1   \n",
       "1  F00000007                      410          1          1   \n",
       "2  F00000011                      626          1          0   \n",
       "3  F00000013                      731          1          0   \n",
       "4  F00000014                      789          0          0   \n",
       "\n",
       "   Pesticide_Use_Category  Number_Doses_Week  Number_Weeks_Used  \\\n",
       "0                       1                  0                NaN   \n",
       "1                       1                  0                0.0   \n",
       "2                       1                  0                0.0   \n",
       "3                       1                  0                0.0   \n",
       "4                       1                  0                0.0   \n",
       "\n",
       "   Number_Weeks_Quit  Season  \n",
       "0                  0       2  \n",
       "1                  0       2  \n",
       "2                  0       2  \n",
       "3                  0       2  \n",
       "4                  0       1  "
      ]
     },
     "execution_count": 5,
     "metadata": {},
     "output_type": "execute_result"
    }
   ],
   "source": [
    "dft.head()"
   ]
  },
  {
   "cell_type": "code",
   "execution_count": 6,
   "id": "af90805a",
   "metadata": {},
   "outputs": [
    {
     "data": {
      "text/plain": [
       "(4599, 10)"
      ]
     },
     "execution_count": 6,
     "metadata": {},
     "output_type": "execute_result"
    }
   ],
   "source": [
    "df.shape"
   ]
  },
  {
   "cell_type": "code",
   "execution_count": 7,
   "id": "1523835d",
   "metadata": {},
   "outputs": [
    {
     "data": {
      "text/plain": [
       "(1199, 9)"
      ]
     },
     "execution_count": 7,
     "metadata": {},
     "output_type": "execute_result"
    }
   ],
   "source": [
    "dft.shape"
   ]
  },
  {
   "cell_type": "code",
   "execution_count": 8,
   "id": "6575a698",
   "metadata": {},
   "outputs": [
    {
     "data": {
      "text/plain": [
       "ID                           0\n",
       "Estimated_Insects_Count      0\n",
       "Crop_Type                    0\n",
       "Soil_Type                    0\n",
       "Pesticide_Use_Category       0\n",
       "Number_Doses_Week            0\n",
       "Number_Weeks_Used          442\n",
       "Number_Weeks_Quit            0\n",
       "Season                       0\n",
       "Crop_Damage                  0\n",
       "dtype: int64"
      ]
     },
     "execution_count": 8,
     "metadata": {},
     "output_type": "execute_result"
    }
   ],
   "source": [
    "df.isnull().sum()"
   ]
  },
  {
   "cell_type": "code",
   "execution_count": 9,
   "id": "5a99dfcc",
   "metadata": {},
   "outputs": [
    {
     "data": {
      "text/plain": [
       "<AxesSubplot:xlabel='Number_Weeks_Used', ylabel='Density'>"
      ]
     },
     "execution_count": 9,
     "metadata": {},
     "output_type": "execute_result"
    },
    {
     "data": {
      "image/png": "[encoded data removed]",
      "text/plain": [
       "<Figure size 432x288 with 1 Axes>"
      ]
     },
     "metadata": {
      "needs_background": "light"
     },
     "output_type": "display_data"
    }
   ],
   "source": [
    "sns.distplot(df['Number_Weeks_Used'])"
   ]
  },
  {
   "cell_type": "code",
   "execution_count": 10,
   "id": "29528bc6",
   "metadata": {},
   "outputs": [
    {
     "data": {
      "text/plain": [
       "<AxesSubplot:xlabel='Number_Weeks_Used'>"
      ]
     },
     "execution_count": 10,
     "metadata": {},
     "output_type": "execute_result"
    },
    {
     "data": {
      "image/png": "[encoded data removed]",
      "text/plain": [
       "<Figure size 432x288 with 1 Axes>"
      ]
     },
     "metadata": {
      "needs_background": "light"
     },
     "output_type": "display_data"
    }
   ],
   "source": [
    "sns.boxplot(df['Number_Weeks_Used'])"
   ]
  },
  {
   "cell_type": "code",
   "execution_count": 15,
   "id": "4f805389",
   "metadata": {},
   "outputs": [],
   "source": [
    "df.drop('ID',axis=1,inplace=True)\n",
    "dft.drop('ID',axis=1,inplace=True)"
   ]
  },
  {
   "cell_type": "code",
   "execution_count": 16,
   "id": "9bc7745e",
   "metadata": {},
   "outputs": [],
   "source": [
    "#filling the missing values\n",
    "from sklearn.impute import KNNImputer  \n",
    "# create an object for KNNImputer\n",
    "imputer = KNNImputer(n_neighbors=2)\n",
    "df1 = imputer.fit_transform(df)"
   ]
  },
  {
   "cell_type": "code",
   "execution_count": 21,
   "id": "9fb285bb",
   "metadata": {},
   "outputs": [],
   "source": [
    "df1 = pd.DataFrame(df1, columns = ['Estimated_Insects_Count', 'Crop_Type', 'Soil_Type',\n",
    "       'Pesticide_Use_Category', 'Number_Doses_Week', 'Number_Weeks_Used',\n",
    "       'Number_Weeks_Quit', 'Season', 'Crop_Damage'])"
   ]
  },
  {
   "cell_type": "code",
   "execution_count": 22,
   "id": "fcbc49af",
   "metadata": {},
   "outputs": [
    {
     "data": {
      "text/html": [
       "<div>\n",
       "<style scoped>\n",
       "    .dataframe tbody tr th:only-of-type {\n",
       "        vertical-align: middle;\n",
       "    }\n",
       "\n",
       "    .dataframe tbody tr th {\n",
       "        vertical-align: top;\n",
       "    }\n",
       "\n",
       "    .dataframe thead th {\n",
       "        text-align: right;\n",
       "    }\n",
       "</style>\n",
       "<table border=\"1\" class=\"dataframe\">\n",
       "  <thead>\n",
       "    <tr style=\"text-align: right;\">\n",
       "      <th></th>\n",
       "      <th>Estimated_Insects_Count</th>\n",
       "      <th>Crop_Type</th>\n",
       "      <th>Soil_Type</th>\n",
       "      <th>Pesticide_Use_Category</th>\n",
       "      <th>Number_Doses_Week</th>\n",
       "      <th>Number_Weeks_Used</th>\n",
       "      <th>Number_Weeks_Quit</th>\n",
       "      <th>Season</th>\n",
       "      <th>Crop_Damage</th>\n",
       "    </tr>\n",
       "  </thead>\n",
       "  <tbody>\n",
       "    <tr>\n",
       "      <th>0</th>\n",
       "      <td>188.0</td>\n",
       "      <td>1.0</td>\n",
       "      <td>0.0</td>\n",
       "      <td>1.0</td>\n",
       "      <td>0.0</td>\n",
       "      <td>0.0</td>\n",
       "      <td>0.0</td>\n",
       "      <td>1.0</td>\n",
       "      <td>0.0</td>\n",
       "    </tr>\n",
       "    <tr>\n",
       "      <th>1</th>\n",
       "      <td>209.0</td>\n",
       "      <td>1.0</td>\n",
       "      <td>0.0</td>\n",
       "      <td>1.0</td>\n",
       "      <td>0.0</td>\n",
       "      <td>0.0</td>\n",
       "      <td>0.0</td>\n",
       "      <td>2.0</td>\n",
       "      <td>1.0</td>\n",
       "    </tr>\n",
       "    <tr>\n",
       "      <th>2</th>\n",
       "      <td>257.0</td>\n",
       "      <td>1.0</td>\n",
       "      <td>0.0</td>\n",
       "      <td>1.0</td>\n",
       "      <td>0.0</td>\n",
       "      <td>0.0</td>\n",
       "      <td>0.0</td>\n",
       "      <td>2.0</td>\n",
       "      <td>1.0</td>\n",
       "    </tr>\n",
       "    <tr>\n",
       "      <th>3</th>\n",
       "      <td>257.0</td>\n",
       "      <td>1.0</td>\n",
       "      <td>1.0</td>\n",
       "      <td>1.0</td>\n",
       "      <td>0.0</td>\n",
       "      <td>0.0</td>\n",
       "      <td>0.0</td>\n",
       "      <td>2.0</td>\n",
       "      <td>1.0</td>\n",
       "    </tr>\n",
       "    <tr>\n",
       "      <th>4</th>\n",
       "      <td>342.0</td>\n",
       "      <td>1.0</td>\n",
       "      <td>0.0</td>\n",
       "      <td>1.0</td>\n",
       "      <td>0.0</td>\n",
       "      <td>0.0</td>\n",
       "      <td>0.0</td>\n",
       "      <td>2.0</td>\n",
       "      <td>1.0</td>\n",
       "    </tr>\n",
       "  </tbody>\n",
       "</table>\n",
       "</div>"
      ],
      "text/plain": [
       "   Estimated_Insects_Count  Crop_Type  Soil_Type  Pesticide_Use_Category  \\\n",
       "0                    188.0        1.0        0.0                     1.0   \n",
       "1                    209.0        1.0        0.0                     1.0   \n",
       "2                    257.0        1.0        0.0                     1.0   \n",
       "3                    257.0        1.0        1.0                     1.0   \n",
       "4                    342.0        1.0        0.0                     1.0   \n",
       "\n",
       "   Number_Doses_Week  Number_Weeks_Used  Number_Weeks_Quit  Season  \\\n",
       "0                0.0                0.0                0.0     1.0   \n",
       "1                0.0                0.0                0.0     2.0   \n",
       "2                0.0                0.0                0.0     2.0   \n",
       "3                0.0                0.0                0.0     2.0   \n",
       "4                0.0                0.0                0.0     2.0   \n",
       "\n",
       "   Crop_Damage  \n",
       "0          0.0  \n",
       "1          1.0  \n",
       "2          1.0  \n",
       "3          1.0  \n",
       "4          1.0  "
      ]
     },
     "execution_count": 22,
     "metadata": {},
     "output_type": "execute_result"
    }
   ],
   "source": [
    "df1.head()"
   ]
  },
  {
   "cell_type": "code",
   "execution_count": 23,
   "id": "571049e7",
   "metadata": {},
   "outputs": [
    {
     "data": {
      "text/plain": [
       "Estimated_Insects_Count    0\n",
       "Crop_Type                  0\n",
       "Soil_Type                  0\n",
       "Pesticide_Use_Category     0\n",
       "Number_Doses_Week          0\n",
       "Number_Weeks_Used          0\n",
       "Number_Weeks_Quit          0\n",
       "Season                     0\n",
       "Crop_Damage                0\n",
       "dtype: int64"
      ]
     },
     "execution_count": 23,
     "metadata": {},
     "output_type": "execute_result"
    }
   ],
   "source": [
    "df1.isnull().sum()"
   ]
  },
  {
   "cell_type": "code",
   "execution_count": 24,
   "id": "62a33e3c",
   "metadata": {},
   "outputs": [
    {
     "data": {
      "text/plain": [
       "Estimated_Insects_Count      0\n",
       "Crop_Type                    0\n",
       "Soil_Type                    0\n",
       "Pesticide_Use_Category       0\n",
       "Number_Doses_Week            0\n",
       "Number_Weeks_Used          442\n",
       "Number_Weeks_Quit            0\n",
       "Season                       0\n",
       "Crop_Damage                  0\n",
       "dtype: int64"
      ]
     },
     "execution_count": 24,
     "metadata": {},
     "output_type": "execute_result"
    }
   ],
   "source": [
    "df.isnull().sum()"
   ]
  },
  {
   "cell_type": "code",
   "execution_count": 25,
   "id": "4d6c9e27",
   "metadata": {},
   "outputs": [
    {
     "data": {
      "text/plain": [
       "(4599, 9)"
      ]
     },
     "execution_count": 25,
     "metadata": {},
     "output_type": "execute_result"
    }
   ],
   "source": [
    "df.shape"
   ]
  },
  {
   "cell_type": "code",
   "execution_count": 26,
   "id": "7aa90a86",
   "metadata": {},
   "outputs": [
    {
     "data": {
      "text/plain": [
       "(4599, 9)"
      ]
     },
     "execution_count": 26,
     "metadata": {},
     "output_type": "execute_result"
    }
   ],
   "source": [
    "df1.shape"
   ]
  },
  {
   "cell_type": "code",
   "execution_count": 27,
   "id": "97c7cfbb",
   "metadata": {},
   "outputs": [
    {
     "data": {
      "text/plain": [
       "<AxesSubplot:xlabel='Number_Weeks_Used', ylabel='Density'>"
      ]
     },
     "execution_count": 27,
     "metadata": {},
     "output_type": "execute_result"
    },
    {
     "data": {
      "image/png": "[encoded data removed]",
      "text/plain": [
       "<Figure size 432x288 with 1 Axes>"
      ]
     },
     "metadata": {
      "needs_background": "light"
     },
     "output_type": "display_data"
    }
   ],
   "source": [
    "sns.distplot(df['Number_Weeks_Used'])"
   ]
  },
  {
   "cell_type": "code",
   "execution_count": 28,
   "id": "4642c10c",
   "metadata": {},
   "outputs": [
    {
     "data": {
      "text/plain": [
       "<AxesSubplot:xlabel='Number_Weeks_Used', ylabel='Density'>"
      ]
     },
     "execution_count": 28,
     "metadata": {},
     "output_type": "execute_result"
    },
    {
     "data": {
      "image/png": "[encoded data removed]",
      "text/plain": [
       "<Figure size 432x288 with 1 Axes>"
      ]
     },
     "metadata": {
      "needs_background": "light"
     },
     "output_type": "display_data"
    }
   ],
   "source": [
    "sns.distplot(df1['Number_Weeks_Used'])"
   ]
  },
  {
   "cell_type": "code",
   "execution_count": 29,
   "id": "5fe66a74",
   "metadata": {},
   "outputs": [
    {
     "data": {
      "text/html": [
       "<div>\n",
       "<style scoped>\n",
       "    .dataframe tbody tr th:only-of-type {\n",
       "        vertical-align: middle;\n",
       "    }\n",
       "\n",
       "    .dataframe tbody tr th {\n",
       "        vertical-align: top;\n",
       "    }\n",
       "\n",
       "    .dataframe thead th {\n",
       "        text-align: right;\n",
       "    }\n",
       "</style>\n",
       "<table border=\"1\" class=\"dataframe\">\n",
       "  <thead>\n",
       "    <tr style=\"text-align: right;\">\n",
       "      <th></th>\n",
       "      <th>Estimated_Insects_Count</th>\n",
       "      <th>Crop_Type</th>\n",
       "      <th>Soil_Type</th>\n",
       "      <th>Pesticide_Use_Category</th>\n",
       "      <th>Number_Doses_Week</th>\n",
       "      <th>Number_Weeks_Used</th>\n",
       "      <th>Number_Weeks_Quit</th>\n",
       "      <th>Season</th>\n",
       "      <th>Crop_Damage</th>\n",
       "    </tr>\n",
       "  </thead>\n",
       "  <tbody>\n",
       "    <tr>\n",
       "      <th>0</th>\n",
       "      <td>188.0</td>\n",
       "      <td>1.0</td>\n",
       "      <td>0.0</td>\n",
       "      <td>1.0</td>\n",
       "      <td>0.0</td>\n",
       "      <td>0.0</td>\n",
       "      <td>0.0</td>\n",
       "      <td>1.0</td>\n",
       "      <td>0.0</td>\n",
       "    </tr>\n",
       "    <tr>\n",
       "      <th>1</th>\n",
       "      <td>209.0</td>\n",
       "      <td>1.0</td>\n",
       "      <td>0.0</td>\n",
       "      <td>1.0</td>\n",
       "      <td>0.0</td>\n",
       "      <td>0.0</td>\n",
       "      <td>0.0</td>\n",
       "      <td>2.0</td>\n",
       "      <td>1.0</td>\n",
       "    </tr>\n",
       "    <tr>\n",
       "      <th>2</th>\n",
       "      <td>257.0</td>\n",
       "      <td>1.0</td>\n",
       "      <td>0.0</td>\n",
       "      <td>1.0</td>\n",
       "      <td>0.0</td>\n",
       "      <td>0.0</td>\n",
       "      <td>0.0</td>\n",
       "      <td>2.0</td>\n",
       "      <td>1.0</td>\n",
       "    </tr>\n",
       "    <tr>\n",
       "      <th>3</th>\n",
       "      <td>257.0</td>\n",
       "      <td>1.0</td>\n",
       "      <td>1.0</td>\n",
       "      <td>1.0</td>\n",
       "      <td>0.0</td>\n",
       "      <td>0.0</td>\n",
       "      <td>0.0</td>\n",
       "      <td>2.0</td>\n",
       "      <td>1.0</td>\n",
       "    </tr>\n",
       "    <tr>\n",
       "      <th>4</th>\n",
       "      <td>342.0</td>\n",
       "      <td>1.0</td>\n",
       "      <td>0.0</td>\n",
       "      <td>1.0</td>\n",
       "      <td>0.0</td>\n",
       "      <td>0.0</td>\n",
       "      <td>0.0</td>\n",
       "      <td>2.0</td>\n",
       "      <td>1.0</td>\n",
       "    </tr>\n",
       "  </tbody>\n",
       "</table>\n",
       "</div>"
      ],
      "text/plain": [
       "   Estimated_Insects_Count  Crop_Type  Soil_Type  Pesticide_Use_Category  \\\n",
       "0                    188.0        1.0        0.0                     1.0   \n",
       "1                    209.0        1.0        0.0                     1.0   \n",
       "2                    257.0        1.0        0.0                     1.0   \n",
       "3                    257.0        1.0        1.0                     1.0   \n",
       "4                    342.0        1.0        0.0                     1.0   \n",
       "\n",
       "   Number_Doses_Week  Number_Weeks_Used  Number_Weeks_Quit  Season  \\\n",
       "0                0.0                0.0                0.0     1.0   \n",
       "1                0.0                0.0                0.0     2.0   \n",
       "2                0.0                0.0                0.0     2.0   \n",
       "3                0.0                0.0                0.0     2.0   \n",
       "4                0.0                0.0                0.0     2.0   \n",
       "\n",
       "   Crop_Damage  \n",
       "0          0.0  \n",
       "1          1.0  \n",
       "2          1.0  \n",
       "3          1.0  \n",
       "4          1.0  "
      ]
     },
     "execution_count": 29,
     "metadata": {},
     "output_type": "execute_result"
    }
   ],
   "source": [
    "df1.head()"
   ]
  },
  {
   "cell_type": "code",
   "execution_count": 30,
   "id": "4dfcdbb3",
   "metadata": {},
   "outputs": [
    {
     "data": {
      "text/plain": [
       "<AxesSubplot:xlabel='Crop_Damage', ylabel='count'>"
      ]
     },
     "execution_count": 30,
     "metadata": {},
     "output_type": "execute_result"
    },
    {
     "data": {
      "image/png": "[encoded data removed]",
      "text/plain": [
       "<Figure size 432x288 with 1 Axes>"
      ]
     },
     "metadata": {
      "needs_background": "light"
     },
     "output_type": "display_data"
    }
   ],
   "source": [
    "sns.countplot(df1['Crop_Damage'])"
   ]
  },
  {
   "cell_type": "markdown",
   "id": "cc36e684",
   "metadata": {},
   "source": [
    "# Observations:\n",
    "    \n",
    "    1.There is class imbalance"
   ]
  },
  {
   "cell_type": "markdown",
   "id": "2c854501",
   "metadata": {},
   "source": [
    "# Removal of Outliers"
   ]
  },
  {
   "cell_type": "markdown",
   "id": "a80ffd90",
   "metadata": {},
   "source": [
    "# Zscore method"
   ]
  },
  {
   "cell_type": "code",
   "execution_count": 31,
   "id": "a62cc8e1",
   "metadata": {},
   "outputs": [
    {
     "name": "stdout",
     "output_type": "stream",
     "text": [
      "percentage of loss of data by zscore is : 0.048488801913459445\n"
     ]
    }
   ],
   "source": [
    "from scipy.stats import zscore\n",
    "z=np.abs(zscore(df1))\n",
    "threshold=3\n",
    "df2=df1[(z<3).all(axis=1)]\n",
    "print('percentage of loss of data by zscore is :',(df1.shape[0]-df2.shape[0])/df1.shape[0])"
   ]
  },
  {
   "cell_type": "markdown",
   "id": "b93279b9",
   "metadata": {},
   "source": [
    "**accuracy before removing the outliers**"
   ]
  },
  {
   "cell_type": "code",
   "execution_count": 32,
   "id": "6f5fa1f5",
   "metadata": {},
   "outputs": [
    {
     "name": "stdout",
     "output_type": "stream",
     "text": [
      "accuracy score through logistic regression is \n",
      "0.816\n",
      "classification report is\n",
      "              precision    recall  f1-score   support\n",
      "\n",
      "         0.0       0.82      0.99      0.90       866\n",
      "         1.0       0.36      0.03      0.06       161\n",
      "         2.0       0.00      0.00      0.00        31\n",
      "\n",
      "    accuracy                           0.82      1058\n",
      "   macro avg       0.39      0.34      0.32      1058\n",
      "weighted avg       0.73      0.82      0.74      1058\n",
      "\n",
      "confusion matrix is\n",
      "[[858   8   0]\n",
      " [156   5   0]\n",
      " [ 30   1   0]]\n",
      "\n",
      "\n"
     ]
    }
   ],
   "source": [
    "x=df1.drop('Crop_Damage',axis=1)\n",
    "y=df1['Crop_Damage']\n",
    "lg=LogisticRegression()\n",
    "x_train,x_test,y_train,y_test=train_test_split(x,y,test_size=0.23,random_state=45)\n",
    "lg.fit(x_train,y_train)\n",
    "pred=lg.predict(x_test)\n",
    "print('accuracy score through logistic regression is ')\n",
    "print(round((accuracy_score(y_test,pred)),3))\n",
    "print('classification report is')\n",
    "print(classification_report(y_test,pred))\n",
    "print('confusion matrix is')\n",
    "print(confusion_matrix(y_test,pred))\n",
    "print('\\n')"
   ]
  },
  {
   "cell_type": "markdown",
   "id": "50f9fcad",
   "metadata": {},
   "source": [
    "**Accuracy after removing the outliers**"
   ]
  },
  {
   "cell_type": "code",
   "execution_count": 33,
   "id": "5530fd22",
   "metadata": {},
   "outputs": [
    {
     "name": "stdout",
     "output_type": "stream",
     "text": [
      "accuracy score through logistic regression is \n",
      "0.843\n",
      "classification report is\n",
      "              precision    recall  f1-score   support\n",
      "\n",
      "         0.0       0.85      0.99      0.91       851\n",
      "         1.0       0.43      0.04      0.07       156\n",
      "\n",
      "    accuracy                           0.84      1007\n",
      "   macro avg       0.64      0.51      0.49      1007\n",
      "weighted avg       0.78      0.84      0.78      1007\n",
      "\n",
      "confusion matrix is\n",
      "[[843   8]\n",
      " [150   6]]\n",
      "\n",
      "\n"
     ]
    }
   ],
   "source": [
    "x=df2.drop('Crop_Damage',axis=1)\n",
    "y=df2['Crop_Damage']\n",
    "lg=LogisticRegression()\n",
    "x_train,x_test,y_train,y_test=train_test_split(x,y,test_size=0.23,random_state=45)\n",
    "lg.fit(x_train,y_train)\n",
    "pred=lg.predict(x_test)\n",
    "print('accuracy score through logistic regression is ')\n",
    "print(round((accuracy_score(y_test,pred)),3))\n",
    "print('classification report is')\n",
    "print(classification_report(y_test,pred))\n",
    "print('confusion matrix is')\n",
    "print(confusion_matrix(y_test,pred))\n",
    "print('\\n')"
   ]
  },
  {
   "cell_type": "markdown",
   "id": "b6dbbb2f",
   "metadata": {},
   "source": [
    " **from the above observation we can say that dont remove the outliers**"
   ]
  },
  {
   "cell_type": "markdown",
   "id": "9c0b14c5",
   "metadata": {},
   "source": [
    "# Splitting the variable"
   ]
  },
  {
   "cell_type": "code",
   "execution_count": 34,
   "id": "6f3eef13",
   "metadata": {},
   "outputs": [],
   "source": [
    "x=df1.drop('Crop_Damage',axis=1)\n",
    "y=df1['Crop_Damage']"
   ]
  },
  {
   "cell_type": "code",
   "execution_count": 35,
   "id": "56cf2b53",
   "metadata": {},
   "outputs": [
    {
     "data": {
      "text/plain": [
       "Estimated_Insects_Count    0.911469\n",
       "Crop_Type                  1.318693\n",
       "Soil_Type                  0.093631\n",
       "Pesticide_Use_Category     0.678586\n",
       "Number_Doses_Week          0.945895\n",
       "Number_Weeks_Used          0.270486\n",
       "Number_Weeks_Quit          0.919771\n",
       "Season                     0.144841\n",
       "dtype: float64"
      ]
     },
     "execution_count": 35,
     "metadata": {},
     "output_type": "execute_result"
    }
   ],
   "source": [
    "x.skew()"
   ]
  },
  {
   "cell_type": "code",
   "execution_count": 37,
   "id": "e39750f6",
   "metadata": {},
   "outputs": [],
   "source": [
    "from imblearn.over_sampling import SMOTE\n",
    "SM=SMOTE()\n",
    "x_over,y_over=SM.fit_resample(x,y)"
   ]
  },
  {
   "cell_type": "code",
   "execution_count": 38,
   "id": "2e8f6886",
   "metadata": {},
   "outputs": [
    {
     "name": "stdout",
     "output_type": "stream",
     "text": [
      "accuracy score through logistic regression is \n",
      "0.477\n",
      "classification report is\n",
      "              precision    recall  f1-score   support\n",
      "\n",
      "         0.0       0.63      0.52      0.57       905\n",
      "         1.0       0.40      0.22      0.28       868\n",
      "         2.0       0.42      0.70      0.53       863\n",
      "\n",
      "    accuracy                           0.48      2636\n",
      "   macro avg       0.48      0.48      0.46      2636\n",
      "weighted avg       0.49      0.48      0.46      2636\n",
      "\n",
      "confusion matrix is\n",
      "[[469 120 316]\n",
      " [175 188 505]\n",
      " [103 159 601]]\n",
      "\n",
      "\n"
     ]
    }
   ],
   "source": [
    "lg=LogisticRegression()\n",
    "x_train,x_test,y_train,y_test=train_test_split(x_over,y_over,test_size=0.23,random_state=45)\n",
    "lg.fit(x_train,y_train)\n",
    "pred=lg.predict(x_test)\n",
    "print('accuracy score through logistic regression is ')\n",
    "print(round((accuracy_score(y_test,pred)),3))\n",
    "print('classification report is')\n",
    "print(classification_report(y_test,pred))\n",
    "print('confusion matrix is')\n",
    "print(confusion_matrix(y_test,pred))\n",
    "print('\\n')"
   ]
  },
  {
   "cell_type": "markdown",
   "id": "ecfb012f",
   "metadata": {},
   "source": [
    "Observations:\n",
    "    \n",
    "    Eventhough accuracy decrease it has good f1 score, so lets continue with it"
   ]
  },
  {
   "cell_type": "markdown",
   "id": "b48943f3",
   "metadata": {},
   "source": [
    "# Standard scaling"
   ]
  },
  {
   "cell_type": "code",
   "execution_count": 39,
   "id": "b08ad1c0",
   "metadata": {},
   "outputs": [],
   "source": [
    "from sklearn.preprocessing import StandardScaler\n",
    "scale=StandardScaler()\n",
    "xs=scale.fit_transform(x_over)"
   ]
  },
  {
   "cell_type": "code",
   "execution_count": 40,
   "id": "20952af3",
   "metadata": {},
   "outputs": [
    {
     "name": "stdout",
     "output_type": "stream",
     "text": [
      "accuracy score through logistic regression is \n",
      "0.515\n",
      "classification report is\n",
      "              precision    recall  f1-score   support\n",
      "\n",
      "         0.0       0.60      0.65      0.62       905\n",
      "         1.0       0.41      0.24      0.31       868\n",
      "         2.0       0.49      0.65      0.56       863\n",
      "\n",
      "    accuracy                           0.52      2636\n",
      "   macro avg       0.50      0.51      0.50      2636\n",
      "weighted avg       0.50      0.52      0.50      2636\n",
      "\n",
      "confusion matrix is\n",
      "[[584 140 181]\n",
      " [252 212 404]\n",
      " [139 162 562]]\n",
      "\n",
      "\n"
     ]
    }
   ],
   "source": [
    "x_train,x_test,y_train,y_test=train_test_split(xs,y_over,test_size=0.23,random_state=45)\n",
    "lg=LogisticRegression()\n",
    "lg.fit(x_train,y_train)\n",
    "pred=lg.predict(x_test)\n",
    "print('accuracy score through logistic regression is ')\n",
    "print(round((accuracy_score(y_test,pred)),3))\n",
    "print('classification report is')\n",
    "print(classification_report(y_test,pred))\n",
    "print('confusion matrix is')\n",
    "print(confusion_matrix(y_test,pred))\n",
    "print('\\n')"
   ]
  },
  {
   "cell_type": "markdown",
   "id": "db28d605",
   "metadata": {},
   "source": [
    "Observations:\n",
    "    \n",
    "    1.The accuracy and f1 score both increased after standard scaling"
   ]
  },
  {
   "cell_type": "markdown",
   "id": "ed1a6396",
   "metadata": {},
   "source": [
    "# Building the model"
   ]
  },
  {
   "cell_type": "code",
   "execution_count": 41,
   "id": "45c1b486",
   "metadata": {},
   "outputs": [],
   "source": [
    "lg=LogisticRegression()\n",
    "gnb=GaussianNB()\n",
    "svc=SVC()\n",
    "dtc=DecisionTreeClassifier()\n",
    "knn=KNeighborsClassifier()\n",
    "add=AdaBoostClassifier()\n",
    "rf=RandomForestClassifier()"
   ]
  },
  {
   "cell_type": "code",
   "execution_count": 42,
   "id": "a2ff2027",
   "metadata": {},
   "outputs": [
    {
     "name": "stdout",
     "output_type": "stream",
     "text": [
      "the best accuracy is  0.5421756835369401 on random state 20\n"
     ]
    }
   ],
   "source": [
    "#Finding the best random state\n",
    "#Finding the maximum accuracy\n",
    "maxAccu=0\n",
    "maxRS=0\n",
    "for i in range(1,200):\n",
    "    x_train,x_test,y_train,y_test=train_test_split(xs,y_over,test_size=0.3,random_state=i)\n",
    "    mod=lg\n",
    "    mod.fit(x_train,y_train)\n",
    "    pred=mod.predict(x_test)\n",
    "    acc=accuracy_score(y_test,pred)\n",
    "    if acc>maxAccu:\n",
    "        maxAccu=acc\n",
    "        maxRS=i\n",
    "print('the best accuracy is ',maxAccu,'on random state',maxRS)"
   ]
  },
  {
   "cell_type": "code",
   "execution_count": 43,
   "id": "fdba8206",
   "metadata": {},
   "outputs": [],
   "source": [
    "x_train,x_test,y_train,y_test=train_test_split(xs,y_over,test_size=0.3,random_state=20)"
   ]
  },
  {
   "cell_type": "code",
   "execution_count": 44,
   "id": "1110eeb9",
   "metadata": {},
   "outputs": [
    {
     "name": "stdout",
     "output_type": "stream",
     "text": [
      "accuracy score through logistic regression is \n",
      "0.542\n",
      "classification report is\n",
      "              precision    recall  f1-score   support\n",
      "\n",
      "         0.0       0.60      0.68      0.64      1140\n",
      "         1.0       0.45      0.30      0.36      1112\n",
      "         2.0       0.53      0.63      0.58      1186\n",
      "\n",
      "    accuracy                           0.54      3438\n",
      "   macro avg       0.53      0.54      0.53      3438\n",
      "weighted avg       0.53      0.54      0.53      3438\n",
      "\n",
      "confusion matrix is\n",
      "[[778 172 190]\n",
      " [312 333 467]\n",
      " [200 233 753]]\n",
      "\n",
      "\n"
     ]
    }
   ],
   "source": [
    "lg.fit(x_train,y_train)\n",
    "pred=lg.predict(x_test)\n",
    "print('accuracy score through logistic regression is ')\n",
    "print(round((accuracy_score(y_test,pred)),3))\n",
    "print('classification report is')\n",
    "print(classification_report(y_test,pred))\n",
    "print('confusion matrix is')\n",
    "print(confusion_matrix(y_test,pred))\n",
    "print('\\n')"
   ]
  },
  {
   "cell_type": "code",
   "execution_count": 45,
   "id": "bc1f8e6a",
   "metadata": {},
   "outputs": [
    {
     "name": "stdout",
     "output_type": "stream",
     "text": [
      "accuracy score through GaussianNB is \n",
      "0.535\n",
      "classification report is\n",
      "              precision    recall  f1-score   support\n",
      "\n",
      "         0.0       0.61      0.68      0.65      1140\n",
      "         1.0       0.44      0.15      0.22      1112\n",
      "         2.0       0.50      0.76      0.60      1186\n",
      "\n",
      "    accuracy                           0.53      3438\n",
      "   macro avg       0.52      0.53      0.49      3438\n",
      "weighted avg       0.52      0.53      0.49      3438\n",
      "\n",
      "confusion matrix is\n",
      "[[774 101 265]\n",
      " [308 167 637]\n",
      " [178 111 897]]\n",
      "\n",
      "\n"
     ]
    }
   ],
   "source": [
    "gnb=GaussianNB()\n",
    "gnb.fit(x_train,y_train)\n",
    "pred=gnb.predict(x_test)\n",
    "print('accuracy score through GaussianNB is ')\n",
    "print(round((accuracy_score(y_test,pred)),3))\n",
    "print('classification report is')\n",
    "print(classification_report(y_test,pred))\n",
    "print('confusion matrix is')\n",
    "print(confusion_matrix(y_test,pred))\n",
    "print('\\n')"
   ]
  },
  {
   "cell_type": "code",
   "execution_count": 46,
   "id": "da609604",
   "metadata": {},
   "outputs": [
    {
     "name": "stdout",
     "output_type": "stream",
     "text": [
      "accuracy score through svc is \n",
      "0.722\n",
      "classification report is\n",
      "              precision    recall  f1-score   support\n",
      "\n",
      "         0.0       0.74      0.85      0.79      1140\n",
      "         1.0       0.74      0.46      0.57      1112\n",
      "         2.0       0.70      0.84      0.76      1186\n",
      "\n",
      "    accuracy                           0.72      3438\n",
      "   macro avg       0.73      0.72      0.71      3438\n",
      "weighted avg       0.72      0.72      0.71      3438\n",
      "\n",
      "confusion matrix is\n",
      "[[971  83  86]\n",
      " [259 516 337]\n",
      " [ 89 101 996]]\n",
      "\n",
      "\n"
     ]
    }
   ],
   "source": [
    "svc=SVC(kernel='rbf')\n",
    "svc.fit(x_train,y_train)\n",
    "pred=svc.predict(x_test)\n",
    "print('accuracy score through svc is ')\n",
    "print(round((accuracy_score(y_test,pred)),3))\n",
    "print('classification report is')\n",
    "print(classification_report(y_test,pred))\n",
    "print('confusion matrix is')\n",
    "print(confusion_matrix(y_test,pred))\n",
    "print('\\n')"
   ]
  },
  {
   "cell_type": "code",
   "execution_count": 47,
   "id": "25caf919",
   "metadata": {},
   "outputs": [
    {
     "name": "stdout",
     "output_type": "stream",
     "text": [
      "accuracy score through svc is \n",
      "0.659\n",
      "classification report is\n",
      "              precision    recall  f1-score   support\n",
      "\n",
      "         0.0       0.71      0.75      0.73      1140\n",
      "         1.0       0.62      0.40      0.48      1112\n",
      "         2.0       0.64      0.82      0.72      1186\n",
      "\n",
      "    accuracy                           0.66      3438\n",
      "   macro avg       0.66      0.65      0.64      3438\n",
      "weighted avg       0.66      0.66      0.65      3438\n",
      "\n",
      "confusion matrix is\n",
      "[[857 148 135]\n",
      " [257 442 413]\n",
      " [ 96 123 967]]\n",
      "\n",
      "\n"
     ]
    }
   ],
   "source": [
    "svc=SVC(kernel='poly')\n",
    "svc.fit(x_train,y_train)\n",
    "pred=svc.predict(x_test)\n",
    "print('accuracy score through svc is ')\n",
    "print(round((accuracy_score(y_test,pred)),3))\n",
    "print('classification report is')\n",
    "print(classification_report(y_test,pred))\n",
    "print('confusion matrix is')\n",
    "print(confusion_matrix(y_test,pred))\n",
    "print('\\n')"
   ]
  },
  {
   "cell_type": "code",
   "execution_count": 48,
   "id": "52a4e08d",
   "metadata": {},
   "outputs": [
    {
     "name": "stdout",
     "output_type": "stream",
     "text": [
      "accuracy score through Decisiob Tree Classifier is \n",
      "0.83\n",
      "classification report is\n",
      "              precision    recall  f1-score   support\n",
      "\n",
      "         0.0       0.83      0.82      0.82      1140\n",
      "         1.0       0.76      0.76      0.76      1112\n",
      "         2.0       0.89      0.91      0.90      1186\n",
      "\n",
      "    accuracy                           0.83      3438\n",
      "   macro avg       0.83      0.83      0.83      3438\n",
      "weighted avg       0.83      0.83      0.83      3438\n",
      "\n",
      "confusion matrix is\n",
      "[[ 932  171   37]\n",
      " [ 168  842  102]\n",
      " [  20   88 1078]]\n",
      "\n",
      "\n"
     ]
    }
   ],
   "source": [
    "dtc=DecisionTreeClassifier()\n",
    "dtc.fit(x_train,y_train)\n",
    "pred=dtc.predict(x_test)\n",
    "print('accuracy score through Decisiob Tree Classifier is ')\n",
    "print(round((accuracy_score(y_test,pred)),3))\n",
    "print('classification report is')\n",
    "print(classification_report(y_test,pred))\n",
    "print('confusion matrix is')\n",
    "print(confusion_matrix(y_test,pred))\n",
    "print('\\n')"
   ]
  },
  {
   "cell_type": "code",
   "execution_count": 49,
   "id": "a695a531",
   "metadata": {},
   "outputs": [
    {
     "name": "stdout",
     "output_type": "stream",
     "text": [
      "accuracy score through knn is \n",
      "0.812\n",
      "classification report is\n",
      "              precision    recall  f1-score   support\n",
      "\n",
      "         0.0       0.84      0.76      0.80      1140\n",
      "         1.0       0.78      0.71      0.74      1112\n",
      "         2.0       0.82      0.95      0.88      1186\n",
      "\n",
      "    accuracy                           0.81      3438\n",
      "   macro avg       0.81      0.81      0.81      3438\n",
      "weighted avg       0.81      0.81      0.81      3438\n",
      "\n",
      "confusion matrix is\n",
      "[[ 870  183   87]\n",
      " [ 161  789  162]\n",
      " [   9   45 1132]]\n",
      "\n",
      "\n"
     ]
    }
   ],
   "source": [
    "knn.fit(x_train,y_train)\n",
    "pred=knn.predict(x_test)\n",
    "print('accuracy score through knn is ')\n",
    "print(round((accuracy_score(y_test,pred)),3))\n",
    "print('classification report is')\n",
    "print(classification_report(y_test,pred))\n",
    "print('confusion matrix is')\n",
    "print(confusion_matrix(y_test,pred))\n",
    "print('\\n')"
   ]
  },
  {
   "cell_type": "code",
   "execution_count": 50,
   "id": "57e22f7a",
   "metadata": {},
   "outputs": [
    {
     "name": "stdout",
     "output_type": "stream",
     "text": [
      "accuracy score through Adaboost is \n",
      "0.702\n",
      "classification report is\n",
      "              precision    recall  f1-score   support\n",
      "\n",
      "         0.0       0.81      0.91      0.86      1140\n",
      "         1.0       0.60      0.49      0.54      1112\n",
      "         2.0       0.67      0.70      0.68      1186\n",
      "\n",
      "    accuracy                           0.70      3438\n",
      "   macro avg       0.69      0.70      0.69      3438\n",
      "weighted avg       0.69      0.70      0.69      3438\n",
      "\n",
      "confusion matrix is\n",
      "[[1036   74   30]\n",
      " [ 186  550  376]\n",
      " [  59  300  827]]\n",
      "\n",
      "\n"
     ]
    }
   ],
   "source": [
    "add.fit(x_train,y_train)\n",
    "pred=add.predict(x_test)\n",
    "print('accuracy score through Adaboost is ')\n",
    "print(round((accuracy_score(y_test,pred)),3))\n",
    "print('classification report is')\n",
    "print(classification_report(y_test,pred))\n",
    "print('confusion matrix is')\n",
    "print(confusion_matrix(y_test,pred))\n",
    "print('\\n')"
   ]
  },
  {
   "cell_type": "code",
   "execution_count": 56,
   "id": "1db15f89",
   "metadata": {},
   "outputs": [
    {
     "name": "stdout",
     "output_type": "stream",
     "text": [
      "accuracy score through random forest is \n",
      "0.897\n",
      "classification report is\n",
      "              precision    recall  f1-score   support\n",
      "\n",
      "         0.0       0.86      0.92      0.89      1140\n",
      "         1.0       0.90      0.81      0.85      1112\n",
      "         2.0       0.94      0.95      0.94      1186\n",
      "\n",
      "    accuracy                           0.90      3438\n",
      "   macro avg       0.90      0.90      0.90      3438\n",
      "weighted avg       0.90      0.90      0.90      3438\n",
      "\n",
      "confusion matrix is\n",
      "[[1052   71   17]\n",
      " [ 150  901   61]\n",
      " [  25   29 1132]]\n",
      "\n",
      "\n"
     ]
    }
   ],
   "source": [
    "rf.fit(x_train,y_train)\n",
    "pred=rf.predict(x_test)\n",
    "print('accuracy score through random forest is ')\n",
    "print(round((accuracy_score(y_test,pred)),3))\n",
    "print('classification report is')\n",
    "print(classification_report(y_test,pred))\n",
    "print('confusion matrix is')\n",
    "print(confusion_matrix(y_test,pred))\n",
    "print('\\n')"
   ]
  },
  {
   "cell_type": "markdown",
   "id": "6154e336",
   "metadata": {},
   "source": [
    "# Cross validation scores"
   ]
  },
  {
   "cell_type": "code",
   "execution_count": 58,
   "id": "3ff60b6b",
   "metadata": {},
   "outputs": [
    {
     "name": "stdout",
     "output_type": "stream",
     "text": [
      "LogisticRegression() score is:\n",
      "0.503\n",
      "\n",
      "\n",
      "GaussianNB() score is:\n",
      "0.508\n",
      "\n",
      "\n",
      "SVC() score is:\n",
      "0.664\n",
      "\n",
      "\n",
      "SVC(kernel='poly') score is:\n",
      "0.592\n",
      "\n",
      "\n",
      "DecisionTreeClassifier() score is:\n",
      "0.788\n",
      "\n",
      "\n",
      "KNeighborsClassifier() score is:\n",
      "0.765\n",
      "\n",
      "\n",
      "AdaBoostClassifier() score is:\n",
      "0.691\n",
      "\n",
      "\n",
      "RandomForestClassifier() score is:\n",
      "0.854\n",
      "\n",
      "\n"
     ]
    }
   ],
   "source": [
    "models=[lg,gnb,SVC(kernel='rbf'),SVC(kernel='poly'),dtc,knn,add,rf]\n",
    "for m in models:\n",
    "    score=cross_val_score(m,xs,y_over,cv=5)\n",
    "    print(m,'score is:')\n",
    "    print(round((score.mean()),3))\n",
    "    print('\\n')"
   ]
  },
  {
   "cell_type": "code",
   "execution_count": 59,
   "id": "669c02ce",
   "metadata": {},
   "outputs": [
    {
     "name": "stdout",
     "output_type": "stream",
     "text": [
      "{'algorithm': 'SAMME.R', 'n_estimators': 100}\n",
      "0.6976439790575916\n"
     ]
    }
   ],
   "source": [
    "grid_param={\n",
    "    'n_estimators':[10,50,100],\n",
    "    'algorithm':['SAMME', 'SAMME.R']\n",
    "}\n",
    "\n",
    "gd_sr=GridSearchCV(estimator=add,\n",
    "                  param_grid=grid_param,\n",
    "                  scoring='accuracy',\n",
    "                  cv=5)\n",
    "\n",
    "gd_sr.fit(xs,y_over)\n",
    "\n",
    "best_parameters=gd_sr.best_params_\n",
    "print(best_parameters)\n",
    "best_result=gd_sr.best_score_\n",
    "print(best_result)"
   ]
  },
  {
   "cell_type": "code",
   "execution_count": 68,
   "id": "6685e037",
   "metadata": {},
   "outputs": [],
   "source": [
    "add=sklearn.ensemble.AdaBoostClassifier(base_estimator=None, n_estimators=100, learning_rate=1.0, algorithm='SAMME.R', random_state=None)"
   ]
  },
  {
   "cell_type": "code",
   "execution_count": 69,
   "id": "1d8ba8ca",
   "metadata": {},
   "outputs": [
    {
     "name": "stdout",
     "output_type": "stream",
     "text": [
      "accuracy score through Adaboost is \n",
      "0.705\n",
      "classification report is\n",
      "              precision    recall  f1-score   support\n",
      "\n",
      "         0.0       0.81      0.91      0.85      1140\n",
      "         1.0       0.60      0.48      0.54      1112\n",
      "         2.0       0.67      0.72      0.69      1186\n",
      "\n",
      "    accuracy                           0.70      3438\n",
      "   macro avg       0.69      0.70      0.69      3438\n",
      "weighted avg       0.69      0.70      0.70      3438\n",
      "\n",
      "confusion matrix is\n",
      "[[1037   79   24]\n",
      " [ 189  536  387]\n",
      " [  61  275  850]]\n",
      "\n",
      "\n"
     ]
    }
   ],
   "source": [
    "add.fit(x_train,y_train)\n",
    "pred=add.predict(x_test)\n",
    "print('accuracy score through Adaboost is ')\n",
    "print(round((accuracy_score(y_test,pred)),3))\n",
    "print('classification report is')\n",
    "print(classification_report(y_test,pred))\n",
    "print('confusion matrix is')\n",
    "print(confusion_matrix(y_test,pred))\n",
    "print('\\n')"
   ]
  },
  {
   "cell_type": "code",
   "execution_count": null,
   "id": "73a34518",
   "metadata": {},
   "outputs": [],
   "source": []
  }
 ],
 "metadata": {
  "kernelspec": {
   "display_name": "Python 3",
   "language": "python",
   "name": "python3"
  },
  "language_info": {
   "codemirror_mode": {
    "name": "ipython",
    "version": 3
   },
   "file_extension": ".py",
   "mimetype": "text/x-python",
   "name": "python",
   "nbconvert_exporter": "python",
   "pygments_lexer": "ipython3",
   "version": "3.8.8"
  }
 },
 "nbformat": 4,
 "nbformat_minor": 5
}
