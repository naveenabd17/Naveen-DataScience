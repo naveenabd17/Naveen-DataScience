{
 "cells": [
  {
   "cell_type": "markdown",
   "id": "482f3664",
   "metadata": {},
   "source": [
    "# Question 1"
   ]
  },
  {
   "cell_type": "markdown",
   "id": "56cdf850",
   "metadata": {},
   "source": [
    "Given the length of side a of a triangle and the distances from the centroid (the point of\n",
    "concurrence of the medians - red in the picture) to all sides: a, b and c, calculate this triangle's\n",
    "area and the distance (blue line) from the orthocenter (the point of concurrence of the\n",
    "heights - green in the picture) to the centroid."
   ]
  },
  {
   "cell_type": "code",
   "execution_count": 50,
   "id": "c24c614a",
   "metadata": {},
   "outputs": [
    {
     "name": "stdout",
     "output_type": "stream",
     "text": [
      "Enter the number of test cases2\n",
      "657.8256599140 151.6154399062 213.5392629932 139.4878846649\n",
      "126537.62647852887 155.99687241689105\n",
      "3.0 0.8660254038 0.8660254038 0.8660254038\n",
      "3.8971143171700247 nan\n"
     ]
    },
    {
     "name": "stderr",
     "output_type": "stream",
     "text": [
      "<ipython-input-50-005b4527d8ad>:34: RuntimeWarning: invalid value encountered in sqrt\n",
      "  dist=(np.sqrt(1-(8*np.cos(ang1)*np.cos(ang2)*np.cos(ang3)))*r*2)/3\n"
     ]
    }
   ],
   "source": [
    "import numpy as np\n",
    "import math\n",
    "\n",
    "def triangle_area():\n",
    "    for i in range(int(input('Enter the number of test cases'))):\n",
    "        \n",
    "        #Fetching the values from the user and finding the length of the medians\n",
    "        list1=list(map(float,str(input()).split(' ')))\n",
    "        m1=list1[1]*3\n",
    "        m2=list1[2]*3\n",
    "        m3=list1[3]*3\n",
    "        \n",
    "        #Calculation of the area of triangle\n",
    "        z=(m1+m2+m3)/2\n",
    "        Area=(4/3)*np.sqrt(z*(z-m1)*(z-m2)*(z-m3))\n",
    "        \n",
    "        #Calculation of length of each side of the triangle\n",
    "        a=list1[0]\n",
    "        c=np.sqrt((4*(m2**2)-2*(a**2)+((m1**2)*4+(a**2))/2)/3)\n",
    "        b=np.sqrt((2*a**2)+(2*c**2)-(4*m2**2))\n",
    "        \n",
    "        #Finding the circum radius\n",
    "        r=(a*b*c)/(4*Area)\n",
    "        \n",
    "        #Finding the height of the perpendicular\n",
    "        h=(2*Area)/a\n",
    "        \n",
    "        #Finding the angles of triangle\n",
    "        ang1=math.asin(h/b)\n",
    "        ang2=math.asin(h/c)\n",
    "        ang3=np.pi-(ang1+ang2)\n",
    "        \n",
    "        #Finding the distance from ortho center to centroid\n",
    "        dist=(np.sqrt(1-(8*np.cos(ang1)*np.cos(ang2)*np.cos(ang3)))*r*2)/3\n",
    "        print(Area,end=\" \")\n",
    "        print(dist)\n",
    "        \n",
    "    \n",
    "def main():\n",
    "    triangle_area()\n",
    "    \n",
    "if __name__==\"__main__\":\n",
    "    main()"
   ]
  },
  {
   "cell_type": "markdown",
   "id": "6778e126",
   "metadata": {},
   "source": [
    "# Question 2"
   ]
  },
  {
   "cell_type": "markdown",
   "id": "ce288485",
   "metadata": {},
   "source": [
    "In one of the internet banks thousands of operations are being performed every day. Since\n",
    "certain customers do business more actively than others, some of the bank accounts occur\n",
    "many times in the list of operations. Your task is to sort the bank account numbers in\n",
    "ascending order. If an account appears twice or more in the list, write the number of\n",
    "repetitions just after the account number. The format of accounts is as follows: 2control\n",
    "digits, an 8-digit code of the bank, 16 digits identifying the owner (written in groups of four\n",
    "digits), for example (at the end of each line there is exactly one space):\n",
    "30 10103538 2222 1233 6160 0142\n",
    "Banks are real-time institutions and they need FAST solutions. If you feel you can meet the\n",
    "challenge within a very stringent time limit, go ahead! A well designed sorting algorithm in\n",
    "a fast language is likely to succeed."
   ]
  },
  {
   "cell_type": "code",
   "execution_count": 48,
   "id": "7be930df",
   "metadata": {},
   "outputs": [
    {
     "name": "stdout",
     "output_type": "stream",
     "text": [
      "Enter the number of tests2\n",
      "enter the number of accounts2\n",
      "enter the 1 account number03 10103538 2222 1233 6160 0141\n",
      "enter the 2 account number03 10103538 2222 1233 6160 0142\n",
      "\n",
      "\n",
      "03 10103538 2222 1233 6160 0141 1\n",
      "03 10103538 2222 1233 6160 0142 1\n",
      "enter the number of accounts2\n",
      "enter the 1 account number30 10103538 2222 1233 6160 0142 \n",
      "enter the 2 account number30 10103538 2222 1233 6160 0141 \n",
      "\n",
      "\n",
      "30 10103538 2222 1233 6160 0141  1\n",
      "30 10103538 2222 1233 6160 0142  1\n"
     ]
    }
   ],
   "source": [
    "import pandas as pd\n",
    "#Fetching the input from user\n",
    "for m in range(int(input('Enter the number of tests'))):\n",
    "\n",
    "    list1=[]\n",
    "    for i in range(int(input('enter the number of accounts'))):\n",
    "        list1.append(input('enter the %d account number'%(i+1)))\n",
    "        \n",
    "        \n",
    "\n",
    "    #Defining the function\n",
    "    def account_frequency(list1):\n",
    "        \n",
    "        #Creating the set of unique elements\n",
    "        set1=set(list1)\n",
    "        \n",
    "        \n",
    "        #Finding the frequency of occurance of elements\n",
    "        list_x=[]\n",
    "        for i in set1:\n",
    "            x=0\n",
    "            for j in list1:\n",
    "                if i==j:\n",
    "                    x=x+1\n",
    "                else:\n",
    "                    pass\n",
    "            list_x.append(x)\n",
    "            \n",
    "        \n",
    "\n",
    "        #Storing the values in pandas dataframe so that it will be easy to handle\n",
    "        df=pd.DataFrame()\n",
    "        df['col1']=list(set1)\n",
    "        df['col2']=list_x\n",
    "        df['col3']=list(map(int,df['col1'].str.replace(' ','')))\n",
    "        df=df.sort_values('col3',ascending=True)\n",
    "\n",
    "        k=0\n",
    "        for i in df['col1']:\n",
    "            print(i,end=\" \")\n",
    "            print(df['col2'][k])\n",
    "            k=k+1\n",
    "\n",
    "    def main():\n",
    "        account_frequency(list1)\n",
    "\n",
    " \n",
    "    # __name__\n",
    "    if __name__==\"__main__\":\n",
    "        main()"
   ]
  }
 ],
 "metadata": {
  "kernelspec": {
   "display_name": "Python 3",
   "language": "python",
   "name": "python3"
  },
  "language_info": {
   "codemirror_mode": {
    "name": "ipython",
    "version": 3
   },
   "file_extension": ".py",
   "mimetype": "text/x-python",
   "name": "python",
   "nbconvert_exporter": "python",
   "pygments_lexer": "ipython3",
   "version": "3.8.8"
  }
 },
 "nbformat": 4,
 "nbformat_minor": 5
}
