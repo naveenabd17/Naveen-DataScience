{
 "cells": [
  {
   "cell_type": "markdown",
   "id": "d964f64f",
   "metadata": {},
   "source": [
    "# Making an precise dataset"
   ]
  },
  {
   "cell_type": "code",
   "execution_count": 2,
   "id": "7a2a93f9",
   "metadata": {},
   "outputs": [],
   "source": [
    "import pandas as pd\n",
    "import numpy as np\n",
    "import re"
   ]
  },
  {
   "cell_type": "code",
   "execution_count": 3,
   "id": "1c4930ef",
   "metadata": {},
   "outputs": [
    {
     "data": {
      "text/html": [
       "<div>\n",
       "<style scoped>\n",
       "    .dataframe tbody tr th:only-of-type {\n",
       "        vertical-align: middle;\n",
       "    }\n",
       "\n",
       "    .dataframe tbody tr th {\n",
       "        vertical-align: top;\n",
       "    }\n",
       "\n",
       "    .dataframe thead th {\n",
       "        text-align: right;\n",
       "    }\n",
       "</style>\n",
       "<table border=\"1\" class=\"dataframe\">\n",
       "  <thead>\n",
       "    <tr style=\"text-align: right;\">\n",
       "      <th></th>\n",
       "      <th>Unnamed: 0</th>\n",
       "      <th>Car Price</th>\n",
       "      <th>Car Name</th>\n",
       "      <th>City Name</th>\n",
       "      <th>Fuel type</th>\n",
       "      <th>Kilometer ran</th>\n",
       "      <th>Color</th>\n",
       "      <th>Owner type</th>\n",
       "      <th>Year of manufacture</th>\n",
       "    </tr>\n",
       "  </thead>\n",
       "  <tbody>\n",
       "    <tr>\n",
       "      <th>0</th>\n",
       "      <td>0</td>\n",
       "      <td>5.65 Lakh</td>\n",
       "      <td>Used Hyundai Grand i10 in Kanpur</td>\n",
       "      <td>Kanpur</td>\n",
       "      <td>Petrol</td>\n",
       "      <td>9,400 Kms</td>\n",
       "      <td>White</td>\n",
       "      <td>First</td>\n",
       "      <td>2019</td>\n",
       "    </tr>\n",
       "    <tr>\n",
       "      <th>1</th>\n",
       "      <td>1</td>\n",
       "      <td>4 Lakh</td>\n",
       "      <td>Used Hyundai i10 [2010-2017] in Hyderabad</td>\n",
       "      <td>Hyderabad</td>\n",
       "      <td>Petrol</td>\n",
       "      <td>67,971 Kms</td>\n",
       "      <td>Maroon</td>\n",
       "      <td>First</td>\n",
       "      <td>2014</td>\n",
       "    </tr>\n",
       "    <tr>\n",
       "      <th>2</th>\n",
       "      <td>2</td>\n",
       "      <td>34.75 Lakh</td>\n",
       "      <td>Used MINI Countryman [2015-2018] in Mumbai</td>\n",
       "      <td>Mumbai</td>\n",
       "      <td>Diesel</td>\n",
       "      <td>18,500 Kms</td>\n",
       "      <td>Grey</td>\n",
       "      <td>First</td>\n",
       "      <td>2018</td>\n",
       "    </tr>\n",
       "    <tr>\n",
       "      <th>3</th>\n",
       "      <td>3</td>\n",
       "      <td>12.58 Lakh</td>\n",
       "      <td>Used Mercedes-Benz C-Class [2010-2011] in Mumbai</td>\n",
       "      <td>Mumbai</td>\n",
       "      <td>Petrol</td>\n",
       "      <td>66,700 Kms</td>\n",
       "      <td>White</td>\n",
       "      <td>First</td>\n",
       "      <td>2011</td>\n",
       "    </tr>\n",
       "    <tr>\n",
       "      <th>4</th>\n",
       "      <td>4</td>\n",
       "      <td>8 Lakh</td>\n",
       "      <td>Used BMW 5 Series [2007-2010] in Thane</td>\n",
       "      <td>Thane</td>\n",
       "      <td>Diesel</td>\n",
       "      <td>1,17,123 Kms</td>\n",
       "      <td>Black</td>\n",
       "      <td>First</td>\n",
       "      <td>2008</td>\n",
       "    </tr>\n",
       "  </tbody>\n",
       "</table>\n",
       "</div>"
      ],
      "text/plain": [
       "   Unnamed: 0   Car Price                                          Car Name  \\\n",
       "0           0   5.65 Lakh                  Used Hyundai Grand i10 in Kanpur   \n",
       "1           1      4 Lakh         Used Hyundai i10 [2010-2017] in Hyderabad   \n",
       "2           2  34.75 Lakh        Used MINI Countryman [2015-2018] in Mumbai   \n",
       "3           3  12.58 Lakh  Used Mercedes-Benz C-Class [2010-2011] in Mumbai   \n",
       "4           4      8 Lakh            Used BMW 5 Series [2007-2010] in Thane   \n",
       "\n",
       "   City Name Fuel type Kilometer ran   Color Owner type  Year of manufacture  \n",
       "0     Kanpur    Petrol     9,400 Kms   White      First                 2019  \n",
       "1  Hyderabad    Petrol    67,971 Kms  Maroon      First                 2014  \n",
       "2     Mumbai    Diesel    18,500 Kms    Grey      First                 2018  \n",
       "3     Mumbai    Petrol    66,700 Kms   White      First                 2011  \n",
       "4      Thane    Diesel  1,17,123 Kms   Black      First                 2008  "
      ]
     },
     "execution_count": 3,
     "metadata": {},
     "output_type": "execute_result"
    }
   ],
   "source": [
    "df=pd.read_csv('car_trade_data.csv')\n",
    "df.head()"
   ]
  },
  {
   "cell_type": "code",
   "execution_count": 4,
   "id": "72086b77",
   "metadata": {},
   "outputs": [],
   "source": [
    "df1=df.copy()"
   ]
  },
  {
   "cell_type": "code",
   "execution_count": 5,
   "id": "6d92eee5",
   "metadata": {},
   "outputs": [
    {
     "data": {
      "text/plain": [
       "Index(['Unnamed: 0', 'Car Price', 'Car Name', 'City Name', 'Fuel type',\n",
       "       'Kilometer ran', 'Color', 'Owner type', 'Year of manufacture'],\n",
       "      dtype='object')"
      ]
     },
     "execution_count": 5,
     "metadata": {},
     "output_type": "execute_result"
    }
   ],
   "source": [
    "df1.columns"
   ]
  },
  {
   "cell_type": "code",
   "execution_count": 6,
   "id": "cab61617",
   "metadata": {},
   "outputs": [],
   "source": [
    "df1.drop('Unnamed: 0',axis=1,inplace=True)"
   ]
  },
  {
   "cell_type": "code",
   "execution_count": 7,
   "id": "68c8e71f",
   "metadata": {},
   "outputs": [
    {
     "data": {
      "text/html": [
       "<div>\n",
       "<style scoped>\n",
       "    .dataframe tbody tr th:only-of-type {\n",
       "        vertical-align: middle;\n",
       "    }\n",
       "\n",
       "    .dataframe tbody tr th {\n",
       "        vertical-align: top;\n",
       "    }\n",
       "\n",
       "    .dataframe thead th {\n",
       "        text-align: right;\n",
       "    }\n",
       "</style>\n",
       "<table border=\"1\" class=\"dataframe\">\n",
       "  <thead>\n",
       "    <tr style=\"text-align: right;\">\n",
       "      <th></th>\n",
       "      <th>Car Price</th>\n",
       "      <th>Car Name</th>\n",
       "      <th>City Name</th>\n",
       "      <th>Fuel type</th>\n",
       "      <th>Kilometer ran</th>\n",
       "      <th>Color</th>\n",
       "      <th>Owner type</th>\n",
       "      <th>Year of manufacture</th>\n",
       "    </tr>\n",
       "  </thead>\n",
       "  <tbody>\n",
       "    <tr>\n",
       "      <th>0</th>\n",
       "      <td>5.65 Lakh</td>\n",
       "      <td>Used Hyundai Grand i10 in Kanpur</td>\n",
       "      <td>Kanpur</td>\n",
       "      <td>Petrol</td>\n",
       "      <td>9,400 Kms</td>\n",
       "      <td>White</td>\n",
       "      <td>First</td>\n",
       "      <td>2019</td>\n",
       "    </tr>\n",
       "    <tr>\n",
       "      <th>1</th>\n",
       "      <td>4 Lakh</td>\n",
       "      <td>Used Hyundai i10 [2010-2017] in Hyderabad</td>\n",
       "      <td>Hyderabad</td>\n",
       "      <td>Petrol</td>\n",
       "      <td>67,971 Kms</td>\n",
       "      <td>Maroon</td>\n",
       "      <td>First</td>\n",
       "      <td>2014</td>\n",
       "    </tr>\n",
       "    <tr>\n",
       "      <th>2</th>\n",
       "      <td>34.75 Lakh</td>\n",
       "      <td>Used MINI Countryman [2015-2018] in Mumbai</td>\n",
       "      <td>Mumbai</td>\n",
       "      <td>Diesel</td>\n",
       "      <td>18,500 Kms</td>\n",
       "      <td>Grey</td>\n",
       "      <td>First</td>\n",
       "      <td>2018</td>\n",
       "    </tr>\n",
       "    <tr>\n",
       "      <th>3</th>\n",
       "      <td>12.58 Lakh</td>\n",
       "      <td>Used Mercedes-Benz C-Class [2010-2011] in Mumbai</td>\n",
       "      <td>Mumbai</td>\n",
       "      <td>Petrol</td>\n",
       "      <td>66,700 Kms</td>\n",
       "      <td>White</td>\n",
       "      <td>First</td>\n",
       "      <td>2011</td>\n",
       "    </tr>\n",
       "    <tr>\n",
       "      <th>4</th>\n",
       "      <td>8 Lakh</td>\n",
       "      <td>Used BMW 5 Series [2007-2010] in Thane</td>\n",
       "      <td>Thane</td>\n",
       "      <td>Diesel</td>\n",
       "      <td>1,17,123 Kms</td>\n",
       "      <td>Black</td>\n",
       "      <td>First</td>\n",
       "      <td>2008</td>\n",
       "    </tr>\n",
       "  </tbody>\n",
       "</table>\n",
       "</div>"
      ],
      "text/plain": [
       "    Car Price                                          Car Name  City Name  \\\n",
       "0   5.65 Lakh                  Used Hyundai Grand i10 in Kanpur     Kanpur   \n",
       "1      4 Lakh         Used Hyundai i10 [2010-2017] in Hyderabad  Hyderabad   \n",
       "2  34.75 Lakh        Used MINI Countryman [2015-2018] in Mumbai     Mumbai   \n",
       "3  12.58 Lakh  Used Mercedes-Benz C-Class [2010-2011] in Mumbai     Mumbai   \n",
       "4      8 Lakh            Used BMW 5 Series [2007-2010] in Thane      Thane   \n",
       "\n",
       "  Fuel type Kilometer ran   Color Owner type  Year of manufacture  \n",
       "0    Petrol     9,400 Kms   White      First                 2019  \n",
       "1    Petrol    67,971 Kms  Maroon      First                 2014  \n",
       "2    Diesel    18,500 Kms    Grey      First                 2018  \n",
       "3    Petrol    66,700 Kms   White      First                 2011  \n",
       "4    Diesel  1,17,123 Kms   Black      First                 2008  "
      ]
     },
     "execution_count": 7,
     "metadata": {},
     "output_type": "execute_result"
    }
   ],
   "source": [
    "df1.head()"
   ]
  },
  {
   "cell_type": "markdown",
   "id": "5b5b9f95",
   "metadata": {},
   "source": [
    "**cleaning car price column**"
   ]
  },
  {
   "cell_type": "code",
   "execution_count": 19,
   "id": "c5543a5e",
   "metadata": {},
   "outputs": [],
   "source": [
    "pd.set_option('display.max_rows',None)"
   ]
  },
  {
   "cell_type": "code",
   "execution_count": 23,
   "id": "2a68136f",
   "metadata": {},
   "outputs": [],
   "source": [
    "df1['Car Price'].replace(['1.25 Crore ','1.47 Crore','1.75 Crore','1.55 Crore','1.21 Crore','1.1 Crore','1.65 Crore','2.7 Crore','1.62 Crore','1.14 Crore','2.35 Crore'],[12500000,14700000,17500000,15500000,12100000,11000000,16500000,27000000,16200000,11400000,23500000],inplace=True)"
   ]
  },
  {
   "cell_type": "code",
   "execution_count": 58,
   "id": "59d4e323",
   "metadata": {},
   "outputs": [],
   "source": [
    "df1['Car Price'].replace(['1.25 Crore','95,000','90,000','85,000','99,000','65,000','60,000','97,000','52,000','98,000'],[12500000,95000,90000,85000,99000,65000,60000,97000,52000,98000],inplace=True)"
   ]
  },
  {
   "cell_type": "code",
   "execution_count": 88,
   "id": "5e0cfdfd",
   "metadata": {},
   "outputs": [],
   "source": [
    "list1=[]\n",
    "for i in df1['Car Price']:\n",
    "    if type(i)==int:\n",
    "        list1.append(i)\n",
    "    else:\n",
    "        k=i.split(' ')\n",
    "        k1=float(k[0])\n",
    "        k2=k1*10000\n",
    "        k3=int(k2)\n",
    "        list1.append(k3)"
   ]
  },
  {
   "cell_type": "code",
   "execution_count": 89,
   "id": "cb886695",
   "metadata": {},
   "outputs": [],
   "source": [
    "df1.drop('Car Price',axis=1,inplace=True)"
   ]
  },
  {
   "cell_type": "code",
   "execution_count": 90,
   "id": "30f6a538",
   "metadata": {},
   "outputs": [],
   "source": [
    "df1['Car Price']=list1"
   ]
  },
  {
   "cell_type": "code",
   "execution_count": 91,
   "id": "7f1b42d6",
   "metadata": {},
   "outputs": [
    {
     "data": {
      "text/html": [
       "<div>\n",
       "<style scoped>\n",
       "    .dataframe tbody tr th:only-of-type {\n",
       "        vertical-align: middle;\n",
       "    }\n",
       "\n",
       "    .dataframe tbody tr th {\n",
       "        vertical-align: top;\n",
       "    }\n",
       "\n",
       "    .dataframe thead th {\n",
       "        text-align: right;\n",
       "    }\n",
       "</style>\n",
       "<table border=\"1\" class=\"dataframe\">\n",
       "  <thead>\n",
       "    <tr style=\"text-align: right;\">\n",
       "      <th></th>\n",
       "      <th>Car Name</th>\n",
       "      <th>City Name</th>\n",
       "      <th>Fuel type</th>\n",
       "      <th>Kilometer ran</th>\n",
       "      <th>Color</th>\n",
       "      <th>Owner type</th>\n",
       "      <th>Year of manufacture</th>\n",
       "      <th>Car Price</th>\n",
       "    </tr>\n",
       "  </thead>\n",
       "  <tbody>\n",
       "    <tr>\n",
       "      <th>0</th>\n",
       "      <td>Used Hyundai Grand i10 in Kanpur</td>\n",
       "      <td>Kanpur</td>\n",
       "      <td>Petrol</td>\n",
       "      <td>9,400 Kms</td>\n",
       "      <td>White</td>\n",
       "      <td>First</td>\n",
       "      <td>2019</td>\n",
       "      <td>56500</td>\n",
       "    </tr>\n",
       "    <tr>\n",
       "      <th>1</th>\n",
       "      <td>Used Hyundai i10 [2010-2017] in Hyderabad</td>\n",
       "      <td>Hyderabad</td>\n",
       "      <td>Petrol</td>\n",
       "      <td>67,971 Kms</td>\n",
       "      <td>Maroon</td>\n",
       "      <td>First</td>\n",
       "      <td>2014</td>\n",
       "      <td>40000</td>\n",
       "    </tr>\n",
       "    <tr>\n",
       "      <th>2</th>\n",
       "      <td>Used MINI Countryman [2015-2018] in Mumbai</td>\n",
       "      <td>Mumbai</td>\n",
       "      <td>Diesel</td>\n",
       "      <td>18,500 Kms</td>\n",
       "      <td>Grey</td>\n",
       "      <td>First</td>\n",
       "      <td>2018</td>\n",
       "      <td>347500</td>\n",
       "    </tr>\n",
       "    <tr>\n",
       "      <th>3</th>\n",
       "      <td>Used Mercedes-Benz C-Class [2010-2011] in Mumbai</td>\n",
       "      <td>Mumbai</td>\n",
       "      <td>Petrol</td>\n",
       "      <td>66,700 Kms</td>\n",
       "      <td>White</td>\n",
       "      <td>First</td>\n",
       "      <td>2011</td>\n",
       "      <td>125800</td>\n",
       "    </tr>\n",
       "    <tr>\n",
       "      <th>4</th>\n",
       "      <td>Used BMW 5 Series [2007-2010] in Thane</td>\n",
       "      <td>Thane</td>\n",
       "      <td>Diesel</td>\n",
       "      <td>1,17,123 Kms</td>\n",
       "      <td>Black</td>\n",
       "      <td>First</td>\n",
       "      <td>2008</td>\n",
       "      <td>80000</td>\n",
       "    </tr>\n",
       "  </tbody>\n",
       "</table>\n",
       "</div>"
      ],
      "text/plain": [
       "                                           Car Name  City Name Fuel type  \\\n",
       "0                  Used Hyundai Grand i10 in Kanpur     Kanpur    Petrol   \n",
       "1         Used Hyundai i10 [2010-2017] in Hyderabad  Hyderabad    Petrol   \n",
       "2        Used MINI Countryman [2015-2018] in Mumbai     Mumbai    Diesel   \n",
       "3  Used Mercedes-Benz C-Class [2010-2011] in Mumbai     Mumbai    Petrol   \n",
       "4            Used BMW 5 Series [2007-2010] in Thane      Thane    Diesel   \n",
       "\n",
       "  Kilometer ran   Color Owner type  Year of manufacture  Car Price  \n",
       "0     9,400 Kms   White      First                 2019      56500  \n",
       "1    67,971 Kms  Maroon      First                 2014      40000  \n",
       "2    18,500 Kms    Grey      First                 2018     347500  \n",
       "3    66,700 Kms   White      First                 2011     125800  \n",
       "4  1,17,123 Kms   Black      First                 2008      80000  "
      ]
     },
     "execution_count": 91,
     "metadata": {},
     "output_type": "execute_result"
    }
   ],
   "source": [
    "df1.head()"
   ]
  },
  {
   "cell_type": "code",
   "execution_count": 93,
   "id": "ed698bbb",
   "metadata": {},
   "outputs": [
    {
     "data": {
      "text/plain": [
       "Car Name               object\n",
       "City Name              object\n",
       "Fuel type              object\n",
       "Kilometer ran          object\n",
       "Color                  object\n",
       "Owner type             object\n",
       "Year of manufacture     int64\n",
       "Car Price               int64\n",
       "dtype: object"
      ]
     },
     "execution_count": 93,
     "metadata": {},
     "output_type": "execute_result"
    }
   ],
   "source": [
    "df1.dtypes"
   ]
  },
  {
   "cell_type": "markdown",
   "id": "52b21a26",
   "metadata": {},
   "source": [
    "**Cleaning car name column**"
   ]
  },
  {
   "cell_type": "code",
   "execution_count": 105,
   "id": "bc8c970a",
   "metadata": {},
   "outputs": [],
   "source": [
    "listn=[]\n",
    "for i in df1['Car Name']:\n",
    "    k=re.sub(r'^Used','',i)\n",
    "    k1=k.split(' ')\n",
    "    k2=k1[:-1]\n",
    "    k3=' '.join(k2)\n",
    "    k4=re.sub(r'in$','',k3)\n",
    "    k5=re.sub(\"\\[.*?\\]\",'',k4)\n",
    "    listn.append(k5)  "
   ]
  },
  {
   "cell_type": "code",
   "execution_count": 121,
   "id": "91e0bbfd",
   "metadata": {},
   "outputs": [],
   "source": [
    "#still in some of the cars name in followed by place name is there, through this function we are removing that\n",
    "listn1=[]\n",
    "for i in df1['Car Name']:\n",
    "    test_str =i\n",
    "    sub_str = \"in\"\n",
    "    def check(test_str, sub_str):\n",
    "        if (test_str.find(sub_str) == -1):\n",
    "            listn1.append(test_str)\n",
    "        else:\n",
    "            res = test_str[:test_str.index(sub_str) + len(sub_str)]\n",
    "            listn1.append(str(res))\n",
    "    check(test_str, sub_str)"
   ]
  },
  {
   "cell_type": "code",
   "execution_count": 130,
   "id": "095a124a",
   "metadata": {},
   "outputs": [],
   "source": [
    "# In some of the name contains in at last , we have to remove that\n",
    "listn2=[]\n",
    "for i in listn1:\n",
    "    k1=re.sub(r'in$','',i)\n",
    "    listn2.append(k1)"
   ]
  },
  {
   "cell_type": "code",
   "execution_count": 133,
   "id": "a5fc32f1",
   "metadata": {},
   "outputs": [],
   "source": [
    "df1.drop('Car Name',axis=1,inplace=True)"
   ]
  },
  {
   "cell_type": "code",
   "execution_count": 134,
   "id": "a224c8ff",
   "metadata": {},
   "outputs": [],
   "source": [
    "df1['Car Name']=listn2"
   ]
  },
  {
   "cell_type": "code",
   "execution_count": 144,
   "id": "eff9613a",
   "metadata": {},
   "outputs": [],
   "source": [
    "df1['Car Name'].replace('Mah','Mahendra',inplace=True)"
   ]
  },
  {
   "cell_type": "code",
   "execution_count": 145,
   "id": "f5c82dd7",
   "metadata": {},
   "outputs": [],
   "source": [
    "df1.drop('one',axis=1,inplace=True)"
   ]
  },
  {
   "cell_type": "code",
   "execution_count": 147,
   "id": "564f02fa",
   "metadata": {},
   "outputs": [
    {
     "data": {
      "text/html": [
       "<div>\n",
       "<style scoped>\n",
       "    .dataframe tbody tr th:only-of-type {\n",
       "        vertical-align: middle;\n",
       "    }\n",
       "\n",
       "    .dataframe tbody tr th {\n",
       "        vertical-align: top;\n",
       "    }\n",
       "\n",
       "    .dataframe thead th {\n",
       "        text-align: right;\n",
       "    }\n",
       "</style>\n",
       "<table border=\"1\" class=\"dataframe\">\n",
       "  <thead>\n",
       "    <tr style=\"text-align: right;\">\n",
       "      <th></th>\n",
       "      <th>City Name</th>\n",
       "      <th>Fuel type</th>\n",
       "      <th>Kilometer ran</th>\n",
       "      <th>Color</th>\n",
       "      <th>Owner type</th>\n",
       "      <th>Year of manufacture</th>\n",
       "      <th>Car Price</th>\n",
       "      <th>Car Name</th>\n",
       "    </tr>\n",
       "  </thead>\n",
       "  <tbody>\n",
       "    <tr>\n",
       "      <th>0</th>\n",
       "      <td>Kanpur</td>\n",
       "      <td>Petrol</td>\n",
       "      <td>9,400 Kms</td>\n",
       "      <td>White</td>\n",
       "      <td>First</td>\n",
       "      <td>2019</td>\n",
       "      <td>56500</td>\n",
       "      <td>Hyundai Grand i10</td>\n",
       "    </tr>\n",
       "    <tr>\n",
       "      <th>1</th>\n",
       "      <td>Hyderabad</td>\n",
       "      <td>Petrol</td>\n",
       "      <td>67,971 Kms</td>\n",
       "      <td>Maroon</td>\n",
       "      <td>First</td>\n",
       "      <td>2014</td>\n",
       "      <td>40000</td>\n",
       "      <td>Hyundai i10</td>\n",
       "    </tr>\n",
       "    <tr>\n",
       "      <th>2</th>\n",
       "      <td>Mumbai</td>\n",
       "      <td>Diesel</td>\n",
       "      <td>18,500 Kms</td>\n",
       "      <td>Grey</td>\n",
       "      <td>First</td>\n",
       "      <td>2018</td>\n",
       "      <td>347500</td>\n",
       "      <td>MINI Countryman</td>\n",
       "    </tr>\n",
       "    <tr>\n",
       "      <th>3</th>\n",
       "      <td>Mumbai</td>\n",
       "      <td>Petrol</td>\n",
       "      <td>66,700 Kms</td>\n",
       "      <td>White</td>\n",
       "      <td>First</td>\n",
       "      <td>2011</td>\n",
       "      <td>125800</td>\n",
       "      <td>Mercedes-Benz C-Class</td>\n",
       "    </tr>\n",
       "    <tr>\n",
       "      <th>4</th>\n",
       "      <td>Thane</td>\n",
       "      <td>Diesel</td>\n",
       "      <td>1,17,123 Kms</td>\n",
       "      <td>Black</td>\n",
       "      <td>First</td>\n",
       "      <td>2008</td>\n",
       "      <td>80000</td>\n",
       "      <td>BMW 5 Series</td>\n",
       "    </tr>\n",
       "  </tbody>\n",
       "</table>\n",
       "</div>"
      ],
      "text/plain": [
       "   City Name Fuel type Kilometer ran   Color Owner type  Year of manufacture  \\\n",
       "0     Kanpur    Petrol     9,400 Kms   White      First                 2019   \n",
       "1  Hyderabad    Petrol    67,971 Kms  Maroon      First                 2014   \n",
       "2     Mumbai    Diesel    18,500 Kms    Grey      First                 2018   \n",
       "3     Mumbai    Petrol    66,700 Kms   White      First                 2011   \n",
       "4      Thane    Diesel  1,17,123 Kms   Black      First                 2008   \n",
       "\n",
       "   Car Price                  Car Name  \n",
       "0      56500        Hyundai Grand i10   \n",
       "1      40000             Hyundai i10    \n",
       "2     347500         MINI Countryman    \n",
       "3     125800   Mercedes-Benz C-Class    \n",
       "4      80000            BMW 5 Series    "
      ]
     },
     "execution_count": 147,
     "metadata": {},
     "output_type": "execute_result"
    }
   ],
   "source": [
    "df1.head()"
   ]
  },
  {
   "cell_type": "markdown",
   "id": "f2386ca8",
   "metadata": {},
   "source": [
    "**Cleaning Kilometer ran column**"
   ]
  },
  {
   "cell_type": "code",
   "execution_count": 148,
   "id": "020ffd40",
   "metadata": {},
   "outputs": [
    {
     "name": "stderr",
     "output_type": "stream",
     "text": [
      "<ipython-input-148-56374540cdec>:1: FutureWarning: The default value of regex will change from True to False in a future version.\n",
      "  df1['Kilometer ran'] = df1['Kilometer ran'].str.replace(r'\\D', '').astype(int)\n"
     ]
    }
   ],
   "source": [
    "df1['Kilometer ran'] = df1['Kilometer ran'].str.replace(r'\\D', '').astype(int)"
   ]
  },
  {
   "cell_type": "code",
   "execution_count": 149,
   "id": "5fa0d188",
   "metadata": {},
   "outputs": [
    {
     "data": {
      "text/html": [
       "<div>\n",
       "<style scoped>\n",
       "    .dataframe tbody tr th:only-of-type {\n",
       "        vertical-align: middle;\n",
       "    }\n",
       "\n",
       "    .dataframe tbody tr th {\n",
       "        vertical-align: top;\n",
       "    }\n",
       "\n",
       "    .dataframe thead th {\n",
       "        text-align: right;\n",
       "    }\n",
       "</style>\n",
       "<table border=\"1\" class=\"dataframe\">\n",
       "  <thead>\n",
       "    <tr style=\"text-align: right;\">\n",
       "      <th></th>\n",
       "      <th>City Name</th>\n",
       "      <th>Fuel type</th>\n",
       "      <th>Kilometer ran</th>\n",
       "      <th>Color</th>\n",
       "      <th>Owner type</th>\n",
       "      <th>Year of manufacture</th>\n",
       "      <th>Car Price</th>\n",
       "      <th>Car Name</th>\n",
       "    </tr>\n",
       "  </thead>\n",
       "  <tbody>\n",
       "    <tr>\n",
       "      <th>0</th>\n",
       "      <td>Kanpur</td>\n",
       "      <td>Petrol</td>\n",
       "      <td>9400</td>\n",
       "      <td>White</td>\n",
       "      <td>First</td>\n",
       "      <td>2019</td>\n",
       "      <td>56500</td>\n",
       "      <td>Hyundai Grand i10</td>\n",
       "    </tr>\n",
       "    <tr>\n",
       "      <th>1</th>\n",
       "      <td>Hyderabad</td>\n",
       "      <td>Petrol</td>\n",
       "      <td>67971</td>\n",
       "      <td>Maroon</td>\n",
       "      <td>First</td>\n",
       "      <td>2014</td>\n",
       "      <td>40000</td>\n",
       "      <td>Hyundai i10</td>\n",
       "    </tr>\n",
       "    <tr>\n",
       "      <th>2</th>\n",
       "      <td>Mumbai</td>\n",
       "      <td>Diesel</td>\n",
       "      <td>18500</td>\n",
       "      <td>Grey</td>\n",
       "      <td>First</td>\n",
       "      <td>2018</td>\n",
       "      <td>347500</td>\n",
       "      <td>MINI Countryman</td>\n",
       "    </tr>\n",
       "    <tr>\n",
       "      <th>3</th>\n",
       "      <td>Mumbai</td>\n",
       "      <td>Petrol</td>\n",
       "      <td>66700</td>\n",
       "      <td>White</td>\n",
       "      <td>First</td>\n",
       "      <td>2011</td>\n",
       "      <td>125800</td>\n",
       "      <td>Mercedes-Benz C-Class</td>\n",
       "    </tr>\n",
       "    <tr>\n",
       "      <th>4</th>\n",
       "      <td>Thane</td>\n",
       "      <td>Diesel</td>\n",
       "      <td>117123</td>\n",
       "      <td>Black</td>\n",
       "      <td>First</td>\n",
       "      <td>2008</td>\n",
       "      <td>80000</td>\n",
       "      <td>BMW 5 Series</td>\n",
       "    </tr>\n",
       "  </tbody>\n",
       "</table>\n",
       "</div>"
      ],
      "text/plain": [
       "   City Name Fuel type  Kilometer ran   Color Owner type  Year of manufacture  \\\n",
       "0     Kanpur    Petrol           9400   White      First                 2019   \n",
       "1  Hyderabad    Petrol          67971  Maroon      First                 2014   \n",
       "2     Mumbai    Diesel          18500    Grey      First                 2018   \n",
       "3     Mumbai    Petrol          66700   White      First                 2011   \n",
       "4      Thane    Diesel         117123   Black      First                 2008   \n",
       "\n",
       "   Car Price                  Car Name  \n",
       "0      56500        Hyundai Grand i10   \n",
       "1      40000             Hyundai i10    \n",
       "2     347500         MINI Countryman    \n",
       "3     125800   Mercedes-Benz C-Class    \n",
       "4      80000            BMW 5 Series    "
      ]
     },
     "execution_count": 149,
     "metadata": {},
     "output_type": "execute_result"
    }
   ],
   "source": [
    "df1.head()"
   ]
  },
  {
   "cell_type": "code",
   "execution_count": 151,
   "id": "82ba1e28",
   "metadata": {},
   "outputs": [
    {
     "data": {
      "text/plain": [
       "City Name              object\n",
       "Fuel type              object\n",
       "Kilometer ran           int32\n",
       "Color                  object\n",
       "Owner type             object\n",
       "Year of manufacture     int64\n",
       "Car Price               int64\n",
       "Car Name               object\n",
       "dtype: object"
      ]
     },
     "execution_count": 151,
     "metadata": {},
     "output_type": "execute_result"
    }
   ],
   "source": [
    "df1.dtypes"
   ]
  },
  {
   "cell_type": "code",
   "execution_count": 154,
   "id": "1059e252",
   "metadata": {},
   "outputs": [
    {
     "data": {
      "text/plain": [
       "Diesel      3021\n",
       "Petrol      2891\n",
       "CNG           69\n",
       "LPG            7\n",
       "Hybrid         3\n",
       "Electric       2\n",
       "Name: Fuel type, dtype: int64"
      ]
     },
     "execution_count": 154,
     "metadata": {},
     "output_type": "execute_result"
    }
   ],
   "source": [
    "df1['Fuel type'].value_counts()"
   ]
  },
  {
   "cell_type": "code",
   "execution_count": 155,
   "id": "e324b7a3",
   "metadata": {},
   "outputs": [],
   "source": [
    "df1.to_csv('Second Car Price.csv')"
   ]
  },
  {
   "cell_type": "code",
   "execution_count": null,
   "id": "7efc9214",
   "metadata": {},
   "outputs": [],
   "source": []
  }
 ],
 "metadata": {
  "kernelspec": {
   "display_name": "Python 3",
   "language": "python",
   "name": "python3"
  },
  "language_info": {
   "codemirror_mode": {
    "name": "ipython",
    "version": 3
   },
   "file_extension": ".py",
   "mimetype": "text/x-python",
   "name": "python",
   "nbconvert_exporter": "python",
   "pygments_lexer": "ipython3",
   "version": "3.8.8"
  }
 },
 "nbformat": 4,
 "nbformat_minor": 5
}
